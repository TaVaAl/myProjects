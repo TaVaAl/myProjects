{
 "cells": [
  {
   "cell_type": "markdown",
   "id": "a59ed90e",
   "metadata": {},
   "source": [
    "<font color='steelblue' size=5><b>Комментарий тимлида</b></font>\n",
    "\n",
    "<font color='steelblue'>Привет, Татьяна! Это Ольга Васильева. Мы делаем очень классный проект, давай смотреть, что получилось)\n",
    "    \n",
    "<font color='steelblue'>Я буду использовать различные цвета и знаки, чтобы было удобнее воспринимать мои комментарии:</font>\n",
    "\n",
    "\n",
    "---\n",
    "\n",
    "\n",
    "<font color='steelblue'>синий текст - просто текст комментария</font>\n",
    "\n",
    "<font color='green'> ✔️зеленый текст - все отлично</font>\n",
    "\n",
    "<font color='darkorange'>⚠️оранжевый текст - есть рекомендации, на что стоит обратить внимание</font>\n",
    "\n",
    "<font color='crimson'> ❌красный текст - есть недочеты</font>"
   ]
  },
  {
   "cell_type": "markdown",
   "id": "cf75f29f",
   "metadata": {},
   "source": [
    "<font color='steelblue'>Комментарии на этом этапе я буду помечать так: <b>КОД-РЕВЬЮ</b></font><br>"
   ]
  },
  {
   "cell_type": "markdown",
   "id": "7ec419e8",
   "metadata": {},
   "source": [
    "<h1>Содержание<span class=\"tocSkip\"></span></h1>\n",
    "<div class=\"toc\"><ul class=\"toc-item\"><li><span><a href=\"#1-Описание-проекта\" data-toc-modified-id=\"1-Описание-проекта-1\"><span class=\"toc-item-num\">1&nbsp;&nbsp;</span><b>Описание проекта</b></a></span></li><li><span><a href=\"#2-Исследовательский-анализ-данных\" data-toc-modified-id=\"2-Исследовательский-анализ-данных-2\"><span class=\"toc-item-num\">2&nbsp;&nbsp;</span><b>Исследовательский анализ данных</b></a></span></li><ul class=\"toc-item\"><li><span><a href=\"#2.1-Результаты-измерения-температуры\" data-toc-modified-id=\"2.1-Результаты-измерения-температуры\"><span class=\"toc-item-num\">2.1&nbsp;&nbsp;</span>Результаты измерения температуры</a></span></li><li><span><a href=\"#2.2-Данные-об-электродах\" data-toc-modified-id=\"2.2-Данные-об-электродах\"><span class=\"toc-item-num\">2.2&nbsp;&nbsp;</span>Данные об электродах</a></span></li><li><span><a href=\"#2.3-Данные-о-подаче-сыпучих-материалов-(объём)\" data-toc-modified-id=\"2.3-Данные-о-подаче-сыпучих-материалов-(объём)\"><span class=\"toc-item-num\">2.3&nbsp;&nbsp;</span>Данные о подаче сыпучих материалов (объём)</a></span></li><li><span><a href=\"#2.4-Данные-о-подаче-сыпучих-материалов-(время)\" data-toc-modified-id=\"2.4-Данные-о-подаче-сыпучих-материалов-(время)\"><span class=\"toc-item-num\">2.4&nbsp;&nbsp;</span>Данные о подаче сыпучих материалов (время)</a></span></li><li><span><a href=\"#2.5-Данные-о-продувке-сплава-газом\" data-toc-modified-id=\"2.5-Данные-о-продувке-сплава-газом\"><span class=\"toc-item-num\">2.5&nbsp;&nbsp;</span>Данные о продувке сплава газом</a></span></li><li><span><a href=\"#2.6-Данные-о-проволочных-материалах-(объём)\" data-toc-modified-id=\"Данные-о-проволочных-материалах-(объём)\"><span class=\"toc-item-num\">2.6&nbsp;&nbsp;</span>Данные о проволочных материалах (объём)</a></span></li><li><span><a href=\"#2.7-Данные-о-проволочных-материалах-(время)\" data-toc-modified-id=\"2.7-Данные-о-проволочных-материалах-(время)\"><span class=\"toc-item-num\">2.7&nbsp;&nbsp;</span>Данные о проволочных материалах (время)</a></span></li></ul><li><span><a href=\"#3-Предобработка-данных\" data-toc-modified-id=\"3-Предобработка-данных-3\"><span class=\"toc-item-num\">3&nbsp;&nbsp;</span><b>Предобработка данных</b></a></span></li><ul class=\"toc-item\"><li><span><a href=\"#3.1-Объединение-данных\" data-toc-modified-id=\"3.1-Объединение данных\"><span class=\"toc-item-num\">3.1&nbsp;&nbsp;</span>Объединение данных</a></span></li><li><span><a href=\"#3.2-Добавление-новых-признаков\" data-toc-modified-id=\"3.2-Добавление-новых-признаков\"><span class=\"toc-item-num\">3.2&nbsp;&nbsp;</span>Добавление новых признаков</a></span></li><li><span><a href=\"#3.3-Анализ-корреляции-признаков\" data-toc-modified-id=\"3.3-Анализ-корреляции-признаков\"><span class=\"toc-item-num\">3.3&nbsp;&nbsp;</span>Анализ корреляции признаков</a></span></li><li><span><a href=\"#3.4-Разделение-данных-на-обучающую-и-тестовую-выборки\" data-toc-modified-id=\"3.4-Разделение-данных-на-обучающую-и-тестовую-выборки\"><span class=\"toc-item-num\">3.4&nbsp;&nbsp;</span>Разделение данных</a></span></li><li><span><a href=\"#3.5-Устранение-пропусков-в-обучающей-выборке\" data-toc-modified-id=\"3.5-Устранение-пропусков-в-обучающей-выборке\"><span class=\"toc-item-num\">3.5&nbsp;&nbsp;</span>Устранение пропусков</a></span></li><li><span><a href=\"#3.6-Устранение-выбросов-в-обучающей-выборке\" data-toc-modified-id=\"3.6-Устранение-выбросов-в-обучающей-выборке\"><span class=\"toc-item-num\">3.6&nbsp;&nbsp;</span>Устранение выбросов</a></span></li></ul><li><span><a href=\"#4-Обучение-модели\" data-toc-modified-id=\"4-Обучение-модели-4\"><span class=\"toc-item-num\">4&nbsp;&nbsp;</span><b>Обучение модели</b></a></span></li><ul class=\"toc-item\"><li><span><a href=\"#4.1-Модель-1\" data-toc-modified-id=\"4.1-Модель-1\"><span class=\"toc-item-num\">4.1&nbsp;&nbsp;</span>Модель 1</a></span></li><li><span><a href=\"#4.2-Модель-2\" data-toc-modified-id=\"4.3-Модель-3\"><span class=\"toc-item-num\">4.2&nbsp;&nbsp;</span>Модель 2</a></span></li><li><span><a href=\"#4.2-Модель-3\" data-toc-modified-id=\"4.3-Модель-3\"><span class=\"toc-item-num\">4.3&nbsp;&nbsp;</span>Модель 3</a></span></li><li><span><a href=\"#4.4-Модель-4\" data-toc-modified-id=\"4.4-Модель-4\"><span class=\"toc-item-num\">4.4&nbsp;&nbsp;</span>Модель 4</a></span></li><li><span><a href=\"#4.5-Проверка-модели-на-тестовой-выборке\" data-toc-modified-id=\"4.5-Проверка-модели-на-тестовой-выборке\"><span class=\"toc-item-num\">4.5&nbsp;&nbsp;</span>Проверка модели на тестовой выборке</a></span></li><li><span><a href=\"#4.6-Сравнение-модели-с-дамми-моделью\" data-toc-modified-id=\"4.6-Сравнение-модели-с-дамми-моделью\"><span class=\"toc-item-num\">4.6&nbsp;&nbsp;</span>Сравнение модели с дамми-моделью</a></span></li></ul><li><span><a href=\"#Выводы\" data-toc-modified-id=\"Выводы-5\"><span class=\"toc-item-num\">5&nbsp;&nbsp;</span><b>Выводы</b></a></span></li></ul>"
   ]
  },
  {
   "cell_type": "markdown",
   "id": "848b1a5f",
   "metadata": {},
   "source": [
    "<b>План работ:</b>\n",
    "<p><b>1  Описание проекта</b></p>\n",
    "<p><b>2  Исследовательский анализ данных</b></p>\n",
    "<ol><p>2.1  Результаты измерения температуры</p>\n",
    "<p>2.2  Данные об электродах</p>\n",
    "<p>2.3  Данные о подаче сыпучих материалов (объём)</p>\n",
    "<p>2.4  Данные о подаче сыпучих материалов (время)</p>\n",
    "<p>2.5  Данные о продувке сплава газом</p>\n",
    "<p>2.6  Данные о проволочных материалах (объём)</p>\n",
    "<p>2.7  Данные о проволочных материалах (время)</p></ol>\n",
    "<p><b>3  Предобработка данных</b>o/p>\n",
    "<ol><p>3.1  Объединение данных</p>\n",
    "<p>3.2  Добавление новых признаков</p>\n",
    "<p>3.3  Анализ корреляции признаков</p>\n",
    "<p>3.4  Разделение данных</p>\n",
    "<p>3.5  Устранение пропусков</p>\n",
    "<p>3.6  Устранение выбросов</p></ol>\n",
    "<p><b>4  Обучение модели</b></p>\n",
    "<ol><p>4.1  Модель 1</p>\n",
    "<p>4.2  Модель 2</p>\n",
    "<p>4.3  Модель 3</p>\n",
    "<p>4.4  Модель 4</p>\n",
    "<p>4.5  Проверка модели на тестовой выборке</p>\n",
    "<p>4.6  Сравнение модели с дамми-моделью</p></ol>\n",
    "<p><b>5  Выводы</b></p>"
   ]
  },
  {
   "cell_type": "markdown",
   "id": "c09aa7a3",
   "metadata": {},
   "source": [
    "<font color='steelblue'><b>Комментарий тимлида v2</b></font><br>\n",
    "<font color='green'> ✔️ Хороший план.</font>"
   ]
  },
  {
   "cell_type": "markdown",
   "id": "df063b72",
   "metadata": {},
   "source": [
    "## 1 Описание проекта"
   ]
  },
  {
   "cell_type": "markdown",
   "id": "5d12b96d",
   "metadata": {},
   "source": [
    "<b>Технологический процесс:</b> легирование стали. <p><b>Этапы:</b></p><li>десульфурация</li><li>легирование</li><li>контроль состава сплава</li> На каждом этапе проводят химический анализ стали и продувают сплав инертным газом.<p><b>Задача:</b></p> Предсказать итоговую температуру стали в зависимости от параметров процесса."
   ]
  },
  {
   "cell_type": "markdown",
   "id": "ad9453cc",
   "metadata": {},
   "source": [
    "<font color='purple'>Процесс заключается в следующем: нагрев стали происходит в закрытом ковше за счет нагева электродов, расположенных в крышке.  Ходе процесса могут быть добавлены различные сыпучие или проволочные материалы. Также после каждой итерации сплав обдувают инетртным газом. Датчики передают информацию о количестве добавленного материала(используемого газа) и времени подачи, а также затраченной мощности на нагрев электродов, и тепературу сплава для каждой итерации. Целевая переменная: температура последней итерации технологического процесса.</font>"
   ]
  },
  {
   "cell_type": "markdown",
   "id": "a367a73d",
   "metadata": {},
   "source": [
    "<font color='steelblue'><b>Комментарий тимлида</b></font><br>\n",
    "<font color='green'> ✔️ Описание на месте, я бы его несколько расширила.</font>"
   ]
  },
  {
   "cell_type": "markdown",
   "id": "18f98232",
   "metadata": {},
   "source": [
    "## 2 Исследовательский анализ данных"
   ]
  },
  {
   "cell_type": "code",
   "execution_count": 1,
   "id": "f4e34d0d",
   "metadata": {},
   "outputs": [],
   "source": [
    "import lightgbm as lgb\n",
    "import pandas as pd\n",
    "import seaborn as sns\n",
    "from lightgbm import LGBMRegressor\n",
    "from matplotlib import pyplot as plt\n",
    "from sklearn.dummy import DummyRegressor\n",
    "from sklearn.ensemble import RandomForestRegressor\n",
    "from sklearn.model_selection import RandomizedSearchCV\n",
    "from sklearn.linear_model import LinearRegression\n",
    "from sklearn.linear_model import Lasso\n",
    "from sklearn.metrics import mean_absolute_error\n",
    "from sklearn.model_selection import train_test_split\n",
    "from sklearn.model_selection import cross_val_score\n",
    "from sklearn.metrics import fbeta_score, make_scorer\n",
    "from sklearn.model_selection import GridSearchCV\n",
    "from sklearn.preprocessing import MinMaxScaler\n",
    "from sklearn.preprocessing import StandardScaler\n",
    "from sklearn.tree import DecisionTreeRegressor\n",
    "import numpy as np"
   ]
  },
  {
   "cell_type": "markdown",
   "id": "b5b2fd57",
   "metadata": {},
   "source": [
    "### 2.1 Результаты измерения температуры"
   ]
  },
  {
   "cell_type": "code",
   "execution_count": 2,
   "id": "8ef6201a",
   "metadata": {},
   "outputs": [],
   "source": [
    "try:\n",
    "    data_temp = pd.read_csv('data_temp.csv',parse_dates=[1])\n",
    "except:\n",
    "    data_temp = pd.read_csv('/datasets/final_steel/data_temp.csv',parse_dates=[1])"
   ]
  },
  {
   "cell_type": "code",
   "execution_count": 3,
   "id": "c8781898",
   "metadata": {},
   "outputs": [
    {
     "data": {
      "text/html": [
       "<div>\n",
       "<style scoped>\n",
       "    .dataframe tbody tr th:only-of-type {\n",
       "        vertical-align: middle;\n",
       "    }\n",
       "\n",
       "    .dataframe tbody tr th {\n",
       "        vertical-align: top;\n",
       "    }\n",
       "\n",
       "    .dataframe thead th {\n",
       "        text-align: right;\n",
       "    }\n",
       "</style>\n",
       "<table border=\"1\" class=\"dataframe\">\n",
       "  <thead>\n",
       "    <tr style=\"text-align: right;\">\n",
       "      <th></th>\n",
       "      <th>key</th>\n",
       "      <th>Время замера</th>\n",
       "      <th>Температура</th>\n",
       "    </tr>\n",
       "  </thead>\n",
       "  <tbody>\n",
       "    <tr>\n",
       "      <th>0</th>\n",
       "      <td>1</td>\n",
       "      <td>2019-05-03 11:16:18</td>\n",
       "      <td>1571.0</td>\n",
       "    </tr>\n",
       "    <tr>\n",
       "      <th>1</th>\n",
       "      <td>1</td>\n",
       "      <td>2019-05-03 11:25:53</td>\n",
       "      <td>1604.0</td>\n",
       "    </tr>\n",
       "    <tr>\n",
       "      <th>2</th>\n",
       "      <td>1</td>\n",
       "      <td>2019-05-03 11:29:11</td>\n",
       "      <td>1618.0</td>\n",
       "    </tr>\n",
       "    <tr>\n",
       "      <th>3</th>\n",
       "      <td>1</td>\n",
       "      <td>2019-05-03 11:30:01</td>\n",
       "      <td>1601.0</td>\n",
       "    </tr>\n",
       "    <tr>\n",
       "      <th>4</th>\n",
       "      <td>1</td>\n",
       "      <td>2019-05-03 11:30:39</td>\n",
       "      <td>1613.0</td>\n",
       "    </tr>\n",
       "    <tr>\n",
       "      <th>...</th>\n",
       "      <td>...</td>\n",
       "      <td>...</td>\n",
       "      <td>...</td>\n",
       "    </tr>\n",
       "    <tr>\n",
       "      <th>15902</th>\n",
       "      <td>3241</td>\n",
       "      <td>2019-09-01 04:03:30</td>\n",
       "      <td>1586.0</td>\n",
       "    </tr>\n",
       "    <tr>\n",
       "      <th>15903</th>\n",
       "      <td>3241</td>\n",
       "      <td>2019-09-01 04:16:12</td>\n",
       "      <td>NaN</td>\n",
       "    </tr>\n",
       "    <tr>\n",
       "      <th>15904</th>\n",
       "      <td>3241</td>\n",
       "      <td>2019-09-01 04:22:39</td>\n",
       "      <td>NaN</td>\n",
       "    </tr>\n",
       "    <tr>\n",
       "      <th>15905</th>\n",
       "      <td>3241</td>\n",
       "      <td>2019-09-01 04:33:42</td>\n",
       "      <td>NaN</td>\n",
       "    </tr>\n",
       "    <tr>\n",
       "      <th>15906</th>\n",
       "      <td>3241</td>\n",
       "      <td>2019-09-01 04:38:08</td>\n",
       "      <td>NaN</td>\n",
       "    </tr>\n",
       "  </tbody>\n",
       "</table>\n",
       "<p>15907 rows × 3 columns</p>\n",
       "</div>"
      ],
      "text/plain": [
       "        key        Время замера  Температура\n",
       "0         1 2019-05-03 11:16:18       1571.0\n",
       "1         1 2019-05-03 11:25:53       1604.0\n",
       "2         1 2019-05-03 11:29:11       1618.0\n",
       "3         1 2019-05-03 11:30:01       1601.0\n",
       "4         1 2019-05-03 11:30:39       1613.0\n",
       "...     ...                 ...          ...\n",
       "15902  3241 2019-09-01 04:03:30       1586.0\n",
       "15903  3241 2019-09-01 04:16:12          NaN\n",
       "15904  3241 2019-09-01 04:22:39          NaN\n",
       "15905  3241 2019-09-01 04:33:42          NaN\n",
       "15906  3241 2019-09-01 04:38:08          NaN\n",
       "\n",
       "[15907 rows x 3 columns]"
      ]
     },
     "execution_count": 3,
     "metadata": {},
     "output_type": "execute_result"
    }
   ],
   "source": [
    "data_temp"
   ]
  },
  {
   "cell_type": "code",
   "execution_count": 4,
   "id": "d263c3f9",
   "metadata": {},
   "outputs": [
    {
     "name": "stdout",
     "output_type": "stream",
     "text": [
      "<class 'pandas.core.frame.DataFrame'>\n",
      "RangeIndex: 15907 entries, 0 to 15906\n",
      "Data columns (total 3 columns):\n",
      " #   Column        Non-Null Count  Dtype         \n",
      "---  ------        --------------  -----         \n",
      " 0   key           15907 non-null  int64         \n",
      " 1   Время замера  15907 non-null  datetime64[ns]\n",
      " 2   Температура   13006 non-null  float64       \n",
      "dtypes: datetime64[ns](1), float64(1), int64(1)\n",
      "memory usage: 372.9 KB\n"
     ]
    }
   ],
   "source": [
    "data_temp.info()"
   ]
  },
  {
   "cell_type": "code",
   "execution_count": 5,
   "id": "335f965b",
   "metadata": {},
   "outputs": [
    {
     "data": {
      "text/html": [
       "<div>\n",
       "<style scoped>\n",
       "    .dataframe tbody tr th:only-of-type {\n",
       "        vertical-align: middle;\n",
       "    }\n",
       "\n",
       "    .dataframe tbody tr th {\n",
       "        vertical-align: top;\n",
       "    }\n",
       "\n",
       "    .dataframe thead th {\n",
       "        text-align: right;\n",
       "    }\n",
       "</style>\n",
       "<table border=\"1\" class=\"dataframe\">\n",
       "  <thead>\n",
       "    <tr style=\"text-align: right;\">\n",
       "      <th></th>\n",
       "      <th>key</th>\n",
       "      <th>Температура</th>\n",
       "    </tr>\n",
       "  </thead>\n",
       "  <tbody>\n",
       "    <tr>\n",
       "      <th>count</th>\n",
       "      <td>15907.000000</td>\n",
       "      <td>13006.000000</td>\n",
       "    </tr>\n",
       "    <tr>\n",
       "      <th>mean</th>\n",
       "      <td>1607.880870</td>\n",
       "      <td>1591.840920</td>\n",
       "    </tr>\n",
       "    <tr>\n",
       "      <th>std</th>\n",
       "      <td>942.212073</td>\n",
       "      <td>21.375851</td>\n",
       "    </tr>\n",
       "    <tr>\n",
       "      <th>min</th>\n",
       "      <td>1.000000</td>\n",
       "      <td>1191.000000</td>\n",
       "    </tr>\n",
       "    <tr>\n",
       "      <th>25%</th>\n",
       "      <td>790.000000</td>\n",
       "      <td>1581.000000</td>\n",
       "    </tr>\n",
       "    <tr>\n",
       "      <th>50%</th>\n",
       "      <td>1618.000000</td>\n",
       "      <td>1591.000000</td>\n",
       "    </tr>\n",
       "    <tr>\n",
       "      <th>75%</th>\n",
       "      <td>2427.000000</td>\n",
       "      <td>1601.000000</td>\n",
       "    </tr>\n",
       "    <tr>\n",
       "      <th>max</th>\n",
       "      <td>3241.000000</td>\n",
       "      <td>1705.000000</td>\n",
       "    </tr>\n",
       "  </tbody>\n",
       "</table>\n",
       "</div>"
      ],
      "text/plain": [
       "                key   Температура\n",
       "count  15907.000000  13006.000000\n",
       "mean    1607.880870   1591.840920\n",
       "std      942.212073     21.375851\n",
       "min        1.000000   1191.000000\n",
       "25%      790.000000   1581.000000\n",
       "50%     1618.000000   1591.000000\n",
       "75%     2427.000000   1601.000000\n",
       "max     3241.000000   1705.000000"
      ]
     },
     "execution_count": 5,
     "metadata": {},
     "output_type": "execute_result"
    }
   ],
   "source": [
    "data_temp.describe()"
   ]
  },
  {
   "cell_type": "markdown",
   "id": "ab789616",
   "metadata": {},
   "source": [
    " Температура плавления стали варьируется от 1191 до 1705. Среднее и медианное значения практически одинаковы, распределение данных близко к нормальному распределению."
   ]
  },
  {
   "cell_type": "code",
   "execution_count": 6,
   "id": "6ca2dacd",
   "metadata": {},
   "outputs": [
    {
     "data": {
      "text/plain": [
       "<AxesSubplot:>"
      ]
     },
     "execution_count": 6,
     "metadata": {},
     "output_type": "execute_result"
    },
    {
     "data": {
      "image/png": "[encoded data removed]",
      "text/plain": [
       "<Figure size 720x504 with 1 Axes>"
      ]
     },
     "metadata": {
      "needs_background": "light"
     },
     "output_type": "display_data"
    }
   ],
   "source": [
    "data_temp['Температура'].hist(bins=100, figsize=(10,7))"
   ]
  },
  {
   "cell_type": "markdown",
   "id": "801f13ae",
   "metadata": {},
   "source": [
    " На графике видны выбросы. Исследую их."
   ]
  },
  {
   "cell_type": "code",
   "execution_count": 7,
   "id": "81b25716",
   "metadata": {},
   "outputs": [
    {
     "data": {
      "image/png": "[encoded data removed]",
      "text/plain": [
       "<Figure size 1080x576 with 1 Axes>"
      ]
     },
     "metadata": {
      "needs_background": "light"
     },
     "output_type": "display_data"
    }
   ],
   "source": [
    "plt.figure(figsize=(15,8))\n",
    "sns.boxplot(x=data_temp['Температура'])\n",
    "plt.show()"
   ]
  },
  {
   "cell_type": "markdown",
   "id": "2fcf68e6",
   "metadata": {},
   "source": [
    "<font color='purple'>Можно сказать , что средняя температура плавления стали равна 1591,84 градуса по Цельсию, что превышает максимальую достаточную температуру плавнея стали.Нужно обратить на это внимание технолога и обсудить, что может быть затачивается излишняя мощность и происходит перенагрев, дабы снизить потребляемую мощность. Но в данных присутствуют показания с низкими температурами ниже 1500, возможные причины: некорректные показания датчиков, либо излишний обдув газом значительно снизил температуру. В дальнейшем ,при накоплении значений ниже 1500, можно провести отдельное исследование.</font>"
   ]
  },
  {
   "cell_type": "markdown",
   "id": "b6319c06",
   "metadata": {},
   "source": [
    "<font color='steelblue'><b>Комментарий тимлида</b></font><br>\n",
    "<font color='green'> ✔️ Применены все необходимые методы, графики построены.</font>\n",
    "---\n",
    "<font color='darkorange'>⚠️ Здесь и ниже стоит добавить какие-то более подробные выводы о распределении, выбросах и так далее.</font>"
   ]
  },
  {
   "cell_type": "markdown",
   "id": "ec7e9cb8",
   "metadata": {},
   "source": [
    "<font color='steelblue'><b>Комментарий тимлида v2</b></font><br>\n",
    "<font color='green'> ✔️ Хорошо.</font>"
   ]
  },
  {
   "cell_type": "markdown",
   "id": "14f53c86",
   "metadata": {},
   "source": [
    "### 2.2 Данные об электродах"
   ]
  },
  {
   "cell_type": "code",
   "execution_count": 8,
   "id": "8dfc5136",
   "metadata": {},
   "outputs": [],
   "source": [
    "try:\n",
    "    data_arc = pd.read_csv('data_arc.csv',parse_dates=[1,2])\n",
    "except:\n",
    "    data_arc = pd.read_csv('/datasets/final_steel/data_arc.csv',parse_dates=[1,2])"
   ]
  },
  {
   "cell_type": "code",
   "execution_count": 9,
   "id": "f26ebf7c",
   "metadata": {},
   "outputs": [
    {
     "data": {
      "text/html": [
       "<div>\n",
       "<style scoped>\n",
       "    .dataframe tbody tr th:only-of-type {\n",
       "        vertical-align: middle;\n",
       "    }\n",
       "\n",
       "    .dataframe tbody tr th {\n",
       "        vertical-align: top;\n",
       "    }\n",
       "\n",
       "    .dataframe thead th {\n",
       "        text-align: right;\n",
       "    }\n",
       "</style>\n",
       "<table border=\"1\" class=\"dataframe\">\n",
       "  <thead>\n",
       "    <tr style=\"text-align: right;\">\n",
       "      <th></th>\n",
       "      <th>key</th>\n",
       "      <th>Начало нагрева дугой</th>\n",
       "      <th>Конец нагрева дугой</th>\n",
       "      <th>Активная мощность</th>\n",
       "      <th>Реактивная мощность</th>\n",
       "    </tr>\n",
       "  </thead>\n",
       "  <tbody>\n",
       "    <tr>\n",
       "      <th>0</th>\n",
       "      <td>1</td>\n",
       "      <td>2019-05-03 11:02:14</td>\n",
       "      <td>2019-05-03 11:06:02</td>\n",
       "      <td>0.976059</td>\n",
       "      <td>0.687084</td>\n",
       "    </tr>\n",
       "    <tr>\n",
       "      <th>1</th>\n",
       "      <td>1</td>\n",
       "      <td>2019-05-03 11:07:28</td>\n",
       "      <td>2019-05-03 11:10:33</td>\n",
       "      <td>0.805607</td>\n",
       "      <td>0.520285</td>\n",
       "    </tr>\n",
       "    <tr>\n",
       "      <th>2</th>\n",
       "      <td>1</td>\n",
       "      <td>2019-05-03 11:11:44</td>\n",
       "      <td>2019-05-03 11:14:36</td>\n",
       "      <td>0.744363</td>\n",
       "      <td>0.498805</td>\n",
       "    </tr>\n",
       "    <tr>\n",
       "      <th>3</th>\n",
       "      <td>1</td>\n",
       "      <td>2019-05-03 11:18:14</td>\n",
       "      <td>2019-05-03 11:24:19</td>\n",
       "      <td>1.659363</td>\n",
       "      <td>1.062669</td>\n",
       "    </tr>\n",
       "    <tr>\n",
       "      <th>4</th>\n",
       "      <td>1</td>\n",
       "      <td>2019-05-03 11:26:09</td>\n",
       "      <td>2019-05-03 11:28:37</td>\n",
       "      <td>0.692755</td>\n",
       "      <td>0.414397</td>\n",
       "    </tr>\n",
       "    <tr>\n",
       "      <th>...</th>\n",
       "      <td>...</td>\n",
       "      <td>...</td>\n",
       "      <td>...</td>\n",
       "      <td>...</td>\n",
       "      <td>...</td>\n",
       "    </tr>\n",
       "    <tr>\n",
       "      <th>14871</th>\n",
       "      <td>3241</td>\n",
       "      <td>2019-09-01 03:58:58</td>\n",
       "      <td>2019-09-01 04:01:35</td>\n",
       "      <td>0.533670</td>\n",
       "      <td>0.354439</td>\n",
       "    </tr>\n",
       "    <tr>\n",
       "      <th>14872</th>\n",
       "      <td>3241</td>\n",
       "      <td>2019-09-01 04:05:04</td>\n",
       "      <td>2019-09-01 04:08:04</td>\n",
       "      <td>0.676604</td>\n",
       "      <td>0.523631</td>\n",
       "    </tr>\n",
       "    <tr>\n",
       "      <th>14873</th>\n",
       "      <td>3241</td>\n",
       "      <td>2019-09-01 04:16:41</td>\n",
       "      <td>2019-09-01 04:19:45</td>\n",
       "      <td>0.733899</td>\n",
       "      <td>0.475654</td>\n",
       "    </tr>\n",
       "    <tr>\n",
       "      <th>14874</th>\n",
       "      <td>3241</td>\n",
       "      <td>2019-09-01 04:31:51</td>\n",
       "      <td>2019-09-01 04:32:48</td>\n",
       "      <td>0.220694</td>\n",
       "      <td>0.145768</td>\n",
       "    </tr>\n",
       "    <tr>\n",
       "      <th>14875</th>\n",
       "      <td>3241</td>\n",
       "      <td>2019-09-01 04:34:47</td>\n",
       "      <td>2019-09-01 04:36:08</td>\n",
       "      <td>0.306580</td>\n",
       "      <td>0.196708</td>\n",
       "    </tr>\n",
       "  </tbody>\n",
       "</table>\n",
       "<p>14876 rows × 5 columns</p>\n",
       "</div>"
      ],
      "text/plain": [
       "        key Начало нагрева дугой Конец нагрева дугой  Активная мощность  \\\n",
       "0         1  2019-05-03 11:02:14 2019-05-03 11:06:02           0.976059   \n",
       "1         1  2019-05-03 11:07:28 2019-05-03 11:10:33           0.805607   \n",
       "2         1  2019-05-03 11:11:44 2019-05-03 11:14:36           0.744363   \n",
       "3         1  2019-05-03 11:18:14 2019-05-03 11:24:19           1.659363   \n",
       "4         1  2019-05-03 11:26:09 2019-05-03 11:28:37           0.692755   \n",
       "...     ...                  ...                 ...                ...   \n",
       "14871  3241  2019-09-01 03:58:58 2019-09-01 04:01:35           0.533670   \n",
       "14872  3241  2019-09-01 04:05:04 2019-09-01 04:08:04           0.676604   \n",
       "14873  3241  2019-09-01 04:16:41 2019-09-01 04:19:45           0.733899   \n",
       "14874  3241  2019-09-01 04:31:51 2019-09-01 04:32:48           0.220694   \n",
       "14875  3241  2019-09-01 04:34:47 2019-09-01 04:36:08           0.306580   \n",
       "\n",
       "       Реактивная мощность  \n",
       "0                 0.687084  \n",
       "1                 0.520285  \n",
       "2                 0.498805  \n",
       "3                 1.062669  \n",
       "4                 0.414397  \n",
       "...                    ...  \n",
       "14871             0.354439  \n",
       "14872             0.523631  \n",
       "14873             0.475654  \n",
       "14874             0.145768  \n",
       "14875             0.196708  \n",
       "\n",
       "[14876 rows x 5 columns]"
      ]
     },
     "execution_count": 9,
     "metadata": {},
     "output_type": "execute_result"
    }
   ],
   "source": [
    "data_arc"
   ]
  },
  {
   "cell_type": "code",
   "execution_count": 10,
   "id": "6de68eff",
   "metadata": {},
   "outputs": [
    {
     "data": {
      "text/html": [
       "<div>\n",
       "<style scoped>\n",
       "    .dataframe tbody tr th:only-of-type {\n",
       "        vertical-align: middle;\n",
       "    }\n",
       "\n",
       "    .dataframe tbody tr th {\n",
       "        vertical-align: top;\n",
       "    }\n",
       "\n",
       "    .dataframe thead th {\n",
       "        text-align: right;\n",
       "    }\n",
       "</style>\n",
       "<table border=\"1\" class=\"dataframe\">\n",
       "  <thead>\n",
       "    <tr style=\"text-align: right;\">\n",
       "      <th></th>\n",
       "      <th>key</th>\n",
       "      <th>Активная мощность</th>\n",
       "      <th>Реактивная мощность</th>\n",
       "    </tr>\n",
       "  </thead>\n",
       "  <tbody>\n",
       "    <tr>\n",
       "      <th>count</th>\n",
       "      <td>14876.000000</td>\n",
       "      <td>14876.000000</td>\n",
       "      <td>14876.000000</td>\n",
       "    </tr>\n",
       "    <tr>\n",
       "      <th>mean</th>\n",
       "      <td>1615.220422</td>\n",
       "      <td>0.670441</td>\n",
       "      <td>0.452592</td>\n",
       "    </tr>\n",
       "    <tr>\n",
       "      <th>std</th>\n",
       "      <td>934.571502</td>\n",
       "      <td>0.408159</td>\n",
       "      <td>5.878702</td>\n",
       "    </tr>\n",
       "    <tr>\n",
       "      <th>min</th>\n",
       "      <td>1.000000</td>\n",
       "      <td>0.030002</td>\n",
       "      <td>-715.504924</td>\n",
       "    </tr>\n",
       "    <tr>\n",
       "      <th>25%</th>\n",
       "      <td>806.000000</td>\n",
       "      <td>0.395297</td>\n",
       "      <td>0.290991</td>\n",
       "    </tr>\n",
       "    <tr>\n",
       "      <th>50%</th>\n",
       "      <td>1617.000000</td>\n",
       "      <td>0.555517</td>\n",
       "      <td>0.415962</td>\n",
       "    </tr>\n",
       "    <tr>\n",
       "      <th>75%</th>\n",
       "      <td>2429.000000</td>\n",
       "      <td>0.857034</td>\n",
       "      <td>0.637371</td>\n",
       "    </tr>\n",
       "    <tr>\n",
       "      <th>max</th>\n",
       "      <td>3241.000000</td>\n",
       "      <td>3.731596</td>\n",
       "      <td>2.676388</td>\n",
       "    </tr>\n",
       "  </tbody>\n",
       "</table>\n",
       "</div>"
      ],
      "text/plain": [
       "                key  Активная мощность  Реактивная мощность\n",
       "count  14876.000000       14876.000000         14876.000000\n",
       "mean    1615.220422           0.670441             0.452592\n",
       "std      934.571502           0.408159             5.878702\n",
       "min        1.000000           0.030002          -715.504924\n",
       "25%      806.000000           0.395297             0.290991\n",
       "50%     1617.000000           0.555517             0.415962\n",
       "75%     2429.000000           0.857034             0.637371\n",
       "max     3241.000000           3.731596             2.676388"
      ]
     },
     "execution_count": 10,
     "metadata": {},
     "output_type": "execute_result"
    }
   ],
   "source": [
    "data_arc.describe()"
   ]
  },
  {
   "cell_type": "code",
   "execution_count": 11,
   "id": "fad7b423",
   "metadata": {},
   "outputs": [
    {
     "data": {
      "text/plain": [
       "<matplotlib.legend.Legend at 0x2c3c5f4da00>"
      ]
     },
     "execution_count": 11,
     "metadata": {},
     "output_type": "execute_result"
    },
    {
     "data": {
      "image/png": "[encoded data removed]",
      "text/plain": [
       "<Figure size 432x288 with 1 Axes>"
      ]
     },
     "metadata": {
      "needs_background": "light"
     },
     "output_type": "display_data"
    }
   ],
   "source": [
    "data_arc['Активная мощность'].hist(bins=100,label = 'Активная мощность')\n",
    "plt.legend()"
   ]
  },
  {
   "cell_type": "code",
   "execution_count": 12,
   "id": "98ec9624",
   "metadata": {},
   "outputs": [
    {
     "data": {
      "image/png": "[encoded data removed]",
      "text/plain": [
       "<Figure size 432x288 with 1 Axes>"
      ]
     },
     "metadata": {
      "needs_background": "light"
     },
     "output_type": "display_data"
    }
   ],
   "source": [
    "\n",
    "sns.boxplot(x=data_arc['Активная мощность'])\n",
    "plt.show()"
   ]
  },
  {
   "cell_type": "code",
   "execution_count": 13,
   "id": "f128b2a7",
   "metadata": {},
   "outputs": [
    {
     "data": {
      "text/plain": [
       "<matplotlib.legend.Legend at 0x2c3c61f5160>"
      ]
     },
     "execution_count": 13,
     "metadata": {},
     "output_type": "execute_result"
    },
    {
     "data": {
      "image/png": "[encoded data removed]",
      "text/plain": [
       "<Figure size 432x288 with 1 Axes>"
      ]
     },
     "metadata": {
      "needs_background": "light"
     },
     "output_type": "display_data"
    }
   ],
   "source": [
    "data_arc['Реактивная мощность'].hist(bins=10,label = 'Реактивная мощность')\n",
    "plt.legend()"
   ]
  },
  {
   "cell_type": "code",
   "execution_count": 14,
   "id": "aab1f74f",
   "metadata": {},
   "outputs": [
    {
     "data": {
      "image/png": "[encoded data removed]",
      "text/plain": [
       "<Figure size 432x288 with 1 Axes>"
      ]
     },
     "metadata": {
      "needs_background": "light"
     },
     "output_type": "display_data"
    }
   ],
   "source": [
    "sns.boxplot(x=data_arc['Реактивная мощность'])\n",
    "plt.show()"
   ]
  },
  {
   "cell_type": "code",
   "execution_count": 15,
   "id": "19d697a1",
   "metadata": {},
   "outputs": [
    {
     "name": "stdout",
     "output_type": "stream",
     "text": [
      "<class 'pandas.core.frame.DataFrame'>\n",
      "RangeIndex: 14876 entries, 0 to 14875\n",
      "Data columns (total 5 columns):\n",
      " #   Column                Non-Null Count  Dtype         \n",
      "---  ------                --------------  -----         \n",
      " 0   key                   14876 non-null  int64         \n",
      " 1   Начало нагрева дугой  14876 non-null  datetime64[ns]\n",
      " 2   Конец нагрева дугой   14876 non-null  datetime64[ns]\n",
      " 3   Активная мощность     14876 non-null  float64       \n",
      " 4   Реактивная мощность   14876 non-null  float64       \n",
      "dtypes: datetime64[ns](2), float64(2), int64(1)\n",
      "memory usage: 581.2 KB\n"
     ]
    }
   ],
   "source": [
    "data_arc.info()"
   ]
  },
  {
   "cell_type": "markdown",
   "id": "d79506f6",
   "metadata": {},
   "source": [
    "В данных присутствуют пропуски и выбросы."
   ]
  },
  {
   "cell_type": "markdown",
   "id": "78049303",
   "metadata": {},
   "source": [
    "<font color='purple'>В данных реактивной мощности присутстствует выброс : -715. Рассмотрю данные без выбросов.</font>"
   ]
  },
  {
   "cell_type": "code",
   "execution_count": 16,
   "id": "ec9dbeeb",
   "metadata": {},
   "outputs": [
    {
     "data": {
      "text/plain": [
       "<matplotlib.legend.Legend at 0x2c3c566bd90>"
      ]
     },
     "execution_count": 16,
     "metadata": {},
     "output_type": "execute_result"
    },
    {
     "data": {
      "image/png": "[encoded data removed]",
      "text/plain": [
       "<Figure size 432x288 with 1 Axes>"
      ]
     },
     "metadata": {
      "needs_background": "light"
     },
     "output_type": "display_data"
    }
   ],
   "source": [
    "data_arc['Реактивная мощность'][data_arc['Реактивная мощность']>-10].hist(bins=20,label = 'Реактивная мощность')\n",
    "plt.legend()"
   ]
  },
  {
   "cell_type": "markdown",
   "id": "535d0d5e",
   "metadata": {},
   "source": [
    "<font color='purple'>Распределение смещено влево. Распределение реактивной мощности схоже по характеру с распределением активной мощности.В дальнейшем можно ввести новый признак: отношениие мощностей.</font>"
   ]
  },
  {
   "cell_type": "markdown",
   "id": "c9f4fb91",
   "metadata": {},
   "source": [
    "<font color='steelblue'><b>Комментарий тимлида</b></font><br>\n",
    "<font color='green'> ✔️ Данные осмотрены.</font>"
   ]
  },
  {
   "cell_type": "markdown",
   "id": "76edfd2b",
   "metadata": {},
   "source": [
    "<font color='steelblue'><b>Комментарий тимлида v2</b></font><br>\n",
    "<font color='crimson'> ❌ Не влево.</font>"
   ]
  },
  {
   "cell_type": "markdown",
   "id": "a7207fab",
   "metadata": {},
   "source": [
    "<font color='purple'>Асимметрией называется смещение распределения относительно ее моды.На графике выражена положительная асимметрия, или правое смещение кривой, указывает на то, что площадь под графиком больше на правой стороне моды. Мода меньше среднего и медианного значения.</font>"
   ]
  },
  {
   "cell_type": "markdown",
   "id": "03a59609",
   "metadata": {},
   "source": [
    "<font color='steelblue'><b>Комментарий тимлида v3</b></font><br>\n",
    "<font color='green'> ✔️ Да, смещено туда, где хвост.</font>"
   ]
  },
  {
   "cell_type": "code",
   "execution_count": 17,
   "id": "8b565527",
   "metadata": {},
   "outputs": [
    {
     "data": {
      "text/plain": [
       "count    14876.000000\n",
       "mean         0.670441\n",
       "std          0.408159\n",
       "min          0.030002\n",
       "25%          0.395297\n",
       "50%          0.555517\n",
       "75%          0.857034\n",
       "max          3.731596\n",
       "Name: Активная мощность, dtype: float64"
      ]
     },
     "execution_count": 17,
     "metadata": {},
     "output_type": "execute_result"
    }
   ],
   "source": [
    "data_arc['Активная мощность'].describe()"
   ]
  },
  {
   "cell_type": "code",
   "execution_count": 18,
   "id": "9584728d",
   "metadata": {},
   "outputs": [
    {
     "data": {
      "text/plain": [
       "count    14876.000000\n",
       "mean         0.452592\n",
       "std          5.878702\n",
       "min       -715.504924\n",
       "25%          0.290991\n",
       "50%          0.415962\n",
       "75%          0.637371\n",
       "max          2.676388\n",
       "Name: Реактивная мощность, dtype: float64"
      ]
     },
     "execution_count": 18,
     "metadata": {},
     "output_type": "execute_result"
    }
   ],
   "source": [
    "data_arc['Реактивная мощность'].describe()"
   ]
  },
  {
   "cell_type": "markdown",
   "id": "9731374e",
   "metadata": {},
   "source": [
    "### 2.3 Данные о подаче сыпучих материалов (объём)"
   ]
  },
  {
   "cell_type": "code",
   "execution_count": 19,
   "id": "b7eef058",
   "metadata": {},
   "outputs": [],
   "source": [
    "try:\n",
    "    data_bulk = pd.read_csv('data_bulk.csv')\n",
    "except:\n",
    "    data_bulk = pd.read_csv('/datasets/final_steel/data_bulk.csv')"
   ]
  },
  {
   "cell_type": "code",
   "execution_count": 20,
   "id": "c3131f19",
   "metadata": {},
   "outputs": [
    {
     "data": {
      "text/html": [
       "<div>\n",
       "<style scoped>\n",
       "    .dataframe tbody tr th:only-of-type {\n",
       "        vertical-align: middle;\n",
       "    }\n",
       "\n",
       "    .dataframe tbody tr th {\n",
       "        vertical-align: top;\n",
       "    }\n",
       "\n",
       "    .dataframe thead th {\n",
       "        text-align: right;\n",
       "    }\n",
       "</style>\n",
       "<table border=\"1\" class=\"dataframe\">\n",
       "  <thead>\n",
       "    <tr style=\"text-align: right;\">\n",
       "      <th></th>\n",
       "      <th>key</th>\n",
       "      <th>Bulk 1</th>\n",
       "      <th>Bulk 2</th>\n",
       "      <th>Bulk 3</th>\n",
       "      <th>Bulk 4</th>\n",
       "      <th>Bulk 5</th>\n",
       "      <th>Bulk 6</th>\n",
       "      <th>Bulk 7</th>\n",
       "      <th>Bulk 8</th>\n",
       "      <th>Bulk 9</th>\n",
       "      <th>Bulk 10</th>\n",
       "      <th>Bulk 11</th>\n",
       "      <th>Bulk 12</th>\n",
       "      <th>Bulk 13</th>\n",
       "      <th>Bulk 14</th>\n",
       "      <th>Bulk 15</th>\n",
       "    </tr>\n",
       "  </thead>\n",
       "  <tbody>\n",
       "    <tr>\n",
       "      <th>0</th>\n",
       "      <td>1</td>\n",
       "      <td>NaN</td>\n",
       "      <td>NaN</td>\n",
       "      <td>NaN</td>\n",
       "      <td>43.0</td>\n",
       "      <td>NaN</td>\n",
       "      <td>NaN</td>\n",
       "      <td>NaN</td>\n",
       "      <td>NaN</td>\n",
       "      <td>NaN</td>\n",
       "      <td>NaN</td>\n",
       "      <td>NaN</td>\n",
       "      <td>206.0</td>\n",
       "      <td>NaN</td>\n",
       "      <td>150.0</td>\n",
       "      <td>154.0</td>\n",
       "    </tr>\n",
       "    <tr>\n",
       "      <th>1</th>\n",
       "      <td>2</td>\n",
       "      <td>NaN</td>\n",
       "      <td>NaN</td>\n",
       "      <td>NaN</td>\n",
       "      <td>73.0</td>\n",
       "      <td>NaN</td>\n",
       "      <td>NaN</td>\n",
       "      <td>NaN</td>\n",
       "      <td>NaN</td>\n",
       "      <td>NaN</td>\n",
       "      <td>NaN</td>\n",
       "      <td>NaN</td>\n",
       "      <td>206.0</td>\n",
       "      <td>NaN</td>\n",
       "      <td>149.0</td>\n",
       "      <td>154.0</td>\n",
       "    </tr>\n",
       "    <tr>\n",
       "      <th>2</th>\n",
       "      <td>3</td>\n",
       "      <td>NaN</td>\n",
       "      <td>NaN</td>\n",
       "      <td>NaN</td>\n",
       "      <td>34.0</td>\n",
       "      <td>NaN</td>\n",
       "      <td>NaN</td>\n",
       "      <td>NaN</td>\n",
       "      <td>NaN</td>\n",
       "      <td>NaN</td>\n",
       "      <td>NaN</td>\n",
       "      <td>NaN</td>\n",
       "      <td>205.0</td>\n",
       "      <td>NaN</td>\n",
       "      <td>152.0</td>\n",
       "      <td>153.0</td>\n",
       "    </tr>\n",
       "    <tr>\n",
       "      <th>3</th>\n",
       "      <td>4</td>\n",
       "      <td>NaN</td>\n",
       "      <td>NaN</td>\n",
       "      <td>NaN</td>\n",
       "      <td>81.0</td>\n",
       "      <td>NaN</td>\n",
       "      <td>NaN</td>\n",
       "      <td>NaN</td>\n",
       "      <td>NaN</td>\n",
       "      <td>NaN</td>\n",
       "      <td>NaN</td>\n",
       "      <td>NaN</td>\n",
       "      <td>207.0</td>\n",
       "      <td>NaN</td>\n",
       "      <td>153.0</td>\n",
       "      <td>154.0</td>\n",
       "    </tr>\n",
       "    <tr>\n",
       "      <th>4</th>\n",
       "      <td>5</td>\n",
       "      <td>NaN</td>\n",
       "      <td>NaN</td>\n",
       "      <td>NaN</td>\n",
       "      <td>78.0</td>\n",
       "      <td>NaN</td>\n",
       "      <td>NaN</td>\n",
       "      <td>NaN</td>\n",
       "      <td>NaN</td>\n",
       "      <td>NaN</td>\n",
       "      <td>NaN</td>\n",
       "      <td>NaN</td>\n",
       "      <td>203.0</td>\n",
       "      <td>NaN</td>\n",
       "      <td>151.0</td>\n",
       "      <td>152.0</td>\n",
       "    </tr>\n",
       "    <tr>\n",
       "      <th>...</th>\n",
       "      <td>...</td>\n",
       "      <td>...</td>\n",
       "      <td>...</td>\n",
       "      <td>...</td>\n",
       "      <td>...</td>\n",
       "      <td>...</td>\n",
       "      <td>...</td>\n",
       "      <td>...</td>\n",
       "      <td>...</td>\n",
       "      <td>...</td>\n",
       "      <td>...</td>\n",
       "      <td>...</td>\n",
       "      <td>...</td>\n",
       "      <td>...</td>\n",
       "      <td>...</td>\n",
       "      <td>...</td>\n",
       "    </tr>\n",
       "    <tr>\n",
       "      <th>3124</th>\n",
       "      <td>3237</td>\n",
       "      <td>NaN</td>\n",
       "      <td>NaN</td>\n",
       "      <td>170.0</td>\n",
       "      <td>NaN</td>\n",
       "      <td>NaN</td>\n",
       "      <td>NaN</td>\n",
       "      <td>NaN</td>\n",
       "      <td>NaN</td>\n",
       "      <td>NaN</td>\n",
       "      <td>NaN</td>\n",
       "      <td>NaN</td>\n",
       "      <td>252.0</td>\n",
       "      <td>NaN</td>\n",
       "      <td>130.0</td>\n",
       "      <td>206.0</td>\n",
       "    </tr>\n",
       "    <tr>\n",
       "      <th>3125</th>\n",
       "      <td>3238</td>\n",
       "      <td>NaN</td>\n",
       "      <td>NaN</td>\n",
       "      <td>126.0</td>\n",
       "      <td>NaN</td>\n",
       "      <td>NaN</td>\n",
       "      <td>NaN</td>\n",
       "      <td>NaN</td>\n",
       "      <td>NaN</td>\n",
       "      <td>NaN</td>\n",
       "      <td>NaN</td>\n",
       "      <td>NaN</td>\n",
       "      <td>254.0</td>\n",
       "      <td>NaN</td>\n",
       "      <td>108.0</td>\n",
       "      <td>106.0</td>\n",
       "    </tr>\n",
       "    <tr>\n",
       "      <th>3126</th>\n",
       "      <td>3239</td>\n",
       "      <td>NaN</td>\n",
       "      <td>NaN</td>\n",
       "      <td>NaN</td>\n",
       "      <td>NaN</td>\n",
       "      <td>NaN</td>\n",
       "      <td>114.0</td>\n",
       "      <td>NaN</td>\n",
       "      <td>NaN</td>\n",
       "      <td>NaN</td>\n",
       "      <td>NaN</td>\n",
       "      <td>NaN</td>\n",
       "      <td>158.0</td>\n",
       "      <td>NaN</td>\n",
       "      <td>270.0</td>\n",
       "      <td>88.0</td>\n",
       "    </tr>\n",
       "    <tr>\n",
       "      <th>3127</th>\n",
       "      <td>3240</td>\n",
       "      <td>NaN</td>\n",
       "      <td>NaN</td>\n",
       "      <td>NaN</td>\n",
       "      <td>NaN</td>\n",
       "      <td>NaN</td>\n",
       "      <td>26.0</td>\n",
       "      <td>NaN</td>\n",
       "      <td>NaN</td>\n",
       "      <td>NaN</td>\n",
       "      <td>NaN</td>\n",
       "      <td>NaN</td>\n",
       "      <td>NaN</td>\n",
       "      <td>NaN</td>\n",
       "      <td>192.0</td>\n",
       "      <td>54.0</td>\n",
       "    </tr>\n",
       "    <tr>\n",
       "      <th>3128</th>\n",
       "      <td>3241</td>\n",
       "      <td>NaN</td>\n",
       "      <td>NaN</td>\n",
       "      <td>NaN</td>\n",
       "      <td>NaN</td>\n",
       "      <td>NaN</td>\n",
       "      <td>NaN</td>\n",
       "      <td>NaN</td>\n",
       "      <td>NaN</td>\n",
       "      <td>NaN</td>\n",
       "      <td>NaN</td>\n",
       "      <td>NaN</td>\n",
       "      <td>NaN</td>\n",
       "      <td>NaN</td>\n",
       "      <td>180.0</td>\n",
       "      <td>52.0</td>\n",
       "    </tr>\n",
       "  </tbody>\n",
       "</table>\n",
       "<p>3129 rows × 16 columns</p>\n",
       "</div>"
      ],
      "text/plain": [
       "       key  Bulk 1  Bulk 2  Bulk 3  Bulk 4  Bulk 5  Bulk 6  Bulk 7  Bulk 8  \\\n",
       "0        1     NaN     NaN     NaN    43.0     NaN     NaN     NaN     NaN   \n",
       "1        2     NaN     NaN     NaN    73.0     NaN     NaN     NaN     NaN   \n",
       "2        3     NaN     NaN     NaN    34.0     NaN     NaN     NaN     NaN   \n",
       "3        4     NaN     NaN     NaN    81.0     NaN     NaN     NaN     NaN   \n",
       "4        5     NaN     NaN     NaN    78.0     NaN     NaN     NaN     NaN   \n",
       "...    ...     ...     ...     ...     ...     ...     ...     ...     ...   \n",
       "3124  3237     NaN     NaN   170.0     NaN     NaN     NaN     NaN     NaN   \n",
       "3125  3238     NaN     NaN   126.0     NaN     NaN     NaN     NaN     NaN   \n",
       "3126  3239     NaN     NaN     NaN     NaN     NaN   114.0     NaN     NaN   \n",
       "3127  3240     NaN     NaN     NaN     NaN     NaN    26.0     NaN     NaN   \n",
       "3128  3241     NaN     NaN     NaN     NaN     NaN     NaN     NaN     NaN   \n",
       "\n",
       "      Bulk 9  Bulk 10  Bulk 11  Bulk 12  Bulk 13  Bulk 14  Bulk 15  \n",
       "0        NaN      NaN      NaN    206.0      NaN    150.0    154.0  \n",
       "1        NaN      NaN      NaN    206.0      NaN    149.0    154.0  \n",
       "2        NaN      NaN      NaN    205.0      NaN    152.0    153.0  \n",
       "3        NaN      NaN      NaN    207.0      NaN    153.0    154.0  \n",
       "4        NaN      NaN      NaN    203.0      NaN    151.0    152.0  \n",
       "...      ...      ...      ...      ...      ...      ...      ...  \n",
       "3124     NaN      NaN      NaN    252.0      NaN    130.0    206.0  \n",
       "3125     NaN      NaN      NaN    254.0      NaN    108.0    106.0  \n",
       "3126     NaN      NaN      NaN    158.0      NaN    270.0     88.0  \n",
       "3127     NaN      NaN      NaN      NaN      NaN    192.0     54.0  \n",
       "3128     NaN      NaN      NaN      NaN      NaN    180.0     52.0  \n",
       "\n",
       "[3129 rows x 16 columns]"
      ]
     },
     "execution_count": 20,
     "metadata": {},
     "output_type": "execute_result"
    }
   ],
   "source": [
    "data_bulk"
   ]
  },
  {
   "cell_type": "code",
   "execution_count": 21,
   "id": "5f26333c",
   "metadata": {},
   "outputs": [
    {
     "name": "stdout",
     "output_type": "stream",
     "text": [
      "<class 'pandas.core.frame.DataFrame'>\n",
      "RangeIndex: 3129 entries, 0 to 3128\n",
      "Data columns (total 16 columns):\n",
      " #   Column   Non-Null Count  Dtype  \n",
      "---  ------   --------------  -----  \n",
      " 0   key      3129 non-null   int64  \n",
      " 1   Bulk 1   252 non-null    float64\n",
      " 2   Bulk 2   22 non-null     float64\n",
      " 3   Bulk 3   1298 non-null   float64\n",
      " 4   Bulk 4   1014 non-null   float64\n",
      " 5   Bulk 5   77 non-null     float64\n",
      " 6   Bulk 6   576 non-null    float64\n",
      " 7   Bulk 7   25 non-null     float64\n",
      " 8   Bulk 8   1 non-null      float64\n",
      " 9   Bulk 9   19 non-null     float64\n",
      " 10  Bulk 10  176 non-null    float64\n",
      " 11  Bulk 11  177 non-null    float64\n",
      " 12  Bulk 12  2450 non-null   float64\n",
      " 13  Bulk 13  18 non-null     float64\n",
      " 14  Bulk 14  2806 non-null   float64\n",
      " 15  Bulk 15  2248 non-null   float64\n",
      "dtypes: float64(15), int64(1)\n",
      "memory usage: 391.2 KB\n"
     ]
    }
   ],
   "source": [
    "data_bulk.info()"
   ]
  },
  {
   "cell_type": "markdown",
   "id": "6d6cf51a",
   "metadata": {},
   "source": [
    "Присутствуют достаточно много пропусков, это значит, что для нужного состава стали потребовались не все вещества и не на всех итерациях."
   ]
  },
  {
   "cell_type": "code",
   "execution_count": 22,
   "id": "092651db",
   "metadata": {},
   "outputs": [
    {
     "data": {
      "text/html": [
       "<div>\n",
       "<style scoped>\n",
       "    .dataframe tbody tr th:only-of-type {\n",
       "        vertical-align: middle;\n",
       "    }\n",
       "\n",
       "    .dataframe tbody tr th {\n",
       "        vertical-align: top;\n",
       "    }\n",
       "\n",
       "    .dataframe thead th {\n",
       "        text-align: right;\n",
       "    }\n",
       "</style>\n",
       "<table border=\"1\" class=\"dataframe\">\n",
       "  <thead>\n",
       "    <tr style=\"text-align: right;\">\n",
       "      <th></th>\n",
       "      <th>key</th>\n",
       "      <th>Bulk 1</th>\n",
       "      <th>Bulk 2</th>\n",
       "      <th>Bulk 3</th>\n",
       "      <th>Bulk 4</th>\n",
       "      <th>Bulk 5</th>\n",
       "      <th>Bulk 6</th>\n",
       "      <th>Bulk 7</th>\n",
       "      <th>Bulk 8</th>\n",
       "      <th>Bulk 9</th>\n",
       "      <th>Bulk 10</th>\n",
       "      <th>Bulk 11</th>\n",
       "      <th>Bulk 12</th>\n",
       "      <th>Bulk 13</th>\n",
       "      <th>Bulk 14</th>\n",
       "      <th>Bulk 15</th>\n",
       "    </tr>\n",
       "  </thead>\n",
       "  <tbody>\n",
       "    <tr>\n",
       "      <th>count</th>\n",
       "      <td>3129.000000</td>\n",
       "      <td>252.000000</td>\n",
       "      <td>22.000000</td>\n",
       "      <td>1298.000000</td>\n",
       "      <td>1014.000000</td>\n",
       "      <td>77.000000</td>\n",
       "      <td>576.000000</td>\n",
       "      <td>25.000000</td>\n",
       "      <td>1.0</td>\n",
       "      <td>19.000000</td>\n",
       "      <td>176.000000</td>\n",
       "      <td>177.000000</td>\n",
       "      <td>2450.000000</td>\n",
       "      <td>18.000000</td>\n",
       "      <td>2806.000000</td>\n",
       "      <td>2248.000000</td>\n",
       "    </tr>\n",
       "    <tr>\n",
       "      <th>mean</th>\n",
       "      <td>1624.383509</td>\n",
       "      <td>39.242063</td>\n",
       "      <td>253.045455</td>\n",
       "      <td>113.879045</td>\n",
       "      <td>104.394477</td>\n",
       "      <td>107.025974</td>\n",
       "      <td>118.925347</td>\n",
       "      <td>305.600000</td>\n",
       "      <td>49.0</td>\n",
       "      <td>76.315789</td>\n",
       "      <td>83.284091</td>\n",
       "      <td>76.819209</td>\n",
       "      <td>260.471020</td>\n",
       "      <td>181.111111</td>\n",
       "      <td>170.284747</td>\n",
       "      <td>160.513345</td>\n",
       "    </tr>\n",
       "    <tr>\n",
       "      <th>std</th>\n",
       "      <td>933.337642</td>\n",
       "      <td>18.277654</td>\n",
       "      <td>21.180578</td>\n",
       "      <td>75.483494</td>\n",
       "      <td>48.184126</td>\n",
       "      <td>81.790646</td>\n",
       "      <td>72.057776</td>\n",
       "      <td>191.022904</td>\n",
       "      <td>NaN</td>\n",
       "      <td>21.720581</td>\n",
       "      <td>26.060347</td>\n",
       "      <td>59.655365</td>\n",
       "      <td>120.649269</td>\n",
       "      <td>46.088009</td>\n",
       "      <td>65.868652</td>\n",
       "      <td>51.765319</td>\n",
       "    </tr>\n",
       "    <tr>\n",
       "      <th>min</th>\n",
       "      <td>1.000000</td>\n",
       "      <td>10.000000</td>\n",
       "      <td>228.000000</td>\n",
       "      <td>6.000000</td>\n",
       "      <td>12.000000</td>\n",
       "      <td>11.000000</td>\n",
       "      <td>17.000000</td>\n",
       "      <td>47.000000</td>\n",
       "      <td>49.0</td>\n",
       "      <td>63.000000</td>\n",
       "      <td>24.000000</td>\n",
       "      <td>8.000000</td>\n",
       "      <td>53.000000</td>\n",
       "      <td>151.000000</td>\n",
       "      <td>16.000000</td>\n",
       "      <td>1.000000</td>\n",
       "    </tr>\n",
       "    <tr>\n",
       "      <th>25%</th>\n",
       "      <td>816.000000</td>\n",
       "      <td>27.000000</td>\n",
       "      <td>242.000000</td>\n",
       "      <td>58.000000</td>\n",
       "      <td>72.000000</td>\n",
       "      <td>70.000000</td>\n",
       "      <td>69.750000</td>\n",
       "      <td>155.000000</td>\n",
       "      <td>49.0</td>\n",
       "      <td>66.000000</td>\n",
       "      <td>64.000000</td>\n",
       "      <td>25.000000</td>\n",
       "      <td>204.000000</td>\n",
       "      <td>153.250000</td>\n",
       "      <td>119.000000</td>\n",
       "      <td>105.000000</td>\n",
       "    </tr>\n",
       "    <tr>\n",
       "      <th>50%</th>\n",
       "      <td>1622.000000</td>\n",
       "      <td>31.000000</td>\n",
       "      <td>251.500000</td>\n",
       "      <td>97.500000</td>\n",
       "      <td>102.000000</td>\n",
       "      <td>86.000000</td>\n",
       "      <td>100.000000</td>\n",
       "      <td>298.000000</td>\n",
       "      <td>49.0</td>\n",
       "      <td>68.000000</td>\n",
       "      <td>86.500000</td>\n",
       "      <td>64.000000</td>\n",
       "      <td>208.000000</td>\n",
       "      <td>155.500000</td>\n",
       "      <td>151.000000</td>\n",
       "      <td>160.000000</td>\n",
       "    </tr>\n",
       "    <tr>\n",
       "      <th>75%</th>\n",
       "      <td>2431.000000</td>\n",
       "      <td>46.000000</td>\n",
       "      <td>257.750000</td>\n",
       "      <td>152.000000</td>\n",
       "      <td>133.000000</td>\n",
       "      <td>132.000000</td>\n",
       "      <td>157.000000</td>\n",
       "      <td>406.000000</td>\n",
       "      <td>49.0</td>\n",
       "      <td>70.500000</td>\n",
       "      <td>102.000000</td>\n",
       "      <td>106.000000</td>\n",
       "      <td>316.000000</td>\n",
       "      <td>203.500000</td>\n",
       "      <td>205.750000</td>\n",
       "      <td>205.000000</td>\n",
       "    </tr>\n",
       "    <tr>\n",
       "      <th>max</th>\n",
       "      <td>3241.000000</td>\n",
       "      <td>185.000000</td>\n",
       "      <td>325.000000</td>\n",
       "      <td>454.000000</td>\n",
       "      <td>281.000000</td>\n",
       "      <td>603.000000</td>\n",
       "      <td>503.000000</td>\n",
       "      <td>772.000000</td>\n",
       "      <td>49.0</td>\n",
       "      <td>147.000000</td>\n",
       "      <td>159.000000</td>\n",
       "      <td>313.000000</td>\n",
       "      <td>1849.000000</td>\n",
       "      <td>305.000000</td>\n",
       "      <td>636.000000</td>\n",
       "      <td>405.000000</td>\n",
       "    </tr>\n",
       "  </tbody>\n",
       "</table>\n",
       "</div>"
      ],
      "text/plain": [
       "               key      Bulk 1      Bulk 2       Bulk 3       Bulk 4  \\\n",
       "count  3129.000000  252.000000   22.000000  1298.000000  1014.000000   \n",
       "mean   1624.383509   39.242063  253.045455   113.879045   104.394477   \n",
       "std     933.337642   18.277654   21.180578    75.483494    48.184126   \n",
       "min       1.000000   10.000000  228.000000     6.000000    12.000000   \n",
       "25%     816.000000   27.000000  242.000000    58.000000    72.000000   \n",
       "50%    1622.000000   31.000000  251.500000    97.500000   102.000000   \n",
       "75%    2431.000000   46.000000  257.750000   152.000000   133.000000   \n",
       "max    3241.000000  185.000000  325.000000   454.000000   281.000000   \n",
       "\n",
       "           Bulk 5      Bulk 6      Bulk 7  Bulk 8      Bulk 9     Bulk 10  \\\n",
       "count   77.000000  576.000000   25.000000     1.0   19.000000  176.000000   \n",
       "mean   107.025974  118.925347  305.600000    49.0   76.315789   83.284091   \n",
       "std     81.790646   72.057776  191.022904     NaN   21.720581   26.060347   \n",
       "min     11.000000   17.000000   47.000000    49.0   63.000000   24.000000   \n",
       "25%     70.000000   69.750000  155.000000    49.0   66.000000   64.000000   \n",
       "50%     86.000000  100.000000  298.000000    49.0   68.000000   86.500000   \n",
       "75%    132.000000  157.000000  406.000000    49.0   70.500000  102.000000   \n",
       "max    603.000000  503.000000  772.000000    49.0  147.000000  159.000000   \n",
       "\n",
       "          Bulk 11      Bulk 12     Bulk 13      Bulk 14      Bulk 15  \n",
       "count  177.000000  2450.000000   18.000000  2806.000000  2248.000000  \n",
       "mean    76.819209   260.471020  181.111111   170.284747   160.513345  \n",
       "std     59.655365   120.649269   46.088009    65.868652    51.765319  \n",
       "min      8.000000    53.000000  151.000000    16.000000     1.000000  \n",
       "25%     25.000000   204.000000  153.250000   119.000000   105.000000  \n",
       "50%     64.000000   208.000000  155.500000   151.000000   160.000000  \n",
       "75%    106.000000   316.000000  203.500000   205.750000   205.000000  \n",
       "max    313.000000  1849.000000  305.000000   636.000000   405.000000  "
      ]
     },
     "execution_count": 22,
     "metadata": {},
     "output_type": "execute_result"
    }
   ],
   "source": [
    "data_bulk.describe()"
   ]
  },
  {
   "cell_type": "markdown",
   "id": "3d5359af",
   "metadata": {},
   "source": [
    "Типы материалов, в данных которых много пропусков, не будут использоваться для обучения модели."
   ]
  },
  {
   "cell_type": "code",
   "execution_count": 23,
   "id": "924e0c8a",
   "metadata": {},
   "outputs": [
    {
     "data": {
      "text/plain": [
       "array([[<AxesSubplot:title={'center':'key'}>,\n",
       "        <AxesSubplot:title={'center':'Bulk 1'}>,\n",
       "        <AxesSubplot:title={'center':'Bulk 2'}>,\n",
       "        <AxesSubplot:title={'center':'Bulk 3'}>],\n",
       "       [<AxesSubplot:title={'center':'Bulk 4'}>,\n",
       "        <AxesSubplot:title={'center':'Bulk 5'}>,\n",
       "        <AxesSubplot:title={'center':'Bulk 6'}>,\n",
       "        <AxesSubplot:title={'center':'Bulk 7'}>],\n",
       "       [<AxesSubplot:title={'center':'Bulk 8'}>,\n",
       "        <AxesSubplot:title={'center':'Bulk 9'}>,\n",
       "        <AxesSubplot:title={'center':'Bulk 10'}>,\n",
       "        <AxesSubplot:title={'center':'Bulk 11'}>],\n",
       "       [<AxesSubplot:title={'center':'Bulk 12'}>,\n",
       "        <AxesSubplot:title={'center':'Bulk 13'}>,\n",
       "        <AxesSubplot:title={'center':'Bulk 14'}>,\n",
       "        <AxesSubplot:title={'center':'Bulk 15'}>]], dtype=object)"
      ]
     },
     "execution_count": 23,
     "metadata": {},
     "output_type": "execute_result"
    },
    {
     "data": {
      "image/png": "[encoded data removed]",
      "text/plain": [
       "<Figure size 1440x1080 with 16 Axes>"
      ]
     },
     "metadata": {
      "needs_background": "light"
     },
     "output_type": "display_data"
    }
   ],
   "source": [
    "data_bulk.hist(bins=50,figsize=(20,15))"
   ]
  },
  {
   "cell_type": "code",
   "execution_count": 24,
   "id": "b359ce7f",
   "metadata": {},
   "outputs": [
    {
     "data": {
      "image/png": "[encoded data removed]",
      "text/plain": [
       "<Figure size 432x288 with 1 Axes>"
      ]
     },
     "metadata": {
      "needs_background": "light"
     },
     "output_type": "display_data"
    }
   ],
   "source": [
    "sns.boxplot(x=data_bulk['Bulk 14'])\n",
    "plt.show()"
   ]
  },
  {
   "cell_type": "markdown",
   "id": "6b4f9e84",
   "metadata": {},
   "source": [
    "<font color='purple'>Рассмотрела самый многочисленный материал Bulk 14, присутствуют выбросы, в дальнейшем необходимо устранить. Пропуски также присутствуют. В итоговую выборку будут включены только те партии, данные о которых есть данные во всех таблицах.</font>"
   ]
  },
  {
   "cell_type": "markdown",
   "id": "f9206f50",
   "metadata": {},
   "source": [
    "<font color='steelblue'><b>Комментарий тимлида</b></font><br>\n",
    "<font color='crimson'> ❌ Здесь и ниже отсутствует визуализация распределения признков.</font>"
   ]
  },
  {
   "cell_type": "markdown",
   "id": "890e0c5a",
   "metadata": {},
   "source": [
    "<font color='steelblue'><b>Комментарий тимлида v2</b></font><br>\n",
    "<font color='green'> ✔️ Хорошо, напоминаю что выбросы удаляем только в тренировочной выборке.</font>"
   ]
  },
  {
   "cell_type": "markdown",
   "id": "9723b338",
   "metadata": {},
   "source": [
    "### 2.4 Данные о подаче сыпучих материалов (время)"
   ]
  },
  {
   "cell_type": "code",
   "execution_count": 25,
   "id": "9a6086a9",
   "metadata": {},
   "outputs": [],
   "source": [
    "try:\n",
    "    data_bulk_time = pd.read_csv('data_bulk_time.csv')\n",
    "except:\n",
    "    data_bulk_time = pd.read_csv('/datasets/final_steel/data_bulk_time.csv')"
   ]
  },
  {
   "cell_type": "code",
   "execution_count": 26,
   "id": "d97266ad",
   "metadata": {},
   "outputs": [
    {
     "data": {
      "text/html": [
       "<div>\n",
       "<style scoped>\n",
       "    .dataframe tbody tr th:only-of-type {\n",
       "        vertical-align: middle;\n",
       "    }\n",
       "\n",
       "    .dataframe tbody tr th {\n",
       "        vertical-align: top;\n",
       "    }\n",
       "\n",
       "    .dataframe thead th {\n",
       "        text-align: right;\n",
       "    }\n",
       "</style>\n",
       "<table border=\"1\" class=\"dataframe\">\n",
       "  <thead>\n",
       "    <tr style=\"text-align: right;\">\n",
       "      <th></th>\n",
       "      <th>key</th>\n",
       "      <th>Bulk 1</th>\n",
       "      <th>Bulk 2</th>\n",
       "      <th>Bulk 3</th>\n",
       "      <th>Bulk 4</th>\n",
       "      <th>Bulk 5</th>\n",
       "      <th>Bulk 6</th>\n",
       "      <th>Bulk 7</th>\n",
       "      <th>Bulk 8</th>\n",
       "      <th>Bulk 9</th>\n",
       "      <th>Bulk 10</th>\n",
       "      <th>Bulk 11</th>\n",
       "      <th>Bulk 12</th>\n",
       "      <th>Bulk 13</th>\n",
       "      <th>Bulk 14</th>\n",
       "      <th>Bulk 15</th>\n",
       "    </tr>\n",
       "  </thead>\n",
       "  <tbody>\n",
       "    <tr>\n",
       "      <th>0</th>\n",
       "      <td>1</td>\n",
       "      <td>NaN</td>\n",
       "      <td>NaN</td>\n",
       "      <td>NaN</td>\n",
       "      <td>2019-05-03 11:21:30</td>\n",
       "      <td>NaN</td>\n",
       "      <td>NaN</td>\n",
       "      <td>NaN</td>\n",
       "      <td>NaN</td>\n",
       "      <td>NaN</td>\n",
       "      <td>NaN</td>\n",
       "      <td>NaN</td>\n",
       "      <td>2019-05-03 11:03:52</td>\n",
       "      <td>NaN</td>\n",
       "      <td>2019-05-03 11:03:52</td>\n",
       "      <td>2019-05-03 11:03:52</td>\n",
       "    </tr>\n",
       "    <tr>\n",
       "      <th>1</th>\n",
       "      <td>2</td>\n",
       "      <td>NaN</td>\n",
       "      <td>NaN</td>\n",
       "      <td>NaN</td>\n",
       "      <td>2019-05-03 11:46:38</td>\n",
       "      <td>NaN</td>\n",
       "      <td>NaN</td>\n",
       "      <td>NaN</td>\n",
       "      <td>NaN</td>\n",
       "      <td>NaN</td>\n",
       "      <td>NaN</td>\n",
       "      <td>NaN</td>\n",
       "      <td>2019-05-03 11:40:20</td>\n",
       "      <td>NaN</td>\n",
       "      <td>2019-05-03 11:40:20</td>\n",
       "      <td>2019-05-03 11:40:20</td>\n",
       "    </tr>\n",
       "    <tr>\n",
       "      <th>2</th>\n",
       "      <td>3</td>\n",
       "      <td>NaN</td>\n",
       "      <td>NaN</td>\n",
       "      <td>NaN</td>\n",
       "      <td>2019-05-03 12:31:06</td>\n",
       "      <td>NaN</td>\n",
       "      <td>NaN</td>\n",
       "      <td>NaN</td>\n",
       "      <td>NaN</td>\n",
       "      <td>NaN</td>\n",
       "      <td>NaN</td>\n",
       "      <td>NaN</td>\n",
       "      <td>2019-05-03 12:09:40</td>\n",
       "      <td>NaN</td>\n",
       "      <td>2019-05-03 12:09:40</td>\n",
       "      <td>2019-05-03 12:09:40</td>\n",
       "    </tr>\n",
       "    <tr>\n",
       "      <th>3</th>\n",
       "      <td>4</td>\n",
       "      <td>NaN</td>\n",
       "      <td>NaN</td>\n",
       "      <td>NaN</td>\n",
       "      <td>2019-05-03 12:48:43</td>\n",
       "      <td>NaN</td>\n",
       "      <td>NaN</td>\n",
       "      <td>NaN</td>\n",
       "      <td>NaN</td>\n",
       "      <td>NaN</td>\n",
       "      <td>NaN</td>\n",
       "      <td>NaN</td>\n",
       "      <td>2019-05-03 12:41:24</td>\n",
       "      <td>NaN</td>\n",
       "      <td>2019-05-03 12:41:24</td>\n",
       "      <td>2019-05-03 12:41:24</td>\n",
       "    </tr>\n",
       "    <tr>\n",
       "      <th>4</th>\n",
       "      <td>5</td>\n",
       "      <td>NaN</td>\n",
       "      <td>NaN</td>\n",
       "      <td>NaN</td>\n",
       "      <td>2019-05-03 13:18:50</td>\n",
       "      <td>NaN</td>\n",
       "      <td>NaN</td>\n",
       "      <td>NaN</td>\n",
       "      <td>NaN</td>\n",
       "      <td>NaN</td>\n",
       "      <td>NaN</td>\n",
       "      <td>NaN</td>\n",
       "      <td>2019-05-03 13:12:56</td>\n",
       "      <td>NaN</td>\n",
       "      <td>2019-05-03 13:12:56</td>\n",
       "      <td>2019-05-03 13:12:56</td>\n",
       "    </tr>\n",
       "    <tr>\n",
       "      <th>...</th>\n",
       "      <td>...</td>\n",
       "      <td>...</td>\n",
       "      <td>...</td>\n",
       "      <td>...</td>\n",
       "      <td>...</td>\n",
       "      <td>...</td>\n",
       "      <td>...</td>\n",
       "      <td>...</td>\n",
       "      <td>...</td>\n",
       "      <td>...</td>\n",
       "      <td>...</td>\n",
       "      <td>...</td>\n",
       "      <td>...</td>\n",
       "      <td>...</td>\n",
       "      <td>...</td>\n",
       "      <td>...</td>\n",
       "    </tr>\n",
       "    <tr>\n",
       "      <th>3124</th>\n",
       "      <td>3237</td>\n",
       "      <td>NaN</td>\n",
       "      <td>NaN</td>\n",
       "      <td>2019-08-31 22:51:28</td>\n",
       "      <td>NaN</td>\n",
       "      <td>NaN</td>\n",
       "      <td>NaN</td>\n",
       "      <td>NaN</td>\n",
       "      <td>NaN</td>\n",
       "      <td>NaN</td>\n",
       "      <td>NaN</td>\n",
       "      <td>NaN</td>\n",
       "      <td>2019-08-31 22:46:52</td>\n",
       "      <td>NaN</td>\n",
       "      <td>2019-08-31 22:46:52</td>\n",
       "      <td>2019-08-31 22:46:52</td>\n",
       "    </tr>\n",
       "    <tr>\n",
       "      <th>3125</th>\n",
       "      <td>3238</td>\n",
       "      <td>NaN</td>\n",
       "      <td>NaN</td>\n",
       "      <td>2019-08-31 23:39:11</td>\n",
       "      <td>NaN</td>\n",
       "      <td>NaN</td>\n",
       "      <td>NaN</td>\n",
       "      <td>NaN</td>\n",
       "      <td>NaN</td>\n",
       "      <td>NaN</td>\n",
       "      <td>NaN</td>\n",
       "      <td>NaN</td>\n",
       "      <td>2019-08-31 23:33:09</td>\n",
       "      <td>NaN</td>\n",
       "      <td>2019-08-31 23:33:09</td>\n",
       "      <td>2019-08-31 23:33:09</td>\n",
       "    </tr>\n",
       "    <tr>\n",
       "      <th>3126</th>\n",
       "      <td>3239</td>\n",
       "      <td>NaN</td>\n",
       "      <td>NaN</td>\n",
       "      <td>NaN</td>\n",
       "      <td>NaN</td>\n",
       "      <td>NaN</td>\n",
       "      <td>2019-09-01 01:51:58</td>\n",
       "      <td>NaN</td>\n",
       "      <td>NaN</td>\n",
       "      <td>NaN</td>\n",
       "      <td>NaN</td>\n",
       "      <td>NaN</td>\n",
       "      <td>2019-09-01 01:39:41</td>\n",
       "      <td>NaN</td>\n",
       "      <td>2019-09-01 01:33:25</td>\n",
       "      <td>2019-09-01 01:33:25</td>\n",
       "    </tr>\n",
       "    <tr>\n",
       "      <th>3127</th>\n",
       "      <td>3240</td>\n",
       "      <td>NaN</td>\n",
       "      <td>NaN</td>\n",
       "      <td>NaN</td>\n",
       "      <td>NaN</td>\n",
       "      <td>NaN</td>\n",
       "      <td>2019-09-01 03:12:40</td>\n",
       "      <td>NaN</td>\n",
       "      <td>NaN</td>\n",
       "      <td>NaN</td>\n",
       "      <td>NaN</td>\n",
       "      <td>NaN</td>\n",
       "      <td>NaN</td>\n",
       "      <td>NaN</td>\n",
       "      <td>2019-09-01 02:41:27</td>\n",
       "      <td>2019-09-01 02:41:27</td>\n",
       "    </tr>\n",
       "    <tr>\n",
       "      <th>3128</th>\n",
       "      <td>3241</td>\n",
       "      <td>NaN</td>\n",
       "      <td>NaN</td>\n",
       "      <td>NaN</td>\n",
       "      <td>NaN</td>\n",
       "      <td>NaN</td>\n",
       "      <td>NaN</td>\n",
       "      <td>NaN</td>\n",
       "      <td>NaN</td>\n",
       "      <td>NaN</td>\n",
       "      <td>NaN</td>\n",
       "      <td>NaN</td>\n",
       "      <td>NaN</td>\n",
       "      <td>NaN</td>\n",
       "      <td>2019-09-01 04:05:34</td>\n",
       "      <td>2019-09-01 04:05:34</td>\n",
       "    </tr>\n",
       "  </tbody>\n",
       "</table>\n",
       "<p>3129 rows × 16 columns</p>\n",
       "</div>"
      ],
      "text/plain": [
       "       key Bulk 1 Bulk 2               Bulk 3               Bulk 4 Bulk 5  \\\n",
       "0        1    NaN    NaN                  NaN  2019-05-03 11:21:30    NaN   \n",
       "1        2    NaN    NaN                  NaN  2019-05-03 11:46:38    NaN   \n",
       "2        3    NaN    NaN                  NaN  2019-05-03 12:31:06    NaN   \n",
       "3        4    NaN    NaN                  NaN  2019-05-03 12:48:43    NaN   \n",
       "4        5    NaN    NaN                  NaN  2019-05-03 13:18:50    NaN   \n",
       "...    ...    ...    ...                  ...                  ...    ...   \n",
       "3124  3237    NaN    NaN  2019-08-31 22:51:28                  NaN    NaN   \n",
       "3125  3238    NaN    NaN  2019-08-31 23:39:11                  NaN    NaN   \n",
       "3126  3239    NaN    NaN                  NaN                  NaN    NaN   \n",
       "3127  3240    NaN    NaN                  NaN                  NaN    NaN   \n",
       "3128  3241    NaN    NaN                  NaN                  NaN    NaN   \n",
       "\n",
       "                   Bulk 6 Bulk 7 Bulk 8 Bulk 9 Bulk 10 Bulk 11  \\\n",
       "0                     NaN    NaN    NaN    NaN     NaN     NaN   \n",
       "1                     NaN    NaN    NaN    NaN     NaN     NaN   \n",
       "2                     NaN    NaN    NaN    NaN     NaN     NaN   \n",
       "3                     NaN    NaN    NaN    NaN     NaN     NaN   \n",
       "4                     NaN    NaN    NaN    NaN     NaN     NaN   \n",
       "...                   ...    ...    ...    ...     ...     ...   \n",
       "3124                  NaN    NaN    NaN    NaN     NaN     NaN   \n",
       "3125                  NaN    NaN    NaN    NaN     NaN     NaN   \n",
       "3126  2019-09-01 01:51:58    NaN    NaN    NaN     NaN     NaN   \n",
       "3127  2019-09-01 03:12:40    NaN    NaN    NaN     NaN     NaN   \n",
       "3128                  NaN    NaN    NaN    NaN     NaN     NaN   \n",
       "\n",
       "                  Bulk 12 Bulk 13              Bulk 14              Bulk 15  \n",
       "0     2019-05-03 11:03:52     NaN  2019-05-03 11:03:52  2019-05-03 11:03:52  \n",
       "1     2019-05-03 11:40:20     NaN  2019-05-03 11:40:20  2019-05-03 11:40:20  \n",
       "2     2019-05-03 12:09:40     NaN  2019-05-03 12:09:40  2019-05-03 12:09:40  \n",
       "3     2019-05-03 12:41:24     NaN  2019-05-03 12:41:24  2019-05-03 12:41:24  \n",
       "4     2019-05-03 13:12:56     NaN  2019-05-03 13:12:56  2019-05-03 13:12:56  \n",
       "...                   ...     ...                  ...                  ...  \n",
       "3124  2019-08-31 22:46:52     NaN  2019-08-31 22:46:52  2019-08-31 22:46:52  \n",
       "3125  2019-08-31 23:33:09     NaN  2019-08-31 23:33:09  2019-08-31 23:33:09  \n",
       "3126  2019-09-01 01:39:41     NaN  2019-09-01 01:33:25  2019-09-01 01:33:25  \n",
       "3127                  NaN     NaN  2019-09-01 02:41:27  2019-09-01 02:41:27  \n",
       "3128                  NaN     NaN  2019-09-01 04:05:34  2019-09-01 04:05:34  \n",
       "\n",
       "[3129 rows x 16 columns]"
      ]
     },
     "execution_count": 26,
     "metadata": {},
     "output_type": "execute_result"
    }
   ],
   "source": [
    "data_bulk_time"
   ]
  },
  {
   "cell_type": "code",
   "execution_count": 27,
   "id": "2942165c",
   "metadata": {},
   "outputs": [
    {
     "name": "stdout",
     "output_type": "stream",
     "text": [
      "<class 'pandas.core.frame.DataFrame'>\n",
      "RangeIndex: 3129 entries, 0 to 3128\n",
      "Data columns (total 16 columns):\n",
      " #   Column   Non-Null Count  Dtype \n",
      "---  ------   --------------  ----- \n",
      " 0   key      3129 non-null   int64 \n",
      " 1   Bulk 1   252 non-null    object\n",
      " 2   Bulk 2   22 non-null     object\n",
      " 3   Bulk 3   1298 non-null   object\n",
      " 4   Bulk 4   1014 non-null   object\n",
      " 5   Bulk 5   77 non-null     object\n",
      " 6   Bulk 6   576 non-null    object\n",
      " 7   Bulk 7   25 non-null     object\n",
      " 8   Bulk 8   1 non-null      object\n",
      " 9   Bulk 9   19 non-null     object\n",
      " 10  Bulk 10  176 non-null    object\n",
      " 11  Bulk 11  177 non-null    object\n",
      " 12  Bulk 12  2450 non-null   object\n",
      " 13  Bulk 13  18 non-null     object\n",
      " 14  Bulk 14  2806 non-null   object\n",
      " 15  Bulk 15  2248 non-null   object\n",
      "dtypes: int64(1), object(15)\n",
      "memory usage: 391.2+ KB\n"
     ]
    }
   ],
   "source": [
    "data_bulk_time.info()"
   ]
  },
  {
   "cell_type": "markdown",
   "id": "e474c3a4",
   "metadata": {},
   "source": [
    "Уточнение заказчика: есть проблема с получением данных с датчиков (отсутствие/достоверность). Необходимо подумать над необходимостью использования данного типа данных."
   ]
  },
  {
   "cell_type": "markdown",
   "id": "5ae135b6",
   "metadata": {},
   "source": [
    "<font color='steelblue'><b>Комментарий тимлида</b></font><br>\n",
    "<font color='steelblue'>Проблема не с получением данных, а с синхронностью снятья времени с разных датчиков.</font>"
   ]
  },
  {
   "cell_type": "code",
   "execution_count": 28,
   "id": "535f634a",
   "metadata": {},
   "outputs": [
    {
     "data": {
      "text/html": [
       "<div>\n",
       "<style scoped>\n",
       "    .dataframe tbody tr th:only-of-type {\n",
       "        vertical-align: middle;\n",
       "    }\n",
       "\n",
       "    .dataframe tbody tr th {\n",
       "        vertical-align: top;\n",
       "    }\n",
       "\n",
       "    .dataframe thead th {\n",
       "        text-align: right;\n",
       "    }\n",
       "</style>\n",
       "<table border=\"1\" class=\"dataframe\">\n",
       "  <thead>\n",
       "    <tr style=\"text-align: right;\">\n",
       "      <th></th>\n",
       "      <th>key</th>\n",
       "      <th>Bulk 14</th>\n",
       "    </tr>\n",
       "  </thead>\n",
       "  <tbody>\n",
       "    <tr>\n",
       "      <th>0</th>\n",
       "      <td>1</td>\n",
       "      <td>150.0</td>\n",
       "    </tr>\n",
       "    <tr>\n",
       "      <th>1</th>\n",
       "      <td>2</td>\n",
       "      <td>149.0</td>\n",
       "    </tr>\n",
       "    <tr>\n",
       "      <th>2</th>\n",
       "      <td>3</td>\n",
       "      <td>152.0</td>\n",
       "    </tr>\n",
       "    <tr>\n",
       "      <th>3</th>\n",
       "      <td>4</td>\n",
       "      <td>153.0</td>\n",
       "    </tr>\n",
       "    <tr>\n",
       "      <th>4</th>\n",
       "      <td>5</td>\n",
       "      <td>151.0</td>\n",
       "    </tr>\n",
       "    <tr>\n",
       "      <th>...</th>\n",
       "      <td>...</td>\n",
       "      <td>...</td>\n",
       "    </tr>\n",
       "    <tr>\n",
       "      <th>3124</th>\n",
       "      <td>3237</td>\n",
       "      <td>130.0</td>\n",
       "    </tr>\n",
       "    <tr>\n",
       "      <th>3125</th>\n",
       "      <td>3238</td>\n",
       "      <td>108.0</td>\n",
       "    </tr>\n",
       "    <tr>\n",
       "      <th>3126</th>\n",
       "      <td>3239</td>\n",
       "      <td>270.0</td>\n",
       "    </tr>\n",
       "    <tr>\n",
       "      <th>3127</th>\n",
       "      <td>3240</td>\n",
       "      <td>192.0</td>\n",
       "    </tr>\n",
       "    <tr>\n",
       "      <th>3128</th>\n",
       "      <td>3241</td>\n",
       "      <td>180.0</td>\n",
       "    </tr>\n",
       "  </tbody>\n",
       "</table>\n",
       "<p>3129 rows × 2 columns</p>\n",
       "</div>"
      ],
      "text/plain": [
       "       key  Bulk 14\n",
       "0        1    150.0\n",
       "1        2    149.0\n",
       "2        3    152.0\n",
       "3        4    153.0\n",
       "4        5    151.0\n",
       "...    ...      ...\n",
       "3124  3237    130.0\n",
       "3125  3238    108.0\n",
       "3126  3239    270.0\n",
       "3127  3240    192.0\n",
       "3128  3241    180.0\n",
       "\n",
       "[3129 rows x 2 columns]"
      ]
     },
     "execution_count": 28,
     "metadata": {},
     "output_type": "execute_result"
    }
   ],
   "source": [
    "data_bulk=data_bulk[['key', 'Bulk 14']]\n",
    "data_bulk"
   ]
  },
  {
   "cell_type": "markdown",
   "id": "c5723afd",
   "metadata": {},
   "source": [
    "### 2.5 Данные о продувке сплава газом"
   ]
  },
  {
   "cell_type": "code",
   "execution_count": 29,
   "id": "cb6ef054",
   "metadata": {},
   "outputs": [],
   "source": [
    "try:\n",
    "    data_gas = pd.read_csv('data_gas.csv')\n",
    "except:\n",
    "    data_gas = pd.read_csv('/datasets/final_steel/data_gas.csv')"
   ]
  },
  {
   "cell_type": "code",
   "execution_count": 30,
   "id": "60a9bd5d",
   "metadata": {},
   "outputs": [
    {
     "data": {
      "text/html": [
       "<div>\n",
       "<style scoped>\n",
       "    .dataframe tbody tr th:only-of-type {\n",
       "        vertical-align: middle;\n",
       "    }\n",
       "\n",
       "    .dataframe tbody tr th {\n",
       "        vertical-align: top;\n",
       "    }\n",
       "\n",
       "    .dataframe thead th {\n",
       "        text-align: right;\n",
       "    }\n",
       "</style>\n",
       "<table border=\"1\" class=\"dataframe\">\n",
       "  <thead>\n",
       "    <tr style=\"text-align: right;\">\n",
       "      <th></th>\n",
       "      <th>key</th>\n",
       "      <th>Газ 1</th>\n",
       "    </tr>\n",
       "  </thead>\n",
       "  <tbody>\n",
       "    <tr>\n",
       "      <th>0</th>\n",
       "      <td>1</td>\n",
       "      <td>29.749986</td>\n",
       "    </tr>\n",
       "    <tr>\n",
       "      <th>1</th>\n",
       "      <td>2</td>\n",
       "      <td>12.555561</td>\n",
       "    </tr>\n",
       "    <tr>\n",
       "      <th>2</th>\n",
       "      <td>3</td>\n",
       "      <td>28.554793</td>\n",
       "    </tr>\n",
       "    <tr>\n",
       "      <th>3</th>\n",
       "      <td>4</td>\n",
       "      <td>18.841219</td>\n",
       "    </tr>\n",
       "    <tr>\n",
       "      <th>4</th>\n",
       "      <td>5</td>\n",
       "      <td>5.413692</td>\n",
       "    </tr>\n",
       "    <tr>\n",
       "      <th>...</th>\n",
       "      <td>...</td>\n",
       "      <td>...</td>\n",
       "    </tr>\n",
       "    <tr>\n",
       "      <th>3234</th>\n",
       "      <td>3237</td>\n",
       "      <td>5.543905</td>\n",
       "    </tr>\n",
       "    <tr>\n",
       "      <th>3235</th>\n",
       "      <td>3238</td>\n",
       "      <td>6.745669</td>\n",
       "    </tr>\n",
       "    <tr>\n",
       "      <th>3236</th>\n",
       "      <td>3239</td>\n",
       "      <td>16.023518</td>\n",
       "    </tr>\n",
       "    <tr>\n",
       "      <th>3237</th>\n",
       "      <td>3240</td>\n",
       "      <td>11.863103</td>\n",
       "    </tr>\n",
       "    <tr>\n",
       "      <th>3238</th>\n",
       "      <td>3241</td>\n",
       "      <td>12.680959</td>\n",
       "    </tr>\n",
       "  </tbody>\n",
       "</table>\n",
       "<p>3239 rows × 2 columns</p>\n",
       "</div>"
      ],
      "text/plain": [
       "       key      Газ 1\n",
       "0        1  29.749986\n",
       "1        2  12.555561\n",
       "2        3  28.554793\n",
       "3        4  18.841219\n",
       "4        5   5.413692\n",
       "...    ...        ...\n",
       "3234  3237   5.543905\n",
       "3235  3238   6.745669\n",
       "3236  3239  16.023518\n",
       "3237  3240  11.863103\n",
       "3238  3241  12.680959\n",
       "\n",
       "[3239 rows x 2 columns]"
      ]
     },
     "execution_count": 30,
     "metadata": {},
     "output_type": "execute_result"
    }
   ],
   "source": [
    "data_gas"
   ]
  },
  {
   "cell_type": "code",
   "execution_count": 31,
   "id": "feef9548",
   "metadata": {},
   "outputs": [
    {
     "data": {
      "text/plain": [
       "<AxesSubplot:>"
      ]
     },
     "execution_count": 31,
     "metadata": {},
     "output_type": "execute_result"
    },
    {
     "data": {
      "image/png": "[encoded data removed]",
      "text/plain": [
       "<Figure size 1080x720 with 1 Axes>"
      ]
     },
     "metadata": {
      "needs_background": "light"
     },
     "output_type": "display_data"
    }
   ],
   "source": [
    "data_gas['Газ 1'].hist(bins=50,figsize=(15,10))"
   ]
  },
  {
   "cell_type": "code",
   "execution_count": 32,
   "id": "593580b3",
   "metadata": {},
   "outputs": [
    {
     "data": {
      "image/png": "[encoded data removed]",
      "text/plain": [
       "<Figure size 432x288 with 1 Axes>"
      ]
     },
     "metadata": {
      "needs_background": "light"
     },
     "output_type": "display_data"
    }
   ],
   "source": [
    "sns.boxplot(x=data_gas['Газ 1'])\n",
    "plt.show()"
   ]
  },
  {
   "cell_type": "code",
   "execution_count": 33,
   "id": "e6400134",
   "metadata": {},
   "outputs": [
    {
     "data": {
      "text/plain": [
       "count    3239.000000\n",
       "mean       11.002062\n",
       "std         6.220327\n",
       "min         0.008399\n",
       "25%         7.043089\n",
       "50%         9.836267\n",
       "75%        13.769915\n",
       "max        77.995040\n",
       "Name: Газ 1, dtype: float64"
      ]
     },
     "execution_count": 33,
     "metadata": {},
     "output_type": "execute_result"
    }
   ],
   "source": [
    "data_gas['Газ 1'].describe()"
   ]
  },
  {
   "cell_type": "code",
   "execution_count": 34,
   "id": "2a682f59",
   "metadata": {},
   "outputs": [
    {
     "name": "stdout",
     "output_type": "stream",
     "text": [
      "<class 'pandas.core.frame.DataFrame'>\n",
      "RangeIndex: 3239 entries, 0 to 3238\n",
      "Data columns (total 2 columns):\n",
      " #   Column  Non-Null Count  Dtype  \n",
      "---  ------  --------------  -----  \n",
      " 0   key     3239 non-null   int64  \n",
      " 1   Газ 1   3239 non-null   float64\n",
      "dtypes: float64(1), int64(1)\n",
      "memory usage: 50.7 KB\n"
     ]
    }
   ],
   "source": [
    "data_gas.info()"
   ]
  },
  {
   "cell_type": "markdown",
   "id": "2e0e87a1",
   "metadata": {},
   "source": [
    "<font color='purple'>Пропуски отсутствуют, выбросы присутствуют в стороне наиболиших значений.</font>"
   ]
  },
  {
   "cell_type": "markdown",
   "id": "59196b90",
   "metadata": {},
   "source": [
    "<font color='steelblue'><b>Комментарий тимлида</b></font><br>\n",
    "<font color='crimson'> ❌ Вывод и графики отсутствуют.</font>"
   ]
  },
  {
   "cell_type": "markdown",
   "id": "e6ce0532",
   "metadata": {},
   "source": [
    "<font color='steelblue'><b>Комментарий тимлида v2</b></font><br>\n",
    "<font color='green'> ✔️ Согласна.</font>"
   ]
  },
  {
   "cell_type": "markdown",
   "id": "beaeb40f",
   "metadata": {},
   "source": [
    "### Данные о проволочных материалах (объём)"
   ]
  },
  {
   "cell_type": "code",
   "execution_count": 35,
   "id": "3ee78758",
   "metadata": {},
   "outputs": [],
   "source": [
    "try:\n",
    "    data_wire = pd.read_csv('data_wire.csv')\n",
    "except:\n",
    "    data_wire = pd.read_csv('/datasets/final_steel/data_wire.csv')"
   ]
  },
  {
   "cell_type": "code",
   "execution_count": 36,
   "id": "15b9960d",
   "metadata": {},
   "outputs": [
    {
     "data": {
      "text/html": [
       "<div>\n",
       "<style scoped>\n",
       "    .dataframe tbody tr th:only-of-type {\n",
       "        vertical-align: middle;\n",
       "    }\n",
       "\n",
       "    .dataframe tbody tr th {\n",
       "        vertical-align: top;\n",
       "    }\n",
       "\n",
       "    .dataframe thead th {\n",
       "        text-align: right;\n",
       "    }\n",
       "</style>\n",
       "<table border=\"1\" class=\"dataframe\">\n",
       "  <thead>\n",
       "    <tr style=\"text-align: right;\">\n",
       "      <th></th>\n",
       "      <th>key</th>\n",
       "      <th>Wire 1</th>\n",
       "      <th>Wire 2</th>\n",
       "      <th>Wire 3</th>\n",
       "      <th>Wire 4</th>\n",
       "      <th>Wire 5</th>\n",
       "      <th>Wire 6</th>\n",
       "      <th>Wire 7</th>\n",
       "      <th>Wire 8</th>\n",
       "      <th>Wire 9</th>\n",
       "    </tr>\n",
       "  </thead>\n",
       "  <tbody>\n",
       "    <tr>\n",
       "      <th>0</th>\n",
       "      <td>1</td>\n",
       "      <td>60.059998</td>\n",
       "      <td>NaN</td>\n",
       "      <td>NaN</td>\n",
       "      <td>NaN</td>\n",
       "      <td>NaN</td>\n",
       "      <td>NaN</td>\n",
       "      <td>NaN</td>\n",
       "      <td>NaN</td>\n",
       "      <td>NaN</td>\n",
       "    </tr>\n",
       "    <tr>\n",
       "      <th>1</th>\n",
       "      <td>2</td>\n",
       "      <td>96.052315</td>\n",
       "      <td>NaN</td>\n",
       "      <td>NaN</td>\n",
       "      <td>NaN</td>\n",
       "      <td>NaN</td>\n",
       "      <td>NaN</td>\n",
       "      <td>NaN</td>\n",
       "      <td>NaN</td>\n",
       "      <td>NaN</td>\n",
       "    </tr>\n",
       "    <tr>\n",
       "      <th>2</th>\n",
       "      <td>3</td>\n",
       "      <td>91.160157</td>\n",
       "      <td>NaN</td>\n",
       "      <td>NaN</td>\n",
       "      <td>NaN</td>\n",
       "      <td>NaN</td>\n",
       "      <td>NaN</td>\n",
       "      <td>NaN</td>\n",
       "      <td>NaN</td>\n",
       "      <td>NaN</td>\n",
       "    </tr>\n",
       "    <tr>\n",
       "      <th>3</th>\n",
       "      <td>4</td>\n",
       "      <td>89.063515</td>\n",
       "      <td>NaN</td>\n",
       "      <td>NaN</td>\n",
       "      <td>NaN</td>\n",
       "      <td>NaN</td>\n",
       "      <td>NaN</td>\n",
       "      <td>NaN</td>\n",
       "      <td>NaN</td>\n",
       "      <td>NaN</td>\n",
       "    </tr>\n",
       "    <tr>\n",
       "      <th>4</th>\n",
       "      <td>5</td>\n",
       "      <td>89.238236</td>\n",
       "      <td>9.11456</td>\n",
       "      <td>NaN</td>\n",
       "      <td>NaN</td>\n",
       "      <td>NaN</td>\n",
       "      <td>NaN</td>\n",
       "      <td>NaN</td>\n",
       "      <td>NaN</td>\n",
       "      <td>NaN</td>\n",
       "    </tr>\n",
       "    <tr>\n",
       "      <th>...</th>\n",
       "      <td>...</td>\n",
       "      <td>...</td>\n",
       "      <td>...</td>\n",
       "      <td>...</td>\n",
       "      <td>...</td>\n",
       "      <td>...</td>\n",
       "      <td>...</td>\n",
       "      <td>...</td>\n",
       "      <td>...</td>\n",
       "      <td>...</td>\n",
       "    </tr>\n",
       "    <tr>\n",
       "      <th>3076</th>\n",
       "      <td>3237</td>\n",
       "      <td>38.088959</td>\n",
       "      <td>NaN</td>\n",
       "      <td>NaN</td>\n",
       "      <td>NaN</td>\n",
       "      <td>NaN</td>\n",
       "      <td>NaN</td>\n",
       "      <td>NaN</td>\n",
       "      <td>NaN</td>\n",
       "      <td>NaN</td>\n",
       "    </tr>\n",
       "    <tr>\n",
       "      <th>3077</th>\n",
       "      <td>3238</td>\n",
       "      <td>56.128799</td>\n",
       "      <td>NaN</td>\n",
       "      <td>NaN</td>\n",
       "      <td>NaN</td>\n",
       "      <td>NaN</td>\n",
       "      <td>NaN</td>\n",
       "      <td>NaN</td>\n",
       "      <td>NaN</td>\n",
       "      <td>NaN</td>\n",
       "    </tr>\n",
       "    <tr>\n",
       "      <th>3078</th>\n",
       "      <td>3239</td>\n",
       "      <td>143.357761</td>\n",
       "      <td>NaN</td>\n",
       "      <td>NaN</td>\n",
       "      <td>NaN</td>\n",
       "      <td>NaN</td>\n",
       "      <td>NaN</td>\n",
       "      <td>NaN</td>\n",
       "      <td>NaN</td>\n",
       "      <td>NaN</td>\n",
       "    </tr>\n",
       "    <tr>\n",
       "      <th>3079</th>\n",
       "      <td>3240</td>\n",
       "      <td>34.070400</td>\n",
       "      <td>NaN</td>\n",
       "      <td>NaN</td>\n",
       "      <td>NaN</td>\n",
       "      <td>NaN</td>\n",
       "      <td>NaN</td>\n",
       "      <td>NaN</td>\n",
       "      <td>NaN</td>\n",
       "      <td>NaN</td>\n",
       "    </tr>\n",
       "    <tr>\n",
       "      <th>3080</th>\n",
       "      <td>3241</td>\n",
       "      <td>63.117595</td>\n",
       "      <td>NaN</td>\n",
       "      <td>NaN</td>\n",
       "      <td>NaN</td>\n",
       "      <td>NaN</td>\n",
       "      <td>NaN</td>\n",
       "      <td>NaN</td>\n",
       "      <td>NaN</td>\n",
       "      <td>NaN</td>\n",
       "    </tr>\n",
       "  </tbody>\n",
       "</table>\n",
       "<p>3081 rows × 10 columns</p>\n",
       "</div>"
      ],
      "text/plain": [
       "       key      Wire 1   Wire 2  Wire 3  Wire 4  Wire 5  Wire 6  Wire 7  \\\n",
       "0        1   60.059998      NaN     NaN     NaN     NaN     NaN     NaN   \n",
       "1        2   96.052315      NaN     NaN     NaN     NaN     NaN     NaN   \n",
       "2        3   91.160157      NaN     NaN     NaN     NaN     NaN     NaN   \n",
       "3        4   89.063515      NaN     NaN     NaN     NaN     NaN     NaN   \n",
       "4        5   89.238236  9.11456     NaN     NaN     NaN     NaN     NaN   \n",
       "...    ...         ...      ...     ...     ...     ...     ...     ...   \n",
       "3076  3237   38.088959      NaN     NaN     NaN     NaN     NaN     NaN   \n",
       "3077  3238   56.128799      NaN     NaN     NaN     NaN     NaN     NaN   \n",
       "3078  3239  143.357761      NaN     NaN     NaN     NaN     NaN     NaN   \n",
       "3079  3240   34.070400      NaN     NaN     NaN     NaN     NaN     NaN   \n",
       "3080  3241   63.117595      NaN     NaN     NaN     NaN     NaN     NaN   \n",
       "\n",
       "      Wire 8  Wire 9  \n",
       "0        NaN     NaN  \n",
       "1        NaN     NaN  \n",
       "2        NaN     NaN  \n",
       "3        NaN     NaN  \n",
       "4        NaN     NaN  \n",
       "...      ...     ...  \n",
       "3076     NaN     NaN  \n",
       "3077     NaN     NaN  \n",
       "3078     NaN     NaN  \n",
       "3079     NaN     NaN  \n",
       "3080     NaN     NaN  \n",
       "\n",
       "[3081 rows x 10 columns]"
      ]
     },
     "execution_count": 36,
     "metadata": {},
     "output_type": "execute_result"
    }
   ],
   "source": [
    "data_wire"
   ]
  },
  {
   "cell_type": "code",
   "execution_count": 37,
   "id": "e05a8513",
   "metadata": {},
   "outputs": [
    {
     "name": "stdout",
     "output_type": "stream",
     "text": [
      "<class 'pandas.core.frame.DataFrame'>\n",
      "RangeIndex: 3081 entries, 0 to 3080\n",
      "Data columns (total 10 columns):\n",
      " #   Column  Non-Null Count  Dtype  \n",
      "---  ------  --------------  -----  \n",
      " 0   key     3081 non-null   int64  \n",
      " 1   Wire 1  3055 non-null   float64\n",
      " 2   Wire 2  1079 non-null   float64\n",
      " 3   Wire 3  63 non-null     float64\n",
      " 4   Wire 4  14 non-null     float64\n",
      " 5   Wire 5  1 non-null      float64\n",
      " 6   Wire 6  73 non-null     float64\n",
      " 7   Wire 7  11 non-null     float64\n",
      " 8   Wire 8  19 non-null     float64\n",
      " 9   Wire 9  29 non-null     float64\n",
      "dtypes: float64(9), int64(1)\n",
      "memory usage: 240.8 KB\n"
     ]
    }
   ],
   "source": [
    "data_wire.info()"
   ]
  },
  {
   "cell_type": "code",
   "execution_count": 38,
   "id": "95032b1b",
   "metadata": {},
   "outputs": [
    {
     "data": {
      "text/html": [
       "<div>\n",
       "<style scoped>\n",
       "    .dataframe tbody tr th:only-of-type {\n",
       "        vertical-align: middle;\n",
       "    }\n",
       "\n",
       "    .dataframe tbody tr th {\n",
       "        vertical-align: top;\n",
       "    }\n",
       "\n",
       "    .dataframe thead th {\n",
       "        text-align: right;\n",
       "    }\n",
       "</style>\n",
       "<table border=\"1\" class=\"dataframe\">\n",
       "  <thead>\n",
       "    <tr style=\"text-align: right;\">\n",
       "      <th></th>\n",
       "      <th>key</th>\n",
       "      <th>Wire 1</th>\n",
       "      <th>Wire 2</th>\n",
       "      <th>Wire 3</th>\n",
       "      <th>Wire 4</th>\n",
       "      <th>Wire 5</th>\n",
       "      <th>Wire 6</th>\n",
       "      <th>Wire 7</th>\n",
       "      <th>Wire 8</th>\n",
       "      <th>Wire 9</th>\n",
       "    </tr>\n",
       "  </thead>\n",
       "  <tbody>\n",
       "    <tr>\n",
       "      <th>count</th>\n",
       "      <td>3081.000000</td>\n",
       "      <td>3055.000000</td>\n",
       "      <td>1079.000000</td>\n",
       "      <td>63.000000</td>\n",
       "      <td>14.000000</td>\n",
       "      <td>1.000</td>\n",
       "      <td>73.000000</td>\n",
       "      <td>11.000000</td>\n",
       "      <td>19.000000</td>\n",
       "      <td>29.000000</td>\n",
       "    </tr>\n",
       "    <tr>\n",
       "      <th>mean</th>\n",
       "      <td>1623.426485</td>\n",
       "      <td>100.895853</td>\n",
       "      <td>50.577323</td>\n",
       "      <td>189.482681</td>\n",
       "      <td>57.442842</td>\n",
       "      <td>15.132</td>\n",
       "      <td>48.016974</td>\n",
       "      <td>10.039007</td>\n",
       "      <td>53.625193</td>\n",
       "      <td>34.155752</td>\n",
       "    </tr>\n",
       "    <tr>\n",
       "      <th>std</th>\n",
       "      <td>932.996726</td>\n",
       "      <td>42.012518</td>\n",
       "      <td>39.320216</td>\n",
       "      <td>99.513444</td>\n",
       "      <td>28.824667</td>\n",
       "      <td>NaN</td>\n",
       "      <td>33.919845</td>\n",
       "      <td>8.610584</td>\n",
       "      <td>16.881728</td>\n",
       "      <td>19.931616</td>\n",
       "    </tr>\n",
       "    <tr>\n",
       "      <th>min</th>\n",
       "      <td>1.000000</td>\n",
       "      <td>1.918800</td>\n",
       "      <td>0.030160</td>\n",
       "      <td>0.144144</td>\n",
       "      <td>24.148801</td>\n",
       "      <td>15.132</td>\n",
       "      <td>0.034320</td>\n",
       "      <td>0.234208</td>\n",
       "      <td>45.076721</td>\n",
       "      <td>4.622800</td>\n",
       "    </tr>\n",
       "    <tr>\n",
       "      <th>25%</th>\n",
       "      <td>823.000000</td>\n",
       "      <td>72.115684</td>\n",
       "      <td>20.193680</td>\n",
       "      <td>95.135044</td>\n",
       "      <td>40.807002</td>\n",
       "      <td>15.132</td>\n",
       "      <td>25.053600</td>\n",
       "      <td>6.762756</td>\n",
       "      <td>46.094879</td>\n",
       "      <td>22.058401</td>\n",
       "    </tr>\n",
       "    <tr>\n",
       "      <th>50%</th>\n",
       "      <td>1619.000000</td>\n",
       "      <td>100.158234</td>\n",
       "      <td>40.142956</td>\n",
       "      <td>235.194977</td>\n",
       "      <td>45.234282</td>\n",
       "      <td>15.132</td>\n",
       "      <td>42.076324</td>\n",
       "      <td>9.017009</td>\n",
       "      <td>46.279999</td>\n",
       "      <td>30.066399</td>\n",
       "    </tr>\n",
       "    <tr>\n",
       "      <th>75%</th>\n",
       "      <td>2434.000000</td>\n",
       "      <td>126.060483</td>\n",
       "      <td>70.227558</td>\n",
       "      <td>276.252014</td>\n",
       "      <td>76.124619</td>\n",
       "      <td>15.132</td>\n",
       "      <td>64.212723</td>\n",
       "      <td>11.886057</td>\n",
       "      <td>48.089603</td>\n",
       "      <td>43.862003</td>\n",
       "    </tr>\n",
       "    <tr>\n",
       "      <th>max</th>\n",
       "      <td>3241.000000</td>\n",
       "      <td>330.314424</td>\n",
       "      <td>282.780152</td>\n",
       "      <td>385.008668</td>\n",
       "      <td>113.231044</td>\n",
       "      <td>15.132</td>\n",
       "      <td>180.454575</td>\n",
       "      <td>32.847674</td>\n",
       "      <td>102.762401</td>\n",
       "      <td>90.053604</td>\n",
       "    </tr>\n",
       "  </tbody>\n",
       "</table>\n",
       "</div>"
      ],
      "text/plain": [
       "               key       Wire 1       Wire 2      Wire 3      Wire 4  Wire 5  \\\n",
       "count  3081.000000  3055.000000  1079.000000   63.000000   14.000000   1.000   \n",
       "mean   1623.426485   100.895853    50.577323  189.482681   57.442842  15.132   \n",
       "std     932.996726    42.012518    39.320216   99.513444   28.824667     NaN   \n",
       "min       1.000000     1.918800     0.030160    0.144144   24.148801  15.132   \n",
       "25%     823.000000    72.115684    20.193680   95.135044   40.807002  15.132   \n",
       "50%    1619.000000   100.158234    40.142956  235.194977   45.234282  15.132   \n",
       "75%    2434.000000   126.060483    70.227558  276.252014   76.124619  15.132   \n",
       "max    3241.000000   330.314424   282.780152  385.008668  113.231044  15.132   \n",
       "\n",
       "           Wire 6     Wire 7      Wire 8     Wire 9  \n",
       "count   73.000000  11.000000   19.000000  29.000000  \n",
       "mean    48.016974  10.039007   53.625193  34.155752  \n",
       "std     33.919845   8.610584   16.881728  19.931616  \n",
       "min      0.034320   0.234208   45.076721   4.622800  \n",
       "25%     25.053600   6.762756   46.094879  22.058401  \n",
       "50%     42.076324   9.017009   46.279999  30.066399  \n",
       "75%     64.212723  11.886057   48.089603  43.862003  \n",
       "max    180.454575  32.847674  102.762401  90.053604  "
      ]
     },
     "execution_count": 38,
     "metadata": {},
     "output_type": "execute_result"
    }
   ],
   "source": [
    "data_wire.describe()"
   ]
  },
  {
   "cell_type": "code",
   "execution_count": 39,
   "id": "8a1ac93b",
   "metadata": {},
   "outputs": [
    {
     "data": {
      "text/plain": [
       "array([[<AxesSubplot:title={'center':'key'}>,\n",
       "        <AxesSubplot:title={'center':'Wire 1'}>,\n",
       "        <AxesSubplot:title={'center':'Wire 2'}>],\n",
       "       [<AxesSubplot:title={'center':'Wire 3'}>,\n",
       "        <AxesSubplot:title={'center':'Wire 4'}>,\n",
       "        <AxesSubplot:title={'center':'Wire 5'}>],\n",
       "       [<AxesSubplot:title={'center':'Wire 6'}>,\n",
       "        <AxesSubplot:title={'center':'Wire 7'}>,\n",
       "        <AxesSubplot:title={'center':'Wire 8'}>],\n",
       "       [<AxesSubplot:title={'center':'Wire 9'}>, <AxesSubplot:>,\n",
       "        <AxesSubplot:>]], dtype=object)"
      ]
     },
     "execution_count": 39,
     "metadata": {},
     "output_type": "execute_result"
    },
    {
     "data": {
      "image/png": "[encoded data removed]",
      "text/plain": [
       "<Figure size 1440x1080 with 12 Axes>"
      ]
     },
     "metadata": {
      "needs_background": "light"
     },
     "output_type": "display_data"
    }
   ],
   "source": [
    "data_wire.hist(bins=50,figsize=(20,15))"
   ]
  },
  {
   "cell_type": "code",
   "execution_count": 40,
   "id": "b3941b4a",
   "metadata": {},
   "outputs": [
    {
     "data": {
      "image/png": "[encoded data removed]",
      "text/plain": [
       "<Figure size 432x288 with 1 Axes>"
      ]
     },
     "metadata": {
      "needs_background": "light"
     },
     "output_type": "display_data"
    }
   ],
   "source": [
    "sns.boxplot(x=data_wire['Wire 1'])\n",
    "plt.show()"
   ]
  },
  {
   "cell_type": "markdown",
   "id": "3fefc291",
   "metadata": {},
   "source": [
    "Типы материалов, в данных которых много пропусков, не будут использоваться для обучения модели."
   ]
  },
  {
   "cell_type": "markdown",
   "id": "b717dbcf",
   "metadata": {},
   "source": [
    "<font color='purple'>В дальнейшем буду использвоваться данные о самом многочисленном материале Wire 1.</font>"
   ]
  },
  {
   "cell_type": "markdown",
   "id": "a4e05408",
   "metadata": {},
   "source": [
    "<font color='steelblue'><b>Комментарий тимлида</b></font><br>\n",
    "<font color='green'> ✔️ С выводом согласна.</font>"
   ]
  },
  {
   "cell_type": "code",
   "execution_count": 41,
   "id": "ea166027",
   "metadata": {},
   "outputs": [
    {
     "data": {
      "text/html": [
       "<div>\n",
       "<style scoped>\n",
       "    .dataframe tbody tr th:only-of-type {\n",
       "        vertical-align: middle;\n",
       "    }\n",
       "\n",
       "    .dataframe tbody tr th {\n",
       "        vertical-align: top;\n",
       "    }\n",
       "\n",
       "    .dataframe thead th {\n",
       "        text-align: right;\n",
       "    }\n",
       "</style>\n",
       "<table border=\"1\" class=\"dataframe\">\n",
       "  <thead>\n",
       "    <tr style=\"text-align: right;\">\n",
       "      <th></th>\n",
       "      <th>key</th>\n",
       "      <th>Wire 1</th>\n",
       "    </tr>\n",
       "  </thead>\n",
       "  <tbody>\n",
       "    <tr>\n",
       "      <th>0</th>\n",
       "      <td>1</td>\n",
       "      <td>60.059998</td>\n",
       "    </tr>\n",
       "    <tr>\n",
       "      <th>1</th>\n",
       "      <td>2</td>\n",
       "      <td>96.052315</td>\n",
       "    </tr>\n",
       "    <tr>\n",
       "      <th>2</th>\n",
       "      <td>3</td>\n",
       "      <td>91.160157</td>\n",
       "    </tr>\n",
       "    <tr>\n",
       "      <th>3</th>\n",
       "      <td>4</td>\n",
       "      <td>89.063515</td>\n",
       "    </tr>\n",
       "    <tr>\n",
       "      <th>4</th>\n",
       "      <td>5</td>\n",
       "      <td>89.238236</td>\n",
       "    </tr>\n",
       "    <tr>\n",
       "      <th>...</th>\n",
       "      <td>...</td>\n",
       "      <td>...</td>\n",
       "    </tr>\n",
       "    <tr>\n",
       "      <th>3076</th>\n",
       "      <td>3237</td>\n",
       "      <td>38.088959</td>\n",
       "    </tr>\n",
       "    <tr>\n",
       "      <th>3077</th>\n",
       "      <td>3238</td>\n",
       "      <td>56.128799</td>\n",
       "    </tr>\n",
       "    <tr>\n",
       "      <th>3078</th>\n",
       "      <td>3239</td>\n",
       "      <td>143.357761</td>\n",
       "    </tr>\n",
       "    <tr>\n",
       "      <th>3079</th>\n",
       "      <td>3240</td>\n",
       "      <td>34.070400</td>\n",
       "    </tr>\n",
       "    <tr>\n",
       "      <th>3080</th>\n",
       "      <td>3241</td>\n",
       "      <td>63.117595</td>\n",
       "    </tr>\n",
       "  </tbody>\n",
       "</table>\n",
       "<p>3081 rows × 2 columns</p>\n",
       "</div>"
      ],
      "text/plain": [
       "       key      Wire 1\n",
       "0        1   60.059998\n",
       "1        2   96.052315\n",
       "2        3   91.160157\n",
       "3        4   89.063515\n",
       "4        5   89.238236\n",
       "...    ...         ...\n",
       "3076  3237   38.088959\n",
       "3077  3238   56.128799\n",
       "3078  3239  143.357761\n",
       "3079  3240   34.070400\n",
       "3080  3241   63.117595\n",
       "\n",
       "[3081 rows x 2 columns]"
      ]
     },
     "execution_count": 41,
     "metadata": {},
     "output_type": "execute_result"
    }
   ],
   "source": [
    "data_wire=data_wire[['key','Wire 1']]\n",
    "data_wire"
   ]
  },
  {
   "cell_type": "code",
   "execution_count": 42,
   "id": "ad982225",
   "metadata": {},
   "outputs": [
    {
     "name": "stdout",
     "output_type": "stream",
     "text": [
      "<class 'pandas.core.frame.DataFrame'>\n",
      "RangeIndex: 3081 entries, 0 to 3080\n",
      "Data columns (total 2 columns):\n",
      " #   Column  Non-Null Count  Dtype  \n",
      "---  ------  --------------  -----  \n",
      " 0   key     3081 non-null   int64  \n",
      " 1   Wire 1  3055 non-null   float64\n",
      "dtypes: float64(1), int64(1)\n",
      "memory usage: 48.3 KB\n"
     ]
    }
   ],
   "source": [
    "data_wire.info()"
   ]
  },
  {
   "cell_type": "markdown",
   "id": "86de9b57",
   "metadata": {},
   "source": [
    "### Данные о проволочных материалах (время)"
   ]
  },
  {
   "cell_type": "code",
   "execution_count": 43,
   "id": "ad20d76f",
   "metadata": {},
   "outputs": [],
   "source": [
    "try:\n",
    "    data_wire_time = pd.read_csv('data_wire_time.csv')\n",
    "except:\n",
    "    data_wire_time = pd.read_csv('/datasets/final_steel/data_wire_time.csv')"
   ]
  },
  {
   "cell_type": "code",
   "execution_count": 44,
   "id": "f3f3bb25",
   "metadata": {},
   "outputs": [
    {
     "data": {
      "text/html": [
       "<div>\n",
       "<style scoped>\n",
       "    .dataframe tbody tr th:only-of-type {\n",
       "        vertical-align: middle;\n",
       "    }\n",
       "\n",
       "    .dataframe tbody tr th {\n",
       "        vertical-align: top;\n",
       "    }\n",
       "\n",
       "    .dataframe thead th {\n",
       "        text-align: right;\n",
       "    }\n",
       "</style>\n",
       "<table border=\"1\" class=\"dataframe\">\n",
       "  <thead>\n",
       "    <tr style=\"text-align: right;\">\n",
       "      <th></th>\n",
       "      <th>key</th>\n",
       "      <th>Wire 1</th>\n",
       "      <th>Wire 2</th>\n",
       "      <th>Wire 3</th>\n",
       "      <th>Wire 4</th>\n",
       "      <th>Wire 5</th>\n",
       "      <th>Wire 6</th>\n",
       "      <th>Wire 7</th>\n",
       "      <th>Wire 8</th>\n",
       "      <th>Wire 9</th>\n",
       "    </tr>\n",
       "  </thead>\n",
       "  <tbody>\n",
       "    <tr>\n",
       "      <th>0</th>\n",
       "      <td>1</td>\n",
       "      <td>2019-05-03 11:11:41</td>\n",
       "      <td>NaN</td>\n",
       "      <td>NaN</td>\n",
       "      <td>NaN</td>\n",
       "      <td>NaN</td>\n",
       "      <td>NaN</td>\n",
       "      <td>NaN</td>\n",
       "      <td>NaN</td>\n",
       "      <td>NaN</td>\n",
       "    </tr>\n",
       "    <tr>\n",
       "      <th>1</th>\n",
       "      <td>2</td>\n",
       "      <td>2019-05-03 11:46:10</td>\n",
       "      <td>NaN</td>\n",
       "      <td>NaN</td>\n",
       "      <td>NaN</td>\n",
       "      <td>NaN</td>\n",
       "      <td>NaN</td>\n",
       "      <td>NaN</td>\n",
       "      <td>NaN</td>\n",
       "      <td>NaN</td>\n",
       "    </tr>\n",
       "    <tr>\n",
       "      <th>2</th>\n",
       "      <td>3</td>\n",
       "      <td>2019-05-03 12:13:47</td>\n",
       "      <td>NaN</td>\n",
       "      <td>NaN</td>\n",
       "      <td>NaN</td>\n",
       "      <td>NaN</td>\n",
       "      <td>NaN</td>\n",
       "      <td>NaN</td>\n",
       "      <td>NaN</td>\n",
       "      <td>NaN</td>\n",
       "    </tr>\n",
       "    <tr>\n",
       "      <th>3</th>\n",
       "      <td>4</td>\n",
       "      <td>2019-05-03 12:48:05</td>\n",
       "      <td>NaN</td>\n",
       "      <td>NaN</td>\n",
       "      <td>NaN</td>\n",
       "      <td>NaN</td>\n",
       "      <td>NaN</td>\n",
       "      <td>NaN</td>\n",
       "      <td>NaN</td>\n",
       "      <td>NaN</td>\n",
       "    </tr>\n",
       "    <tr>\n",
       "      <th>4</th>\n",
       "      <td>5</td>\n",
       "      <td>2019-05-03 13:18:15</td>\n",
       "      <td>2019-05-03 13:32:06</td>\n",
       "      <td>NaN</td>\n",
       "      <td>NaN</td>\n",
       "      <td>NaN</td>\n",
       "      <td>NaN</td>\n",
       "      <td>NaN</td>\n",
       "      <td>NaN</td>\n",
       "      <td>NaN</td>\n",
       "    </tr>\n",
       "    <tr>\n",
       "      <th>...</th>\n",
       "      <td>...</td>\n",
       "      <td>...</td>\n",
       "      <td>...</td>\n",
       "      <td>...</td>\n",
       "      <td>...</td>\n",
       "      <td>...</td>\n",
       "      <td>...</td>\n",
       "      <td>...</td>\n",
       "      <td>...</td>\n",
       "      <td>...</td>\n",
       "    </tr>\n",
       "    <tr>\n",
       "      <th>3076</th>\n",
       "      <td>3237</td>\n",
       "      <td>2019-08-31 22:50:20</td>\n",
       "      <td>NaN</td>\n",
       "      <td>NaN</td>\n",
       "      <td>NaN</td>\n",
       "      <td>NaN</td>\n",
       "      <td>NaN</td>\n",
       "      <td>NaN</td>\n",
       "      <td>NaN</td>\n",
       "      <td>NaN</td>\n",
       "    </tr>\n",
       "    <tr>\n",
       "      <th>3077</th>\n",
       "      <td>3238</td>\n",
       "      <td>2019-08-31 23:38:24</td>\n",
       "      <td>NaN</td>\n",
       "      <td>NaN</td>\n",
       "      <td>NaN</td>\n",
       "      <td>NaN</td>\n",
       "      <td>NaN</td>\n",
       "      <td>NaN</td>\n",
       "      <td>NaN</td>\n",
       "      <td>NaN</td>\n",
       "    </tr>\n",
       "    <tr>\n",
       "      <th>3078</th>\n",
       "      <td>3239</td>\n",
       "      <td>2019-09-01 01:50:43</td>\n",
       "      <td>NaN</td>\n",
       "      <td>NaN</td>\n",
       "      <td>NaN</td>\n",
       "      <td>NaN</td>\n",
       "      <td>NaN</td>\n",
       "      <td>NaN</td>\n",
       "      <td>NaN</td>\n",
       "      <td>NaN</td>\n",
       "    </tr>\n",
       "    <tr>\n",
       "      <th>3079</th>\n",
       "      <td>3240</td>\n",
       "      <td>2019-09-01 03:12:02</td>\n",
       "      <td>NaN</td>\n",
       "      <td>NaN</td>\n",
       "      <td>NaN</td>\n",
       "      <td>NaN</td>\n",
       "      <td>NaN</td>\n",
       "      <td>NaN</td>\n",
       "      <td>NaN</td>\n",
       "      <td>NaN</td>\n",
       "    </tr>\n",
       "    <tr>\n",
       "      <th>3080</th>\n",
       "      <td>3241</td>\n",
       "      <td>2019-09-01 04:16:01</td>\n",
       "      <td>NaN</td>\n",
       "      <td>NaN</td>\n",
       "      <td>NaN</td>\n",
       "      <td>NaN</td>\n",
       "      <td>NaN</td>\n",
       "      <td>NaN</td>\n",
       "      <td>NaN</td>\n",
       "      <td>NaN</td>\n",
       "    </tr>\n",
       "  </tbody>\n",
       "</table>\n",
       "<p>3081 rows × 10 columns</p>\n",
       "</div>"
      ],
      "text/plain": [
       "       key               Wire 1               Wire 2 Wire 3 Wire 4 Wire 5  \\\n",
       "0        1  2019-05-03 11:11:41                  NaN    NaN    NaN    NaN   \n",
       "1        2  2019-05-03 11:46:10                  NaN    NaN    NaN    NaN   \n",
       "2        3  2019-05-03 12:13:47                  NaN    NaN    NaN    NaN   \n",
       "3        4  2019-05-03 12:48:05                  NaN    NaN    NaN    NaN   \n",
       "4        5  2019-05-03 13:18:15  2019-05-03 13:32:06    NaN    NaN    NaN   \n",
       "...    ...                  ...                  ...    ...    ...    ...   \n",
       "3076  3237  2019-08-31 22:50:20                  NaN    NaN    NaN    NaN   \n",
       "3077  3238  2019-08-31 23:38:24                  NaN    NaN    NaN    NaN   \n",
       "3078  3239  2019-09-01 01:50:43                  NaN    NaN    NaN    NaN   \n",
       "3079  3240  2019-09-01 03:12:02                  NaN    NaN    NaN    NaN   \n",
       "3080  3241  2019-09-01 04:16:01                  NaN    NaN    NaN    NaN   \n",
       "\n",
       "     Wire 6 Wire 7 Wire 8 Wire 9  \n",
       "0       NaN    NaN    NaN    NaN  \n",
       "1       NaN    NaN    NaN    NaN  \n",
       "2       NaN    NaN    NaN    NaN  \n",
       "3       NaN    NaN    NaN    NaN  \n",
       "4       NaN    NaN    NaN    NaN  \n",
       "...     ...    ...    ...    ...  \n",
       "3076    NaN    NaN    NaN    NaN  \n",
       "3077    NaN    NaN    NaN    NaN  \n",
       "3078    NaN    NaN    NaN    NaN  \n",
       "3079    NaN    NaN    NaN    NaN  \n",
       "3080    NaN    NaN    NaN    NaN  \n",
       "\n",
       "[3081 rows x 10 columns]"
      ]
     },
     "execution_count": 44,
     "metadata": {},
     "output_type": "execute_result"
    }
   ],
   "source": [
    "data_wire_time"
   ]
  },
  {
   "cell_type": "code",
   "execution_count": 45,
   "id": "ae88b7d6",
   "metadata": {},
   "outputs": [
    {
     "name": "stdout",
     "output_type": "stream",
     "text": [
      "<class 'pandas.core.frame.DataFrame'>\n",
      "RangeIndex: 3081 entries, 0 to 3080\n",
      "Data columns (total 10 columns):\n",
      " #   Column  Non-Null Count  Dtype \n",
      "---  ------  --------------  ----- \n",
      " 0   key     3081 non-null   int64 \n",
      " 1   Wire 1  3055 non-null   object\n",
      " 2   Wire 2  1079 non-null   object\n",
      " 3   Wire 3  63 non-null     object\n",
      " 4   Wire 4  14 non-null     object\n",
      " 5   Wire 5  1 non-null      object\n",
      " 6   Wire 6  73 non-null     object\n",
      " 7   Wire 7  11 non-null     object\n",
      " 8   Wire 8  19 non-null     object\n",
      " 9   Wire 9  29 non-null     object\n",
      "dtypes: int64(1), object(9)\n",
      "memory usage: 240.8+ KB\n"
     ]
    }
   ],
   "source": [
    "data_wire_time.info()"
   ]
  },
  {
   "cell_type": "markdown",
   "id": "9e3fc919",
   "metadata": {},
   "source": [
    "<font color='steelblue' size=4><b>Итоговый комментарий тимлида</b></font><br><br>\n",
    "<font color='steelblue'>Пожалуйста, визуализируй распределения признаков, напиши выводы о каждом датафрейме, если в данных найдены какие-то аномалии, стоит это отображать в выводе.</font><br>"
   ]
  },
  {
   "cell_type": "markdown",
   "id": "51a65ca0",
   "metadata": {},
   "source": [
    "<font color='steelblue' size=4><b>Итоговый комментарий тимлида v2</b></font><br><br>\n",
    "<font color='steelblue'>Пожалуйста, скорректируй вывод о распределении.</font><br>"
   ]
  },
  {
   "cell_type": "markdown",
   "id": "7437a8b7",
   "metadata": {},
   "source": [
    "<font color='purple'>Спасибо за проверку.Постаралась учесть твои замечания.</font>"
   ]
  },
  {
   "cell_type": "markdown",
   "id": "bcaeb0c1",
   "metadata": {},
   "source": [
    "<font color='steelblue' size=4><b>Итоговый комментарий тимлида v3</b></font><br><br>\n",
    "<font color='green'>Спасибо за работу, план и анализ приняты!</font><br>"
   ]
  },
  {
   "cell_type": "markdown",
   "id": "513b69f0",
   "metadata": {},
   "source": [
    "## 3 Предобработка данных"
   ]
  },
  {
   "cell_type": "markdown",
   "id": "1b14a7f5",
   "metadata": {},
   "source": [
    "### 3.1 Добавление новых признаков"
   ]
  },
  {
   "cell_type": "markdown",
   "id": "760a6c1d",
   "metadata": {},
   "source": [
    "Возможно это будут новые признаки такие как отношение мощностей, количество итераций, длительность нагрева партии."
   ]
  },
  {
   "cell_type": "markdown",
   "id": "2d8ffa07",
   "metadata": {},
   "source": [
    "### Обработка таблицы с температурой"
   ]
  },
  {
   "cell_type": "code",
   "execution_count": 46,
   "id": "8fcc08ec",
   "metadata": {},
   "outputs": [],
   "source": [
    "# Удалю номер партии, где итераций меньше 2"
   ]
  },
  {
   "cell_type": "markdown",
   "id": "91463529",
   "metadata": {},
   "source": [
    "Необходимо включить только те партии, данные для которых есть во всех датасетах."
   ]
  },
  {
   "cell_type": "code",
   "execution_count": 47,
   "id": "46d06ff6",
   "metadata": {},
   "outputs": [],
   "source": [
    "data_temp=data_temp.groupby('key').agg({'Температура': ['count','first','last'], 'Время замера': ['min', 'max']})"
   ]
  },
  {
   "cell_type": "code",
   "execution_count": 48,
   "id": "d1f96c2e",
   "metadata": {},
   "outputs": [],
   "source": [
    "#data_temp=data_temp.reset_index()\n",
    "data_temp=data_temp[data_temp['Температура']['count']>=2]\n",
    "#data_temp=data_temp.droplevel(0,axis=1)"
   ]
  },
  {
   "cell_type": "code",
   "execution_count": 49,
   "id": "8b06e986",
   "metadata": {},
   "outputs": [],
   "source": [
    "data_temp.columns=['_'.join(col) for col in data_temp.columns]"
   ]
  },
  {
   "cell_type": "code",
   "execution_count": 50,
   "id": "0c2ff436",
   "metadata": {},
   "outputs": [
    {
     "data": {
      "text/html": [
       "<div>\n",
       "<style scoped>\n",
       "    .dataframe tbody tr th:only-of-type {\n",
       "        vertical-align: middle;\n",
       "    }\n",
       "\n",
       "    .dataframe tbody tr th {\n",
       "        vertical-align: top;\n",
       "    }\n",
       "\n",
       "    .dataframe thead th {\n",
       "        text-align: right;\n",
       "    }\n",
       "</style>\n",
       "<table border=\"1\" class=\"dataframe\">\n",
       "  <thead>\n",
       "    <tr style=\"text-align: right;\">\n",
       "      <th></th>\n",
       "      <th>Температура_count</th>\n",
       "      <th>Температура_first</th>\n",
       "      <th>Температура_last</th>\n",
       "      <th>Время замера_min</th>\n",
       "      <th>Время замера_max</th>\n",
       "    </tr>\n",
       "    <tr>\n",
       "      <th>key</th>\n",
       "      <th></th>\n",
       "      <th></th>\n",
       "      <th></th>\n",
       "      <th></th>\n",
       "      <th></th>\n",
       "    </tr>\n",
       "  </thead>\n",
       "  <tbody>\n",
       "    <tr>\n",
       "      <th>1</th>\n",
       "      <td>5</td>\n",
       "      <td>1571.0</td>\n",
       "      <td>1613.0</td>\n",
       "      <td>2019-05-03 11:16:18</td>\n",
       "      <td>2019-05-03 11:30:39</td>\n",
       "    </tr>\n",
       "    <tr>\n",
       "      <th>2</th>\n",
       "      <td>6</td>\n",
       "      <td>1581.0</td>\n",
       "      <td>1602.0</td>\n",
       "      <td>2019-05-03 11:37:27</td>\n",
       "      <td>2019-05-03 11:59:12</td>\n",
       "    </tr>\n",
       "    <tr>\n",
       "      <th>3</th>\n",
       "      <td>5</td>\n",
       "      <td>1596.0</td>\n",
       "      <td>1599.0</td>\n",
       "      <td>2019-05-03 12:13:17</td>\n",
       "      <td>2019-05-03 12:34:57</td>\n",
       "    </tr>\n",
       "    <tr>\n",
       "      <th>4</th>\n",
       "      <td>3</td>\n",
       "      <td>1601.0</td>\n",
       "      <td>1625.0</td>\n",
       "      <td>2019-05-03 12:52:57</td>\n",
       "      <td>2019-05-03 12:59:25</td>\n",
       "    </tr>\n",
       "    <tr>\n",
       "      <th>5</th>\n",
       "      <td>2</td>\n",
       "      <td>1576.0</td>\n",
       "      <td>1602.0</td>\n",
       "      <td>2019-05-03 13:23:19</td>\n",
       "      <td>2019-05-03 13:36:01</td>\n",
       "    </tr>\n",
       "    <tr>\n",
       "      <th>...</th>\n",
       "      <td>...</td>\n",
       "      <td>...</td>\n",
       "      <td>...</td>\n",
       "      <td>...</td>\n",
       "      <td>...</td>\n",
       "    </tr>\n",
       "    <tr>\n",
       "      <th>2495</th>\n",
       "      <td>3</td>\n",
       "      <td>1570.0</td>\n",
       "      <td>1591.0</td>\n",
       "      <td>2019-08-06 00:35:45</td>\n",
       "      <td>2019-08-06 00:54:42</td>\n",
       "    </tr>\n",
       "    <tr>\n",
       "      <th>2496</th>\n",
       "      <td>4</td>\n",
       "      <td>1554.0</td>\n",
       "      <td>1591.0</td>\n",
       "      <td>2019-08-06 01:02:54</td>\n",
       "      <td>2019-08-06 01:29:52</td>\n",
       "    </tr>\n",
       "    <tr>\n",
       "      <th>2497</th>\n",
       "      <td>2</td>\n",
       "      <td>1571.0</td>\n",
       "      <td>1589.0</td>\n",
       "      <td>2019-08-06 01:41:53</td>\n",
       "      <td>2019-08-06 01:53:50</td>\n",
       "    </tr>\n",
       "    <tr>\n",
       "      <th>2498</th>\n",
       "      <td>5</td>\n",
       "      <td>1591.0</td>\n",
       "      <td>1594.0</td>\n",
       "      <td>2019-08-06 02:03:49</td>\n",
       "      <td>2019-08-06 02:25:31</td>\n",
       "    </tr>\n",
       "    <tr>\n",
       "      <th>2499</th>\n",
       "      <td>3</td>\n",
       "      <td>1569.0</td>\n",
       "      <td>1603.0</td>\n",
       "      <td>2019-08-06 02:40:25</td>\n",
       "      <td>2019-08-06 03:00:28</td>\n",
       "    </tr>\n",
       "  </tbody>\n",
       "</table>\n",
       "<p>2475 rows × 5 columns</p>\n",
       "</div>"
      ],
      "text/plain": [
       "      Температура_count  Температура_first  Температура_last  \\\n",
       "key                                                            \n",
       "1                     5             1571.0            1613.0   \n",
       "2                     6             1581.0            1602.0   \n",
       "3                     5             1596.0            1599.0   \n",
       "4                     3             1601.0            1625.0   \n",
       "5                     2             1576.0            1602.0   \n",
       "...                 ...                ...               ...   \n",
       "2495                  3             1570.0            1591.0   \n",
       "2496                  4             1554.0            1591.0   \n",
       "2497                  2             1571.0            1589.0   \n",
       "2498                  5             1591.0            1594.0   \n",
       "2499                  3             1569.0            1603.0   \n",
       "\n",
       "        Время замера_min    Время замера_max  \n",
       "key                                           \n",
       "1    2019-05-03 11:16:18 2019-05-03 11:30:39  \n",
       "2    2019-05-03 11:37:27 2019-05-03 11:59:12  \n",
       "3    2019-05-03 12:13:17 2019-05-03 12:34:57  \n",
       "4    2019-05-03 12:52:57 2019-05-03 12:59:25  \n",
       "5    2019-05-03 13:23:19 2019-05-03 13:36:01  \n",
       "...                  ...                 ...  \n",
       "2495 2019-08-06 00:35:45 2019-08-06 00:54:42  \n",
       "2496 2019-08-06 01:02:54 2019-08-06 01:29:52  \n",
       "2497 2019-08-06 01:41:53 2019-08-06 01:53:50  \n",
       "2498 2019-08-06 02:03:49 2019-08-06 02:25:31  \n",
       "2499 2019-08-06 02:40:25 2019-08-06 03:00:28  \n",
       "\n",
       "[2475 rows x 5 columns]"
      ]
     },
     "execution_count": 50,
     "metadata": {},
     "output_type": "execute_result"
    }
   ],
   "source": [
    "data_temp"
   ]
  },
  {
   "cell_type": "code",
   "execution_count": 51,
   "id": "5965d7ee",
   "metadata": {},
   "outputs": [],
   "source": [
    "data_temp=data_temp.reset_index()"
   ]
  },
  {
   "cell_type": "code",
   "execution_count": 52,
   "id": "7b1aed17",
   "metadata": {},
   "outputs": [
    {
     "data": {
      "text/html": [
       "<div>\n",
       "<style scoped>\n",
       "    .dataframe tbody tr th:only-of-type {\n",
       "        vertical-align: middle;\n",
       "    }\n",
       "\n",
       "    .dataframe tbody tr th {\n",
       "        vertical-align: top;\n",
       "    }\n",
       "\n",
       "    .dataframe thead th {\n",
       "        text-align: right;\n",
       "    }\n",
       "</style>\n",
       "<table border=\"1\" class=\"dataframe\">\n",
       "  <thead>\n",
       "    <tr style=\"text-align: right;\">\n",
       "      <th></th>\n",
       "      <th>key</th>\n",
       "      <th>Температура_count</th>\n",
       "      <th>Температура_first</th>\n",
       "      <th>Температура_last</th>\n",
       "      <th>Время замера_min</th>\n",
       "      <th>Время замера_max</th>\n",
       "    </tr>\n",
       "  </thead>\n",
       "  <tbody>\n",
       "    <tr>\n",
       "      <th>0</th>\n",
       "      <td>1</td>\n",
       "      <td>5</td>\n",
       "      <td>1571.0</td>\n",
       "      <td>1613.0</td>\n",
       "      <td>2019-05-03 11:16:18</td>\n",
       "      <td>2019-05-03 11:30:39</td>\n",
       "    </tr>\n",
       "    <tr>\n",
       "      <th>1</th>\n",
       "      <td>2</td>\n",
       "      <td>6</td>\n",
       "      <td>1581.0</td>\n",
       "      <td>1602.0</td>\n",
       "      <td>2019-05-03 11:37:27</td>\n",
       "      <td>2019-05-03 11:59:12</td>\n",
       "    </tr>\n",
       "    <tr>\n",
       "      <th>2</th>\n",
       "      <td>3</td>\n",
       "      <td>5</td>\n",
       "      <td>1596.0</td>\n",
       "      <td>1599.0</td>\n",
       "      <td>2019-05-03 12:13:17</td>\n",
       "      <td>2019-05-03 12:34:57</td>\n",
       "    </tr>\n",
       "    <tr>\n",
       "      <th>3</th>\n",
       "      <td>4</td>\n",
       "      <td>3</td>\n",
       "      <td>1601.0</td>\n",
       "      <td>1625.0</td>\n",
       "      <td>2019-05-03 12:52:57</td>\n",
       "      <td>2019-05-03 12:59:25</td>\n",
       "    </tr>\n",
       "    <tr>\n",
       "      <th>4</th>\n",
       "      <td>5</td>\n",
       "      <td>2</td>\n",
       "      <td>1576.0</td>\n",
       "      <td>1602.0</td>\n",
       "      <td>2019-05-03 13:23:19</td>\n",
       "      <td>2019-05-03 13:36:01</td>\n",
       "    </tr>\n",
       "    <tr>\n",
       "      <th>...</th>\n",
       "      <td>...</td>\n",
       "      <td>...</td>\n",
       "      <td>...</td>\n",
       "      <td>...</td>\n",
       "      <td>...</td>\n",
       "      <td>...</td>\n",
       "    </tr>\n",
       "    <tr>\n",
       "      <th>2470</th>\n",
       "      <td>2495</td>\n",
       "      <td>3</td>\n",
       "      <td>1570.0</td>\n",
       "      <td>1591.0</td>\n",
       "      <td>2019-08-06 00:35:45</td>\n",
       "      <td>2019-08-06 00:54:42</td>\n",
       "    </tr>\n",
       "    <tr>\n",
       "      <th>2471</th>\n",
       "      <td>2496</td>\n",
       "      <td>4</td>\n",
       "      <td>1554.0</td>\n",
       "      <td>1591.0</td>\n",
       "      <td>2019-08-06 01:02:54</td>\n",
       "      <td>2019-08-06 01:29:52</td>\n",
       "    </tr>\n",
       "    <tr>\n",
       "      <th>2472</th>\n",
       "      <td>2497</td>\n",
       "      <td>2</td>\n",
       "      <td>1571.0</td>\n",
       "      <td>1589.0</td>\n",
       "      <td>2019-08-06 01:41:53</td>\n",
       "      <td>2019-08-06 01:53:50</td>\n",
       "    </tr>\n",
       "    <tr>\n",
       "      <th>2473</th>\n",
       "      <td>2498</td>\n",
       "      <td>5</td>\n",
       "      <td>1591.0</td>\n",
       "      <td>1594.0</td>\n",
       "      <td>2019-08-06 02:03:49</td>\n",
       "      <td>2019-08-06 02:25:31</td>\n",
       "    </tr>\n",
       "    <tr>\n",
       "      <th>2474</th>\n",
       "      <td>2499</td>\n",
       "      <td>3</td>\n",
       "      <td>1569.0</td>\n",
       "      <td>1603.0</td>\n",
       "      <td>2019-08-06 02:40:25</td>\n",
       "      <td>2019-08-06 03:00:28</td>\n",
       "    </tr>\n",
       "  </tbody>\n",
       "</table>\n",
       "<p>2475 rows × 6 columns</p>\n",
       "</div>"
      ],
      "text/plain": [
       "       key  Температура_count  Температура_first  Температура_last  \\\n",
       "0        1                  5             1571.0            1613.0   \n",
       "1        2                  6             1581.0            1602.0   \n",
       "2        3                  5             1596.0            1599.0   \n",
       "3        4                  3             1601.0            1625.0   \n",
       "4        5                  2             1576.0            1602.0   \n",
       "...    ...                ...                ...               ...   \n",
       "2470  2495                  3             1570.0            1591.0   \n",
       "2471  2496                  4             1554.0            1591.0   \n",
       "2472  2497                  2             1571.0            1589.0   \n",
       "2473  2498                  5             1591.0            1594.0   \n",
       "2474  2499                  3             1569.0            1603.0   \n",
       "\n",
       "        Время замера_min    Время замера_max  \n",
       "0    2019-05-03 11:16:18 2019-05-03 11:30:39  \n",
       "1    2019-05-03 11:37:27 2019-05-03 11:59:12  \n",
       "2    2019-05-03 12:13:17 2019-05-03 12:34:57  \n",
       "3    2019-05-03 12:52:57 2019-05-03 12:59:25  \n",
       "4    2019-05-03 13:23:19 2019-05-03 13:36:01  \n",
       "...                  ...                 ...  \n",
       "2470 2019-08-06 00:35:45 2019-08-06 00:54:42  \n",
       "2471 2019-08-06 01:02:54 2019-08-06 01:29:52  \n",
       "2472 2019-08-06 01:41:53 2019-08-06 01:53:50  \n",
       "2473 2019-08-06 02:03:49 2019-08-06 02:25:31  \n",
       "2474 2019-08-06 02:40:25 2019-08-06 03:00:28  \n",
       "\n",
       "[2475 rows x 6 columns]"
      ]
     },
     "execution_count": 52,
     "metadata": {},
     "output_type": "execute_result"
    }
   ],
   "source": [
    "data_temp"
   ]
  },
  {
   "cell_type": "code",
   "execution_count": 53,
   "id": "9c856ce5",
   "metadata": {},
   "outputs": [
    {
     "name": "stdout",
     "output_type": "stream",
     "text": [
      "<class 'pandas.core.frame.DataFrame'>\n",
      "RangeIndex: 2475 entries, 0 to 2474\n",
      "Data columns (total 6 columns):\n",
      " #   Column             Non-Null Count  Dtype         \n",
      "---  ------             --------------  -----         \n",
      " 0   key                2475 non-null   int64         \n",
      " 1   Температура_count  2475 non-null   int64         \n",
      " 2   Температура_first  2475 non-null   float64       \n",
      " 3   Температура_last   2475 non-null   float64       \n",
      " 4   Время замера_min   2475 non-null   datetime64[ns]\n",
      " 5   Время замера_max   2475 non-null   datetime64[ns]\n",
      "dtypes: datetime64[ns](2), float64(2), int64(2)\n",
      "memory usage: 116.1 KB\n"
     ]
    }
   ],
   "source": [
    "data_temp.info()"
   ]
  },
  {
   "cell_type": "code",
   "execution_count": 54,
   "id": "ae9c8245",
   "metadata": {},
   "outputs": [],
   "source": [
    "# ввиду новый признак: Интервал между первой итерацией и последней.\n",
    "data_temp['interval']=data_temp['Время замера_max']-data_temp['Время замера_min']"
   ]
  },
  {
   "cell_type": "code",
   "execution_count": 55,
   "id": "e6754b22",
   "metadata": {},
   "outputs": [],
   "source": [
    "#единица измерения интервала: секунды\n",
    "data_temp['interval']=data_temp['interval'].apply(lambda x:  x.total_seconds())"
   ]
  },
  {
   "cell_type": "code",
   "execution_count": 56,
   "id": "0f2643af",
   "metadata": {},
   "outputs": [
    {
     "name": "stdout",
     "output_type": "stream",
     "text": [
      "<class 'pandas.core.frame.DataFrame'>\n",
      "RangeIndex: 2475 entries, 0 to 2474\n",
      "Data columns (total 7 columns):\n",
      " #   Column             Non-Null Count  Dtype         \n",
      "---  ------             --------------  -----         \n",
      " 0   key                2475 non-null   int64         \n",
      " 1   Температура_count  2475 non-null   int64         \n",
      " 2   Температура_first  2475 non-null   float64       \n",
      " 3   Температура_last   2475 non-null   float64       \n",
      " 4   Время замера_min   2475 non-null   datetime64[ns]\n",
      " 5   Время замера_max   2475 non-null   datetime64[ns]\n",
      " 6   interval           2475 non-null   float64       \n",
      "dtypes: datetime64[ns](2), float64(3), int64(2)\n",
      "memory usage: 135.5 KB\n"
     ]
    }
   ],
   "source": [
    "data_temp.info()"
   ]
  },
  {
   "cell_type": "code",
   "execution_count": 57,
   "id": "ec6bdfd5",
   "metadata": {},
   "outputs": [
    {
     "data": {
      "text/html": [
       "<div>\n",
       "<style scoped>\n",
       "    .dataframe tbody tr th:only-of-type {\n",
       "        vertical-align: middle;\n",
       "    }\n",
       "\n",
       "    .dataframe tbody tr th {\n",
       "        vertical-align: top;\n",
       "    }\n",
       "\n",
       "    .dataframe thead th {\n",
       "        text-align: right;\n",
       "    }\n",
       "</style>\n",
       "<table border=\"1\" class=\"dataframe\">\n",
       "  <thead>\n",
       "    <tr style=\"text-align: right;\">\n",
       "      <th></th>\n",
       "      <th>key</th>\n",
       "      <th>Температура_count</th>\n",
       "      <th>Температура_first</th>\n",
       "      <th>Температура_last</th>\n",
       "      <th>Время замера_min</th>\n",
       "      <th>Время замера_max</th>\n",
       "      <th>interval</th>\n",
       "    </tr>\n",
       "  </thead>\n",
       "  <tbody>\n",
       "    <tr>\n",
       "      <th>0</th>\n",
       "      <td>1</td>\n",
       "      <td>5</td>\n",
       "      <td>1571.0</td>\n",
       "      <td>1613.0</td>\n",
       "      <td>2019-05-03 11:16:18</td>\n",
       "      <td>2019-05-03 11:30:39</td>\n",
       "      <td>861.0</td>\n",
       "    </tr>\n",
       "    <tr>\n",
       "      <th>1</th>\n",
       "      <td>2</td>\n",
       "      <td>6</td>\n",
       "      <td>1581.0</td>\n",
       "      <td>1602.0</td>\n",
       "      <td>2019-05-03 11:37:27</td>\n",
       "      <td>2019-05-03 11:59:12</td>\n",
       "      <td>1305.0</td>\n",
       "    </tr>\n",
       "    <tr>\n",
       "      <th>2</th>\n",
       "      <td>3</td>\n",
       "      <td>5</td>\n",
       "      <td>1596.0</td>\n",
       "      <td>1599.0</td>\n",
       "      <td>2019-05-03 12:13:17</td>\n",
       "      <td>2019-05-03 12:34:57</td>\n",
       "      <td>1300.0</td>\n",
       "    </tr>\n",
       "    <tr>\n",
       "      <th>3</th>\n",
       "      <td>4</td>\n",
       "      <td>3</td>\n",
       "      <td>1601.0</td>\n",
       "      <td>1625.0</td>\n",
       "      <td>2019-05-03 12:52:57</td>\n",
       "      <td>2019-05-03 12:59:25</td>\n",
       "      <td>388.0</td>\n",
       "    </tr>\n",
       "    <tr>\n",
       "      <th>4</th>\n",
       "      <td>5</td>\n",
       "      <td>2</td>\n",
       "      <td>1576.0</td>\n",
       "      <td>1602.0</td>\n",
       "      <td>2019-05-03 13:23:19</td>\n",
       "      <td>2019-05-03 13:36:01</td>\n",
       "      <td>762.0</td>\n",
       "    </tr>\n",
       "    <tr>\n",
       "      <th>...</th>\n",
       "      <td>...</td>\n",
       "      <td>...</td>\n",
       "      <td>...</td>\n",
       "      <td>...</td>\n",
       "      <td>...</td>\n",
       "      <td>...</td>\n",
       "      <td>...</td>\n",
       "    </tr>\n",
       "    <tr>\n",
       "      <th>2470</th>\n",
       "      <td>2495</td>\n",
       "      <td>3</td>\n",
       "      <td>1570.0</td>\n",
       "      <td>1591.0</td>\n",
       "      <td>2019-08-06 00:35:45</td>\n",
       "      <td>2019-08-06 00:54:42</td>\n",
       "      <td>1137.0</td>\n",
       "    </tr>\n",
       "    <tr>\n",
       "      <th>2471</th>\n",
       "      <td>2496</td>\n",
       "      <td>4</td>\n",
       "      <td>1554.0</td>\n",
       "      <td>1591.0</td>\n",
       "      <td>2019-08-06 01:02:54</td>\n",
       "      <td>2019-08-06 01:29:52</td>\n",
       "      <td>1618.0</td>\n",
       "    </tr>\n",
       "    <tr>\n",
       "      <th>2472</th>\n",
       "      <td>2497</td>\n",
       "      <td>2</td>\n",
       "      <td>1571.0</td>\n",
       "      <td>1589.0</td>\n",
       "      <td>2019-08-06 01:41:53</td>\n",
       "      <td>2019-08-06 01:53:50</td>\n",
       "      <td>717.0</td>\n",
       "    </tr>\n",
       "    <tr>\n",
       "      <th>2473</th>\n",
       "      <td>2498</td>\n",
       "      <td>5</td>\n",
       "      <td>1591.0</td>\n",
       "      <td>1594.0</td>\n",
       "      <td>2019-08-06 02:03:49</td>\n",
       "      <td>2019-08-06 02:25:31</td>\n",
       "      <td>1302.0</td>\n",
       "    </tr>\n",
       "    <tr>\n",
       "      <th>2474</th>\n",
       "      <td>2499</td>\n",
       "      <td>3</td>\n",
       "      <td>1569.0</td>\n",
       "      <td>1603.0</td>\n",
       "      <td>2019-08-06 02:40:25</td>\n",
       "      <td>2019-08-06 03:00:28</td>\n",
       "      <td>1203.0</td>\n",
       "    </tr>\n",
       "  </tbody>\n",
       "</table>\n",
       "<p>2475 rows × 7 columns</p>\n",
       "</div>"
      ],
      "text/plain": [
       "       key  Температура_count  Температура_first  Температура_last  \\\n",
       "0        1                  5             1571.0            1613.0   \n",
       "1        2                  6             1581.0            1602.0   \n",
       "2        3                  5             1596.0            1599.0   \n",
       "3        4                  3             1601.0            1625.0   \n",
       "4        5                  2             1576.0            1602.0   \n",
       "...    ...                ...                ...               ...   \n",
       "2470  2495                  3             1570.0            1591.0   \n",
       "2471  2496                  4             1554.0            1591.0   \n",
       "2472  2497                  2             1571.0            1589.0   \n",
       "2473  2498                  5             1591.0            1594.0   \n",
       "2474  2499                  3             1569.0            1603.0   \n",
       "\n",
       "        Время замера_min    Время замера_max  interval  \n",
       "0    2019-05-03 11:16:18 2019-05-03 11:30:39     861.0  \n",
       "1    2019-05-03 11:37:27 2019-05-03 11:59:12    1305.0  \n",
       "2    2019-05-03 12:13:17 2019-05-03 12:34:57    1300.0  \n",
       "3    2019-05-03 12:52:57 2019-05-03 12:59:25     388.0  \n",
       "4    2019-05-03 13:23:19 2019-05-03 13:36:01     762.0  \n",
       "...                  ...                 ...       ...  \n",
       "2470 2019-08-06 00:35:45 2019-08-06 00:54:42    1137.0  \n",
       "2471 2019-08-06 01:02:54 2019-08-06 01:29:52    1618.0  \n",
       "2472 2019-08-06 01:41:53 2019-08-06 01:53:50     717.0  \n",
       "2473 2019-08-06 02:03:49 2019-08-06 02:25:31    1302.0  \n",
       "2474 2019-08-06 02:40:25 2019-08-06 03:00:28    1203.0  \n",
       "\n",
       "[2475 rows x 7 columns]"
      ]
     },
     "execution_count": 57,
     "metadata": {},
     "output_type": "execute_result"
    }
   ],
   "source": [
    "data_temp"
   ]
  },
  {
   "cell_type": "code",
   "execution_count": 58,
   "id": "884c2fc0",
   "metadata": {},
   "outputs": [
    {
     "data": {
      "text/html": [
       "<div>\n",
       "<style scoped>\n",
       "    .dataframe tbody tr th:only-of-type {\n",
       "        vertical-align: middle;\n",
       "    }\n",
       "\n",
       "    .dataframe tbody tr th {\n",
       "        vertical-align: top;\n",
       "    }\n",
       "\n",
       "    .dataframe thead th {\n",
       "        text-align: right;\n",
       "    }\n",
       "</style>\n",
       "<table border=\"1\" class=\"dataframe\">\n",
       "  <thead>\n",
       "    <tr style=\"text-align: right;\">\n",
       "      <th></th>\n",
       "      <th>key</th>\n",
       "      <th>Температура_count</th>\n",
       "      <th>Температура_first</th>\n",
       "      <th>Температура_last</th>\n",
       "      <th>interval</th>\n",
       "    </tr>\n",
       "  </thead>\n",
       "  <tbody>\n",
       "    <tr>\n",
       "      <th>0</th>\n",
       "      <td>1</td>\n",
       "      <td>5</td>\n",
       "      <td>1571.0</td>\n",
       "      <td>1613.0</td>\n",
       "      <td>861.0</td>\n",
       "    </tr>\n",
       "    <tr>\n",
       "      <th>1</th>\n",
       "      <td>2</td>\n",
       "      <td>6</td>\n",
       "      <td>1581.0</td>\n",
       "      <td>1602.0</td>\n",
       "      <td>1305.0</td>\n",
       "    </tr>\n",
       "    <tr>\n",
       "      <th>2</th>\n",
       "      <td>3</td>\n",
       "      <td>5</td>\n",
       "      <td>1596.0</td>\n",
       "      <td>1599.0</td>\n",
       "      <td>1300.0</td>\n",
       "    </tr>\n",
       "    <tr>\n",
       "      <th>3</th>\n",
       "      <td>4</td>\n",
       "      <td>3</td>\n",
       "      <td>1601.0</td>\n",
       "      <td>1625.0</td>\n",
       "      <td>388.0</td>\n",
       "    </tr>\n",
       "    <tr>\n",
       "      <th>4</th>\n",
       "      <td>5</td>\n",
       "      <td>2</td>\n",
       "      <td>1576.0</td>\n",
       "      <td>1602.0</td>\n",
       "      <td>762.0</td>\n",
       "    </tr>\n",
       "    <tr>\n",
       "      <th>...</th>\n",
       "      <td>...</td>\n",
       "      <td>...</td>\n",
       "      <td>...</td>\n",
       "      <td>...</td>\n",
       "      <td>...</td>\n",
       "    </tr>\n",
       "    <tr>\n",
       "      <th>2470</th>\n",
       "      <td>2495</td>\n",
       "      <td>3</td>\n",
       "      <td>1570.0</td>\n",
       "      <td>1591.0</td>\n",
       "      <td>1137.0</td>\n",
       "    </tr>\n",
       "    <tr>\n",
       "      <th>2471</th>\n",
       "      <td>2496</td>\n",
       "      <td>4</td>\n",
       "      <td>1554.0</td>\n",
       "      <td>1591.0</td>\n",
       "      <td>1618.0</td>\n",
       "    </tr>\n",
       "    <tr>\n",
       "      <th>2472</th>\n",
       "      <td>2497</td>\n",
       "      <td>2</td>\n",
       "      <td>1571.0</td>\n",
       "      <td>1589.0</td>\n",
       "      <td>717.0</td>\n",
       "    </tr>\n",
       "    <tr>\n",
       "      <th>2473</th>\n",
       "      <td>2498</td>\n",
       "      <td>5</td>\n",
       "      <td>1591.0</td>\n",
       "      <td>1594.0</td>\n",
       "      <td>1302.0</td>\n",
       "    </tr>\n",
       "    <tr>\n",
       "      <th>2474</th>\n",
       "      <td>2499</td>\n",
       "      <td>3</td>\n",
       "      <td>1569.0</td>\n",
       "      <td>1603.0</td>\n",
       "      <td>1203.0</td>\n",
       "    </tr>\n",
       "  </tbody>\n",
       "</table>\n",
       "<p>2475 rows × 5 columns</p>\n",
       "</div>"
      ],
      "text/plain": [
       "       key  Температура_count  Температура_first  Температура_last  interval\n",
       "0        1                  5             1571.0            1613.0     861.0\n",
       "1        2                  6             1581.0            1602.0    1305.0\n",
       "2        3                  5             1596.0            1599.0    1300.0\n",
       "3        4                  3             1601.0            1625.0     388.0\n",
       "4        5                  2             1576.0            1602.0     762.0\n",
       "...    ...                ...                ...               ...       ...\n",
       "2470  2495                  3             1570.0            1591.0    1137.0\n",
       "2471  2496                  4             1554.0            1591.0    1618.0\n",
       "2472  2497                  2             1571.0            1589.0     717.0\n",
       "2473  2498                  5             1591.0            1594.0    1302.0\n",
       "2474  2499                  3             1569.0            1603.0    1203.0\n",
       "\n",
       "[2475 rows x 5 columns]"
      ]
     },
     "execution_count": 58,
     "metadata": {},
     "output_type": "execute_result"
    }
   ],
   "source": [
    "data_temp=data_temp.drop(columns=['Время замера_min','Время замера_max'])#данные больше не понадобятся\n",
    "data_temp"
   ]
  },
  {
   "cell_type": "markdown",
   "id": "49cdd6ff",
   "metadata": {},
   "source": [
    "<font color='steelblue'><b>КОД-РЕВЬЮ</b></font><br>\n",
    "<font color='green'>✔️ Здорово, что генерируешь новые признаки. С температурами разобрались.</font>"
   ]
  },
  {
   "cell_type": "markdown",
   "id": "579b87be",
   "metadata": {},
   "source": [
    "### Обработка таблицы с электродами "
   ]
  },
  {
   "cell_type": "code",
   "execution_count": 59,
   "id": "5b8541ed",
   "metadata": {},
   "outputs": [],
   "source": [
    "data_arc['interval_warmup']=data_arc['Конец нагрева дугой']-data_arc['Начало нагрева дугой']"
   ]
  },
  {
   "cell_type": "code",
   "execution_count": 60,
   "id": "e795c448",
   "metadata": {},
   "outputs": [
    {
     "data": {
      "text/html": [
       "<div>\n",
       "<style scoped>\n",
       "    .dataframe tbody tr th:only-of-type {\n",
       "        vertical-align: middle;\n",
       "    }\n",
       "\n",
       "    .dataframe tbody tr th {\n",
       "        vertical-align: top;\n",
       "    }\n",
       "\n",
       "    .dataframe thead th {\n",
       "        text-align: right;\n",
       "    }\n",
       "</style>\n",
       "<table border=\"1\" class=\"dataframe\">\n",
       "  <thead>\n",
       "    <tr style=\"text-align: right;\">\n",
       "      <th></th>\n",
       "      <th>key</th>\n",
       "      <th>Начало нагрева дугой</th>\n",
       "      <th>Конец нагрева дугой</th>\n",
       "      <th>Активная мощность</th>\n",
       "      <th>Реактивная мощность</th>\n",
       "      <th>interval_warmup</th>\n",
       "    </tr>\n",
       "  </thead>\n",
       "  <tbody>\n",
       "    <tr>\n",
       "      <th>0</th>\n",
       "      <td>1</td>\n",
       "      <td>2019-05-03 11:02:14</td>\n",
       "      <td>2019-05-03 11:06:02</td>\n",
       "      <td>0.976059</td>\n",
       "      <td>0.687084</td>\n",
       "      <td>0 days 00:03:48</td>\n",
       "    </tr>\n",
       "    <tr>\n",
       "      <th>1</th>\n",
       "      <td>1</td>\n",
       "      <td>2019-05-03 11:07:28</td>\n",
       "      <td>2019-05-03 11:10:33</td>\n",
       "      <td>0.805607</td>\n",
       "      <td>0.520285</td>\n",
       "      <td>0 days 00:03:05</td>\n",
       "    </tr>\n",
       "    <tr>\n",
       "      <th>2</th>\n",
       "      <td>1</td>\n",
       "      <td>2019-05-03 11:11:44</td>\n",
       "      <td>2019-05-03 11:14:36</td>\n",
       "      <td>0.744363</td>\n",
       "      <td>0.498805</td>\n",
       "      <td>0 days 00:02:52</td>\n",
       "    </tr>\n",
       "    <tr>\n",
       "      <th>3</th>\n",
       "      <td>1</td>\n",
       "      <td>2019-05-03 11:18:14</td>\n",
       "      <td>2019-05-03 11:24:19</td>\n",
       "      <td>1.659363</td>\n",
       "      <td>1.062669</td>\n",
       "      <td>0 days 00:06:05</td>\n",
       "    </tr>\n",
       "    <tr>\n",
       "      <th>4</th>\n",
       "      <td>1</td>\n",
       "      <td>2019-05-03 11:26:09</td>\n",
       "      <td>2019-05-03 11:28:37</td>\n",
       "      <td>0.692755</td>\n",
       "      <td>0.414397</td>\n",
       "      <td>0 days 00:02:28</td>\n",
       "    </tr>\n",
       "    <tr>\n",
       "      <th>...</th>\n",
       "      <td>...</td>\n",
       "      <td>...</td>\n",
       "      <td>...</td>\n",
       "      <td>...</td>\n",
       "      <td>...</td>\n",
       "      <td>...</td>\n",
       "    </tr>\n",
       "    <tr>\n",
       "      <th>14871</th>\n",
       "      <td>3241</td>\n",
       "      <td>2019-09-01 03:58:58</td>\n",
       "      <td>2019-09-01 04:01:35</td>\n",
       "      <td>0.533670</td>\n",
       "      <td>0.354439</td>\n",
       "      <td>0 days 00:02:37</td>\n",
       "    </tr>\n",
       "    <tr>\n",
       "      <th>14872</th>\n",
       "      <td>3241</td>\n",
       "      <td>2019-09-01 04:05:04</td>\n",
       "      <td>2019-09-01 04:08:04</td>\n",
       "      <td>0.676604</td>\n",
       "      <td>0.523631</td>\n",
       "      <td>0 days 00:03:00</td>\n",
       "    </tr>\n",
       "    <tr>\n",
       "      <th>14873</th>\n",
       "      <td>3241</td>\n",
       "      <td>2019-09-01 04:16:41</td>\n",
       "      <td>2019-09-01 04:19:45</td>\n",
       "      <td>0.733899</td>\n",
       "      <td>0.475654</td>\n",
       "      <td>0 days 00:03:04</td>\n",
       "    </tr>\n",
       "    <tr>\n",
       "      <th>14874</th>\n",
       "      <td>3241</td>\n",
       "      <td>2019-09-01 04:31:51</td>\n",
       "      <td>2019-09-01 04:32:48</td>\n",
       "      <td>0.220694</td>\n",
       "      <td>0.145768</td>\n",
       "      <td>0 days 00:00:57</td>\n",
       "    </tr>\n",
       "    <tr>\n",
       "      <th>14875</th>\n",
       "      <td>3241</td>\n",
       "      <td>2019-09-01 04:34:47</td>\n",
       "      <td>2019-09-01 04:36:08</td>\n",
       "      <td>0.306580</td>\n",
       "      <td>0.196708</td>\n",
       "      <td>0 days 00:01:21</td>\n",
       "    </tr>\n",
       "  </tbody>\n",
       "</table>\n",
       "<p>14876 rows × 6 columns</p>\n",
       "</div>"
      ],
      "text/plain": [
       "        key Начало нагрева дугой Конец нагрева дугой  Активная мощность  \\\n",
       "0         1  2019-05-03 11:02:14 2019-05-03 11:06:02           0.976059   \n",
       "1         1  2019-05-03 11:07:28 2019-05-03 11:10:33           0.805607   \n",
       "2         1  2019-05-03 11:11:44 2019-05-03 11:14:36           0.744363   \n",
       "3         1  2019-05-03 11:18:14 2019-05-03 11:24:19           1.659363   \n",
       "4         1  2019-05-03 11:26:09 2019-05-03 11:28:37           0.692755   \n",
       "...     ...                  ...                 ...                ...   \n",
       "14871  3241  2019-09-01 03:58:58 2019-09-01 04:01:35           0.533670   \n",
       "14872  3241  2019-09-01 04:05:04 2019-09-01 04:08:04           0.676604   \n",
       "14873  3241  2019-09-01 04:16:41 2019-09-01 04:19:45           0.733899   \n",
       "14874  3241  2019-09-01 04:31:51 2019-09-01 04:32:48           0.220694   \n",
       "14875  3241  2019-09-01 04:34:47 2019-09-01 04:36:08           0.306580   \n",
       "\n",
       "       Реактивная мощность interval_warmup  \n",
       "0                 0.687084 0 days 00:03:48  \n",
       "1                 0.520285 0 days 00:03:05  \n",
       "2                 0.498805 0 days 00:02:52  \n",
       "3                 1.062669 0 days 00:06:05  \n",
       "4                 0.414397 0 days 00:02:28  \n",
       "...                    ...             ...  \n",
       "14871             0.354439 0 days 00:02:37  \n",
       "14872             0.523631 0 days 00:03:00  \n",
       "14873             0.475654 0 days 00:03:04  \n",
       "14874             0.145768 0 days 00:00:57  \n",
       "14875             0.196708 0 days 00:01:21  \n",
       "\n",
       "[14876 rows x 6 columns]"
      ]
     },
     "execution_count": 60,
     "metadata": {},
     "output_type": "execute_result"
    }
   ],
   "source": [
    "data_arc"
   ]
  },
  {
   "cell_type": "code",
   "execution_count": 61,
   "id": "6b891e75",
   "metadata": {},
   "outputs": [],
   "source": [
    "#единица измерения интервала: секунды\n",
    "data_arc['interval_warmup']=data_arc['interval_warmup'].apply(lambda x:  x.total_seconds())\n",
    "data_arc['power_a/r']=data_arc['Активная мощность']/data_arc['Реактивная мощность']\n",
    "data_arc['full_power']=data_arc['Активная мощность']**2+data_arc['Реактивная мощность']**2\n",
    "data_arc['e_work']=data_arc['full_power']*data_arc['interval_warmup'] # Работа за итерацию"
   ]
  },
  {
   "cell_type": "code",
   "execution_count": 62,
   "id": "843a7f58",
   "metadata": {},
   "outputs": [
    {
     "data": {
      "text/plain": [
       "count    14876.000000\n",
       "mean         1.360584\n",
       "std          0.173451\n",
       "min         -0.000693\n",
       "25%          1.257090\n",
       "50%          1.376088\n",
       "75%          1.480588\n",
       "max          1.949831\n",
       "Name: power_a/r, dtype: float64"
      ]
     },
     "execution_count": 62,
     "metadata": {},
     "output_type": "execute_result"
    }
   ],
   "source": [
    "data_arc['power_a/r'].describe()"
   ]
  },
  {
   "cell_type": "code",
   "execution_count": 63,
   "id": "e5ee7d62",
   "metadata": {},
   "outputs": [
    {
     "data": {
      "text/html": [
       "<div>\n",
       "<style scoped>\n",
       "    .dataframe tbody tr th:only-of-type {\n",
       "        vertical-align: middle;\n",
       "    }\n",
       "\n",
       "    .dataframe tbody tr th {\n",
       "        vertical-align: top;\n",
       "    }\n",
       "\n",
       "    .dataframe thead th {\n",
       "        text-align: right;\n",
       "    }\n",
       "</style>\n",
       "<table border=\"1\" class=\"dataframe\">\n",
       "  <thead>\n",
       "    <tr style=\"text-align: right;\">\n",
       "      <th></th>\n",
       "      <th>key</th>\n",
       "      <th>interval_warmup</th>\n",
       "      <th>power_a/r</th>\n",
       "      <th>full_power</th>\n",
       "      <th>e_work</th>\n",
       "    </tr>\n",
       "  </thead>\n",
       "  <tbody>\n",
       "    <tr>\n",
       "      <th>0</th>\n",
       "      <td>1</td>\n",
       "      <td>228.0</td>\n",
       "      <td>1.420582</td>\n",
       "      <td>1.424775</td>\n",
       "      <td>324.848637</td>\n",
       "    </tr>\n",
       "    <tr>\n",
       "      <th>1</th>\n",
       "      <td>1</td>\n",
       "      <td>185.0</td>\n",
       "      <td>1.548395</td>\n",
       "      <td>0.919700</td>\n",
       "      <td>170.144409</td>\n",
       "    </tr>\n",
       "    <tr>\n",
       "      <th>2</th>\n",
       "      <td>1</td>\n",
       "      <td>172.0</td>\n",
       "      <td>1.492292</td>\n",
       "      <td>0.802884</td>\n",
       "      <td>138.096004</td>\n",
       "    </tr>\n",
       "    <tr>\n",
       "      <th>3</th>\n",
       "      <td>1</td>\n",
       "      <td>365.0</td>\n",
       "      <td>1.561504</td>\n",
       "      <td>3.882750</td>\n",
       "      <td>1417.203872</td>\n",
       "    </tr>\n",
       "    <tr>\n",
       "      <th>4</th>\n",
       "      <td>1</td>\n",
       "      <td>148.0</td>\n",
       "      <td>1.671717</td>\n",
       "      <td>0.651634</td>\n",
       "      <td>96.441863</td>\n",
       "    </tr>\n",
       "    <tr>\n",
       "      <th>...</th>\n",
       "      <td>...</td>\n",
       "      <td>...</td>\n",
       "      <td>...</td>\n",
       "      <td>...</td>\n",
       "      <td>...</td>\n",
       "    </tr>\n",
       "    <tr>\n",
       "      <th>14871</th>\n",
       "      <td>3241</td>\n",
       "      <td>157.0</td>\n",
       "      <td>1.505675</td>\n",
       "      <td>0.410430</td>\n",
       "      <td>64.437512</td>\n",
       "    </tr>\n",
       "    <tr>\n",
       "      <th>14872</th>\n",
       "      <td>3241</td>\n",
       "      <td>180.0</td>\n",
       "      <td>1.292139</td>\n",
       "      <td>0.731982</td>\n",
       "      <td>131.756723</td>\n",
       "    </tr>\n",
       "    <tr>\n",
       "      <th>14873</th>\n",
       "      <td>3241</td>\n",
       "      <td>184.0</td>\n",
       "      <td>1.542928</td>\n",
       "      <td>0.764855</td>\n",
       "      <td>140.733289</td>\n",
       "    </tr>\n",
       "    <tr>\n",
       "      <th>14874</th>\n",
       "      <td>3241</td>\n",
       "      <td>57.0</td>\n",
       "      <td>1.514004</td>\n",
       "      <td>0.069954</td>\n",
       "      <td>3.987392</td>\n",
       "    </tr>\n",
       "    <tr>\n",
       "      <th>14875</th>\n",
       "      <td>3241</td>\n",
       "      <td>81.0</td>\n",
       "      <td>1.558556</td>\n",
       "      <td>0.132685</td>\n",
       "      <td>10.747507</td>\n",
       "    </tr>\n",
       "  </tbody>\n",
       "</table>\n",
       "<p>14876 rows × 5 columns</p>\n",
       "</div>"
      ],
      "text/plain": [
       "        key  interval_warmup  power_a/r  full_power       e_work\n",
       "0         1            228.0   1.420582    1.424775   324.848637\n",
       "1         1            185.0   1.548395    0.919700   170.144409\n",
       "2         1            172.0   1.492292    0.802884   138.096004\n",
       "3         1            365.0   1.561504    3.882750  1417.203872\n",
       "4         1            148.0   1.671717    0.651634    96.441863\n",
       "...     ...              ...        ...         ...          ...\n",
       "14871  3241            157.0   1.505675    0.410430    64.437512\n",
       "14872  3241            180.0   1.292139    0.731982   131.756723\n",
       "14873  3241            184.0   1.542928    0.764855   140.733289\n",
       "14874  3241             57.0   1.514004    0.069954     3.987392\n",
       "14875  3241             81.0   1.558556    0.132685    10.747507\n",
       "\n",
       "[14876 rows x 5 columns]"
      ]
     },
     "execution_count": 63,
     "metadata": {},
     "output_type": "execute_result"
    }
   ],
   "source": [
    "data_arc=data_arc.drop(columns=['Начало нагрева дугой','Конец нагрева дугой','Активная мощность','Реактивная мощность'])\n",
    "data_arc"
   ]
  },
  {
   "cell_type": "code",
   "execution_count": 64,
   "id": "edf615d3",
   "metadata": {},
   "outputs": [],
   "source": [
    "data_arc=data_arc.groupby('key').agg({'interval_warmup': ['sum'], 'power_a/r': ['mean'],'full_power':['mean'], 'e_work':['mean']})"
   ]
  },
  {
   "cell_type": "code",
   "execution_count": 65,
   "id": "45a71005",
   "metadata": {},
   "outputs": [
    {
     "data": {
      "text/html": [
       "<div>\n",
       "<style scoped>\n",
       "    .dataframe tbody tr th:only-of-type {\n",
       "        vertical-align: middle;\n",
       "    }\n",
       "\n",
       "    .dataframe tbody tr th {\n",
       "        vertical-align: top;\n",
       "    }\n",
       "\n",
       "    .dataframe thead tr th {\n",
       "        text-align: left;\n",
       "    }\n",
       "\n",
       "    .dataframe thead tr:last-of-type th {\n",
       "        text-align: right;\n",
       "    }\n",
       "</style>\n",
       "<table border=\"1\" class=\"dataframe\">\n",
       "  <thead>\n",
       "    <tr>\n",
       "      <th></th>\n",
       "      <th>interval_warmup</th>\n",
       "      <th>power_a/r</th>\n",
       "      <th>full_power</th>\n",
       "      <th>e_work</th>\n",
       "    </tr>\n",
       "    <tr>\n",
       "      <th></th>\n",
       "      <th>sum</th>\n",
       "      <th>mean</th>\n",
       "      <th>mean</th>\n",
       "      <th>mean</th>\n",
       "    </tr>\n",
       "    <tr>\n",
       "      <th>key</th>\n",
       "      <th></th>\n",
       "      <th></th>\n",
       "      <th></th>\n",
       "      <th></th>\n",
       "    </tr>\n",
       "  </thead>\n",
       "  <tbody>\n",
       "    <tr>\n",
       "      <th>1</th>\n",
       "      <td>1098.0</td>\n",
       "      <td>1.538898</td>\n",
       "      <td>1.536349</td>\n",
       "      <td>429.346957</td>\n",
       "    </tr>\n",
       "    <tr>\n",
       "      <th>2</th>\n",
       "      <td>811.0</td>\n",
       "      <td>1.551834</td>\n",
       "      <td>1.008996</td>\n",
       "      <td>279.213459</td>\n",
       "    </tr>\n",
       "    <tr>\n",
       "      <th>3</th>\n",
       "      <td>655.0</td>\n",
       "      <td>1.583120</td>\n",
       "      <td>0.476228</td>\n",
       "      <td>105.334643</td>\n",
       "    </tr>\n",
       "    <tr>\n",
       "      <th>4</th>\n",
       "      <td>741.0</td>\n",
       "      <td>1.563487</td>\n",
       "      <td>1.027082</td>\n",
       "      <td>234.199992</td>\n",
       "    </tr>\n",
       "    <tr>\n",
       "      <th>5</th>\n",
       "      <td>869.0</td>\n",
       "      <td>1.480428</td>\n",
       "      <td>1.395051</td>\n",
       "      <td>487.316839</td>\n",
       "    </tr>\n",
       "    <tr>\n",
       "      <th>...</th>\n",
       "      <td>...</td>\n",
       "      <td>...</td>\n",
       "      <td>...</td>\n",
       "      <td>...</td>\n",
       "    </tr>\n",
       "    <tr>\n",
       "      <th>3237</th>\n",
       "      <td>909.0</td>\n",
       "      <td>1.384203</td>\n",
       "      <td>1.036643</td>\n",
       "      <td>218.068186</td>\n",
       "    </tr>\n",
       "    <tr>\n",
       "      <th>3238</th>\n",
       "      <td>546.0</td>\n",
       "      <td>1.257794</td>\n",
       "      <td>0.926313</td>\n",
       "      <td>208.572639</td>\n",
       "    </tr>\n",
       "    <tr>\n",
       "      <th>3239</th>\n",
       "      <td>1216.0</td>\n",
       "      <td>1.497918</td>\n",
       "      <td>0.585934</td>\n",
       "      <td>122.248915</td>\n",
       "    </tr>\n",
       "    <tr>\n",
       "      <th>3240</th>\n",
       "      <td>839.0</td>\n",
       "      <td>1.257343</td>\n",
       "      <td>0.686725</td>\n",
       "      <td>144.388568</td>\n",
       "    </tr>\n",
       "    <tr>\n",
       "      <th>3241</th>\n",
       "      <td>659.0</td>\n",
       "      <td>1.482661</td>\n",
       "      <td>0.421981</td>\n",
       "      <td>70.332484</td>\n",
       "    </tr>\n",
       "  </tbody>\n",
       "</table>\n",
       "<p>3214 rows × 4 columns</p>\n",
       "</div>"
      ],
      "text/plain": [
       "     interval_warmup power_a/r full_power      e_work\n",
       "                 sum      mean       mean        mean\n",
       "key                                                  \n",
       "1             1098.0  1.538898   1.536349  429.346957\n",
       "2              811.0  1.551834   1.008996  279.213459\n",
       "3              655.0  1.583120   0.476228  105.334643\n",
       "4              741.0  1.563487   1.027082  234.199992\n",
       "5              869.0  1.480428   1.395051  487.316839\n",
       "...              ...       ...        ...         ...\n",
       "3237           909.0  1.384203   1.036643  218.068186\n",
       "3238           546.0  1.257794   0.926313  208.572639\n",
       "3239          1216.0  1.497918   0.585934  122.248915\n",
       "3240           839.0  1.257343   0.686725  144.388568\n",
       "3241           659.0  1.482661   0.421981   70.332484\n",
       "\n",
       "[3214 rows x 4 columns]"
      ]
     },
     "execution_count": 65,
     "metadata": {},
     "output_type": "execute_result"
    }
   ],
   "source": [
    "data_arc"
   ]
  },
  {
   "cell_type": "code",
   "execution_count": 66,
   "id": "c20c12d9",
   "metadata": {},
   "outputs": [],
   "source": [
    "data_arc.columns=['_'.join(col) for col in data_arc.columns]"
   ]
  },
  {
   "cell_type": "code",
   "execution_count": 67,
   "id": "f8d32632",
   "metadata": {},
   "outputs": [
    {
     "data": {
      "text/html": [
       "<div>\n",
       "<style scoped>\n",
       "    .dataframe tbody tr th:only-of-type {\n",
       "        vertical-align: middle;\n",
       "    }\n",
       "\n",
       "    .dataframe tbody tr th {\n",
       "        vertical-align: top;\n",
       "    }\n",
       "\n",
       "    .dataframe thead th {\n",
       "        text-align: right;\n",
       "    }\n",
       "</style>\n",
       "<table border=\"1\" class=\"dataframe\">\n",
       "  <thead>\n",
       "    <tr style=\"text-align: right;\">\n",
       "      <th></th>\n",
       "      <th>key</th>\n",
       "      <th>interval_warmup_sum</th>\n",
       "      <th>power_a/r_mean</th>\n",
       "      <th>full_power_mean</th>\n",
       "      <th>e_work_mean</th>\n",
       "    </tr>\n",
       "  </thead>\n",
       "  <tbody>\n",
       "    <tr>\n",
       "      <th>0</th>\n",
       "      <td>1</td>\n",
       "      <td>1098.0</td>\n",
       "      <td>1.538898</td>\n",
       "      <td>1.536349</td>\n",
       "      <td>429.346957</td>\n",
       "    </tr>\n",
       "    <tr>\n",
       "      <th>1</th>\n",
       "      <td>2</td>\n",
       "      <td>811.0</td>\n",
       "      <td>1.551834</td>\n",
       "      <td>1.008996</td>\n",
       "      <td>279.213459</td>\n",
       "    </tr>\n",
       "    <tr>\n",
       "      <th>2</th>\n",
       "      <td>3</td>\n",
       "      <td>655.0</td>\n",
       "      <td>1.583120</td>\n",
       "      <td>0.476228</td>\n",
       "      <td>105.334643</td>\n",
       "    </tr>\n",
       "    <tr>\n",
       "      <th>3</th>\n",
       "      <td>4</td>\n",
       "      <td>741.0</td>\n",
       "      <td>1.563487</td>\n",
       "      <td>1.027082</td>\n",
       "      <td>234.199992</td>\n",
       "    </tr>\n",
       "    <tr>\n",
       "      <th>4</th>\n",
       "      <td>5</td>\n",
       "      <td>869.0</td>\n",
       "      <td>1.480428</td>\n",
       "      <td>1.395051</td>\n",
       "      <td>487.316839</td>\n",
       "    </tr>\n",
       "    <tr>\n",
       "      <th>...</th>\n",
       "      <td>...</td>\n",
       "      <td>...</td>\n",
       "      <td>...</td>\n",
       "      <td>...</td>\n",
       "      <td>...</td>\n",
       "    </tr>\n",
       "    <tr>\n",
       "      <th>3209</th>\n",
       "      <td>3237</td>\n",
       "      <td>909.0</td>\n",
       "      <td>1.384203</td>\n",
       "      <td>1.036643</td>\n",
       "      <td>218.068186</td>\n",
       "    </tr>\n",
       "    <tr>\n",
       "      <th>3210</th>\n",
       "      <td>3238</td>\n",
       "      <td>546.0</td>\n",
       "      <td>1.257794</td>\n",
       "      <td>0.926313</td>\n",
       "      <td>208.572639</td>\n",
       "    </tr>\n",
       "    <tr>\n",
       "      <th>3211</th>\n",
       "      <td>3239</td>\n",
       "      <td>1216.0</td>\n",
       "      <td>1.497918</td>\n",
       "      <td>0.585934</td>\n",
       "      <td>122.248915</td>\n",
       "    </tr>\n",
       "    <tr>\n",
       "      <th>3212</th>\n",
       "      <td>3240</td>\n",
       "      <td>839.0</td>\n",
       "      <td>1.257343</td>\n",
       "      <td>0.686725</td>\n",
       "      <td>144.388568</td>\n",
       "    </tr>\n",
       "    <tr>\n",
       "      <th>3213</th>\n",
       "      <td>3241</td>\n",
       "      <td>659.0</td>\n",
       "      <td>1.482661</td>\n",
       "      <td>0.421981</td>\n",
       "      <td>70.332484</td>\n",
       "    </tr>\n",
       "  </tbody>\n",
       "</table>\n",
       "<p>3214 rows × 5 columns</p>\n",
       "</div>"
      ],
      "text/plain": [
       "       key  interval_warmup_sum  power_a/r_mean  full_power_mean  e_work_mean\n",
       "0        1               1098.0        1.538898         1.536349   429.346957\n",
       "1        2                811.0        1.551834         1.008996   279.213459\n",
       "2        3                655.0        1.583120         0.476228   105.334643\n",
       "3        4                741.0        1.563487         1.027082   234.199992\n",
       "4        5                869.0        1.480428         1.395051   487.316839\n",
       "...    ...                  ...             ...              ...          ...\n",
       "3209  3237                909.0        1.384203         1.036643   218.068186\n",
       "3210  3238                546.0        1.257794         0.926313   208.572639\n",
       "3211  3239               1216.0        1.497918         0.585934   122.248915\n",
       "3212  3240                839.0        1.257343         0.686725   144.388568\n",
       "3213  3241                659.0        1.482661         0.421981    70.332484\n",
       "\n",
       "[3214 rows x 5 columns]"
      ]
     },
     "execution_count": 67,
     "metadata": {},
     "output_type": "execute_result"
    }
   ],
   "source": [
    "data_arc.reset_index()"
   ]
  },
  {
   "cell_type": "markdown",
   "id": "36e1f1e3",
   "metadata": {},
   "source": [
    "<font color='steelblue'><b>КОД-РЕВЬЮ</b></font><br>\n",
    "<font color='green'>✔️ Хорошо, я бы считала суммарное время нагрева.</font>"
   ]
  },
  {
   "cell_type": "markdown",
   "id": "ca2ef7bb",
   "metadata": {},
   "source": [
    "<font color='purple'>Поменяла на сумму. Попробую с новым признаком.</font>"
   ]
  },
  {
   "cell_type": "markdown",
   "id": "92ab2a69",
   "metadata": {},
   "source": [
    "<font color='steelblue'><b>КОД-РЕВЬЮ v2</b></font><br>\n",
    "<font color='green'>✔️ Хорошо, давай попробуем так. Можно посчитать общую мощность и работу ещё.</font>"
   ]
  },
  {
   "cell_type": "code",
   "execution_count": 68,
   "id": "7662dc56",
   "metadata": {},
   "outputs": [],
   "source": [
    "#data_arc['e_work']=data_arc['interval_warmup_sum']*data_arc['full_power_mean'] # Работа"
   ]
  },
  {
   "cell_type": "markdown",
   "id": "4f131821",
   "metadata": {},
   "source": [
    "<font color='purple'>v3. Добавила, только взяла общую среднюю мощность для расчета работы.</font>"
   ]
  },
  {
   "cell_type": "markdown",
   "id": "f27cfed9",
   "metadata": {},
   "source": [
    "<font color='steelblue'><b>КОД-РЕВЬЮ v3</b></font><br>\n",
    "<font color='crimson'> ❌ Необходимо сначала рассчитать общую мощность, время, из них рассчитать работу, и только потом аггрегировать по ключу (среднее или сумма), порядок арифметических действий важен.</font>"
   ]
  },
  {
   "cell_type": "markdown",
   "id": "8c342e13",
   "metadata": {},
   "source": [
    "<font color='purple'>v4. Поменяла.</font>"
   ]
  },
  {
   "cell_type": "markdown",
   "id": "02ddacbe",
   "metadata": {},
   "source": [
    "<font color='steelblue'><b>КОД-РЕВЬЮ v4</b></font><br>\n",
    "<font color='green'>✔️ Хорошо.</font>"
   ]
  },
  {
   "cell_type": "code",
   "execution_count": 69,
   "id": "67c25729",
   "metadata": {},
   "outputs": [
    {
     "data": {
      "text/html": [
       "<div>\n",
       "<style scoped>\n",
       "    .dataframe tbody tr th:only-of-type {\n",
       "        vertical-align: middle;\n",
       "    }\n",
       "\n",
       "    .dataframe tbody tr th {\n",
       "        vertical-align: top;\n",
       "    }\n",
       "\n",
       "    .dataframe thead th {\n",
       "        text-align: right;\n",
       "    }\n",
       "</style>\n",
       "<table border=\"1\" class=\"dataframe\">\n",
       "  <thead>\n",
       "    <tr style=\"text-align: right;\">\n",
       "      <th></th>\n",
       "      <th>interval_warmup_sum</th>\n",
       "      <th>power_a/r_mean</th>\n",
       "      <th>full_power_mean</th>\n",
       "      <th>e_work_mean</th>\n",
       "    </tr>\n",
       "    <tr>\n",
       "      <th>key</th>\n",
       "      <th></th>\n",
       "      <th></th>\n",
       "      <th></th>\n",
       "      <th></th>\n",
       "    </tr>\n",
       "  </thead>\n",
       "  <tbody>\n",
       "    <tr>\n",
       "      <th>1</th>\n",
       "      <td>1098.0</td>\n",
       "      <td>1.538898</td>\n",
       "      <td>1.536349</td>\n",
       "      <td>429.346957</td>\n",
       "    </tr>\n",
       "    <tr>\n",
       "      <th>2</th>\n",
       "      <td>811.0</td>\n",
       "      <td>1.551834</td>\n",
       "      <td>1.008996</td>\n",
       "      <td>279.213459</td>\n",
       "    </tr>\n",
       "    <tr>\n",
       "      <th>3</th>\n",
       "      <td>655.0</td>\n",
       "      <td>1.583120</td>\n",
       "      <td>0.476228</td>\n",
       "      <td>105.334643</td>\n",
       "    </tr>\n",
       "    <tr>\n",
       "      <th>4</th>\n",
       "      <td>741.0</td>\n",
       "      <td>1.563487</td>\n",
       "      <td>1.027082</td>\n",
       "      <td>234.199992</td>\n",
       "    </tr>\n",
       "    <tr>\n",
       "      <th>5</th>\n",
       "      <td>869.0</td>\n",
       "      <td>1.480428</td>\n",
       "      <td>1.395051</td>\n",
       "      <td>487.316839</td>\n",
       "    </tr>\n",
       "    <tr>\n",
       "      <th>...</th>\n",
       "      <td>...</td>\n",
       "      <td>...</td>\n",
       "      <td>...</td>\n",
       "      <td>...</td>\n",
       "    </tr>\n",
       "    <tr>\n",
       "      <th>3237</th>\n",
       "      <td>909.0</td>\n",
       "      <td>1.384203</td>\n",
       "      <td>1.036643</td>\n",
       "      <td>218.068186</td>\n",
       "    </tr>\n",
       "    <tr>\n",
       "      <th>3238</th>\n",
       "      <td>546.0</td>\n",
       "      <td>1.257794</td>\n",
       "      <td>0.926313</td>\n",
       "      <td>208.572639</td>\n",
       "    </tr>\n",
       "    <tr>\n",
       "      <th>3239</th>\n",
       "      <td>1216.0</td>\n",
       "      <td>1.497918</td>\n",
       "      <td>0.585934</td>\n",
       "      <td>122.248915</td>\n",
       "    </tr>\n",
       "    <tr>\n",
       "      <th>3240</th>\n",
       "      <td>839.0</td>\n",
       "      <td>1.257343</td>\n",
       "      <td>0.686725</td>\n",
       "      <td>144.388568</td>\n",
       "    </tr>\n",
       "    <tr>\n",
       "      <th>3241</th>\n",
       "      <td>659.0</td>\n",
       "      <td>1.482661</td>\n",
       "      <td>0.421981</td>\n",
       "      <td>70.332484</td>\n",
       "    </tr>\n",
       "  </tbody>\n",
       "</table>\n",
       "<p>3214 rows × 4 columns</p>\n",
       "</div>"
      ],
      "text/plain": [
       "      interval_warmup_sum  power_a/r_mean  full_power_mean  e_work_mean\n",
       "key                                                                    \n",
       "1                  1098.0        1.538898         1.536349   429.346957\n",
       "2                   811.0        1.551834         1.008996   279.213459\n",
       "3                   655.0        1.583120         0.476228   105.334643\n",
       "4                   741.0        1.563487         1.027082   234.199992\n",
       "5                   869.0        1.480428         1.395051   487.316839\n",
       "...                   ...             ...              ...          ...\n",
       "3237                909.0        1.384203         1.036643   218.068186\n",
       "3238                546.0        1.257794         0.926313   208.572639\n",
       "3239               1216.0        1.497918         0.585934   122.248915\n",
       "3240                839.0        1.257343         0.686725   144.388568\n",
       "3241                659.0        1.482661         0.421981    70.332484\n",
       "\n",
       "[3214 rows x 4 columns]"
      ]
     },
     "execution_count": 69,
     "metadata": {},
     "output_type": "execute_result"
    }
   ],
   "source": [
    "data_arc"
   ]
  },
  {
   "cell_type": "markdown",
   "id": "c7aa48f9",
   "metadata": {},
   "source": [
    "### Объединение данных"
   ]
  },
  {
   "cell_type": "markdown",
   "id": "acf0d040",
   "metadata": {},
   "source": [
    "Необходимо включить только те партии, данные для которых есть во всех датасетах."
   ]
  },
  {
   "cell_type": "code",
   "execution_count": 70,
   "id": "537a4371",
   "metadata": {},
   "outputs": [],
   "source": [
    "data=data_arc.merge(data_temp,on='key').merge(data_bulk,on='key').merge(data_wire,on='key').merge(data_gas,on='key')"
   ]
  },
  {
   "cell_type": "code",
   "execution_count": 71,
   "id": "5216bd78",
   "metadata": {},
   "outputs": [
    {
     "data": {
      "text/html": [
       "<div>\n",
       "<style scoped>\n",
       "    .dataframe tbody tr th:only-of-type {\n",
       "        vertical-align: middle;\n",
       "    }\n",
       "\n",
       "    .dataframe tbody tr th {\n",
       "        vertical-align: top;\n",
       "    }\n",
       "\n",
       "    .dataframe thead th {\n",
       "        text-align: right;\n",
       "    }\n",
       "</style>\n",
       "<table border=\"1\" class=\"dataframe\">\n",
       "  <thead>\n",
       "    <tr style=\"text-align: right;\">\n",
       "      <th></th>\n",
       "      <th>key</th>\n",
       "      <th>interval_warmup_sum</th>\n",
       "      <th>power_a/r_mean</th>\n",
       "      <th>full_power_mean</th>\n",
       "      <th>e_work_mean</th>\n",
       "      <th>Температура_count</th>\n",
       "      <th>Температура_first</th>\n",
       "      <th>Температура_last</th>\n",
       "      <th>interval</th>\n",
       "      <th>Bulk 14</th>\n",
       "      <th>Wire 1</th>\n",
       "      <th>Газ 1</th>\n",
       "    </tr>\n",
       "  </thead>\n",
       "  <tbody>\n",
       "    <tr>\n",
       "      <th>0</th>\n",
       "      <td>1</td>\n",
       "      <td>1098.0</td>\n",
       "      <td>1.538898</td>\n",
       "      <td>1.536349</td>\n",
       "      <td>429.346957</td>\n",
       "      <td>5</td>\n",
       "      <td>1571.0</td>\n",
       "      <td>1613.0</td>\n",
       "      <td>861.0</td>\n",
       "      <td>150.0</td>\n",
       "      <td>60.059998</td>\n",
       "      <td>29.749986</td>\n",
       "    </tr>\n",
       "    <tr>\n",
       "      <th>1</th>\n",
       "      <td>2</td>\n",
       "      <td>811.0</td>\n",
       "      <td>1.551834</td>\n",
       "      <td>1.008996</td>\n",
       "      <td>279.213459</td>\n",
       "      <td>6</td>\n",
       "      <td>1581.0</td>\n",
       "      <td>1602.0</td>\n",
       "      <td>1305.0</td>\n",
       "      <td>149.0</td>\n",
       "      <td>96.052315</td>\n",
       "      <td>12.555561</td>\n",
       "    </tr>\n",
       "    <tr>\n",
       "      <th>2</th>\n",
       "      <td>3</td>\n",
       "      <td>655.0</td>\n",
       "      <td>1.583120</td>\n",
       "      <td>0.476228</td>\n",
       "      <td>105.334643</td>\n",
       "      <td>5</td>\n",
       "      <td>1596.0</td>\n",
       "      <td>1599.0</td>\n",
       "      <td>1300.0</td>\n",
       "      <td>152.0</td>\n",
       "      <td>91.160157</td>\n",
       "      <td>28.554793</td>\n",
       "    </tr>\n",
       "    <tr>\n",
       "      <th>3</th>\n",
       "      <td>4</td>\n",
       "      <td>741.0</td>\n",
       "      <td>1.563487</td>\n",
       "      <td>1.027082</td>\n",
       "      <td>234.199992</td>\n",
       "      <td>3</td>\n",
       "      <td>1601.0</td>\n",
       "      <td>1625.0</td>\n",
       "      <td>388.0</td>\n",
       "      <td>153.0</td>\n",
       "      <td>89.063515</td>\n",
       "      <td>18.841219</td>\n",
       "    </tr>\n",
       "    <tr>\n",
       "      <th>4</th>\n",
       "      <td>5</td>\n",
       "      <td>869.0</td>\n",
       "      <td>1.480428</td>\n",
       "      <td>1.395051</td>\n",
       "      <td>487.316839</td>\n",
       "      <td>2</td>\n",
       "      <td>1576.0</td>\n",
       "      <td>1602.0</td>\n",
       "      <td>762.0</td>\n",
       "      <td>151.0</td>\n",
       "      <td>89.238236</td>\n",
       "      <td>5.413692</td>\n",
       "    </tr>\n",
       "    <tr>\n",
       "      <th>...</th>\n",
       "      <td>...</td>\n",
       "      <td>...</td>\n",
       "      <td>...</td>\n",
       "      <td>...</td>\n",
       "      <td>...</td>\n",
       "      <td>...</td>\n",
       "      <td>...</td>\n",
       "      <td>...</td>\n",
       "      <td>...</td>\n",
       "      <td>...</td>\n",
       "      <td>...</td>\n",
       "      <td>...</td>\n",
       "    </tr>\n",
       "    <tr>\n",
       "      <th>2324</th>\n",
       "      <td>2495</td>\n",
       "      <td>723.0</td>\n",
       "      <td>1.372734</td>\n",
       "      <td>1.076524</td>\n",
       "      <td>220.582290</td>\n",
       "      <td>3</td>\n",
       "      <td>1570.0</td>\n",
       "      <td>1591.0</td>\n",
       "      <td>1137.0</td>\n",
       "      <td>129.0</td>\n",
       "      <td>89.150879</td>\n",
       "      <td>7.125735</td>\n",
       "    </tr>\n",
       "    <tr>\n",
       "      <th>2325</th>\n",
       "      <td>2496</td>\n",
       "      <td>940.0</td>\n",
       "      <td>1.491059</td>\n",
       "      <td>0.796950</td>\n",
       "      <td>149.930928</td>\n",
       "      <td>4</td>\n",
       "      <td>1554.0</td>\n",
       "      <td>1591.0</td>\n",
       "      <td>1618.0</td>\n",
       "      <td>129.0</td>\n",
       "      <td>114.179527</td>\n",
       "      <td>9.412616</td>\n",
       "    </tr>\n",
       "    <tr>\n",
       "      <th>2326</th>\n",
       "      <td>2497</td>\n",
       "      <td>569.0</td>\n",
       "      <td>1.192036</td>\n",
       "      <td>0.943979</td>\n",
       "      <td>184.987888</td>\n",
       "      <td>2</td>\n",
       "      <td>1571.0</td>\n",
       "      <td>1589.0</td>\n",
       "      <td>717.0</td>\n",
       "      <td>124.0</td>\n",
       "      <td>94.086723</td>\n",
       "      <td>6.271699</td>\n",
       "    </tr>\n",
       "    <tr>\n",
       "      <th>2327</th>\n",
       "      <td>2498</td>\n",
       "      <td>750.0</td>\n",
       "      <td>1.470072</td>\n",
       "      <td>0.852765</td>\n",
       "      <td>176.253314</td>\n",
       "      <td>5</td>\n",
       "      <td>1591.0</td>\n",
       "      <td>1594.0</td>\n",
       "      <td>1302.0</td>\n",
       "      <td>129.0</td>\n",
       "      <td>118.110717</td>\n",
       "      <td>14.953657</td>\n",
       "    </tr>\n",
       "    <tr>\n",
       "      <th>2328</th>\n",
       "      <td>2499</td>\n",
       "      <td>883.0</td>\n",
       "      <td>1.485584</td>\n",
       "      <td>1.830923</td>\n",
       "      <td>514.971743</td>\n",
       "      <td>3</td>\n",
       "      <td>1569.0</td>\n",
       "      <td>1603.0</td>\n",
       "      <td>1203.0</td>\n",
       "      <td>126.0</td>\n",
       "      <td>110.160958</td>\n",
       "      <td>11.336151</td>\n",
       "    </tr>\n",
       "  </tbody>\n",
       "</table>\n",
       "<p>2329 rows × 12 columns</p>\n",
       "</div>"
      ],
      "text/plain": [
       "       key  interval_warmup_sum  power_a/r_mean  full_power_mean  e_work_mean  \\\n",
       "0        1               1098.0        1.538898         1.536349   429.346957   \n",
       "1        2                811.0        1.551834         1.008996   279.213459   \n",
       "2        3                655.0        1.583120         0.476228   105.334643   \n",
       "3        4                741.0        1.563487         1.027082   234.199992   \n",
       "4        5                869.0        1.480428         1.395051   487.316839   \n",
       "...    ...                  ...             ...              ...          ...   \n",
       "2324  2495                723.0        1.372734         1.076524   220.582290   \n",
       "2325  2496                940.0        1.491059         0.796950   149.930928   \n",
       "2326  2497                569.0        1.192036         0.943979   184.987888   \n",
       "2327  2498                750.0        1.470072         0.852765   176.253314   \n",
       "2328  2499                883.0        1.485584         1.830923   514.971743   \n",
       "\n",
       "      Температура_count  Температура_first  Температура_last  interval  \\\n",
       "0                     5             1571.0            1613.0     861.0   \n",
       "1                     6             1581.0            1602.0    1305.0   \n",
       "2                     5             1596.0            1599.0    1300.0   \n",
       "3                     3             1601.0            1625.0     388.0   \n",
       "4                     2             1576.0            1602.0     762.0   \n",
       "...                 ...                ...               ...       ...   \n",
       "2324                  3             1570.0            1591.0    1137.0   \n",
       "2325                  4             1554.0            1591.0    1618.0   \n",
       "2326                  2             1571.0            1589.0     717.0   \n",
       "2327                  5             1591.0            1594.0    1302.0   \n",
       "2328                  3             1569.0            1603.0    1203.0   \n",
       "\n",
       "      Bulk 14      Wire 1      Газ 1  \n",
       "0       150.0   60.059998  29.749986  \n",
       "1       149.0   96.052315  12.555561  \n",
       "2       152.0   91.160157  28.554793  \n",
       "3       153.0   89.063515  18.841219  \n",
       "4       151.0   89.238236   5.413692  \n",
       "...       ...         ...        ...  \n",
       "2324    129.0   89.150879   7.125735  \n",
       "2325    129.0  114.179527   9.412616  \n",
       "2326    124.0   94.086723   6.271699  \n",
       "2327    129.0  118.110717  14.953657  \n",
       "2328    126.0  110.160958  11.336151  \n",
       "\n",
       "[2329 rows x 12 columns]"
      ]
     },
     "execution_count": 71,
     "metadata": {},
     "output_type": "execute_result"
    }
   ],
   "source": [
    "data"
   ]
  },
  {
   "cell_type": "markdown",
   "id": "3946c4db",
   "metadata": {},
   "source": [
    "Возможно это будут новые признаки такие как отношение мощностей, количество итераций, длительность нагрева партии."
   ]
  },
  {
   "cell_type": "markdown",
   "id": "3d80f070",
   "metadata": {},
   "source": [
    "<font color='steelblue'><b>КОД-РЕВЬЮ</b></font><br>\n",
    "<font color='green'>✔️ Объединение прошло успешно 👍🏼</font>"
   ]
  },
  {
   "cell_type": "code",
   "execution_count": 72,
   "id": "72073199",
   "metadata": {},
   "outputs": [
    {
     "name": "stdout",
     "output_type": "stream",
     "text": [
      "<class 'pandas.core.frame.DataFrame'>\n",
      "Int64Index: 2329 entries, 0 to 2328\n",
      "Data columns (total 12 columns):\n",
      " #   Column               Non-Null Count  Dtype  \n",
      "---  ------               --------------  -----  \n",
      " 0   key                  2329 non-null   int64  \n",
      " 1   interval_warmup_sum  2329 non-null   float64\n",
      " 2   power_a/r_mean       2329 non-null   float64\n",
      " 3   full_power_mean      2329 non-null   float64\n",
      " 4   e_work_mean          2329 non-null   float64\n",
      " 5   Температура_count    2329 non-null   int64  \n",
      " 6   Температура_first    2329 non-null   float64\n",
      " 7   Температура_last     2329 non-null   float64\n",
      " 8   interval             2329 non-null   float64\n",
      " 9   Bulk 14              2068 non-null   float64\n",
      " 10  Wire 1               2306 non-null   float64\n",
      " 11  Газ 1                2329 non-null   float64\n",
      "dtypes: float64(10), int64(2)\n",
      "memory usage: 236.5 KB\n"
     ]
    }
   ],
   "source": [
    "data.info()"
   ]
  },
  {
   "cell_type": "code",
   "execution_count": 73,
   "id": "bfd5ef55",
   "metadata": {},
   "outputs": [
    {
     "name": "stdout",
     "output_type": "stream",
     "text": [
      "<class 'pandas.core.frame.DataFrame'>\n",
      "Int64Index: 2329 entries, 0 to 2328\n",
      "Data columns (total 12 columns):\n",
      " #   Column               Non-Null Count  Dtype  \n",
      "---  ------               --------------  -----  \n",
      " 0   key                  2329 non-null   int64  \n",
      " 1   interval_warmup_sum  2329 non-null   float64\n",
      " 2   power_a/r_mean       2329 non-null   float64\n",
      " 3   full_power_mean      2329 non-null   float64\n",
      " 4   e_work_mean          2329 non-null   float64\n",
      " 5   Температура_count    2329 non-null   int64  \n",
      " 6   Температура_first    2329 non-null   float64\n",
      " 7   Температура_last     2329 non-null   float64\n",
      " 8   interval             2329 non-null   float64\n",
      " 9   Bulk 14              2329 non-null   float64\n",
      " 10  Wire 1               2329 non-null   float64\n",
      " 11  Газ 1                2329 non-null   float64\n",
      "dtypes: float64(10), int64(2)\n",
      "memory usage: 236.5 KB\n"
     ]
    }
   ],
   "source": [
    "data['Bulk 14']=data['Bulk 14'].fillna(0)\n",
    "data['Wire 1']=data['Wire 1'].fillna(0)\n",
    "data.info()"
   ]
  },
  {
   "cell_type": "markdown",
   "id": "5c737d84",
   "metadata": {},
   "source": [
    "<font color='purple'>Пропуски в материалах заменю 0. </font>"
   ]
  },
  {
   "cell_type": "markdown",
   "id": "684f1d58",
   "metadata": {},
   "source": [
    "### Удаление низких температур и отрицательной реактивной мощности."
   ]
  },
  {
   "cell_type": "code",
   "execution_count": 74,
   "id": "f97cb7ac",
   "metadata": {},
   "outputs": [
    {
     "name": "stderr",
     "output_type": "stream",
     "text": [
      "C:\\ProgramData\\Anaconda3\\lib\\site-packages\\seaborn\\_decorators.py:36: FutureWarning: Pass the following variable as a keyword arg: x. From version 0.12, the only valid positional argument will be `data`, and passing other arguments without an explicit keyword will result in an error or misinterpretation.\n",
      "  warnings.warn(\n"
     ]
    },
    {
     "data": {
      "image/png": "[encoded data removed]",
      "text/plain": [
       "<Figure size 432x288 with 1 Axes>"
      ]
     },
     "metadata": {
      "needs_background": "light"
     },
     "output_type": "display_data"
    }
   ],
   "source": [
    "sns.boxplot(data['Температура_first'])\n",
    "plt.show()"
   ]
  },
  {
   "cell_type": "code",
   "execution_count": 75,
   "id": "f19e3a03",
   "metadata": {},
   "outputs": [],
   "source": [
    "data=data[data['Температура_first']>1300]"
   ]
  },
  {
   "cell_type": "code",
   "execution_count": 76,
   "id": "e7bb202d",
   "metadata": {},
   "outputs": [
    {
     "name": "stderr",
     "output_type": "stream",
     "text": [
      "C:\\ProgramData\\Anaconda3\\lib\\site-packages\\seaborn\\_decorators.py:36: FutureWarning: Pass the following variable as a keyword arg: x. From version 0.12, the only valid positional argument will be `data`, and passing other arguments without an explicit keyword will result in an error or misinterpretation.\n",
      "  warnings.warn(\n"
     ]
    },
    {
     "data": {
      "image/png": "[encoded data removed]",
      "text/plain": [
       "<Figure size 432x288 with 1 Axes>"
      ]
     },
     "metadata": {
      "needs_background": "light"
     },
     "output_type": "display_data"
    }
   ],
   "source": [
    "sns.boxplot(data['power_a/r_mean'])\n",
    "plt.show()"
   ]
  },
  {
   "cell_type": "code",
   "execution_count": 77,
   "id": "b2241423",
   "metadata": {},
   "outputs": [],
   "source": [
    "data=data[data['power_a/r_mean']>0]"
   ]
  },
  {
   "cell_type": "markdown",
   "id": "0612e16f",
   "metadata": {},
   "source": [
    "### 3.3 Анализ корреляции признаков"
   ]
  },
  {
   "cell_type": "markdown",
   "id": "f3cc42d5",
   "metadata": {},
   "source": [
    "Один из признаков с выскокой корреляцией необходимо будет удалить. Также можно проверить выборку на дубликаты и помянять типы данных для дат."
   ]
  },
  {
   "cell_type": "code",
   "execution_count": 78,
   "id": "592d136b",
   "metadata": {},
   "outputs": [
    {
     "data": {
      "text/html": [
       "<div>\n",
       "<style scoped>\n",
       "    .dataframe tbody tr th:only-of-type {\n",
       "        vertical-align: middle;\n",
       "    }\n",
       "\n",
       "    .dataframe tbody tr th {\n",
       "        vertical-align: top;\n",
       "    }\n",
       "\n",
       "    .dataframe thead th {\n",
       "        text-align: right;\n",
       "    }\n",
       "</style>\n",
       "<table border=\"1\" class=\"dataframe\">\n",
       "  <thead>\n",
       "    <tr style=\"text-align: right;\">\n",
       "      <th></th>\n",
       "      <th>key</th>\n",
       "      <th>interval_warmup_sum</th>\n",
       "      <th>power_a/r_mean</th>\n",
       "      <th>full_power_mean</th>\n",
       "      <th>e_work_mean</th>\n",
       "      <th>Температура_count</th>\n",
       "      <th>Температура_first</th>\n",
       "      <th>Температура_last</th>\n",
       "      <th>interval</th>\n",
       "      <th>Bulk 14</th>\n",
       "      <th>Wire 1</th>\n",
       "      <th>Газ 1</th>\n",
       "    </tr>\n",
       "  </thead>\n",
       "  <tbody>\n",
       "    <tr>\n",
       "      <th>key</th>\n",
       "      <td>1.000000</td>\n",
       "      <td>-0.028697</td>\n",
       "      <td>-0.133647</td>\n",
       "      <td>0.025087</td>\n",
       "      <td>0.025099</td>\n",
       "      <td>-0.062524</td>\n",
       "      <td>-0.016458</td>\n",
       "      <td>-0.097052</td>\n",
       "      <td>-0.002422</td>\n",
       "      <td>-0.109798</td>\n",
       "      <td>-0.013728</td>\n",
       "      <td>-0.043059</td>\n",
       "    </tr>\n",
       "    <tr>\n",
       "      <th>interval_warmup_sum</th>\n",
       "      <td>-0.028697</td>\n",
       "      <td>1.000000</td>\n",
       "      <td>0.073037</td>\n",
       "      <td>-0.022699</td>\n",
       "      <td>-0.022275</td>\n",
       "      <td>0.389663</td>\n",
       "      <td>-0.383660</td>\n",
       "      <td>0.278418</td>\n",
       "      <td>0.565399</td>\n",
       "      <td>0.460630</td>\n",
       "      <td>0.055720</td>\n",
       "      <td>0.396089</td>\n",
       "    </tr>\n",
       "    <tr>\n",
       "      <th>power_a/r_mean</th>\n",
       "      <td>-0.133647</td>\n",
       "      <td>0.073037</td>\n",
       "      <td>1.000000</td>\n",
       "      <td>-0.039603</td>\n",
       "      <td>-0.039520</td>\n",
       "      <td>0.008322</td>\n",
       "      <td>-0.083038</td>\n",
       "      <td>0.160538</td>\n",
       "      <td>0.005097</td>\n",
       "      <td>0.142462</td>\n",
       "      <td>0.130380</td>\n",
       "      <td>0.087230</td>\n",
       "    </tr>\n",
       "    <tr>\n",
       "      <th>full_power_mean</th>\n",
       "      <td>0.025087</td>\n",
       "      <td>-0.022699</td>\n",
       "      <td>-0.039603</td>\n",
       "      <td>1.000000</td>\n",
       "      <td>1.000000</td>\n",
       "      <td>-0.011396</td>\n",
       "      <td>-0.007452</td>\n",
       "      <td>-0.028396</td>\n",
       "      <td>-0.010429</td>\n",
       "      <td>0.011302</td>\n",
       "      <td>-0.012979</td>\n",
       "      <td>0.000689</td>\n",
       "    </tr>\n",
       "    <tr>\n",
       "      <th>e_work_mean</th>\n",
       "      <td>0.025099</td>\n",
       "      <td>-0.022275</td>\n",
       "      <td>-0.039520</td>\n",
       "      <td>1.000000</td>\n",
       "      <td>1.000000</td>\n",
       "      <td>-0.011366</td>\n",
       "      <td>-0.007730</td>\n",
       "      <td>-0.028247</td>\n",
       "      <td>-0.010275</td>\n",
       "      <td>0.011558</td>\n",
       "      <td>-0.013011</td>\n",
       "      <td>0.000812</td>\n",
       "    </tr>\n",
       "    <tr>\n",
       "      <th>Температура_count</th>\n",
       "      <td>-0.062524</td>\n",
       "      <td>0.389663</td>\n",
       "      <td>0.008322</td>\n",
       "      <td>-0.011396</td>\n",
       "      <td>-0.011366</td>\n",
       "      <td>1.000000</td>\n",
       "      <td>0.195171</td>\n",
       "      <td>0.098290</td>\n",
       "      <td>0.553548</td>\n",
       "      <td>0.112094</td>\n",
       "      <td>0.164035</td>\n",
       "      <td>0.325021</td>\n",
       "    </tr>\n",
       "    <tr>\n",
       "      <th>Температура_first</th>\n",
       "      <td>-0.016458</td>\n",
       "      <td>-0.383660</td>\n",
       "      <td>-0.083038</td>\n",
       "      <td>-0.007452</td>\n",
       "      <td>-0.007730</td>\n",
       "      <td>0.195171</td>\n",
       "      <td>1.000000</td>\n",
       "      <td>0.301961</td>\n",
       "      <td>0.209653</td>\n",
       "      <td>-0.180058</td>\n",
       "      <td>0.262946</td>\n",
       "      <td>0.036730</td>\n",
       "    </tr>\n",
       "    <tr>\n",
       "      <th>Температура_last</th>\n",
       "      <td>-0.097052</td>\n",
       "      <td>0.278418</td>\n",
       "      <td>0.160538</td>\n",
       "      <td>-0.028396</td>\n",
       "      <td>-0.028247</td>\n",
       "      <td>0.098290</td>\n",
       "      <td>0.301961</td>\n",
       "      <td>1.000000</td>\n",
       "      <td>0.097425</td>\n",
       "      <td>0.114520</td>\n",
       "      <td>0.317702</td>\n",
       "      <td>0.059036</td>\n",
       "    </tr>\n",
       "    <tr>\n",
       "      <th>interval</th>\n",
       "      <td>-0.002422</td>\n",
       "      <td>0.565399</td>\n",
       "      <td>0.005097</td>\n",
       "      <td>-0.010429</td>\n",
       "      <td>-0.010275</td>\n",
       "      <td>0.553548</td>\n",
       "      <td>0.209653</td>\n",
       "      <td>0.097425</td>\n",
       "      <td>1.000000</td>\n",
       "      <td>0.185511</td>\n",
       "      <td>0.164881</td>\n",
       "      <td>0.454333</td>\n",
       "    </tr>\n",
       "    <tr>\n",
       "      <th>Bulk 14</th>\n",
       "      <td>-0.109798</td>\n",
       "      <td>0.460630</td>\n",
       "      <td>0.142462</td>\n",
       "      <td>0.011302</td>\n",
       "      <td>0.011558</td>\n",
       "      <td>0.112094</td>\n",
       "      <td>-0.180058</td>\n",
       "      <td>0.114520</td>\n",
       "      <td>0.185511</td>\n",
       "      <td>1.000000</td>\n",
       "      <td>-0.052792</td>\n",
       "      <td>0.268275</td>\n",
       "    </tr>\n",
       "    <tr>\n",
       "      <th>Wire 1</th>\n",
       "      <td>-0.013728</td>\n",
       "      <td>0.055720</td>\n",
       "      <td>0.130380</td>\n",
       "      <td>-0.012979</td>\n",
       "      <td>-0.013011</td>\n",
       "      <td>0.164035</td>\n",
       "      <td>0.262946</td>\n",
       "      <td>0.317702</td>\n",
       "      <td>0.164881</td>\n",
       "      <td>-0.052792</td>\n",
       "      <td>1.000000</td>\n",
       "      <td>0.118173</td>\n",
       "    </tr>\n",
       "    <tr>\n",
       "      <th>Газ 1</th>\n",
       "      <td>-0.043059</td>\n",
       "      <td>0.396089</td>\n",
       "      <td>0.087230</td>\n",
       "      <td>0.000689</td>\n",
       "      <td>0.000812</td>\n",
       "      <td>0.325021</td>\n",
       "      <td>0.036730</td>\n",
       "      <td>0.059036</td>\n",
       "      <td>0.454333</td>\n",
       "      <td>0.268275</td>\n",
       "      <td>0.118173</td>\n",
       "      <td>1.000000</td>\n",
       "    </tr>\n",
       "  </tbody>\n",
       "</table>\n",
       "</div>"
      ],
      "text/plain": [
       "                          key  interval_warmup_sum  power_a/r_mean  \\\n",
       "key                  1.000000            -0.028697       -0.133647   \n",
       "interval_warmup_sum -0.028697             1.000000        0.073037   \n",
       "power_a/r_mean      -0.133647             0.073037        1.000000   \n",
       "full_power_mean      0.025087            -0.022699       -0.039603   \n",
       "e_work_mean          0.025099            -0.022275       -0.039520   \n",
       "Температура_count   -0.062524             0.389663        0.008322   \n",
       "Температура_first   -0.016458            -0.383660       -0.083038   \n",
       "Температура_last    -0.097052             0.278418        0.160538   \n",
       "interval            -0.002422             0.565399        0.005097   \n",
       "Bulk 14             -0.109798             0.460630        0.142462   \n",
       "Wire 1              -0.013728             0.055720        0.130380   \n",
       "Газ 1               -0.043059             0.396089        0.087230   \n",
       "\n",
       "                     full_power_mean  e_work_mean  Температура_count  \\\n",
       "key                         0.025087     0.025099          -0.062524   \n",
       "interval_warmup_sum        -0.022699    -0.022275           0.389663   \n",
       "power_a/r_mean             -0.039603    -0.039520           0.008322   \n",
       "full_power_mean             1.000000     1.000000          -0.011396   \n",
       "e_work_mean                 1.000000     1.000000          -0.011366   \n",
       "Температура_count          -0.011396    -0.011366           1.000000   \n",
       "Температура_first          -0.007452    -0.007730           0.195171   \n",
       "Температура_last           -0.028396    -0.028247           0.098290   \n",
       "interval                   -0.010429    -0.010275           0.553548   \n",
       "Bulk 14                     0.011302     0.011558           0.112094   \n",
       "Wire 1                     -0.012979    -0.013011           0.164035   \n",
       "Газ 1                       0.000689     0.000812           0.325021   \n",
       "\n",
       "                     Температура_first  Температура_last  interval   Bulk 14  \\\n",
       "key                          -0.016458         -0.097052 -0.002422 -0.109798   \n",
       "interval_warmup_sum          -0.383660          0.278418  0.565399  0.460630   \n",
       "power_a/r_mean               -0.083038          0.160538  0.005097  0.142462   \n",
       "full_power_mean              -0.007452         -0.028396 -0.010429  0.011302   \n",
       "e_work_mean                  -0.007730         -0.028247 -0.010275  0.011558   \n",
       "Температура_count             0.195171          0.098290  0.553548  0.112094   \n",
       "Температура_first             1.000000          0.301961  0.209653 -0.180058   \n",
       "Температура_last              0.301961          1.000000  0.097425  0.114520   \n",
       "interval                      0.209653          0.097425  1.000000  0.185511   \n",
       "Bulk 14                      -0.180058          0.114520  0.185511  1.000000   \n",
       "Wire 1                        0.262946          0.317702  0.164881 -0.052792   \n",
       "Газ 1                         0.036730          0.059036  0.454333  0.268275   \n",
       "\n",
       "                       Wire 1     Газ 1  \n",
       "key                 -0.013728 -0.043059  \n",
       "interval_warmup_sum  0.055720  0.396089  \n",
       "power_a/r_mean       0.130380  0.087230  \n",
       "full_power_mean     -0.012979  0.000689  \n",
       "e_work_mean         -0.013011  0.000812  \n",
       "Температура_count    0.164035  0.325021  \n",
       "Температура_first    0.262946  0.036730  \n",
       "Температура_last     0.317702  0.059036  \n",
       "interval             0.164881  0.454333  \n",
       "Bulk 14             -0.052792  0.268275  \n",
       "Wire 1               1.000000  0.118173  \n",
       "Газ 1                0.118173  1.000000  "
      ]
     },
     "execution_count": 78,
     "metadata": {},
     "output_type": "execute_result"
    }
   ],
   "source": [
    "data.corr() "
   ]
  },
  {
   "cell_type": "code",
   "execution_count": 79,
   "id": "1e6cc7d2",
   "metadata": {},
   "outputs": [
    {
     "data": {
      "text/plain": [
       "0"
      ]
     },
     "execution_count": 79,
     "metadata": {},
     "output_type": "execute_result"
    }
   ],
   "source": [
    "#Проверка на дубли\n",
    "data.duplicated().sum()"
   ]
  },
  {
   "cell_type": "markdown",
   "id": "99b71443",
   "metadata": {},
   "source": [
    "<font color='steelblue'><b>КОД-РЕВЬЮ</b></font><br>\n",
    "<font color='darkorange'>⚠️ Здесь хотелось бы увидеть какой-то вывод.</font>"
   ]
  },
  {
   "cell_type": "markdown",
   "id": "d325d859",
   "metadata": {},
   "source": [
    "<font color='purple'>Вывод:Введенные признаки работа и общая средняя мощность являются зависимыми признаками. Исключу их из выборки для обучения линейных моделей, но надеюсь, что они помогут для обучения моделей деревьев.В созданном наборе отсутствуют дубликаты.</font>"
   ]
  },
  {
   "cell_type": "markdown",
   "id": "06b8c9c2",
   "metadata": {},
   "source": [
    "<font color='steelblue'><b>КОД-РЕВЬЮ v2</b><br>\n",
    "Если признаки не являются утечкой и коррелируют с целевым, это наоборот хорошо. Когда мы проверяем на мультиколлинеарность, мы смотрим на корреляцию между признаками выборки, линейной регрессии будет сложно, если будут сильно коррелирующие признаки, на которых она учится.</font>"
   ]
  },
  {
   "cell_type": "markdown",
   "id": "9fafe013",
   "metadata": {},
   "source": [
    "### 3.4 Разделение данных на обучающую и тестовую выборки"
   ]
  },
  {
   "cell_type": "markdown",
   "id": "56c6c2f4",
   "metadata": {},
   "source": [
    "Перед тем как видо изменять данные их необходимо разбить на две части. Тестовую оставляем как есть обучающую выборки приводим к правильному виду: без пропусков и выбросов."
   ]
  },
  {
   "cell_type": "code",
   "execution_count": 80,
   "id": "811e2467",
   "metadata": {},
   "outputs": [],
   "source": [
    "data_train,data_test=train_test_split(data,test_size=0.25, random_state=80822)\n",
    "features_test = data_test.drop(['Температура_last'], axis=1)\n",
    "target_test = data_test['Температура_last']"
   ]
  },
  {
   "cell_type": "markdown",
   "id": "431088a4",
   "metadata": {},
   "source": [
    "<font color='steelblue'><b>КОД-РЕВЬЮ</b></font><br>\n",
    "<font color='green'>✔️ Выборки разделены.</font>"
   ]
  },
  {
   "cell_type": "markdown",
   "id": "6878279a",
   "metadata": {},
   "source": [
    "### 3.5 Устранение пропусков "
   ]
  },
  {
   "cell_type": "code",
   "execution_count": 81,
   "id": "09a392fa",
   "metadata": {},
   "outputs": [
    {
     "name": "stdout",
     "output_type": "stream",
     "text": [
      "<class 'pandas.core.frame.DataFrame'>\n",
      "Int64Index: 1743 entries, 335 to 1423\n",
      "Data columns (total 12 columns):\n",
      " #   Column               Non-Null Count  Dtype  \n",
      "---  ------               --------------  -----  \n",
      " 0   key                  1743 non-null   int64  \n",
      " 1   interval_warmup_sum  1743 non-null   float64\n",
      " 2   power_a/r_mean       1743 non-null   float64\n",
      " 3   full_power_mean      1743 non-null   float64\n",
      " 4   e_work_mean          1743 non-null   float64\n",
      " 5   Температура_count    1743 non-null   int64  \n",
      " 6   Температура_first    1743 non-null   float64\n",
      " 7   Температура_last     1743 non-null   float64\n",
      " 8   interval             1743 non-null   float64\n",
      " 9   Bulk 14              1743 non-null   float64\n",
      " 10  Wire 1               1743 non-null   float64\n",
      " 11  Газ 1                1743 non-null   float64\n",
      "dtypes: float64(10), int64(2)\n",
      "memory usage: 177.0 KB\n"
     ]
    }
   ],
   "source": [
    "data_train.info()"
   ]
  },
  {
   "cell_type": "markdown",
   "id": "687bee48",
   "metadata": {},
   "source": [
    "<font color='steelblue'><b>КОД-РЕВЬЮ</b></font><br>\n",
    "<font color='crimson'> ❌ Признак key необходимо удалить, он не нужен для обучения.</font>"
   ]
  },
  {
   "cell_type": "code",
   "execution_count": 82,
   "id": "e328979d",
   "metadata": {},
   "outputs": [],
   "source": [
    "data_train = data_train .drop(['key'], axis=1)\n",
    "features_test = features_test.drop(['key'], axis=1)"
   ]
  },
  {
   "cell_type": "markdown",
   "id": "9e185e90",
   "metadata": {},
   "source": [
    "<font color='steelblue'><b>КОД-РЕВЬЮ v2</b></font><br>\n",
    "<font color='green'>✔️ Хорошо.</font>"
   ]
  },
  {
   "cell_type": "code",
   "execution_count": 83,
   "id": "dda6c175",
   "metadata": {},
   "outputs": [
    {
     "name": "stdout",
     "output_type": "stream",
     "text": [
      "<class 'pandas.core.frame.DataFrame'>\n",
      "Int64Index: 1743 entries, 335 to 1423\n",
      "Data columns (total 11 columns):\n",
      " #   Column               Non-Null Count  Dtype  \n",
      "---  ------               --------------  -----  \n",
      " 0   interval_warmup_sum  1743 non-null   float64\n",
      " 1   power_a/r_mean       1743 non-null   float64\n",
      " 2   full_power_mean      1743 non-null   float64\n",
      " 3   e_work_mean          1743 non-null   float64\n",
      " 4   Температура_count    1743 non-null   int64  \n",
      " 5   Температура_first    1743 non-null   float64\n",
      " 6   Температура_last     1743 non-null   float64\n",
      " 7   interval             1743 non-null   float64\n",
      " 8   Bulk 14              1743 non-null   float64\n",
      " 9   Wire 1               1743 non-null   float64\n",
      " 10  Газ 1                1743 non-null   float64\n",
      "dtypes: float64(10), int64(1)\n",
      "memory usage: 163.4 KB\n"
     ]
    }
   ],
   "source": [
    "data_train.info()"
   ]
  },
  {
   "cell_type": "code",
   "execution_count": 84,
   "id": "dd3a45c6",
   "metadata": {},
   "outputs": [
    {
     "data": {
      "text/html": [
       "<div>\n",
       "<style scoped>\n",
       "    .dataframe tbody tr th:only-of-type {\n",
       "        vertical-align: middle;\n",
       "    }\n",
       "\n",
       "    .dataframe tbody tr th {\n",
       "        vertical-align: top;\n",
       "    }\n",
       "\n",
       "    .dataframe thead th {\n",
       "        text-align: right;\n",
       "    }\n",
       "</style>\n",
       "<table border=\"1\" class=\"dataframe\">\n",
       "  <thead>\n",
       "    <tr style=\"text-align: right;\">\n",
       "      <th></th>\n",
       "      <th>interval_warmup_sum</th>\n",
       "      <th>power_a/r_mean</th>\n",
       "      <th>full_power_mean</th>\n",
       "      <th>e_work_mean</th>\n",
       "      <th>Температура_count</th>\n",
       "      <th>Температура_first</th>\n",
       "      <th>interval</th>\n",
       "      <th>Bulk 14</th>\n",
       "      <th>Wire 1</th>\n",
       "      <th>Газ 1</th>\n",
       "    </tr>\n",
       "  </thead>\n",
       "  <tbody>\n",
       "    <tr>\n",
       "      <th>700</th>\n",
       "      <td>628.0</td>\n",
       "      <td>1.291920</td>\n",
       "      <td>0.537880</td>\n",
       "      <td>103.354646</td>\n",
       "      <td>4</td>\n",
       "      <td>1588.0</td>\n",
       "      <td>1167.0</td>\n",
       "      <td>204.0</td>\n",
       "      <td>125.330391</td>\n",
       "      <td>6.526177</td>\n",
       "    </tr>\n",
       "    <tr>\n",
       "      <th>2286</th>\n",
       "      <td>1256.0</td>\n",
       "      <td>1.374168</td>\n",
       "      <td>0.987404</td>\n",
       "      <td>273.271343</td>\n",
       "      <td>6</td>\n",
       "      <td>1601.0</td>\n",
       "      <td>3052.0</td>\n",
       "      <td>145.0</td>\n",
       "      <td>126.147835</td>\n",
       "      <td>16.618648</td>\n",
       "    </tr>\n",
       "    <tr>\n",
       "      <th>422</th>\n",
       "      <td>935.0</td>\n",
       "      <td>1.291021</td>\n",
       "      <td>0.641067</td>\n",
       "      <td>131.573304</td>\n",
       "      <td>6</td>\n",
       "      <td>1554.0</td>\n",
       "      <td>1655.0</td>\n",
       "      <td>119.0</td>\n",
       "      <td>155.235611</td>\n",
       "      <td>16.571532</td>\n",
       "    </tr>\n",
       "    <tr>\n",
       "      <th>550</th>\n",
       "      <td>358.0</td>\n",
       "      <td>1.297148</td>\n",
       "      <td>0.206475</td>\n",
       "      <td>23.625581</td>\n",
       "      <td>4</td>\n",
       "      <td>1606.0</td>\n",
       "      <td>1470.0</td>\n",
       "      <td>0.0</td>\n",
       "      <td>165.204010</td>\n",
       "      <td>7.584491</td>\n",
       "    </tr>\n",
       "    <tr>\n",
       "      <th>398</th>\n",
       "      <td>842.0</td>\n",
       "      <td>1.248588</td>\n",
       "      <td>0.703819</td>\n",
       "      <td>125.236444</td>\n",
       "      <td>4</td>\n",
       "      <td>1558.0</td>\n",
       "      <td>1190.0</td>\n",
       "      <td>0.0</td>\n",
       "      <td>162.583190</td>\n",
       "      <td>5.549115</td>\n",
       "    </tr>\n",
       "    <tr>\n",
       "      <th>...</th>\n",
       "      <td>...</td>\n",
       "      <td>...</td>\n",
       "      <td>...</td>\n",
       "      <td>...</td>\n",
       "      <td>...</td>\n",
       "      <td>...</td>\n",
       "      <td>...</td>\n",
       "      <td>...</td>\n",
       "      <td>...</td>\n",
       "      <td>...</td>\n",
       "    </tr>\n",
       "    <tr>\n",
       "      <th>2146</th>\n",
       "      <td>890.0</td>\n",
       "      <td>1.479548</td>\n",
       "      <td>1.504292</td>\n",
       "      <td>362.861248</td>\n",
       "      <td>7</td>\n",
       "      <td>1551.0</td>\n",
       "      <td>1454.0</td>\n",
       "      <td>121.0</td>\n",
       "      <td>58.007038</td>\n",
       "      <td>13.864435</td>\n",
       "    </tr>\n",
       "    <tr>\n",
       "      <th>508</th>\n",
       "      <td>870.0</td>\n",
       "      <td>1.293666</td>\n",
       "      <td>0.642085</td>\n",
       "      <td>159.074861</td>\n",
       "      <td>8</td>\n",
       "      <td>1600.0</td>\n",
       "      <td>2956.0</td>\n",
       "      <td>105.0</td>\n",
       "      <td>168.386399</td>\n",
       "      <td>15.894678</td>\n",
       "    </tr>\n",
       "    <tr>\n",
       "      <th>1566</th>\n",
       "      <td>1036.0</td>\n",
       "      <td>1.525264</td>\n",
       "      <td>0.962001</td>\n",
       "      <td>272.566359</td>\n",
       "      <td>5</td>\n",
       "      <td>1580.0</td>\n",
       "      <td>1792.0</td>\n",
       "      <td>398.0</td>\n",
       "      <td>100.105198</td>\n",
       "      <td>5.356624</td>\n",
       "    </tr>\n",
       "    <tr>\n",
       "      <th>1815</th>\n",
       "      <td>671.0</td>\n",
       "      <td>1.416884</td>\n",
       "      <td>0.667430</td>\n",
       "      <td>139.498048</td>\n",
       "      <td>4</td>\n",
       "      <td>1618.0</td>\n",
       "      <td>1507.0</td>\n",
       "      <td>145.0</td>\n",
       "      <td>72.115685</td>\n",
       "      <td>13.337086</td>\n",
       "    </tr>\n",
       "    <tr>\n",
       "      <th>2125</th>\n",
       "      <td>410.0</td>\n",
       "      <td>1.253884</td>\n",
       "      <td>0.410445</td>\n",
       "      <td>74.894715</td>\n",
       "      <td>3</td>\n",
       "      <td>1592.0</td>\n",
       "      <td>1233.0</td>\n",
       "      <td>131.0</td>\n",
       "      <td>34.070400</td>\n",
       "      <td>16.508695</td>\n",
       "    </tr>\n",
       "  </tbody>\n",
       "</table>\n",
       "<p>582 rows × 10 columns</p>\n",
       "</div>"
      ],
      "text/plain": [
       "      interval_warmup_sum  power_a/r_mean  full_power_mean  e_work_mean  \\\n",
       "700                 628.0        1.291920         0.537880   103.354646   \n",
       "2286               1256.0        1.374168         0.987404   273.271343   \n",
       "422                 935.0        1.291021         0.641067   131.573304   \n",
       "550                 358.0        1.297148         0.206475    23.625581   \n",
       "398                 842.0        1.248588         0.703819   125.236444   \n",
       "...                   ...             ...              ...          ...   \n",
       "2146                890.0        1.479548         1.504292   362.861248   \n",
       "508                 870.0        1.293666         0.642085   159.074861   \n",
       "1566               1036.0        1.525264         0.962001   272.566359   \n",
       "1815                671.0        1.416884         0.667430   139.498048   \n",
       "2125                410.0        1.253884         0.410445    74.894715   \n",
       "\n",
       "      Температура_count  Температура_first  interval  Bulk 14      Wire 1  \\\n",
       "700                   4             1588.0    1167.0    204.0  125.330391   \n",
       "2286                  6             1601.0    3052.0    145.0  126.147835   \n",
       "422                   6             1554.0    1655.0    119.0  155.235611   \n",
       "550                   4             1606.0    1470.0      0.0  165.204010   \n",
       "398                   4             1558.0    1190.0      0.0  162.583190   \n",
       "...                 ...                ...       ...      ...         ...   \n",
       "2146                  7             1551.0    1454.0    121.0   58.007038   \n",
       "508                   8             1600.0    2956.0    105.0  168.386399   \n",
       "1566                  5             1580.0    1792.0    398.0  100.105198   \n",
       "1815                  4             1618.0    1507.0    145.0   72.115685   \n",
       "2125                  3             1592.0    1233.0    131.0   34.070400   \n",
       "\n",
       "          Газ 1  \n",
       "700    6.526177  \n",
       "2286  16.618648  \n",
       "422   16.571532  \n",
       "550    7.584491  \n",
       "398    5.549115  \n",
       "...         ...  \n",
       "2146  13.864435  \n",
       "508   15.894678  \n",
       "1566   5.356624  \n",
       "1815  13.337086  \n",
       "2125  16.508695  \n",
       "\n",
       "[582 rows x 10 columns]"
      ]
     },
     "execution_count": 84,
     "metadata": {},
     "output_type": "execute_result"
    }
   ],
   "source": [
    "features_test"
   ]
  },
  {
   "cell_type": "markdown",
   "id": "2514843d",
   "metadata": {},
   "source": [
    "<font color='purple'>Столбец key удален.</font>"
   ]
  },
  {
   "cell_type": "markdown",
   "id": "e0f2c7d6",
   "metadata": {},
   "source": [
    "features_train['Bulk 14']=features_train['Bulk 14'].fillna(features_train['Bulk 14'].mean())\n",
    "features_train['Wire 1']=features_train['Wire 1'].fillna(features_train['Wire 1'].mean())\n",
    "features_train.info()"
   ]
  },
  {
   "cell_type": "markdown",
   "id": "01b2af30",
   "metadata": {},
   "source": [
    "<font color='steelblue'><b>КОД-РЕВЬЮ</b></font><br>\n",
    "<font color='crimson'> ❌ Если у ключа имеется пропуск в каком-то материале, значит этот материал просто не добавлялся к этой партии, пропуски нужно заполнять не средним. Пропуски стоит заполнитьдо разделения на выборки.</font>"
   ]
  },
  {
   "cell_type": "markdown",
   "id": "4c517591",
   "metadata": {},
   "source": [
    "<font color='purple'>Пропуски исключены до разбиения на выборки .</font>"
   ]
  },
  {
   "cell_type": "markdown",
   "id": "4c138168",
   "metadata": {},
   "source": [
    "<font color='steelblue'><b>КОД-РЕВЬЮ v2</b></font><br>\n",
    "<font color='green'>✔️ Хорошо.</font>"
   ]
  },
  {
   "cell_type": "markdown",
   "id": "30714a59",
   "metadata": {},
   "source": [
    "### 3.6 Устранение выбросов в обучающей выборке"
   ]
  },
  {
   "cell_type": "code",
   "execution_count": 85,
   "id": "c32f819d",
   "metadata": {},
   "outputs": [],
   "source": [
    "#Удаляю только ярко выраженные выбросы, что бы неурезать данные."
   ]
  },
  {
   "cell_type": "code",
   "execution_count": 86,
   "id": "04621f51",
   "metadata": {},
   "outputs": [
    {
     "name": "stderr",
     "output_type": "stream",
     "text": [
      "C:\\ProgramData\\Anaconda3\\lib\\site-packages\\seaborn\\_decorators.py:36: FutureWarning: Pass the following variable as a keyword arg: x. From version 0.12, the only valid positional argument will be `data`, and passing other arguments without an explicit keyword will result in an error or misinterpretation.\n",
      "  warnings.warn(\n"
     ]
    },
    {
     "data": {
      "image/png": "[encoded data removed]",
      "text/plain": [
       "<Figure size 432x288 with 1 Axes>"
      ]
     },
     "metadata": {
      "needs_background": "light"
     },
     "output_type": "display_data"
    }
   ],
   "source": [
    "sns.boxplot(data_train['interval_warmup_sum'])\n",
    "plt.show()"
   ]
  },
  {
   "cell_type": "code",
   "execution_count": 87,
   "id": "dcd4254d",
   "metadata": {},
   "outputs": [],
   "source": [
    "data_train=data_train[data_train['interval_warmup_sum']<2400]"
   ]
  },
  {
   "cell_type": "code",
   "execution_count": 88,
   "id": "73d55e81",
   "metadata": {},
   "outputs": [
    {
     "name": "stderr",
     "output_type": "stream",
     "text": [
      "C:\\ProgramData\\Anaconda3\\lib\\site-packages\\seaborn\\_decorators.py:36: FutureWarning: Pass the following variable as a keyword arg: x. From version 0.12, the only valid positional argument will be `data`, and passing other arguments without an explicit keyword will result in an error or misinterpretation.\n",
      "  warnings.warn(\n"
     ]
    },
    {
     "data": {
      "image/png": "[encoded data removed]",
      "text/plain": [
       "<Figure size 432x288 with 1 Axes>"
      ]
     },
     "metadata": {
      "needs_background": "light"
     },
     "output_type": "display_data"
    }
   ],
   "source": [
    "sns.boxplot(data_train['Температура_count'])\n",
    "plt.show()"
   ]
  },
  {
   "cell_type": "code",
   "execution_count": 89,
   "id": "1eda95b6",
   "metadata": {},
   "outputs": [],
   "source": [
    "data_train=data_train[data_train['Температура_count']<10]"
   ]
  },
  {
   "cell_type": "markdown",
   "id": "d56b2642",
   "metadata": {},
   "source": [
    "<font color='steelblue'><b>КОД-РЕВЬЮ v2</b></font><br>\n",
    "<font color='crimson'> ❌ Ключи с низкими температурами (как и ключ с отрицательной реактивной мощностью) по согласованию с заказчиком нужно удалить до разбиения на выборки, или и из тренировочной, и из тестовой.</font>"
   ]
  },
  {
   "cell_type": "markdown",
   "id": "e83a1ea9",
   "metadata": {},
   "source": [
    "<font color='purple'>V3 Удалила выше.</font>"
   ]
  },
  {
   "cell_type": "markdown",
   "id": "33ae0e51",
   "metadata": {},
   "source": [
    "<font color='steelblue'><b>КОД-РЕВЬЮ v3</b></font><br>\n",
    "<font color='green'>✔️ Хорошо.</font>"
   ]
  },
  {
   "cell_type": "code",
   "execution_count": 90,
   "id": "e362ea46",
   "metadata": {},
   "outputs": [],
   "source": [
    "#sns.boxplot(data_train['Температура_first'])\n",
    "#plt.show()"
   ]
  },
  {
   "cell_type": "code",
   "execution_count": 91,
   "id": "4f8ef27e",
   "metadata": {},
   "outputs": [
    {
     "name": "stderr",
     "output_type": "stream",
     "text": [
      "C:\\ProgramData\\Anaconda3\\lib\\site-packages\\seaborn\\_decorators.py:36: FutureWarning: Pass the following variable as a keyword arg: x. From version 0.12, the only valid positional argument will be `data`, and passing other arguments without an explicit keyword will result in an error or misinterpretation.\n",
      "  warnings.warn(\n"
     ]
    },
    {
     "data": {
      "image/png": "[encoded data removed]",
      "text/plain": [
       "<Figure size 432x288 with 1 Axes>"
      ]
     },
     "metadata": {
      "needs_background": "light"
     },
     "output_type": "display_data"
    }
   ],
   "source": [
    "sns.boxplot(data_train['interval'])\n",
    "plt.show()"
   ]
  },
  {
   "cell_type": "code",
   "execution_count": 92,
   "id": "747945fa",
   "metadata": {},
   "outputs": [],
   "source": [
    "data_train=data_train[data_train['interval']<10000]"
   ]
  },
  {
   "cell_type": "markdown",
   "id": "25157452",
   "metadata": {},
   "source": [
    "<font color='steelblue'><b>КОД-РЕВЬЮ</b></font><br>\n",
    "<font color='darkorange'>⚠️ Такие данные действительно встречаются на производстве, возможно, если ты удалишь лишь единичные наблюдения, а не всё, что лежит за пределами полутора межквартильных размахов, метрика на тесте станет лучше.</font>"
   ]
  },
  {
   "cell_type": "markdown",
   "id": "a3a47451",
   "metadata": {},
   "source": [
    "<font color='purple'>Исключены максимальные/минимальные единичные выбросы.</font>"
   ]
  },
  {
   "cell_type": "markdown",
   "id": "5e67d26e",
   "metadata": {},
   "source": [
    "<font color='steelblue'><b>КОД-РЕВЬЮ v2</b></font><br>\n",
    "<font color='darkorange'>⚠️ Не жалеешь данные, удалила 119 ключей из обучающей выборе, это может плохо сказаться на работе модели на реальных данных.</font>"
   ]
  },
  {
   "cell_type": "code",
   "execution_count": 93,
   "id": "2b3c4183",
   "metadata": {},
   "outputs": [
    {
     "name": "stdout",
     "output_type": "stream",
     "text": [
      "<class 'pandas.core.frame.DataFrame'>\n",
      "Int64Index: 1698 entries, 335 to 1423\n",
      "Data columns (total 11 columns):\n",
      " #   Column               Non-Null Count  Dtype  \n",
      "---  ------               --------------  -----  \n",
      " 0   interval_warmup_sum  1698 non-null   float64\n",
      " 1   power_a/r_mean       1698 non-null   float64\n",
      " 2   full_power_mean      1698 non-null   float64\n",
      " 3   e_work_mean          1698 non-null   float64\n",
      " 4   Температура_count    1698 non-null   int64  \n",
      " 5   Температура_first    1698 non-null   float64\n",
      " 6   Температура_last     1698 non-null   float64\n",
      " 7   interval             1698 non-null   float64\n",
      " 8   Bulk 14              1698 non-null   float64\n",
      " 9   Wire 1               1698 non-null   float64\n",
      " 10  Газ 1                1698 non-null   float64\n",
      "dtypes: float64(10), int64(1)\n",
      "memory usage: 159.2 KB\n"
     ]
    }
   ],
   "source": [
    "data_train.info()"
   ]
  },
  {
   "cell_type": "markdown",
   "id": "0924e5b6",
   "metadata": {},
   "source": [
    "<font color='purple'>V3 уменьшила количество удаленных данных. Удалено 2.5% . Было 6.8% (Проблема скорее не в количестве удаленных данных, а в самомом количестве исследуемых данных. Для хорошей работы модели на реальных данных их хотелось бы получить больше)</font>"
   ]
  },
  {
   "cell_type": "markdown",
   "id": "205a9622",
   "metadata": {},
   "source": [
    "<font color='steelblue'><b>КОД-РЕВЬЮ v3</b></font><br>\n",
    "<font color='green'>✔️ Согласна, но есть только эти данные.</font>"
   ]
  },
  {
   "cell_type": "code",
   "execution_count": 94,
   "id": "d217315c",
   "metadata": {},
   "outputs": [],
   "source": [
    "features_train = data_train.drop(['Температура_last'], axis=1)\n",
    "target_train = data_train['Температура_last']"
   ]
  },
  {
   "cell_type": "markdown",
   "id": "43d54312",
   "metadata": {},
   "source": [
    "## 4 Обучение модели"
   ]
  },
  {
   "cell_type": "markdown",
   "id": "43f41a0f",
   "metadata": {},
   "source": [
    "### 4.1 Модель 1"
   ]
  },
  {
   "cell_type": "markdown",
   "id": "3162875b",
   "metadata": {},
   "source": [
    "### Масштабирование данных"
   ]
  },
  {
   "cell_type": "code",
   "execution_count": 95,
   "id": "88611524",
   "metadata": {},
   "outputs": [],
   "source": [
    "#Линейная регрессия"
   ]
  },
  {
   "cell_type": "code",
   "execution_count": 96,
   "id": "d8d55188",
   "metadata": {},
   "outputs": [],
   "source": [
    "#def mae(target_valid,predicted_valid):\n",
    " #   return mean_absolute_error(target_valid,predicted_valid)\n",
    "    "
   ]
  },
  {
   "cell_type": "markdown",
   "id": "0c8f9094",
   "metadata": {},
   "source": [
    "<font color='steelblue'><b>КОД-РЕВЬЮ</b></font><br>\n",
    "<font color='darkorange'>⚠️ Функция называется smape, а у нас метрика MAE.</font>"
   ]
  },
  {
   "cell_type": "markdown",
   "id": "2ccb96ff",
   "metadata": {},
   "source": [
    "<font color='purple'>Поменяла.</font>"
   ]
  },
  {
   "cell_type": "code",
   "execution_count": 97,
   "id": "0e5d4896",
   "metadata": {},
   "outputs": [
    {
     "name": "stdout",
     "output_type": "stream",
     "text": [
      "<class 'pandas.core.frame.DataFrame'>\n",
      "RangeIndex: 1698 entries, 0 to 1697\n",
      "Data columns (total 10 columns):\n",
      " #   Column               Non-Null Count  Dtype  \n",
      "---  ------               --------------  -----  \n",
      " 0   interval_warmup_sum  1698 non-null   float64\n",
      " 1   power_a/r_mean       1698 non-null   float64\n",
      " 2   full_power_mean      1698 non-null   float64\n",
      " 3   e_work_mean          1698 non-null   float64\n",
      " 4   Температура_count    1698 non-null   int64  \n",
      " 5   Температура_first    1698 non-null   float64\n",
      " 6   interval             1698 non-null   float64\n",
      " 7   Bulk 14              1698 non-null   float64\n",
      " 8   Wire 1               1698 non-null   float64\n",
      " 9   Газ 1                1698 non-null   float64\n",
      "dtypes: float64(9), int64(1)\n",
      "memory usage: 132.8 KB\n"
     ]
    }
   ],
   "source": [
    "features_train=features_train.reset_index()\n",
    "features_train=features_train.drop(columns=['index'])\n",
    "features_train.info()"
   ]
  },
  {
   "cell_type": "code",
   "execution_count": 98,
   "id": "5a486270",
   "metadata": {},
   "outputs": [
    {
     "name": "stdout",
     "output_type": "stream",
     "text": [
      "<class 'pandas.core.frame.DataFrame'>\n",
      "Int64Index: 582 entries, 700 to 2125\n",
      "Data columns (total 10 columns):\n",
      " #   Column               Non-Null Count  Dtype  \n",
      "---  ------               --------------  -----  \n",
      " 0   interval_warmup_sum  582 non-null    float64\n",
      " 1   power_a/r_mean       582 non-null    float64\n",
      " 2   full_power_mean      582 non-null    float64\n",
      " 3   e_work_mean          582 non-null    float64\n",
      " 4   Температура_count    582 non-null    int64  \n",
      " 5   Температура_first    582 non-null    float64\n",
      " 6   interval             582 non-null    float64\n",
      " 7   Bulk 14              582 non-null    float64\n",
      " 8   Wire 1               582 non-null    float64\n",
      " 9   Газ 1                582 non-null    float64\n",
      "dtypes: float64(9), int64(1)\n",
      "memory usage: 50.0 KB\n"
     ]
    }
   ],
   "source": [
    "features_test.info()\n",
    "features_test=features_test.reset_index()\n",
    "features_test=features_test.drop(columns=['index'])"
   ]
  },
  {
   "cell_type": "code",
   "execution_count": 100,
   "id": "6934caa5",
   "metadata": {},
   "outputs": [],
   "source": [
    "#numeric = ['interval_warmup_sum', 'power_a/r_mean', 'Температура_count', 'Температура_first','interval','Bulk 14','Wire 1','Газ 1']\n",
    "scaler = StandardScaler()\n",
    "features_train_SS=features_train.drop(columns=['full_power_mean','e_work_mean'])\n",
    "features_test_SS=features_test.drop(columns=['full_power_mean','e_work_mean'])\n",
    "# удаляю столбцы с высокой степенью корреляции \n"
   ]
  },
  {
   "cell_type": "code",
   "execution_count": 101,
   "id": "81dc826c",
   "metadata": {},
   "outputs": [
    {
     "data": {
      "text/html": [
       "<div>\n",
       "<style scoped>\n",
       "    .dataframe tbody tr th:only-of-type {\n",
       "        vertical-align: middle;\n",
       "    }\n",
       "\n",
       "    .dataframe tbody tr th {\n",
       "        vertical-align: top;\n",
       "    }\n",
       "\n",
       "    .dataframe thead th {\n",
       "        text-align: right;\n",
       "    }\n",
       "</style>\n",
       "<table border=\"1\" class=\"dataframe\">\n",
       "  <thead>\n",
       "    <tr style=\"text-align: right;\">\n",
       "      <th></th>\n",
       "      <th>interval_warmup_sum</th>\n",
       "      <th>power_a/r_mean</th>\n",
       "      <th>Температура_count</th>\n",
       "      <th>Температура_first</th>\n",
       "      <th>interval</th>\n",
       "      <th>Bulk 14</th>\n",
       "      <th>Wire 1</th>\n",
       "      <th>Газ 1</th>\n",
       "    </tr>\n",
       "  </thead>\n",
       "  <tbody>\n",
       "    <tr>\n",
       "      <th>0</th>\n",
       "      <td>628.0</td>\n",
       "      <td>1.291920</td>\n",
       "      <td>4</td>\n",
       "      <td>1588.0</td>\n",
       "      <td>1167.0</td>\n",
       "      <td>204.0</td>\n",
       "      <td>125.330391</td>\n",
       "      <td>6.526177</td>\n",
       "    </tr>\n",
       "    <tr>\n",
       "      <th>1</th>\n",
       "      <td>1256.0</td>\n",
       "      <td>1.374168</td>\n",
       "      <td>6</td>\n",
       "      <td>1601.0</td>\n",
       "      <td>3052.0</td>\n",
       "      <td>145.0</td>\n",
       "      <td>126.147835</td>\n",
       "      <td>16.618648</td>\n",
       "    </tr>\n",
       "    <tr>\n",
       "      <th>2</th>\n",
       "      <td>935.0</td>\n",
       "      <td>1.291021</td>\n",
       "      <td>6</td>\n",
       "      <td>1554.0</td>\n",
       "      <td>1655.0</td>\n",
       "      <td>119.0</td>\n",
       "      <td>155.235611</td>\n",
       "      <td>16.571532</td>\n",
       "    </tr>\n",
       "    <tr>\n",
       "      <th>3</th>\n",
       "      <td>358.0</td>\n",
       "      <td>1.297148</td>\n",
       "      <td>4</td>\n",
       "      <td>1606.0</td>\n",
       "      <td>1470.0</td>\n",
       "      <td>0.0</td>\n",
       "      <td>165.204010</td>\n",
       "      <td>7.584491</td>\n",
       "    </tr>\n",
       "    <tr>\n",
       "      <th>4</th>\n",
       "      <td>842.0</td>\n",
       "      <td>1.248588</td>\n",
       "      <td>4</td>\n",
       "      <td>1558.0</td>\n",
       "      <td>1190.0</td>\n",
       "      <td>0.0</td>\n",
       "      <td>162.583190</td>\n",
       "      <td>5.549115</td>\n",
       "    </tr>\n",
       "    <tr>\n",
       "      <th>...</th>\n",
       "      <td>...</td>\n",
       "      <td>...</td>\n",
       "      <td>...</td>\n",
       "      <td>...</td>\n",
       "      <td>...</td>\n",
       "      <td>...</td>\n",
       "      <td>...</td>\n",
       "      <td>...</td>\n",
       "    </tr>\n",
       "    <tr>\n",
       "      <th>577</th>\n",
       "      <td>890.0</td>\n",
       "      <td>1.479548</td>\n",
       "      <td>7</td>\n",
       "      <td>1551.0</td>\n",
       "      <td>1454.0</td>\n",
       "      <td>121.0</td>\n",
       "      <td>58.007038</td>\n",
       "      <td>13.864435</td>\n",
       "    </tr>\n",
       "    <tr>\n",
       "      <th>578</th>\n",
       "      <td>870.0</td>\n",
       "      <td>1.293666</td>\n",
       "      <td>8</td>\n",
       "      <td>1600.0</td>\n",
       "      <td>2956.0</td>\n",
       "      <td>105.0</td>\n",
       "      <td>168.386399</td>\n",
       "      <td>15.894678</td>\n",
       "    </tr>\n",
       "    <tr>\n",
       "      <th>579</th>\n",
       "      <td>1036.0</td>\n",
       "      <td>1.525264</td>\n",
       "      <td>5</td>\n",
       "      <td>1580.0</td>\n",
       "      <td>1792.0</td>\n",
       "      <td>398.0</td>\n",
       "      <td>100.105198</td>\n",
       "      <td>5.356624</td>\n",
       "    </tr>\n",
       "    <tr>\n",
       "      <th>580</th>\n",
       "      <td>671.0</td>\n",
       "      <td>1.416884</td>\n",
       "      <td>4</td>\n",
       "      <td>1618.0</td>\n",
       "      <td>1507.0</td>\n",
       "      <td>145.0</td>\n",
       "      <td>72.115685</td>\n",
       "      <td>13.337086</td>\n",
       "    </tr>\n",
       "    <tr>\n",
       "      <th>581</th>\n",
       "      <td>410.0</td>\n",
       "      <td>1.253884</td>\n",
       "      <td>3</td>\n",
       "      <td>1592.0</td>\n",
       "      <td>1233.0</td>\n",
       "      <td>131.0</td>\n",
       "      <td>34.070400</td>\n",
       "      <td>16.508695</td>\n",
       "    </tr>\n",
       "  </tbody>\n",
       "</table>\n",
       "<p>582 rows × 8 columns</p>\n",
       "</div>"
      ],
      "text/plain": [
       "     interval_warmup_sum  power_a/r_mean  Температура_count  \\\n",
       "0                  628.0        1.291920                  4   \n",
       "1                 1256.0        1.374168                  6   \n",
       "2                  935.0        1.291021                  6   \n",
       "3                  358.0        1.297148                  4   \n",
       "4                  842.0        1.248588                  4   \n",
       "..                   ...             ...                ...   \n",
       "577                890.0        1.479548                  7   \n",
       "578                870.0        1.293666                  8   \n",
       "579               1036.0        1.525264                  5   \n",
       "580                671.0        1.416884                  4   \n",
       "581                410.0        1.253884                  3   \n",
       "\n",
       "     Температура_first  interval  Bulk 14      Wire 1      Газ 1  \n",
       "0               1588.0    1167.0    204.0  125.330391   6.526177  \n",
       "1               1601.0    3052.0    145.0  126.147835  16.618648  \n",
       "2               1554.0    1655.0    119.0  155.235611  16.571532  \n",
       "3               1606.0    1470.0      0.0  165.204010   7.584491  \n",
       "4               1558.0    1190.0      0.0  162.583190   5.549115  \n",
       "..                 ...       ...      ...         ...        ...  \n",
       "577             1551.0    1454.0    121.0   58.007038  13.864435  \n",
       "578             1600.0    2956.0    105.0  168.386399  15.894678  \n",
       "579             1580.0    1792.0    398.0  100.105198   5.356624  \n",
       "580             1618.0    1507.0    145.0   72.115685  13.337086  \n",
       "581             1592.0    1233.0    131.0   34.070400  16.508695  \n",
       "\n",
       "[582 rows x 8 columns]"
      ]
     },
     "execution_count": 101,
     "metadata": {},
     "output_type": "execute_result"
    }
   ],
   "source": [
    "features_test_SS"
   ]
  },
  {
   "cell_type": "code",
   "execution_count": 102,
   "id": "55ea4648",
   "metadata": {},
   "outputs": [],
   "source": [
    "scaler.fit(features_train_SS)\n",
    "features_train_SS = scaler.transform(features_train_SS)\n",
    "features_test_SS = scaler.transform(features_test_SS)"
   ]
  },
  {
   "cell_type": "code",
   "execution_count": 103,
   "id": "069aefc8",
   "metadata": {},
   "outputs": [
    {
     "name": "stdout",
     "output_type": "stream",
     "text": [
      "Wall time: 37.4 ms\n"
     ]
    },
    {
     "data": {
      "text/plain": [
       "-6.003001434790423"
      ]
     },
     "execution_count": 103,
     "metadata": {},
     "output_type": "execute_result"
    }
   ],
   "source": [
    "%%time\n",
    "model=LinearRegression()\n",
    "scores=cross_val_score(model, features_train_SS, target_train,cv=3,scoring='neg_mean_absolute_error') \n",
    "scores_mean=pd.Series(scores).mean()\n",
    "scores_mean\n"
   ]
  },
  {
   "cell_type": "markdown",
   "id": "0a5f79ac",
   "metadata": {},
   "source": [
    "<font color='purple'>Для линейных моделей необходимо масштабировать данные.</font>"
   ]
  },
  {
   "cell_type": "markdown",
   "id": "a135d3fe",
   "metadata": {},
   "source": [
    "<font color='steelblue'><b>КОД-РЕВЬЮ</b></font><br>\n",
    "<font color='crimson'> ❌ Нас интересцет scores.mean(), а не медиана.</font><br>\n",
    "<font color='crimson'> ❌ Для линейных моделей численные признаки необходимо масштабировать.</font><br>\n",
    "<font color='crimson'> ❌ MAE — ошибка, её нужно минимизировать, это не задано в make_scorer.</font><br>\n",
    "---\n",
    "<font color='darkorange'>⚠️ Создание scorer избыточно, есть 'neg_mean_absolute_error'\n",
    "\n",
    "https://scikit-learn.org/stable/modules/model_evaluation.html</font>"
   ]
  },
  {
   "cell_type": "markdown",
   "id": "4184f05f",
   "metadata": {},
   "source": [
    "<font color='purple'>Вопрос:Нас интересeет scores.mean(), а не медиана. Почему именно средее? Нашла статью, в котором рассматривается медианное значение.Связано с решением в константных алгоритмах, возможно , я не так интерпритировала. alexanderdyakonov.files.wordpress.com/2018/10/book_08_metrics_12_blog1.pdf\n",
    "<p>make_scorer  принимает наименование функции, а не название метрики, поэтому я создала функцию. (Или я как-то не так указываю?)Признак минимизации указала.</p></font>"
   ]
  },
  {
   "cell_type": "markdown",
   "id": "793a1ea3",
   "metadata": {},
   "source": [
    "<font color='steelblue'><b>КОД-РЕВЬЮ v2</b></font><br>\n",
    "<font color='green'>✔️ Хорошо.</font>\n",
    "\n",
    "<font color='steelblue'>Нас интересует средняя метрика на кросс-валидации именно. Скорер стоит создать один раз вне cross_val_score, а лучше не изобретать велосипед и задать scoring='neg_mean_absolute_error'.</font><br>"
   ]
  },
  {
   "cell_type": "markdown",
   "id": "0e40a4de",
   "metadata": {},
   "source": [
    "### 4.2 Модель 2"
   ]
  },
  {
   "cell_type": "code",
   "execution_count": 104,
   "id": "0487cbfb",
   "metadata": {},
   "outputs": [],
   "source": [
    "#Случайный лес с подбором параметров."
   ]
  },
  {
   "cell_type": "code",
   "execution_count": 105,
   "id": "d8bbbd16",
   "metadata": {},
   "outputs": [],
   "source": [
    "model = RandomForestRegressor(random_state=80822)"
   ]
  },
  {
   "cell_type": "code",
   "execution_count": 106,
   "id": "55b76257",
   "metadata": {},
   "outputs": [],
   "source": [
    "param_dist = {\n",
    "        'n_estimators':range(50,200,2),\n",
    "        'max_depth':range(2,50,2)      \n",
    "}\n",
    "       "
   ]
  },
  {
   "cell_type": "code",
   "execution_count": 107,
   "id": "3a072055",
   "metadata": {},
   "outputs": [
    {
     "name": "stdout",
     "output_type": "stream",
     "text": [
      "Wall time: 1min 49s\n"
     ]
    },
    {
     "data": {
      "text/plain": [
       "RandomizedSearchCV(cv=3, estimator=RandomForestRegressor(random_state=80822),\n",
       "                   n_iter=300, n_jobs=-1,\n",
       "                   param_distributions={'max_depth': range(2, 50, 2),\n",
       "                                        'n_estimators': range(50, 200, 2)},\n",
       "                   random_state=80822, scoring='neg_mean_absolute_error')"
      ]
     },
     "execution_count": 107,
     "metadata": {},
     "output_type": "execute_result"
    }
   ],
   "source": [
    "%%time\n",
    "grid = RandomizedSearchCV(model,param_dist,cv = 3,n_iter=300,n_jobs = -1,scoring='neg_mean_absolute_error',random_state=80822)\n",
    "grid.fit(features_train, target_train)"
   ]
  },
  {
   "cell_type": "code",
   "execution_count": 108,
   "id": "6fc42668",
   "metadata": {},
   "outputs": [
    {
     "data": {
      "text/plain": [
       "{'n_estimators': 152, 'max_depth': 16}"
      ]
     },
     "execution_count": 108,
     "metadata": {},
     "output_type": "execute_result"
    }
   ],
   "source": [
    "grid.best_params_"
   ]
  },
  {
   "cell_type": "code",
   "execution_count": 109,
   "id": "7b5370b2",
   "metadata": {},
   "outputs": [
    {
     "data": {
      "text/plain": [
       "-6.064124935543781"
      ]
     },
     "execution_count": 109,
     "metadata": {},
     "output_type": "execute_result"
    }
   ],
   "source": [
    "grid.best_score_"
   ]
  },
  {
   "cell_type": "code",
   "execution_count": 110,
   "id": "50c84e91",
   "metadata": {},
   "outputs": [
    {
     "name": "stdout",
     "output_type": "stream",
     "text": [
      "Wall time: 1min 32s\n"
     ]
    },
    {
     "data": {
      "text/plain": [
       "RandomizedSearchCV(cv=3, estimator=RandomForestRegressor(random_state=80822),\n",
       "                   n_iter=300, n_jobs=-1,\n",
       "                   param_distributions={'max_depth': range(2, 50, 2),\n",
       "                                        'n_estimators': range(50, 200, 2)},\n",
       "                   random_state=80822, scoring='neg_mean_absolute_error')"
      ]
     },
     "execution_count": 110,
     "metadata": {},
     "output_type": "execute_result"
    }
   ],
   "source": [
    "%%time\n",
    "# без новых признаков\n",
    "grid.fit(features_train_SS, target_train)"
   ]
  },
  {
   "cell_type": "code",
   "execution_count": 111,
   "id": "825dbb77",
   "metadata": {},
   "outputs": [
    {
     "data": {
      "text/plain": [
       "{'n_estimators': 176, 'max_depth': 12}"
      ]
     },
     "execution_count": 111,
     "metadata": {},
     "output_type": "execute_result"
    }
   ],
   "source": [
    "grid.best_params_"
   ]
  },
  {
   "cell_type": "code",
   "execution_count": 112,
   "id": "07ceb2fc",
   "metadata": {},
   "outputs": [
    {
     "data": {
      "text/plain": [
       "-6.094577279293098"
      ]
     },
     "execution_count": 112,
     "metadata": {},
     "output_type": "execute_result"
    }
   ],
   "source": [
    "grid.best_score_"
   ]
  },
  {
   "cell_type": "markdown",
   "id": "d0414af4",
   "metadata": {},
   "source": [
    "<font color='steelblue'><b>КОД-РЕВЬЮ</b></font><br>\n",
    "<font color='crimson'> ❌ Не вижу значение метрики.</font>"
   ]
  },
  {
   "cell_type": "markdown",
   "id": "0f497c3a",
   "metadata": {},
   "source": [
    "<font color='purple'>Вроде все работает.</font>"
   ]
  },
  {
   "cell_type": "markdown",
   "id": "33ba4ffe",
   "metadata": {},
   "source": [
    "<font color='steelblue'><b>КОД-РЕВЬЮ v2</b></font><br>\n",
    "<font color='green'>✔️ Хорошо.</font>\n"
   ]
  },
  {
   "cell_type": "markdown",
   "id": "ff58890e",
   "metadata": {},
   "source": [
    "### Модель 3 "
   ]
  },
  {
   "cell_type": "code",
   "execution_count": 113,
   "id": "10aa009f",
   "metadata": {},
   "outputs": [],
   "source": [
    "# Регрессионная модель: Лассо."
   ]
  },
  {
   "cell_type": "code",
   "execution_count": 114,
   "id": "a192622d",
   "metadata": {},
   "outputs": [
    {
     "name": "stdout",
     "output_type": "stream",
     "text": [
      "Wall time: 20 ms\n"
     ]
    },
    {
     "data": {
      "text/plain": [
       "-6.725818385652383"
      ]
     },
     "execution_count": 114,
     "metadata": {},
     "output_type": "execute_result"
    }
   ],
   "source": [
    "%%time\n",
    "model=Lasso()\n",
    "scores=cross_val_score(model, features_train_SS, target_train,cv=10,scoring='neg_mean_absolute_error') \n",
    "scores_mean=pd.Series(scores).mean()\n",
    "scores_mean"
   ]
  },
  {
   "cell_type": "markdown",
   "id": "039ce97b",
   "metadata": {},
   "source": [
    "### 4.4 Модель 4 "
   ]
  },
  {
   "cell_type": "code",
   "execution_count": 115,
   "id": "f37d99ae",
   "metadata": {},
   "outputs": [],
   "source": [
    "#Ансамбль решающих деревьев с градиентным бустингом."
   ]
  },
  {
   "cell_type": "markdown",
   "id": "27c40de6",
   "metadata": {},
   "source": [
    "<font color='steelblue'><b>КОД-РЕВЬЮ</b></font><br>\n",
    "<font color='crimson'> ❌ В GridSearchCV не задан scoring.</font><br>"
   ]
  },
  {
   "cell_type": "markdown",
   "id": "bd77c408",
   "metadata": {},
   "source": [
    "<font color='purple'>Добавила.</font>"
   ]
  },
  {
   "cell_type": "markdown",
   "id": "b6b714af",
   "metadata": {},
   "source": [
    "<font color='steelblue'><b>КОД-РЕВЬЮ v2</b></font><br>\n",
    "<font color='darkorange'>⚠️  Хорошо, я бы GridSearchCV (а лучше RandomizedSearchCV) использовала и для леса, а то ручной подбор выглядит странно, когда ниже показываешь, что умеешь автоматизировать.</font>\n"
   ]
  },
  {
   "cell_type": "markdown",
   "id": "62b170c2",
   "metadata": {},
   "source": [
    "<font color='steelblue'><b>КОД-РЕВЬЮ</b></font><br>\n",
    "<font color='crimson'> ❌ В GridSearchCV подобраны другие гиперпараметры.</font><br>\n",
    "<font color='crimson'> ❌ В GridSearchCV встроена кросс-валидация, нет смысла использовать cross_val_score, значение метрики можно получить из атрибута best_score.</font><br>"
   ]
  },
  {
   "cell_type": "markdown",
   "id": "d32b623d",
   "metadata": {},
   "source": [
    "<font color='purple'>Спасибо,исправила.</font>"
   ]
  },
  {
   "cell_type": "markdown",
   "id": "f43a455c",
   "metadata": {},
   "source": [
    "<font color='steelblue'><b>КОД-РЕВЬЮ v2</b></font><br>\n",
    "<font color='green'>✔️ Хорошо.</font>\n"
   ]
  },
  {
   "cell_type": "markdown",
   "id": "46f11298",
   "metadata": {},
   "source": [
    "<font color='steelblue'><b>КОД-РЕВЬЮ</b></font><br>\n",
    "<font color='darkorange'>⚠️ Здесь должен быть вывод о том, какую модель ты считаешь лучшей.</font>"
   ]
  },
  {
   "cell_type": "code",
   "execution_count": 126,
   "id": "ddcac59f",
   "metadata": {},
   "outputs": [],
   "source": [
    "model=LGBMRegressor(random_state=80822)\n",
    "param_dist = {\n",
    "        'n_estimators':range(80,200,2),\n",
    "        'max_depth':range(2,15,1)}\n",
    "       "
   ]
  },
  {
   "cell_type": "code",
   "execution_count": 127,
   "id": "502495e0",
   "metadata": {},
   "outputs": [
    {
     "data": {
      "text/plain": [
       "RandomizedSearchCV(cv=3, estimator=LGBMRegressor(random_state=80822),\n",
       "                   n_iter=300, n_jobs=-1,\n",
       "                   param_distributions={'max_depth': range(2, 15),\n",
       "                                        'n_estimators': range(80, 200, 2)},\n",
       "                   random_state=80822, scoring='neg_mean_absolute_error')"
      ]
     },
     "execution_count": 127,
     "metadata": {},
     "output_type": "execute_result"
    }
   ],
   "source": [
    "grid = RandomizedSearchCV(model,param_dist,cv = 3,n_iter=300,n_jobs = -1,scoring='neg_mean_absolute_error',random_state=80822)\n",
    "grid.fit(features_train, target_train)"
   ]
  },
  {
   "cell_type": "code",
   "execution_count": 128,
   "id": "a488f5ab",
   "metadata": {},
   "outputs": [
    {
     "data": {
      "text/plain": [
       "{'n_estimators': 196, 'max_depth': 2}"
      ]
     },
     "execution_count": 128,
     "metadata": {},
     "output_type": "execute_result"
    }
   ],
   "source": [
    "grid.best_params_"
   ]
  },
  {
   "cell_type": "code",
   "execution_count": 129,
   "id": "a920d3d4",
   "metadata": {},
   "outputs": [
    {
     "data": {
      "text/plain": [
       "-5.895546310152718"
      ]
     },
     "execution_count": 129,
     "metadata": {},
     "output_type": "execute_result"
    }
   ],
   "source": [
    "grid.best_score_"
   ]
  },
  {
   "cell_type": "code",
   "execution_count": 130,
   "id": "5a4d1fa6",
   "metadata": {},
   "outputs": [
    {
     "data": {
      "text/plain": [
       "RandomizedSearchCV(cv=3, estimator=LGBMRegressor(random_state=80822),\n",
       "                   n_iter=300, n_jobs=-1,\n",
       "                   param_distributions={'max_depth': range(2, 15),\n",
       "                                        'n_estimators': range(80, 200, 2)},\n",
       "                   random_state=80822, scoring='neg_mean_absolute_error')"
      ]
     },
     "execution_count": 130,
     "metadata": {},
     "output_type": "execute_result"
    }
   ],
   "source": [
    "#без новых признаков \n",
    "grid.fit(features_train_SS, target_train)"
   ]
  },
  {
   "cell_type": "code",
   "execution_count": 121,
   "id": "eadd86e6",
   "metadata": {},
   "outputs": [
    {
     "data": {
      "text/plain": [
       "{'n_estimators': 198, 'max_depth': 2}"
      ]
     },
     "execution_count": 121,
     "metadata": {},
     "output_type": "execute_result"
    }
   ],
   "source": [
    "grid.best_params_"
   ]
  },
  {
   "cell_type": "code",
   "execution_count": 122,
   "id": "9f7c8a7f",
   "metadata": {},
   "outputs": [
    {
     "data": {
      "text/plain": [
       "-5.971500550528002"
      ]
     },
     "execution_count": 122,
     "metadata": {},
     "output_type": "execute_result"
    }
   ],
   "source": [
    "grid.best_score_"
   ]
  },
  {
   "cell_type": "markdown",
   "id": "db76aaf0",
   "metadata": {},
   "source": [
    " <font color='purple'>Лучшего результата достигла модель : ансамбль деревьев с градиентным бустингом с параметрами: 'n_estimators': 196, 'max_depth': 2 .</font>"
   ]
  },
  {
   "cell_type": "markdown",
   "id": "c241dd62",
   "metadata": {},
   "source": [
    "<font color='steelblue'><b>КОД-РЕВЬЮ v2</b></font><br>\n",
    "<font color='darkorange'>⚠️ Сделай красиво, зачем для одной и той же модели гиперпараметры два раза искать? Возьми RаndomizedSearchCV, задай зразу все значения, и один раз найли гиперпараметры. </font>"
   ]
  },
  {
   "cell_type": "markdown",
   "id": "08412082",
   "metadata": {},
   "source": [
    "<font color='purple'>V3 изменила количество рассматриваемых случаев.Оставила только 4 типа модели. Для двух моделей один тип поиска гиперпараметров. Интересно было проверить результаты на разных выборках.</font>"
   ]
  },
  {
   "cell_type": "markdown",
   "id": "52e61ec7",
   "metadata": {},
   "source": [
    "<font color='steelblue'><b>КОД-РЕВЬЮ v3</b></font><br>\n",
    "<font color='green'>✔️ 👍🏼</font>"
   ]
  },
  {
   "cell_type": "markdown",
   "id": "350d4e6b",
   "metadata": {},
   "source": [
    "### 4.7 Проверка модели на тестовой выборке"
   ]
  },
  {
   "cell_type": "code",
   "execution_count": 125,
   "id": "256bf8ba",
   "metadata": {},
   "outputs": [
    {
     "name": "stdout",
     "output_type": "stream",
     "text": [
      "Wall time: 35.9 ms\n"
     ]
    },
    {
     "data": {
      "text/plain": [
       "5.822442809484797"
      ]
     },
     "execution_count": 125,
     "metadata": {},
     "output_type": "execute_result"
    }
   ],
   "source": [
    "%%time \n",
    "model=LGBMRegressor(max_depth=2,n_estimators=196)\n",
    "model.fit(features_train,target_train)\n",
    "prediction=model.predict(features_test)\n",
    "mean_absolute_error(target_test,prediction)"
   ]
  },
  {
   "cell_type": "markdown",
   "id": "b448c503",
   "metadata": {},
   "source": [
    "<font color='steelblue'><b>КОД-РЕВЬЮ</b></font><br>\n",
    "<font color='crimson'> ❌ В тестовой выборке не заполнены пропуски.</font><br>"
   ]
  },
  {
   "cell_type": "markdown",
   "id": "f3f51d3a",
   "metadata": {},
   "source": [
    "<font color='steelblue'><b>КОД-РЕВЬЮ</b></font><br>\n",
    "<font color='crimson'> ❌ Подбор гиперпараметров осуществляется до проверки качества лучшей модели на тестовой выборке.</font><br>"
   ]
  },
  {
   "cell_type": "markdown",
   "id": "86cbf783",
   "metadata": {},
   "source": [
    "<font color='purple'>Пропуски заполнила. Не в то место проекта включила, перенесла.</font>"
   ]
  },
  {
   "cell_type": "markdown",
   "id": "574ed5a9",
   "metadata": {},
   "source": [
    "<font color='purple'>Лучшая модель показала хорошие результаты на тестовой выборке.</font>"
   ]
  },
  {
   "cell_type": "markdown",
   "id": "c6654244",
   "metadata": {},
   "source": [
    "<font color='steelblue'><b>КОД-РЕВЬЮ v2</b></font><br>\n",
    "<font color='green'>✔️ Хорошо.</font>"
   ]
  },
  {
   "cell_type": "markdown",
   "id": "394c6e29",
   "metadata": {},
   "source": [
    "### 4.8 Сравнение модели с дамми-моделью"
   ]
  },
  {
   "cell_type": "code",
   "execution_count": 131,
   "id": "545c1785",
   "metadata": {},
   "outputs": [
    {
     "data": {
      "text/plain": [
       "8.135445379443768"
      ]
     },
     "execution_count": 131,
     "metadata": {},
     "output_type": "execute_result"
    }
   ],
   "source": [
    "dummy_regr = DummyRegressor(strategy=\"mean\")\n",
    "dummy_regr.fit(features_train,target_train)\n",
    "\n",
    "prediction=dummy_regr.predict(features_test)\n",
    "mean_absolute_error(target_test,prediction)"
   ]
  },
  {
   "cell_type": "markdown",
   "id": "834202d2",
   "metadata": {},
   "source": [
    "<font color='steelblue'><b>КОД-РЕВЬЮ</b></font><br>\n",
    "<font color='green'>✔️ Есть метрика константной модели, стоит написать вывод.</font>"
   ]
  },
  {
   "cell_type": "markdown",
   "id": "4062315b",
   "metadata": {},
   "source": [
    "<font color='purple'>Лучшая модель прошла проверку на адекватность.Наилучшая модель на тестовой выборке показывает метрику лучше, чем на костантной модели.</font>"
   ]
  },
  {
   "cell_type": "markdown",
   "id": "a1aafc6a",
   "metadata": {},
   "source": [
    "## Выводы"
   ]
  },
  {
   "cell_type": "markdown",
   "id": "d67cbcbb",
   "metadata": {},
   "source": [
    "<p>Полученные от закачика данные прошли предварительный анализ данных и предобработку до обучения модели.В итогвую выборку вошли признаки: количество итераций, суммарное время нагрева, первоначальная температура, отношение активной и реактивной мощностей, объем израсходованного газа за партию,объемы введенных материалов Bulk 14 и Wire 1, временной интервал между достижением конечной температуры от первоначальной, работа и полная средняя мощность.</p><p>Целевой признак: конечная температура процесса.</p> <p>Данные представлены в разных таблицах. Данные были объединенны таким образом, что включены только те партии, данные о которых имеются во всех таблицах. В итоговых данных практически отсутствовали  пропуски в данных, за исключением тех столбцов, в которых указывали данные о добавляемых материалах. (пропуски заменены на 0, что допустимо)</p><p>Данные разделены на обучающую и тестовую выборки</p><p>В обучающей выборке были удалены значительные выбросы.</p> <p>Рассмотренны и обучены разные модели.</p> Лучшая модель: ансамбль деревьев с градиентным бустингом с параметрами: 'n_estimators': 166, 'max_depth': 3, прошла проверку на адекватность. Полученная метрика на тесте составила: 5.82"
   ]
  },
  {
   "cell_type": "markdown",
   "id": "5150b8a6",
   "metadata": {},
   "source": [
    "<b>Вопрос:</b> Размерность газа? Можно взять два новых признака температура 1 итерации и последней. И температура последней итерации как раз и будет целевым таргетом? "
   ]
  },
  {
   "cell_type": "markdown",
   "id": "ab9e7e2f",
   "metadata": {},
   "source": [
    "<font color='steelblue'><b>Комментарий тимлида</b><br>\n",
    "1. Газ в кубических метрах.\n",
    "2. Температура первой итерации — признак для обучения, температура последней итерации — таргет.\n",
    "<br>"
   ]
  },
  {
   "cell_type": "markdown",
   "id": "8932a4de",
   "metadata": {},
   "source": [
    "<font color='steelblue'><b>КОД-РЕВЬЮ</b><br>\n",
    "Попробуй оставить больше признаков и не удалять так сильно выбросы. Метрика считается не корректно. Да, нужно объединить с предыдущеим заданием. Если есть вопросы, их всегда можно задать в чате или в личных сообщениях.</font>"
   ]
  },
  {
   "cell_type": "markdown",
   "id": "7ec11f2a",
   "metadata": {},
   "source": [
    "<font color='steelblue' size=4><b>Итоговый комментарий КОД_РЕВЬЮ</b></font><br><br>\n",
    "<font color='steelblue'>Пожалуйста, исправь все нюансы, которые я отметила выше. Надеюсь, у тебя получится получить лучшую метрику.</font><br>"
   ]
  },
  {
   "cell_type": "markdown",
   "id": "b23381b2",
   "metadata": {},
   "source": [
    "<font color='steelblue' size=4><b>Итоговый комментарий КОД_РЕВЬЮ v2</b></font><br><br>\n",
    "<font color='steelblue'>Пожалуйста, удали низкие температуры до деления на выборки. Рекомендую выполнить все оранжевые комментарии-рекомендации, чтобы твой порект выглядел лучше.</font><br>"
   ]
  },
  {
   "cell_type": "markdown",
   "id": "cf349f95",
   "metadata": {},
   "source": [
    "<font color='steelblue' size=4><b>Итоговый комментарий КОД_РЕВЬЮ v3</b></font><br><br>\n",
    "<font color='steelblue'>Пожалуйста, поменяй порядок арифметических действий при рассчёте работы. Если что-то не понятно, пиши в slack.</font><br>"
   ]
  },
  {
   "cell_type": "markdown",
   "id": "41696662",
   "metadata": {},
   "source": [
    "<font color='steelblue' size=4><b>Итоговый комментарий КОД_РЕВЬЮ v4</b></font><br><br>\n",
    "<font color='green'>Хорошая работа, ты получаешь 6 sp 👍🏼</font><br>"
   ]
  },
  {
   "cell_type": "markdown",
   "id": "576315e3",
   "metadata": {},
   "source": [
    "# Отчет"
   ]
  },
  {
   "cell_type": "markdown",
   "id": "0fb14399",
   "metadata": {},
   "source": [
    "<b>Цель проекта:</b> моделирование технологического процесса плаваления стали с целью прогнозирования конечной температуры нагрева."
   ]
  },
  {
   "cell_type": "markdown",
   "id": "1dd0d1cf",
   "metadata": {},
   "source": [
    "Согласно плану проекта были выполнены следующие **основные шаги**:<p><li> исследовательский анализ данных</li> </p><p><li>предподготовка данных</li> </p><p><li>обучение модели, выбор наилучшей</li>\n"
   ]
  },
  {
   "cell_type": "markdown",
   "id": "8051c405",
   "metadata": {},
   "source": [
    "**Ход работ:** <p>Предподготовка данных включала в себя объединение таблиц с данными. Использовались все таблицы кроме тех, в которых указывалось время подачи материала. <p>В итоговую выборку вошли признаки: количество итераций, суммарное время нагрева, первоначальная температура, отношение активной и реактивной мощностей, объем израсходованного газа за партию,объемы введенных материалов Bulk 14 и Wire 1, временной интервал между достижением конечной температуры от первоначальной, работа и средняя полная мощность.</p><p>Целевой признак: конечная температура процесса.</p>"
   ]
  },
  {
   "cell_type": "markdown",
   "id": "2ea49fea",
   "metadata": {},
   "source": [
    "<p>Данные были объединенны таким образом, что включены только те партии, данные о которых имеются во всех таблицах. В итоговых данных практически отсутствовали  пропуски в данных, за исключением тех столбцов, в которых указывали данные о добавляемых материалах. (пропуски заменены на 0, что допустимо)</p>"
   ]
  },
  {
   "cell_type": "markdown",
   "id": "c24b02cc",
   "metadata": {},
   "source": [
    "  В ходе работы обучались два типа моделей : линейные и ансамбли деревьев. Для ансамблей деревьев использовался метод подбора гиперпараметров."
   ]
  },
  {
   "cell_type": "markdown",
   "id": "c417669b",
   "metadata": {},
   "source": [
    "**Возникшие сложности:**\n",
    "Изначально подразумевалось исключение выбросов для каждого признака, но ввиду того что выборка достаточно малочисленная и значения большинства выбросов допустимы в технологическом процессе, то были удалены самые выраженные выбросы для признаков: интервал нагрева и количество итераций. По согласованию с заказчиком были удалены  ключи с низкими температурами и ключ с отрицательной реактивной мощностью."
   ]
  },
  {
   "cell_type": "markdown",
   "id": "c927c723",
   "metadata": {},
   "source": [
    " <p>Для обучения линейных моделей использовалась масштабированная выборка, для ансамбля деревьев-неизмененная. В ходе процесса были добавлены два новых признака: средняя полная мощность и работа. Данные признаки имеют высокую степень корреляции, поэтому при включении их в выборку для линейной модели метрика MAE была очень завышена, эти признаки пришлось не включать в выборку для линейных моделей. Но модели ансамбли деревьев с этими же признаками показали наилучший реультат. "
   ]
  },
  {
   "cell_type": "markdown",
   "id": "5d74d5a5",
   "metadata": {},
   "source": [
    "**Лучшая модель:**\n",
    "<p>В итоге была выбрана модель ансамбль деревьев с градиентным бустингом с параметрами: 'n_estimators': 166, 'max_depth': 3,random_state=80822. Модель прошла проверку на адекватность (сранение с константной моделью). Полученная метрика MAE на тесте составила: 5.82, что удовлетворяет поставленной цели."
   ]
  },
  {
   "cell_type": "markdown",
   "id": "eff1cc65",
   "metadata": {},
   "source": [
    "<font color='steelblue' size=4><b>Итоговый комментарий тимлида:</b></font><br><br>\n",
    "<font color='steelblue'>Пожалуйста, ответь на вопросы задания (выделить ключевые шаги, описать сложности и тд). Стоит указать random_state в гиперпараметрах.</font><br>"
   ]
  },
  {
   "cell_type": "markdown",
   "id": "3178136a",
   "metadata": {},
   "source": [
    "<font color='steelblue' size=4><b>Итоговый комментарий тимлида v2:</b></font><br><br>\n",
    "<font color='green'>Спасибо за подробный отчёт, принято!</font><br>"
   ]
  },
  {
   "cell_type": "code",
   "execution_count": null,
   "id": "6e5dabe4",
   "metadata": {},
   "outputs": [],
   "source": []
  }
 ],
 "metadata": {
  "ExecuteTimeLog": [
   {
    "duration": 1178,
    "start_time": "2022-08-11T10:16:53.309Z"
   },
   {
    "duration": 210,
    "start_time": "2022-08-11T10:16:54.489Z"
   },
   {
    "duration": 14,
    "start_time": "2022-08-11T10:16:54.701Z"
   },
   {
    "duration": 15,
    "start_time": "2022-08-11T10:16:54.718Z"
   },
   {
    "duration": 218,
    "start_time": "2022-08-11T10:16:54.734Z"
   },
   {
    "duration": 117,
    "start_time": "2022-08-11T10:16:54.953Z"
   },
   {
    "duration": 11,
    "start_time": "2022-08-11T10:16:55.072Z"
   },
   {
    "duration": 163,
    "start_time": "2022-08-11T10:16:55.084Z"
   },
   {
    "duration": 10,
    "start_time": "2022-08-11T10:16:55.249Z"
   },
   {
    "duration": 16,
    "start_time": "2022-08-11T10:16:55.262Z"
   },
   {
    "duration": 255,
    "start_time": "2022-08-11T10:16:55.280Z"
   },
   {
    "duration": 90,
    "start_time": "2022-08-11T10:16:55.537Z"
   },
   {
    "duration": 154,
    "start_time": "2022-08-11T10:16:55.628Z"
   },
   {
    "duration": 91,
    "start_time": "2022-08-11T10:16:55.784Z"
   },
   {
    "duration": 11,
    "start_time": "2022-08-11T10:16:55.877Z"
   },
   {
    "duration": 179,
    "start_time": "2022-08-11T10:16:55.890Z"
   },
   {
    "duration": 19,
    "start_time": "2022-08-11T10:16:56.071Z"
   },
   {
    "duration": 26,
    "start_time": "2022-08-11T10:16:56.092Z"
   },
   {
    "duration": 44,
    "start_time": "2022-08-11T10:16:56.120Z"
   },
   {
    "duration": 124,
    "start_time": "2022-08-11T10:16:56.166Z"
   },
   {
    "duration": 17,
    "start_time": "2022-08-11T10:16:56.292Z"
   },
   {
    "duration": 18,
    "start_time": "2022-08-11T10:16:56.310Z"
   },
   {
    "duration": 121,
    "start_time": "2022-08-11T10:16:56.329Z"
   },
   {
    "duration": 10,
    "start_time": "2022-08-11T10:16:56.451Z"
   },
   {
    "duration": 111,
    "start_time": "2022-08-11T10:16:56.463Z"
   },
   {
    "duration": 19,
    "start_time": "2022-08-11T10:16:56.575Z"
   },
   {
    "duration": 20,
    "start_time": "2022-08-11T10:16:56.596Z"
   },
   {
    "duration": 34,
    "start_time": "2022-08-11T10:16:56.620Z"
   },
   {
    "duration": 92,
    "start_time": "2022-08-11T10:16:56.656Z"
   },
   {
    "duration": 23,
    "start_time": "2022-08-11T10:16:56.750Z"
   },
   {
    "duration": 31,
    "start_time": "2022-08-11T10:16:56.774Z"
   },
   {
    "duration": 73,
    "start_time": "2022-08-12T14:25:44.242Z"
   },
   {
    "duration": 59,
    "start_time": "2022-08-12T14:25:52.559Z"
   },
   {
    "duration": 63,
    "start_time": "2022-08-12T14:28:01.928Z"
   },
   {
    "duration": 1297,
    "start_time": "2022-08-12T14:48:40.962Z"
   },
   {
    "duration": 110,
    "start_time": "2022-08-12T14:48:42.261Z"
   },
   {
    "duration": 15,
    "start_time": "2022-08-12T14:48:42.373Z"
   },
   {
    "duration": 15,
    "start_time": "2022-08-12T14:48:42.390Z"
   },
   {
    "duration": 230,
    "start_time": "2022-08-12T14:48:42.406Z"
   },
   {
    "duration": 119,
    "start_time": "2022-08-12T14:48:42.638Z"
   },
   {
    "duration": 12,
    "start_time": "2022-08-12T14:48:42.758Z"
   },
   {
    "duration": 97,
    "start_time": "2022-08-12T14:48:42.771Z"
   },
   {
    "duration": 11,
    "start_time": "2022-08-12T14:48:42.870Z"
   },
   {
    "duration": 20,
    "start_time": "2022-08-12T14:48:42.883Z"
   },
   {
    "duration": 267,
    "start_time": "2022-08-12T14:48:42.904Z"
   },
   {
    "duration": 100,
    "start_time": "2022-08-12T14:48:43.173Z"
   },
   {
    "duration": 158,
    "start_time": "2022-08-12T14:48:43.274Z"
   },
   {
    "duration": 101,
    "start_time": "2022-08-12T14:48:43.434Z"
   },
   {
    "duration": 11,
    "start_time": "2022-08-12T14:48:43.537Z"
   },
   {
    "duration": 179,
    "start_time": "2022-08-12T14:48:43.550Z"
   },
   {
    "duration": 116,
    "start_time": "2022-08-12T14:48:43.731Z"
   },
   {
    "duration": 19,
    "start_time": "2022-08-12T14:48:43.849Z"
   },
   {
    "duration": 13,
    "start_time": "2022-08-12T14:48:43.870Z"
   },
   {
    "duration": 114,
    "start_time": "2022-08-12T14:48:43.884Z"
   },
   {
    "duration": 85,
    "start_time": "2022-08-12T14:48:43.999Z"
   },
   {
    "duration": 16,
    "start_time": "2022-08-12T14:48:44.086Z"
   },
   {
    "duration": 15,
    "start_time": "2022-08-12T14:48:44.104Z"
   },
   {
    "duration": 101,
    "start_time": "2022-08-12T14:48:44.121Z"
   },
   {
    "duration": 10,
    "start_time": "2022-08-12T14:48:44.223Z"
   },
   {
    "duration": 98,
    "start_time": "2022-08-12T14:48:44.234Z"
   },
   {
    "duration": 13,
    "start_time": "2022-08-12T14:48:44.334Z"
   },
   {
    "duration": 12,
    "start_time": "2022-08-12T14:48:44.350Z"
   },
   {
    "duration": 37,
    "start_time": "2022-08-12T14:48:44.363Z"
   },
   {
    "duration": 78,
    "start_time": "2022-08-12T14:48:44.402Z"
   },
   {
    "duration": 14,
    "start_time": "2022-08-12T14:48:44.481Z"
   },
   {
    "duration": 13,
    "start_time": "2022-08-12T14:48:44.496Z"
   },
   {
    "duration": 1115,
    "start_time": "2022-08-12T14:51:45.758Z"
   },
   {
    "duration": 51,
    "start_time": "2022-08-12T14:52:21.971Z"
   },
   {
    "duration": 2330,
    "start_time": "2022-08-12T14:52:46.165Z"
   },
   {
    "duration": 2848,
    "start_time": "2022-08-12T14:52:56.740Z"
   },
   {
    "duration": 89,
    "start_time": "2022-08-12T14:54:30.771Z"
   },
   {
    "duration": 82,
    "start_time": "2022-08-12T14:58:16.278Z"
   },
   {
    "duration": 271,
    "start_time": "2022-08-12T15:02:40.118Z"
   },
   {
    "duration": 379,
    "start_time": "2022-08-12T15:03:47.581Z"
   },
   {
    "duration": 210,
    "start_time": "2022-08-12T15:04:18.585Z"
   },
   {
    "duration": 195,
    "start_time": "2022-08-12T15:04:26.636Z"
   },
   {
    "duration": 200,
    "start_time": "2022-08-12T15:04:33.916Z"
   },
   {
    "duration": 271,
    "start_time": "2022-08-12T15:05:04.228Z"
   },
   {
    "duration": 8,
    "start_time": "2022-08-12T15:06:17.818Z"
   },
   {
    "duration": 94,
    "start_time": "2022-08-12T15:07:04.322Z"
   },
   {
    "duration": 12,
    "start_time": "2022-08-12T15:07:10.022Z"
   },
   {
    "duration": 151,
    "start_time": "2022-08-12T15:09:45.960Z"
   },
   {
    "duration": 14,
    "start_time": "2022-08-12T15:10:13.569Z"
   },
   {
    "duration": 1688,
    "start_time": "2022-08-12T15:12:23.975Z"
   },
   {
    "duration": 1364,
    "start_time": "2022-08-12T15:12:59.430Z"
   },
   {
    "duration": 81,
    "start_time": "2022-08-12T15:13:11.427Z"
   },
   {
    "duration": 102,
    "start_time": "2022-08-12T15:17:09.530Z"
   },
   {
    "duration": 2235,
    "start_time": "2022-08-14T18:26:56.276Z"
   },
   {
    "duration": 92,
    "start_time": "2022-08-14T18:26:58.513Z"
   },
   {
    "duration": 13,
    "start_time": "2022-08-14T18:26:58.607Z"
   },
   {
    "duration": 10,
    "start_time": "2022-08-14T18:26:58.622Z"
   },
   {
    "duration": 14,
    "start_time": "2022-08-14T18:26:58.633Z"
   },
   {
    "duration": 251,
    "start_time": "2022-08-14T18:26:58.649Z"
   },
   {
    "duration": 114,
    "start_time": "2022-08-14T18:26:58.902Z"
   },
   {
    "duration": 77,
    "start_time": "2022-08-14T18:26:59.017Z"
   },
   {
    "duration": 12,
    "start_time": "2022-08-14T18:26:59.096Z"
   },
   {
    "duration": 16,
    "start_time": "2022-08-14T18:26:59.110Z"
   },
   {
    "duration": 360,
    "start_time": "2022-08-14T18:26:59.128Z"
   },
   {
    "duration": 107,
    "start_time": "2022-08-14T18:26:59.489Z"
   },
   {
    "duration": 161,
    "start_time": "2022-08-14T18:26:59.597Z"
   },
   {
    "duration": 98,
    "start_time": "2022-08-14T18:26:59.760Z"
   },
   {
    "duration": 12,
    "start_time": "2022-08-14T18:26:59.859Z"
   },
   {
    "duration": 183,
    "start_time": "2022-08-14T18:26:59.873Z"
   },
   {
    "duration": 127,
    "start_time": "2022-08-14T18:27:00.058Z"
   },
   {
    "duration": 21,
    "start_time": "2022-08-14T18:27:00.187Z"
   },
   {
    "duration": 10,
    "start_time": "2022-08-14T18:27:00.209Z"
   },
   {
    "duration": 58,
    "start_time": "2022-08-14T18:27:00.221Z"
   },
   {
    "duration": 2681,
    "start_time": "2022-08-14T18:27:00.281Z"
   },
   {
    "duration": 94,
    "start_time": "2022-08-14T18:27:02.964Z"
   },
   {
    "duration": 86,
    "start_time": "2022-08-14T18:27:03.060Z"
   },
   {
    "duration": 18,
    "start_time": "2022-08-14T18:27:03.148Z"
   },
   {
    "duration": 15,
    "start_time": "2022-08-14T18:27:03.167Z"
   },
   {
    "duration": 10,
    "start_time": "2022-08-14T18:27:03.183Z"
   },
   {
    "duration": 86,
    "start_time": "2022-08-14T18:27:03.195Z"
   },
   {
    "duration": 9,
    "start_time": "2022-08-14T18:27:03.285Z"
   },
   {
    "duration": 351,
    "start_time": "2022-08-14T18:27:03.295Z"
   },
   {
    "duration": 117,
    "start_time": "2022-08-14T18:27:03.648Z"
   },
   {
    "duration": 9,
    "start_time": "2022-08-14T18:27:03.766Z"
   },
   {
    "duration": 12,
    "start_time": "2022-08-14T18:27:03.776Z"
   },
   {
    "duration": 64,
    "start_time": "2022-08-14T18:27:03.790Z"
   },
   {
    "duration": 15,
    "start_time": "2022-08-14T18:27:03.856Z"
   },
   {
    "duration": 14,
    "start_time": "2022-08-14T18:27:03.872Z"
   },
   {
    "duration": 37,
    "start_time": "2022-08-14T18:27:03.887Z"
   },
   {
    "duration": 1675,
    "start_time": "2022-08-14T18:27:03.925Z"
   },
   {
    "duration": 253,
    "start_time": "2022-08-14T18:27:05.609Z"
   },
   {
    "duration": 12,
    "start_time": "2022-08-14T18:27:05.864Z"
   },
   {
    "duration": 16,
    "start_time": "2022-08-14T18:27:05.879Z"
   },
   {
    "duration": 100,
    "start_time": "2022-08-14T18:27:05.896Z"
   },
   {
    "duration": 23,
    "start_time": "2022-08-14T18:27:05.999Z"
   },
   {
    "duration": 17,
    "start_time": "2022-08-14T18:27:06.024Z"
   },
   {
    "duration": 9,
    "start_time": "2022-08-14T18:27:06.043Z"
   },
   {
    "duration": 15,
    "start_time": "2022-08-14T18:27:06.054Z"
   },
   {
    "duration": 8,
    "start_time": "2022-08-14T18:27:06.070Z"
   },
   {
    "duration": 6,
    "start_time": "2022-08-14T18:27:06.079Z"
   },
   {
    "duration": 31,
    "start_time": "2022-08-14T18:27:06.086Z"
   },
   {
    "duration": 7,
    "start_time": "2022-08-14T18:27:06.118Z"
   },
   {
    "duration": 18,
    "start_time": "2022-08-14T18:27:06.126Z"
   },
   {
    "duration": 16,
    "start_time": "2022-08-14T18:27:06.145Z"
   },
   {
    "duration": 5,
    "start_time": "2022-08-14T18:27:06.162Z"
   },
   {
    "duration": 23,
    "start_time": "2022-08-14T18:27:06.169Z"
   },
   {
    "duration": 23,
    "start_time": "2022-08-14T18:27:06.193Z"
   },
   {
    "duration": 15,
    "start_time": "2022-08-14T18:27:06.218Z"
   },
   {
    "duration": 18,
    "start_time": "2022-08-14T18:27:06.235Z"
   },
   {
    "duration": 7,
    "start_time": "2022-08-14T18:27:06.255Z"
   },
   {
    "duration": 15,
    "start_time": "2022-08-14T18:27:06.263Z"
   },
   {
    "duration": 102,
    "start_time": "2022-08-14T18:27:06.280Z"
   },
   {
    "duration": 12,
    "start_time": "2022-08-14T18:27:06.383Z"
   },
   {
    "duration": 17,
    "start_time": "2022-08-14T18:27:06.397Z"
   },
   {
    "duration": 12,
    "start_time": "2022-08-14T18:27:06.416Z"
   },
   {
    "duration": 9,
    "start_time": "2022-08-14T18:27:06.430Z"
   },
   {
    "duration": 15,
    "start_time": "2022-08-14T18:27:06.441Z"
   },
   {
    "duration": 22,
    "start_time": "2022-08-14T18:27:06.457Z"
   },
   {
    "duration": 37,
    "start_time": "2022-08-14T18:27:06.480Z"
   },
   {
    "duration": 10,
    "start_time": "2022-08-14T18:27:06.519Z"
   },
   {
    "duration": 15,
    "start_time": "2022-08-14T18:27:06.531Z"
   },
   {
    "duration": 14,
    "start_time": "2022-08-14T18:27:06.548Z"
   },
   {
    "duration": 6,
    "start_time": "2022-08-14T18:27:06.563Z"
   },
   {
    "duration": 42,
    "start_time": "2022-08-14T18:27:06.570Z"
   },
   {
    "duration": 10,
    "start_time": "2022-08-14T18:27:06.613Z"
   },
   {
    "duration": 4,
    "start_time": "2022-08-14T18:27:06.624Z"
   },
   {
    "duration": 14,
    "start_time": "2022-08-14T18:27:06.629Z"
   },
   {
    "duration": 17,
    "start_time": "2022-08-14T18:27:06.644Z"
   },
   {
    "duration": 109,
    "start_time": "2022-08-14T18:27:06.663Z"
   },
   {
    "duration": 5,
    "start_time": "2022-08-14T18:27:06.774Z"
   },
   {
    "duration": 95,
    "start_time": "2022-08-14T18:27:06.780Z"
   },
   {
    "duration": 92,
    "start_time": "2022-08-14T18:27:06.876Z"
   },
   {
    "duration": 4,
    "start_time": "2022-08-14T18:27:06.970Z"
   },
   {
    "duration": 111,
    "start_time": "2022-08-14T18:27:06.975Z"
   },
   {
    "duration": 118,
    "start_time": "2022-08-14T18:27:07.091Z"
   },
   {
    "duration": 4,
    "start_time": "2022-08-14T18:27:07.212Z"
   },
   {
    "duration": 110,
    "start_time": "2022-08-14T18:27:07.219Z"
   },
   {
    "duration": 5,
    "start_time": "2022-08-14T18:27:07.331Z"
   },
   {
    "duration": 132,
    "start_time": "2022-08-14T18:27:07.338Z"
   },
   {
    "duration": 98,
    "start_time": "2022-08-14T18:27:07.472Z"
   },
   {
    "duration": 4,
    "start_time": "2022-08-14T18:27:07.572Z"
   },
   {
    "duration": 87,
    "start_time": "2022-08-14T18:27:07.577Z"
   },
   {
    "duration": 4,
    "start_time": "2022-08-14T18:27:07.666Z"
   },
   {
    "duration": 108,
    "start_time": "2022-08-14T18:27:07.672Z"
   },
   {
    "duration": 4,
    "start_time": "2022-08-14T18:27:07.782Z"
   },
   {
    "duration": 87,
    "start_time": "2022-08-14T18:27:07.787Z"
   },
   {
    "duration": 3,
    "start_time": "2022-08-14T18:27:07.876Z"
   },
   {
    "duration": 6,
    "start_time": "2022-08-14T18:27:07.881Z"
   },
   {
    "duration": 116,
    "start_time": "2022-08-14T18:27:07.889Z"
   },
   {
    "duration": 4,
    "start_time": "2022-08-14T18:27:12.964Z"
   },
   {
    "duration": 3,
    "start_time": "2022-08-14T18:27:40.080Z"
   },
   {
    "duration": 1589,
    "start_time": "2022-08-14T18:59:09.594Z"
   },
   {
    "duration": 97,
    "start_time": "2022-08-14T18:59:11.185Z"
   },
   {
    "duration": 14,
    "start_time": "2022-08-14T18:59:11.283Z"
   },
   {
    "duration": 9,
    "start_time": "2022-08-14T18:59:11.300Z"
   },
   {
    "duration": 22,
    "start_time": "2022-08-14T18:59:11.310Z"
   },
   {
    "duration": 245,
    "start_time": "2022-08-14T18:59:11.334Z"
   },
   {
    "duration": 118,
    "start_time": "2022-08-14T18:59:11.581Z"
   },
   {
    "duration": 84,
    "start_time": "2022-08-14T18:59:11.701Z"
   },
   {
    "duration": 12,
    "start_time": "2022-08-14T18:59:11.786Z"
   },
   {
    "duration": 17,
    "start_time": "2022-08-14T18:59:11.802Z"
   },
   {
    "duration": 334,
    "start_time": "2022-08-14T18:59:11.821Z"
   },
   {
    "duration": 101,
    "start_time": "2022-08-14T18:59:12.156Z"
   },
   {
    "duration": 163,
    "start_time": "2022-08-14T18:59:12.259Z"
   },
   {
    "duration": 96,
    "start_time": "2022-08-14T18:59:12.423Z"
   },
   {
    "duration": 14,
    "start_time": "2022-08-14T18:59:12.521Z"
   },
   {
    "duration": 173,
    "start_time": "2022-08-14T18:59:12.536Z"
   },
   {
    "duration": 76,
    "start_time": "2022-08-14T18:59:12.711Z"
   },
   {
    "duration": 20,
    "start_time": "2022-08-14T18:59:12.789Z"
   },
   {
    "duration": 10,
    "start_time": "2022-08-14T18:59:12.811Z"
   },
   {
    "duration": 50,
    "start_time": "2022-08-14T18:59:12.823Z"
   },
   {
    "duration": 2567,
    "start_time": "2022-08-14T18:59:12.874Z"
   },
   {
    "duration": 92,
    "start_time": "2022-08-14T18:59:15.443Z"
   },
   {
    "duration": 83,
    "start_time": "2022-08-14T18:59:15.536Z"
   },
   {
    "duration": 17,
    "start_time": "2022-08-14T18:59:15.621Z"
   },
   {
    "duration": 14,
    "start_time": "2022-08-14T18:59:15.640Z"
   },
   {
    "duration": 10,
    "start_time": "2022-08-14T18:59:15.656Z"
   },
   {
    "duration": 73,
    "start_time": "2022-08-14T18:59:15.669Z"
   },
   {
    "duration": 10,
    "start_time": "2022-08-14T18:59:15.746Z"
   },
   {
    "duration": 366,
    "start_time": "2022-08-14T18:59:15.757Z"
   },
   {
    "duration": 108,
    "start_time": "2022-08-14T18:59:16.124Z"
   },
   {
    "duration": 8,
    "start_time": "2022-08-14T18:59:16.234Z"
   },
   {
    "duration": 23,
    "start_time": "2022-08-14T18:59:16.243Z"
   },
   {
    "duration": 59,
    "start_time": "2022-08-14T18:59:16.268Z"
   },
   {
    "duration": 14,
    "start_time": "2022-08-14T18:59:16.329Z"
   },
   {
    "duration": 10,
    "start_time": "2022-08-14T18:59:16.345Z"
   },
   {
    "duration": 32,
    "start_time": "2022-08-14T18:59:16.357Z"
   },
   {
    "duration": 1734,
    "start_time": "2022-08-14T18:59:16.391Z"
   },
   {
    "duration": 234,
    "start_time": "2022-08-14T18:59:18.126Z"
   },
   {
    "duration": 10,
    "start_time": "2022-08-14T18:59:18.361Z"
   },
   {
    "duration": 14,
    "start_time": "2022-08-14T18:59:18.373Z"
   },
   {
    "duration": 90,
    "start_time": "2022-08-14T18:59:18.389Z"
   },
   {
    "duration": 14,
    "start_time": "2022-08-14T18:59:18.480Z"
   },
   {
    "duration": 44,
    "start_time": "2022-08-14T18:59:18.495Z"
   },
   {
    "duration": 23,
    "start_time": "2022-08-14T18:59:18.542Z"
   },
   {
    "duration": 20,
    "start_time": "2022-08-14T18:59:18.567Z"
   },
   {
    "duration": 5,
    "start_time": "2022-08-14T18:59:18.590Z"
   },
   {
    "duration": 10,
    "start_time": "2022-08-14T18:59:18.597Z"
   },
   {
    "duration": 23,
    "start_time": "2022-08-14T18:59:18.609Z"
   },
   {
    "duration": 11,
    "start_time": "2022-08-14T18:59:18.634Z"
   },
   {
    "duration": 21,
    "start_time": "2022-08-14T18:59:18.646Z"
   },
   {
    "duration": 22,
    "start_time": "2022-08-14T18:59:18.669Z"
   },
   {
    "duration": 5,
    "start_time": "2022-08-14T18:59:18.694Z"
   },
   {
    "duration": 42,
    "start_time": "2022-08-14T18:59:18.701Z"
   },
   {
    "duration": 15,
    "start_time": "2022-08-14T18:59:18.745Z"
   },
   {
    "duration": 23,
    "start_time": "2022-08-14T18:59:18.762Z"
   },
   {
    "duration": 12,
    "start_time": "2022-08-14T18:59:18.787Z"
   },
   {
    "duration": 14,
    "start_time": "2022-08-14T18:59:18.809Z"
   },
   {
    "duration": 14,
    "start_time": "2022-08-14T18:59:18.824Z"
   },
   {
    "duration": 86,
    "start_time": "2022-08-14T18:59:18.839Z"
   },
   {
    "duration": 11,
    "start_time": "2022-08-14T18:59:18.926Z"
   },
   {
    "duration": 8,
    "start_time": "2022-08-14T18:59:18.938Z"
   },
   {
    "duration": 12,
    "start_time": "2022-08-14T18:59:18.947Z"
   },
   {
    "duration": 3,
    "start_time": "2022-08-14T18:59:18.961Z"
   },
   {
    "duration": 12,
    "start_time": "2022-08-14T18:59:18.965Z"
   },
   {
    "duration": 15,
    "start_time": "2022-08-14T18:59:19.008Z"
   },
   {
    "duration": 18,
    "start_time": "2022-08-14T18:59:19.025Z"
   },
   {
    "duration": 11,
    "start_time": "2022-08-14T18:59:19.045Z"
   },
   {
    "duration": 15,
    "start_time": "2022-08-14T18:59:19.057Z"
   },
   {
    "duration": 43,
    "start_time": "2022-08-14T18:59:19.073Z"
   },
   {
    "duration": 6,
    "start_time": "2022-08-14T18:59:19.118Z"
   },
   {
    "duration": 5,
    "start_time": "2022-08-14T18:59:19.126Z"
   },
   {
    "duration": 10,
    "start_time": "2022-08-14T18:59:19.133Z"
   },
   {
    "duration": 4,
    "start_time": "2022-08-14T18:59:19.144Z"
   },
   {
    "duration": 13,
    "start_time": "2022-08-14T18:59:19.149Z"
   },
   {
    "duration": 15,
    "start_time": "2022-08-14T18:59:19.163Z"
   },
   {
    "duration": 108,
    "start_time": "2022-08-14T18:59:19.180Z"
   },
   {
    "duration": 23,
    "start_time": "2022-08-14T18:59:19.289Z"
   },
   {
    "duration": 86,
    "start_time": "2022-08-14T18:59:19.314Z"
   },
   {
    "duration": 78,
    "start_time": "2022-08-14T18:59:19.402Z"
   },
   {
    "duration": 3,
    "start_time": "2022-08-14T18:59:19.482Z"
   },
   {
    "duration": 114,
    "start_time": "2022-08-14T18:59:19.487Z"
   },
   {
    "duration": 98,
    "start_time": "2022-08-14T18:59:19.611Z"
   },
   {
    "duration": 4,
    "start_time": "2022-08-14T18:59:19.711Z"
   },
   {
    "duration": 94,
    "start_time": "2022-08-14T18:59:19.717Z"
   },
   {
    "duration": 5,
    "start_time": "2022-08-14T18:59:19.812Z"
   },
   {
    "duration": 112,
    "start_time": "2022-08-14T18:59:19.818Z"
   },
   {
    "duration": 99,
    "start_time": "2022-08-14T18:59:19.932Z"
   },
   {
    "duration": 5,
    "start_time": "2022-08-14T18:59:20.032Z"
   },
   {
    "duration": 86,
    "start_time": "2022-08-14T18:59:20.039Z"
   },
   {
    "duration": 4,
    "start_time": "2022-08-14T18:59:20.126Z"
   },
   {
    "duration": 94,
    "start_time": "2022-08-14T18:59:20.132Z"
   },
   {
    "duration": 4,
    "start_time": "2022-08-14T18:59:20.227Z"
   },
   {
    "duration": 91,
    "start_time": "2022-08-14T18:59:20.233Z"
   },
   {
    "duration": 4,
    "start_time": "2022-08-14T18:59:20.326Z"
   },
   {
    "duration": 8,
    "start_time": "2022-08-14T18:59:20.331Z"
   },
   {
    "duration": 5,
    "start_time": "2022-08-14T18:59:20.341Z"
   },
   {
    "duration": 4,
    "start_time": "2022-08-14T18:59:20.348Z"
   },
   {
    "duration": 15,
    "start_time": "2022-08-14T18:59:20.353Z"
   },
   {
    "duration": 10,
    "start_time": "2022-08-14T18:59:20.370Z"
   },
   {
    "duration": 29,
    "start_time": "2022-08-14T18:59:20.382Z"
   },
   {
    "duration": 16,
    "start_time": "2022-08-14T18:59:21.043Z"
   },
   {
    "duration": 43,
    "start_time": "2022-08-16T08:59:38.128Z"
   },
   {
    "duration": 1838,
    "start_time": "2022-08-16T08:59:46.702Z"
   },
   {
    "duration": 360,
    "start_time": "2022-08-16T08:59:48.542Z"
   },
   {
    "duration": 14,
    "start_time": "2022-08-16T08:59:48.904Z"
   },
   {
    "duration": 10,
    "start_time": "2022-08-16T08:59:48.919Z"
   },
   {
    "duration": 15,
    "start_time": "2022-08-16T08:59:48.931Z"
   },
   {
    "duration": 260,
    "start_time": "2022-08-16T08:59:48.948Z"
   },
   {
    "duration": 116,
    "start_time": "2022-08-16T08:59:49.209Z"
   },
   {
    "duration": 380,
    "start_time": "2022-08-16T08:59:49.326Z"
   },
   {
    "duration": 13,
    "start_time": "2022-08-16T08:59:49.707Z"
   },
   {
    "duration": 22,
    "start_time": "2022-08-16T08:59:49.721Z"
   },
   {
    "duration": 340,
    "start_time": "2022-08-16T08:59:49.744Z"
   },
   {
    "duration": 91,
    "start_time": "2022-08-16T08:59:50.087Z"
   },
   {
    "duration": 159,
    "start_time": "2022-08-16T08:59:50.180Z"
   },
   {
    "duration": 95,
    "start_time": "2022-08-16T08:59:50.341Z"
   },
   {
    "duration": 10,
    "start_time": "2022-08-16T08:59:50.437Z"
   },
   {
    "duration": 164,
    "start_time": "2022-08-16T08:59:50.448Z"
   },
   {
    "duration": 135,
    "start_time": "2022-08-16T08:59:50.614Z"
   },
   {
    "duration": 20,
    "start_time": "2022-08-16T08:59:50.751Z"
   },
   {
    "duration": 14,
    "start_time": "2022-08-16T08:59:50.772Z"
   },
   {
    "duration": 52,
    "start_time": "2022-08-16T08:59:50.788Z"
   },
   {
    "duration": 2481,
    "start_time": "2022-08-16T08:59:50.842Z"
   },
   {
    "duration": 99,
    "start_time": "2022-08-16T08:59:53.325Z"
   },
   {
    "duration": 156,
    "start_time": "2022-08-16T08:59:53.426Z"
   },
   {
    "duration": 17,
    "start_time": "2022-08-16T08:59:53.583Z"
   },
   {
    "duration": 14,
    "start_time": "2022-08-16T08:59:53.601Z"
   },
   {
    "duration": 19,
    "start_time": "2022-08-16T08:59:53.617Z"
   },
   {
    "duration": 220,
    "start_time": "2022-08-16T08:59:53.637Z"
   },
   {
    "duration": 9,
    "start_time": "2022-08-16T08:59:53.859Z"
   },
   {
    "duration": 226,
    "start_time": "2022-08-16T08:59:53.870Z"
   },
   {
    "duration": 92,
    "start_time": "2022-08-16T08:59:54.097Z"
   },
   {
    "duration": 19,
    "start_time": "2022-08-16T08:59:54.191Z"
   },
   {
    "duration": 19,
    "start_time": "2022-08-16T08:59:54.212Z"
   },
   {
    "duration": 97,
    "start_time": "2022-08-16T08:59:54.233Z"
   },
   {
    "duration": 14,
    "start_time": "2022-08-16T08:59:54.331Z"
   },
   {
    "duration": 9,
    "start_time": "2022-08-16T08:59:54.347Z"
   },
   {
    "duration": 40,
    "start_time": "2022-08-16T08:59:54.358Z"
   },
   {
    "duration": 1830,
    "start_time": "2022-08-16T08:59:54.400Z"
   },
   {
    "duration": 103,
    "start_time": "2022-08-16T08:59:56.231Z"
   },
   {
    "duration": 10,
    "start_time": "2022-08-16T08:59:56.335Z"
   },
   {
    "duration": 13,
    "start_time": "2022-08-16T08:59:56.346Z"
   },
   {
    "duration": 101,
    "start_time": "2022-08-16T08:59:56.363Z"
   },
   {
    "duration": 15,
    "start_time": "2022-08-16T08:59:56.465Z"
   },
   {
    "duration": 18,
    "start_time": "2022-08-16T08:59:56.482Z"
   },
   {
    "duration": 9,
    "start_time": "2022-08-16T08:59:56.502Z"
   },
   {
    "duration": 13,
    "start_time": "2022-08-16T08:59:56.512Z"
   },
   {
    "duration": 6,
    "start_time": "2022-08-16T08:59:56.526Z"
   },
   {
    "duration": 7,
    "start_time": "2022-08-16T08:59:56.533Z"
   },
   {
    "duration": 17,
    "start_time": "2022-08-16T08:59:56.541Z"
   },
   {
    "duration": 12,
    "start_time": "2022-08-16T08:59:56.560Z"
   },
   {
    "duration": 15,
    "start_time": "2022-08-16T08:59:56.574Z"
   },
   {
    "duration": 11,
    "start_time": "2022-08-16T08:59:56.591Z"
   },
   {
    "duration": 4,
    "start_time": "2022-08-16T08:59:56.605Z"
   },
   {
    "duration": 18,
    "start_time": "2022-08-16T08:59:56.611Z"
   },
   {
    "duration": 13,
    "start_time": "2022-08-16T08:59:56.631Z"
   },
   {
    "duration": 14,
    "start_time": "2022-08-16T08:59:56.645Z"
   },
   {
    "duration": 14,
    "start_time": "2022-08-16T08:59:56.661Z"
   },
   {
    "duration": 30,
    "start_time": "2022-08-16T08:59:56.676Z"
   },
   {
    "duration": 13,
    "start_time": "2022-08-16T08:59:56.707Z"
   },
   {
    "duration": 84,
    "start_time": "2022-08-16T08:59:56.722Z"
   },
   {
    "duration": 11,
    "start_time": "2022-08-16T08:59:56.807Z"
   },
   {
    "duration": 11,
    "start_time": "2022-08-16T08:59:56.819Z"
   },
   {
    "duration": 11,
    "start_time": "2022-08-16T08:59:56.831Z"
   },
   {
    "duration": 3,
    "start_time": "2022-08-16T08:59:56.843Z"
   },
   {
    "duration": 13,
    "start_time": "2022-08-16T08:59:56.847Z"
   },
   {
    "duration": 15,
    "start_time": "2022-08-16T08:59:56.861Z"
   },
   {
    "duration": 40,
    "start_time": "2022-08-16T08:59:56.877Z"
   },
   {
    "duration": 16,
    "start_time": "2022-08-16T08:59:56.918Z"
   },
   {
    "duration": 11,
    "start_time": "2022-08-16T08:59:56.936Z"
   },
   {
    "duration": 116,
    "start_time": "2022-08-16T08:59:56.948Z"
   },
   {
    "duration": 0,
    "start_time": "2022-08-16T08:59:57.066Z"
   },
   {
    "duration": 0,
    "start_time": "2022-08-16T08:59:57.067Z"
   },
   {
    "duration": 0,
    "start_time": "2022-08-16T08:59:57.068Z"
   },
   {
    "duration": 0,
    "start_time": "2022-08-16T08:59:57.069Z"
   },
   {
    "duration": 0,
    "start_time": "2022-08-16T08:59:57.070Z"
   },
   {
    "duration": 0,
    "start_time": "2022-08-16T08:59:57.071Z"
   },
   {
    "duration": 0,
    "start_time": "2022-08-16T08:59:57.072Z"
   },
   {
    "duration": 0,
    "start_time": "2022-08-16T08:59:57.073Z"
   },
   {
    "duration": 0,
    "start_time": "2022-08-16T08:59:57.074Z"
   },
   {
    "duration": 0,
    "start_time": "2022-08-16T08:59:57.075Z"
   },
   {
    "duration": 0,
    "start_time": "2022-08-16T08:59:57.076Z"
   },
   {
    "duration": 0,
    "start_time": "2022-08-16T08:59:57.077Z"
   },
   {
    "duration": 0,
    "start_time": "2022-08-16T08:59:57.078Z"
   },
   {
    "duration": 0,
    "start_time": "2022-08-16T08:59:57.079Z"
   },
   {
    "duration": 0,
    "start_time": "2022-08-16T08:59:57.080Z"
   },
   {
    "duration": 0,
    "start_time": "2022-08-16T08:59:57.106Z"
   },
   {
    "duration": 0,
    "start_time": "2022-08-16T08:59:57.107Z"
   },
   {
    "duration": 0,
    "start_time": "2022-08-16T08:59:57.108Z"
   },
   {
    "duration": 0,
    "start_time": "2022-08-16T08:59:57.109Z"
   },
   {
    "duration": 0,
    "start_time": "2022-08-16T08:59:57.110Z"
   },
   {
    "duration": 0,
    "start_time": "2022-08-16T08:59:57.111Z"
   },
   {
    "duration": 0,
    "start_time": "2022-08-16T08:59:57.112Z"
   },
   {
    "duration": 0,
    "start_time": "2022-08-16T08:59:57.113Z"
   },
   {
    "duration": 0,
    "start_time": "2022-08-16T08:59:57.114Z"
   },
   {
    "duration": 0,
    "start_time": "2022-08-16T08:59:57.115Z"
   },
   {
    "duration": 0,
    "start_time": "2022-08-16T08:59:57.116Z"
   },
   {
    "duration": 0,
    "start_time": "2022-08-16T08:59:57.117Z"
   },
   {
    "duration": 0,
    "start_time": "2022-08-16T08:59:57.118Z"
   },
   {
    "duration": 0,
    "start_time": "2022-08-16T08:59:57.119Z"
   },
   {
    "duration": 0,
    "start_time": "2022-08-16T08:59:57.120Z"
   },
   {
    "duration": 0,
    "start_time": "2022-08-16T08:59:57.120Z"
   },
   {
    "duration": 0,
    "start_time": "2022-08-16T08:59:57.122Z"
   },
   {
    "duration": 0,
    "start_time": "2022-08-16T08:59:57.122Z"
   },
   {
    "duration": 0,
    "start_time": "2022-08-16T08:59:57.123Z"
   },
   {
    "duration": 0,
    "start_time": "2022-08-16T08:59:57.124Z"
   },
   {
    "duration": 0,
    "start_time": "2022-08-16T08:59:57.125Z"
   },
   {
    "duration": 0,
    "start_time": "2022-08-16T08:59:57.126Z"
   },
   {
    "duration": 0,
    "start_time": "2022-08-16T08:59:57.127Z"
   },
   {
    "duration": 0,
    "start_time": "2022-08-16T08:59:57.128Z"
   },
   {
    "duration": 0,
    "start_time": "2022-08-16T08:59:57.129Z"
   },
   {
    "duration": 0,
    "start_time": "2022-08-16T08:59:57.130Z"
   },
   {
    "duration": 0,
    "start_time": "2022-08-16T08:59:57.131Z"
   },
   {
    "duration": 0,
    "start_time": "2022-08-16T08:59:57.132Z"
   },
   {
    "duration": 1,
    "start_time": "2022-08-16T08:59:57.132Z"
   },
   {
    "duration": 0,
    "start_time": "2022-08-16T08:59:57.133Z"
   },
   {
    "duration": 0,
    "start_time": "2022-08-16T08:59:57.134Z"
   },
   {
    "duration": 0,
    "start_time": "2022-08-16T08:59:57.135Z"
   },
   {
    "duration": 0,
    "start_time": "2022-08-16T08:59:57.137Z"
   },
   {
    "duration": 0,
    "start_time": "2022-08-16T08:59:57.138Z"
   },
   {
    "duration": 0,
    "start_time": "2022-08-16T08:59:57.138Z"
   },
   {
    "duration": 0,
    "start_time": "2022-08-16T08:59:57.139Z"
   },
   {
    "duration": 0,
    "start_time": "2022-08-16T08:59:57.140Z"
   },
   {
    "duration": 0,
    "start_time": "2022-08-16T08:59:57.141Z"
   },
   {
    "duration": 0,
    "start_time": "2022-08-16T08:59:57.142Z"
   },
   {
    "duration": 73,
    "start_time": "2022-08-16T09:01:11.725Z"
   },
   {
    "duration": 5,
    "start_time": "2022-08-16T09:01:30.526Z"
   },
   {
    "duration": 4,
    "start_time": "2022-08-16T09:01:37.795Z"
   },
   {
    "duration": 4,
    "start_time": "2022-08-16T09:02:10.192Z"
   },
   {
    "duration": 8,
    "start_time": "2022-08-16T09:02:53.826Z"
   },
   {
    "duration": 104,
    "start_time": "2022-08-16T09:02:59.342Z"
   },
   {
    "duration": 1423,
    "start_time": "2022-08-16T09:03:06.798Z"
   },
   {
    "duration": 91,
    "start_time": "2022-08-16T09:03:08.223Z"
   },
   {
    "duration": 22,
    "start_time": "2022-08-16T09:03:08.317Z"
   },
   {
    "duration": 14,
    "start_time": "2022-08-16T09:03:08.342Z"
   },
   {
    "duration": 22,
    "start_time": "2022-08-16T09:03:08.358Z"
   },
   {
    "duration": 302,
    "start_time": "2022-08-16T09:03:08.406Z"
   },
   {
    "duration": 129,
    "start_time": "2022-08-16T09:03:08.710Z"
   },
   {
    "duration": 92,
    "start_time": "2022-08-16T09:03:08.841Z"
   },
   {
    "duration": 12,
    "start_time": "2022-08-16T09:03:08.934Z"
   },
   {
    "duration": 17,
    "start_time": "2022-08-16T09:03:08.948Z"
   },
   {
    "duration": 399,
    "start_time": "2022-08-16T09:03:08.966Z"
   },
   {
    "duration": 102,
    "start_time": "2022-08-16T09:03:09.367Z"
   },
   {
    "duration": 166,
    "start_time": "2022-08-16T09:03:09.471Z"
   },
   {
    "duration": 114,
    "start_time": "2022-08-16T09:03:09.639Z"
   },
   {
    "duration": 12,
    "start_time": "2022-08-16T09:03:09.755Z"
   },
   {
    "duration": 184,
    "start_time": "2022-08-16T09:03:09.768Z"
   },
   {
    "duration": 79,
    "start_time": "2022-08-16T09:03:09.953Z"
   },
   {
    "duration": 30,
    "start_time": "2022-08-16T09:03:10.033Z"
   },
   {
    "duration": 21,
    "start_time": "2022-08-16T09:03:10.065Z"
   },
   {
    "duration": 68,
    "start_time": "2022-08-16T09:03:10.088Z"
   },
   {
    "duration": 2687,
    "start_time": "2022-08-16T09:03:10.157Z"
   },
   {
    "duration": 94,
    "start_time": "2022-08-16T09:03:12.846Z"
   },
   {
    "duration": 80,
    "start_time": "2022-08-16T09:03:12.942Z"
   },
   {
    "duration": 18,
    "start_time": "2022-08-16T09:03:13.024Z"
   },
   {
    "duration": 12,
    "start_time": "2022-08-16T09:03:13.044Z"
   },
   {
    "duration": 12,
    "start_time": "2022-08-16T09:03:13.058Z"
   },
   {
    "duration": 81,
    "start_time": "2022-08-16T09:03:13.071Z"
   },
   {
    "duration": 9,
    "start_time": "2022-08-16T09:03:13.156Z"
   },
   {
    "duration": 330,
    "start_time": "2022-08-16T09:03:13.166Z"
   },
   {
    "duration": 91,
    "start_time": "2022-08-16T09:03:13.498Z"
   },
   {
    "duration": 17,
    "start_time": "2022-08-16T09:03:13.591Z"
   },
   {
    "duration": 11,
    "start_time": "2022-08-16T09:03:13.610Z"
   },
   {
    "duration": 73,
    "start_time": "2022-08-16T09:03:13.623Z"
   },
   {
    "duration": 13,
    "start_time": "2022-08-16T09:03:13.698Z"
   },
   {
    "duration": 12,
    "start_time": "2022-08-16T09:03:13.713Z"
   },
   {
    "duration": 31,
    "start_time": "2022-08-16T09:03:13.726Z"
   },
   {
    "duration": 1580,
    "start_time": "2022-08-16T09:03:13.758Z"
   },
   {
    "duration": 237,
    "start_time": "2022-08-16T09:03:15.339Z"
   },
   {
    "duration": 11,
    "start_time": "2022-08-16T09:03:15.579Z"
   },
   {
    "duration": 26,
    "start_time": "2022-08-16T09:03:15.592Z"
   },
   {
    "duration": 101,
    "start_time": "2022-08-16T09:03:15.620Z"
   },
   {
    "duration": 13,
    "start_time": "2022-08-16T09:03:15.722Z"
   },
   {
    "duration": 24,
    "start_time": "2022-08-16T09:03:15.737Z"
   },
   {
    "duration": 7,
    "start_time": "2022-08-16T09:03:15.763Z"
   },
   {
    "duration": 23,
    "start_time": "2022-08-16T09:03:15.772Z"
   },
   {
    "duration": 16,
    "start_time": "2022-08-16T09:03:15.796Z"
   },
   {
    "duration": 23,
    "start_time": "2022-08-16T09:03:15.814Z"
   },
   {
    "duration": 22,
    "start_time": "2022-08-16T09:03:15.839Z"
   },
   {
    "duration": 35,
    "start_time": "2022-08-16T09:03:15.862Z"
   },
   {
    "duration": 26,
    "start_time": "2022-08-16T09:03:15.898Z"
   },
   {
    "duration": 17,
    "start_time": "2022-08-16T09:03:15.926Z"
   },
   {
    "duration": 19,
    "start_time": "2022-08-16T09:03:15.945Z"
   },
   {
    "duration": 91,
    "start_time": "2022-08-16T09:03:15.966Z"
   },
   {
    "duration": 28,
    "start_time": "2022-08-16T09:03:16.058Z"
   },
   {
    "duration": 36,
    "start_time": "2022-08-16T09:03:16.088Z"
   },
   {
    "duration": 27,
    "start_time": "2022-08-16T09:03:16.126Z"
   },
   {
    "duration": 18,
    "start_time": "2022-08-16T09:03:16.155Z"
   },
   {
    "duration": 19,
    "start_time": "2022-08-16T09:03:16.175Z"
   },
   {
    "duration": 99,
    "start_time": "2022-08-16T09:03:16.196Z"
   },
   {
    "duration": 19,
    "start_time": "2022-08-16T09:03:16.296Z"
   },
   {
    "duration": 14,
    "start_time": "2022-08-16T09:03:16.317Z"
   },
   {
    "duration": 18,
    "start_time": "2022-08-16T09:03:16.333Z"
   },
   {
    "duration": 31,
    "start_time": "2022-08-16T09:03:16.353Z"
   },
   {
    "duration": 17,
    "start_time": "2022-08-16T09:03:16.385Z"
   },
   {
    "duration": 18,
    "start_time": "2022-08-16T09:03:16.403Z"
   },
   {
    "duration": 18,
    "start_time": "2022-08-16T09:03:16.422Z"
   },
   {
    "duration": 10,
    "start_time": "2022-08-16T09:03:16.441Z"
   },
   {
    "duration": 11,
    "start_time": "2022-08-16T09:03:16.452Z"
   },
   {
    "duration": 113,
    "start_time": "2022-08-16T09:03:16.465Z"
   },
   {
    "duration": 4,
    "start_time": "2022-08-16T09:03:16.580Z"
   },
   {
    "duration": 85,
    "start_time": "2022-08-16T09:03:16.586Z"
   },
   {
    "duration": 14,
    "start_time": "2022-08-16T09:03:16.673Z"
   },
   {
    "duration": 17,
    "start_time": "2022-08-16T09:03:16.689Z"
   },
   {
    "duration": 5,
    "start_time": "2022-08-16T09:03:16.708Z"
   },
   {
    "duration": 13,
    "start_time": "2022-08-16T09:03:16.714Z"
   },
   {
    "duration": 4,
    "start_time": "2022-08-16T09:03:16.728Z"
   },
   {
    "duration": 11,
    "start_time": "2022-08-16T09:03:16.733Z"
   },
   {
    "duration": 15,
    "start_time": "2022-08-16T09:03:16.745Z"
   },
   {
    "duration": 102,
    "start_time": "2022-08-16T09:03:16.761Z"
   },
   {
    "duration": 5,
    "start_time": "2022-08-16T09:03:16.865Z"
   },
   {
    "duration": 81,
    "start_time": "2022-08-16T09:03:16.871Z"
   },
   {
    "duration": 90,
    "start_time": "2022-08-16T09:03:16.957Z"
   },
   {
    "duration": 4,
    "start_time": "2022-08-16T09:03:17.048Z"
   },
   {
    "duration": 103,
    "start_time": "2022-08-16T09:03:17.053Z"
   },
   {
    "duration": 93,
    "start_time": "2022-08-16T09:03:17.158Z"
   },
   {
    "duration": 3,
    "start_time": "2022-08-16T09:03:17.253Z"
   },
   {
    "duration": 100,
    "start_time": "2022-08-16T09:03:17.257Z"
   },
   {
    "duration": 4,
    "start_time": "2022-08-16T09:03:17.359Z"
   },
   {
    "duration": 114,
    "start_time": "2022-08-16T09:03:17.364Z"
   },
   {
    "duration": 94,
    "start_time": "2022-08-16T09:03:17.479Z"
   },
   {
    "duration": 4,
    "start_time": "2022-08-16T09:03:17.574Z"
   },
   {
    "duration": 88,
    "start_time": "2022-08-16T09:03:17.580Z"
   },
   {
    "duration": 4,
    "start_time": "2022-08-16T09:03:17.670Z"
   },
   {
    "duration": 88,
    "start_time": "2022-08-16T09:03:17.676Z"
   },
   {
    "duration": 4,
    "start_time": "2022-08-16T09:03:17.766Z"
   },
   {
    "duration": 89,
    "start_time": "2022-08-16T09:03:17.772Z"
   },
   {
    "duration": 4,
    "start_time": "2022-08-16T09:03:17.862Z"
   },
   {
    "duration": 7,
    "start_time": "2022-08-16T09:03:17.868Z"
   },
   {
    "duration": 5,
    "start_time": "2022-08-16T09:03:17.876Z"
   },
   {
    "duration": 7,
    "start_time": "2022-08-16T09:03:17.882Z"
   },
   {
    "duration": 24,
    "start_time": "2022-08-16T09:03:17.890Z"
   },
   {
    "duration": 10,
    "start_time": "2022-08-16T09:03:17.916Z"
   },
   {
    "duration": 10,
    "start_time": "2022-08-16T09:03:17.927Z"
   },
   {
    "duration": 11,
    "start_time": "2022-08-16T09:03:17.939Z"
   },
   {
    "duration": 2,
    "start_time": "2022-08-16T09:03:17.951Z"
   },
   {
    "duration": 5661,
    "start_time": "2022-08-16T09:03:17.954Z"
   },
   {
    "duration": 2,
    "start_time": "2022-08-16T09:03:23.617Z"
   },
   {
    "duration": 34001,
    "start_time": "2022-08-16T09:03:23.620Z"
   },
   {
    "duration": 3,
    "start_time": "2022-08-16T09:03:57.623Z"
   },
   {
    "duration": 6582,
    "start_time": "2022-08-16T09:03:57.628Z"
   },
   {
    "duration": 2,
    "start_time": "2022-08-16T09:04:04.212Z"
   },
   {
    "duration": 197,
    "start_time": "2022-08-16T09:04:04.215Z"
   },
   {
    "duration": 93,
    "start_time": "2022-08-16T09:04:04.414Z"
   },
   {
    "duration": 98,
    "start_time": "2022-08-16T09:04:04.509Z"
   },
   {
    "duration": 4,
    "start_time": "2022-08-16T09:04:04.609Z"
   },
   {
    "duration": 1320,
    "start_time": "2022-08-16T09:14:22.299Z"
   },
   {
    "duration": 90,
    "start_time": "2022-08-16T09:14:23.621Z"
   },
   {
    "duration": 14,
    "start_time": "2022-08-16T09:14:23.713Z"
   },
   {
    "duration": 16,
    "start_time": "2022-08-16T09:14:23.728Z"
   },
   {
    "duration": 16,
    "start_time": "2022-08-16T09:14:23.746Z"
   },
   {
    "duration": 233,
    "start_time": "2022-08-16T09:14:23.764Z"
   },
   {
    "duration": 126,
    "start_time": "2022-08-16T09:14:23.998Z"
   },
   {
    "duration": 74,
    "start_time": "2022-08-16T09:14:24.126Z"
   },
   {
    "duration": 11,
    "start_time": "2022-08-16T09:14:24.201Z"
   },
   {
    "duration": 28,
    "start_time": "2022-08-16T09:14:24.214Z"
   },
   {
    "duration": 336,
    "start_time": "2022-08-16T09:14:24.244Z"
   },
   {
    "duration": 94,
    "start_time": "2022-08-16T09:14:24.582Z"
   },
   {
    "duration": 155,
    "start_time": "2022-08-16T09:14:24.678Z"
   },
   {
    "duration": 108,
    "start_time": "2022-08-16T09:14:24.837Z"
   },
   {
    "duration": 10,
    "start_time": "2022-08-16T09:14:24.946Z"
   },
   {
    "duration": 173,
    "start_time": "2022-08-16T09:14:24.958Z"
   },
   {
    "duration": 87,
    "start_time": "2022-08-16T09:14:25.133Z"
   },
   {
    "duration": 19,
    "start_time": "2022-08-16T09:14:25.222Z"
   },
   {
    "duration": 10,
    "start_time": "2022-08-16T09:14:25.243Z"
   },
   {
    "duration": 45,
    "start_time": "2022-08-16T09:14:25.254Z"
   },
   {
    "duration": 2583,
    "start_time": "2022-08-16T09:14:25.300Z"
   },
   {
    "duration": 120,
    "start_time": "2022-08-16T09:14:27.885Z"
   },
   {
    "duration": 86,
    "start_time": "2022-08-16T09:14:28.007Z"
   },
   {
    "duration": 20,
    "start_time": "2022-08-16T09:14:28.094Z"
   },
   {
    "duration": 20,
    "start_time": "2022-08-16T09:14:28.116Z"
   },
   {
    "duration": 10,
    "start_time": "2022-08-16T09:14:28.138Z"
   },
   {
    "duration": 86,
    "start_time": "2022-08-16T09:14:28.150Z"
   },
   {
    "duration": 9,
    "start_time": "2022-08-16T09:14:28.237Z"
   },
   {
    "duration": 222,
    "start_time": "2022-08-16T09:14:28.247Z"
   },
   {
    "duration": 224,
    "start_time": "2022-08-16T09:14:28.470Z"
   },
   {
    "duration": 12,
    "start_time": "2022-08-16T09:14:28.695Z"
   },
   {
    "duration": 26,
    "start_time": "2022-08-16T09:14:28.708Z"
   },
   {
    "duration": 159,
    "start_time": "2022-08-16T09:14:28.735Z"
   },
   {
    "duration": 15,
    "start_time": "2022-08-16T09:14:28.896Z"
   },
   {
    "duration": 25,
    "start_time": "2022-08-16T09:14:28.912Z"
   },
   {
    "duration": 51,
    "start_time": "2022-08-16T09:14:28.939Z"
   },
   {
    "duration": 1924,
    "start_time": "2022-08-16T09:14:28.991Z"
   },
   {
    "duration": 265,
    "start_time": "2022-08-16T09:14:30.917Z"
   },
   {
    "duration": 23,
    "start_time": "2022-08-16T09:14:31.184Z"
   },
   {
    "duration": 20,
    "start_time": "2022-08-16T09:14:31.209Z"
   },
   {
    "duration": 106,
    "start_time": "2022-08-16T09:14:31.239Z"
   },
   {
    "duration": 15,
    "start_time": "2022-08-16T09:14:31.347Z"
   },
   {
    "duration": 12,
    "start_time": "2022-08-16T09:14:31.364Z"
   },
   {
    "duration": 10,
    "start_time": "2022-08-16T09:14:31.378Z"
   },
   {
    "duration": 20,
    "start_time": "2022-08-16T09:14:31.390Z"
   },
   {
    "duration": 10,
    "start_time": "2022-08-16T09:14:31.412Z"
   },
   {
    "duration": 10,
    "start_time": "2022-08-16T09:14:31.424Z"
   },
   {
    "duration": 34,
    "start_time": "2022-08-16T09:14:31.436Z"
   },
   {
    "duration": 13,
    "start_time": "2022-08-16T09:14:31.472Z"
   },
   {
    "duration": 25,
    "start_time": "2022-08-16T09:14:31.487Z"
   },
   {
    "duration": 14,
    "start_time": "2022-08-16T09:14:31.513Z"
   },
   {
    "duration": 4,
    "start_time": "2022-08-16T09:14:31.529Z"
   },
   {
    "duration": 19,
    "start_time": "2022-08-16T09:14:31.535Z"
   },
   {
    "duration": 14,
    "start_time": "2022-08-16T09:14:31.556Z"
   },
   {
    "duration": 36,
    "start_time": "2022-08-16T09:14:31.571Z"
   },
   {
    "duration": 14,
    "start_time": "2022-08-16T09:14:31.609Z"
   },
   {
    "duration": 5,
    "start_time": "2022-08-16T09:14:31.624Z"
   },
   {
    "duration": 23,
    "start_time": "2022-08-16T09:14:31.631Z"
   },
   {
    "duration": 97,
    "start_time": "2022-08-16T09:14:31.655Z"
   },
   {
    "duration": 11,
    "start_time": "2022-08-16T09:14:31.754Z"
   },
   {
    "duration": 21,
    "start_time": "2022-08-16T09:14:31.767Z"
   },
   {
    "duration": 20,
    "start_time": "2022-08-16T09:14:31.789Z"
   },
   {
    "duration": 6,
    "start_time": "2022-08-16T09:14:31.811Z"
   },
   {
    "duration": 17,
    "start_time": "2022-08-16T09:14:31.819Z"
   },
   {
    "duration": 24,
    "start_time": "2022-08-16T09:14:31.837Z"
   },
   {
    "duration": 29,
    "start_time": "2022-08-16T09:14:31.863Z"
   },
   {
    "duration": 21,
    "start_time": "2022-08-16T09:14:31.894Z"
   },
   {
    "duration": 13,
    "start_time": "2022-08-16T09:14:31.917Z"
   },
   {
    "duration": 96,
    "start_time": "2022-08-16T09:14:31.931Z"
   },
   {
    "duration": 5,
    "start_time": "2022-08-16T09:14:32.028Z"
   },
   {
    "duration": 127,
    "start_time": "2022-08-16T09:14:32.035Z"
   },
   {
    "duration": 4,
    "start_time": "2022-08-16T09:14:32.164Z"
   },
   {
    "duration": 25,
    "start_time": "2022-08-16T09:14:32.169Z"
   },
   {
    "duration": 13,
    "start_time": "2022-08-16T09:14:32.195Z"
   },
   {
    "duration": 129,
    "start_time": "2022-08-16T09:14:32.210Z"
   },
   {
    "duration": 0,
    "start_time": "2022-08-16T09:14:32.341Z"
   },
   {
    "duration": 0,
    "start_time": "2022-08-16T09:14:32.342Z"
   },
   {
    "duration": 0,
    "start_time": "2022-08-16T09:14:32.343Z"
   },
   {
    "duration": 0,
    "start_time": "2022-08-16T09:14:32.344Z"
   },
   {
    "duration": 0,
    "start_time": "2022-08-16T09:14:32.346Z"
   },
   {
    "duration": 0,
    "start_time": "2022-08-16T09:14:32.347Z"
   },
   {
    "duration": 0,
    "start_time": "2022-08-16T09:14:32.348Z"
   },
   {
    "duration": 0,
    "start_time": "2022-08-16T09:14:32.349Z"
   },
   {
    "duration": 0,
    "start_time": "2022-08-16T09:14:32.350Z"
   },
   {
    "duration": 0,
    "start_time": "2022-08-16T09:14:32.351Z"
   },
   {
    "duration": 0,
    "start_time": "2022-08-16T09:14:32.352Z"
   },
   {
    "duration": 0,
    "start_time": "2022-08-16T09:14:32.353Z"
   },
   {
    "duration": 0,
    "start_time": "2022-08-16T09:14:32.354Z"
   },
   {
    "duration": 0,
    "start_time": "2022-08-16T09:14:32.356Z"
   },
   {
    "duration": 0,
    "start_time": "2022-08-16T09:14:32.357Z"
   },
   {
    "duration": 0,
    "start_time": "2022-08-16T09:14:32.358Z"
   },
   {
    "duration": 0,
    "start_time": "2022-08-16T09:14:32.359Z"
   },
   {
    "duration": 0,
    "start_time": "2022-08-16T09:14:32.361Z"
   },
   {
    "duration": 0,
    "start_time": "2022-08-16T09:14:32.362Z"
   },
   {
    "duration": 0,
    "start_time": "2022-08-16T09:14:32.363Z"
   },
   {
    "duration": 0,
    "start_time": "2022-08-16T09:14:32.364Z"
   },
   {
    "duration": 0,
    "start_time": "2022-08-16T09:14:32.365Z"
   },
   {
    "duration": 0,
    "start_time": "2022-08-16T09:14:32.366Z"
   },
   {
    "duration": 0,
    "start_time": "2022-08-16T09:14:32.367Z"
   },
   {
    "duration": 0,
    "start_time": "2022-08-16T09:14:32.368Z"
   },
   {
    "duration": 0,
    "start_time": "2022-08-16T09:14:32.369Z"
   },
   {
    "duration": 0,
    "start_time": "2022-08-16T09:14:32.370Z"
   },
   {
    "duration": 0,
    "start_time": "2022-08-16T09:14:32.406Z"
   },
   {
    "duration": 0,
    "start_time": "2022-08-16T09:14:32.407Z"
   },
   {
    "duration": 0,
    "start_time": "2022-08-16T09:14:32.408Z"
   },
   {
    "duration": 0,
    "start_time": "2022-08-16T09:14:32.409Z"
   },
   {
    "duration": 0,
    "start_time": "2022-08-16T09:14:32.410Z"
   },
   {
    "duration": 0,
    "start_time": "2022-08-16T09:14:32.411Z"
   },
   {
    "duration": 0,
    "start_time": "2022-08-16T09:14:32.412Z"
   },
   {
    "duration": 0,
    "start_time": "2022-08-16T09:14:32.413Z"
   },
   {
    "duration": 0,
    "start_time": "2022-08-16T09:14:32.414Z"
   },
   {
    "duration": 0,
    "start_time": "2022-08-16T09:14:32.416Z"
   },
   {
    "duration": 0,
    "start_time": "2022-08-16T09:14:32.417Z"
   },
   {
    "duration": 0,
    "start_time": "2022-08-16T09:14:32.419Z"
   },
   {
    "duration": 0,
    "start_time": "2022-08-16T09:14:32.420Z"
   },
   {
    "duration": 0,
    "start_time": "2022-08-16T09:14:32.422Z"
   },
   {
    "duration": 0,
    "start_time": "2022-08-16T09:14:32.423Z"
   },
   {
    "duration": 0,
    "start_time": "2022-08-16T09:14:32.425Z"
   },
   {
    "duration": 0,
    "start_time": "2022-08-16T09:14:32.426Z"
   },
   {
    "duration": 0,
    "start_time": "2022-08-16T09:14:32.428Z"
   },
   {
    "duration": 0,
    "start_time": "2022-08-16T09:14:32.429Z"
   },
   {
    "duration": 0,
    "start_time": "2022-08-16T09:14:32.430Z"
   },
   {
    "duration": 0,
    "start_time": "2022-08-16T09:14:32.432Z"
   },
   {
    "duration": 0,
    "start_time": "2022-08-16T09:14:32.434Z"
   },
   {
    "duration": 0,
    "start_time": "2022-08-16T09:14:32.435Z"
   },
   {
    "duration": 1203,
    "start_time": "2022-08-16T09:18:30.558Z"
   },
   {
    "duration": 0,
    "start_time": "2022-08-16T09:18:31.763Z"
   },
   {
    "duration": 1441,
    "start_time": "2022-08-16T09:19:13.853Z"
   },
   {
    "duration": 98,
    "start_time": "2022-08-16T09:19:15.296Z"
   },
   {
    "duration": 27,
    "start_time": "2022-08-16T09:19:15.395Z"
   },
   {
    "duration": 12,
    "start_time": "2022-08-16T09:19:15.424Z"
   },
   {
    "duration": 14,
    "start_time": "2022-08-16T09:19:15.438Z"
   },
   {
    "duration": 245,
    "start_time": "2022-08-16T09:19:15.453Z"
   },
   {
    "duration": 131,
    "start_time": "2022-08-16T09:19:15.699Z"
   },
   {
    "duration": 93,
    "start_time": "2022-08-16T09:19:15.832Z"
   },
   {
    "duration": 12,
    "start_time": "2022-08-16T09:19:15.926Z"
   },
   {
    "duration": 17,
    "start_time": "2022-08-16T09:19:15.940Z"
   },
   {
    "duration": 460,
    "start_time": "2022-08-16T09:19:15.958Z"
   },
   {
    "duration": 99,
    "start_time": "2022-08-16T09:19:16.419Z"
   },
   {
    "duration": 164,
    "start_time": "2022-08-16T09:19:16.519Z"
   },
   {
    "duration": 95,
    "start_time": "2022-08-16T09:19:16.686Z"
   },
   {
    "duration": 9,
    "start_time": "2022-08-16T09:19:16.783Z"
   },
   {
    "duration": 168,
    "start_time": "2022-08-16T09:19:16.793Z"
   },
   {
    "duration": 142,
    "start_time": "2022-08-16T09:19:16.963Z"
   },
   {
    "duration": 25,
    "start_time": "2022-08-16T09:19:17.106Z"
   },
   {
    "duration": 9,
    "start_time": "2022-08-16T09:19:17.133Z"
   },
   {
    "duration": 48,
    "start_time": "2022-08-16T09:19:17.144Z"
   },
   {
    "duration": 2541,
    "start_time": "2022-08-16T09:19:17.194Z"
   },
   {
    "duration": 108,
    "start_time": "2022-08-16T09:19:19.737Z"
   },
   {
    "duration": 89,
    "start_time": "2022-08-16T09:19:19.847Z"
   },
   {
    "duration": 26,
    "start_time": "2022-08-16T09:19:19.938Z"
   },
   {
    "duration": 14,
    "start_time": "2022-08-16T09:19:19.966Z"
   },
   {
    "duration": 11,
    "start_time": "2022-08-16T09:19:19.982Z"
   },
   {
    "duration": 135,
    "start_time": "2022-08-16T09:19:19.995Z"
   },
   {
    "duration": 9,
    "start_time": "2022-08-16T09:19:20.132Z"
   },
   {
    "duration": 207,
    "start_time": "2022-08-16T09:19:20.143Z"
   },
   {
    "duration": 219,
    "start_time": "2022-08-16T09:19:20.351Z"
   },
   {
    "duration": 8,
    "start_time": "2022-08-16T09:19:20.571Z"
   },
   {
    "duration": 12,
    "start_time": "2022-08-16T09:19:20.580Z"
   },
   {
    "duration": 69,
    "start_time": "2022-08-16T09:19:20.608Z"
   },
   {
    "duration": 14,
    "start_time": "2022-08-16T09:19:20.678Z"
   },
   {
    "duration": 22,
    "start_time": "2022-08-16T09:19:20.694Z"
   },
   {
    "duration": 34,
    "start_time": "2022-08-16T09:19:20.718Z"
   },
   {
    "duration": 1689,
    "start_time": "2022-08-16T09:19:20.753Z"
   },
   {
    "duration": 246,
    "start_time": "2022-08-16T09:19:22.444Z"
   },
   {
    "duration": 29,
    "start_time": "2022-08-16T09:19:22.692Z"
   },
   {
    "duration": 10,
    "start_time": "2022-08-16T09:19:22.723Z"
   },
   {
    "duration": 84,
    "start_time": "2022-08-16T09:19:22.738Z"
   },
   {
    "duration": 12,
    "start_time": "2022-08-16T09:19:22.824Z"
   },
   {
    "duration": 34,
    "start_time": "2022-08-16T09:19:22.837Z"
   },
   {
    "duration": 28,
    "start_time": "2022-08-16T09:19:22.873Z"
   },
   {
    "duration": 26,
    "start_time": "2022-08-16T09:19:22.902Z"
   },
   {
    "duration": 14,
    "start_time": "2022-08-16T09:19:22.929Z"
   },
   {
    "duration": 30,
    "start_time": "2022-08-16T09:19:22.944Z"
   },
   {
    "duration": 16,
    "start_time": "2022-08-16T09:19:22.975Z"
   },
   {
    "duration": 5,
    "start_time": "2022-08-16T09:19:22.992Z"
   },
   {
    "duration": 25,
    "start_time": "2022-08-16T09:19:22.998Z"
   },
   {
    "duration": 10,
    "start_time": "2022-08-16T09:19:23.024Z"
   },
   {
    "duration": 6,
    "start_time": "2022-08-16T09:19:23.035Z"
   },
   {
    "duration": 25,
    "start_time": "2022-08-16T09:19:23.043Z"
   },
   {
    "duration": 12,
    "start_time": "2022-08-16T09:19:23.069Z"
   },
   {
    "duration": 16,
    "start_time": "2022-08-16T09:19:23.083Z"
   },
   {
    "duration": 23,
    "start_time": "2022-08-16T09:19:23.105Z"
   },
   {
    "duration": 4,
    "start_time": "2022-08-16T09:19:23.129Z"
   },
   {
    "duration": 18,
    "start_time": "2022-08-16T09:19:23.134Z"
   },
   {
    "duration": 95,
    "start_time": "2022-08-16T09:19:23.154Z"
   },
   {
    "duration": 11,
    "start_time": "2022-08-16T09:19:23.250Z"
   },
   {
    "duration": 8,
    "start_time": "2022-08-16T09:19:23.262Z"
   },
   {
    "duration": 11,
    "start_time": "2022-08-16T09:19:23.271Z"
   },
   {
    "duration": 4,
    "start_time": "2022-08-16T09:19:23.307Z"
   },
   {
    "duration": 20,
    "start_time": "2022-08-16T09:19:23.313Z"
   },
   {
    "duration": 16,
    "start_time": "2022-08-16T09:19:23.335Z"
   },
   {
    "duration": 18,
    "start_time": "2022-08-16T09:19:23.353Z"
   },
   {
    "duration": 10,
    "start_time": "2022-08-16T09:19:23.373Z"
   },
   {
    "duration": 31,
    "start_time": "2022-08-16T09:19:23.384Z"
   },
   {
    "duration": 78,
    "start_time": "2022-08-16T09:19:23.416Z"
   },
   {
    "duration": 26,
    "start_time": "2022-08-16T09:19:23.495Z"
   },
   {
    "duration": 82,
    "start_time": "2022-08-16T09:19:23.523Z"
   },
   {
    "duration": 10,
    "start_time": "2022-08-16T09:19:23.607Z"
   },
   {
    "duration": 20,
    "start_time": "2022-08-16T09:19:23.619Z"
   },
   {
    "duration": 8,
    "start_time": "2022-08-16T09:19:23.640Z"
   },
   {
    "duration": 105,
    "start_time": "2022-08-16T09:19:23.649Z"
   },
   {
    "duration": 0,
    "start_time": "2022-08-16T09:19:23.756Z"
   },
   {
    "duration": 0,
    "start_time": "2022-08-16T09:19:23.757Z"
   },
   {
    "duration": 0,
    "start_time": "2022-08-16T09:19:23.758Z"
   },
   {
    "duration": 0,
    "start_time": "2022-08-16T09:19:23.759Z"
   },
   {
    "duration": 0,
    "start_time": "2022-08-16T09:19:23.760Z"
   },
   {
    "duration": 0,
    "start_time": "2022-08-16T09:19:23.761Z"
   },
   {
    "duration": 0,
    "start_time": "2022-08-16T09:19:23.762Z"
   },
   {
    "duration": 0,
    "start_time": "2022-08-16T09:19:23.763Z"
   },
   {
    "duration": 0,
    "start_time": "2022-08-16T09:19:23.764Z"
   },
   {
    "duration": 0,
    "start_time": "2022-08-16T09:19:23.765Z"
   },
   {
    "duration": 0,
    "start_time": "2022-08-16T09:19:23.766Z"
   },
   {
    "duration": 0,
    "start_time": "2022-08-16T09:19:23.767Z"
   },
   {
    "duration": 0,
    "start_time": "2022-08-16T09:19:23.768Z"
   },
   {
    "duration": 0,
    "start_time": "2022-08-16T09:19:23.769Z"
   },
   {
    "duration": 0,
    "start_time": "2022-08-16T09:19:23.770Z"
   },
   {
    "duration": 0,
    "start_time": "2022-08-16T09:19:23.771Z"
   },
   {
    "duration": 0,
    "start_time": "2022-08-16T09:19:23.772Z"
   },
   {
    "duration": 0,
    "start_time": "2022-08-16T09:19:23.773Z"
   },
   {
    "duration": 1,
    "start_time": "2022-08-16T09:19:23.773Z"
   },
   {
    "duration": 0,
    "start_time": "2022-08-16T09:19:23.811Z"
   },
   {
    "duration": 0,
    "start_time": "2022-08-16T09:19:23.812Z"
   },
   {
    "duration": 0,
    "start_time": "2022-08-16T09:19:23.813Z"
   },
   {
    "duration": 0,
    "start_time": "2022-08-16T09:19:23.814Z"
   },
   {
    "duration": 0,
    "start_time": "2022-08-16T09:19:23.815Z"
   },
   {
    "duration": 0,
    "start_time": "2022-08-16T09:19:23.816Z"
   },
   {
    "duration": 0,
    "start_time": "2022-08-16T09:19:23.819Z"
   },
   {
    "duration": 0,
    "start_time": "2022-08-16T09:19:23.820Z"
   },
   {
    "duration": 0,
    "start_time": "2022-08-16T09:19:23.821Z"
   },
   {
    "duration": 0,
    "start_time": "2022-08-16T09:19:23.822Z"
   },
   {
    "duration": 0,
    "start_time": "2022-08-16T09:19:23.823Z"
   },
   {
    "duration": 0,
    "start_time": "2022-08-16T09:19:23.824Z"
   },
   {
    "duration": 0,
    "start_time": "2022-08-16T09:19:23.824Z"
   },
   {
    "duration": 0,
    "start_time": "2022-08-16T09:19:23.825Z"
   },
   {
    "duration": 0,
    "start_time": "2022-08-16T09:19:23.827Z"
   },
   {
    "duration": 0,
    "start_time": "2022-08-16T09:19:23.828Z"
   },
   {
    "duration": 0,
    "start_time": "2022-08-16T09:19:23.829Z"
   },
   {
    "duration": 0,
    "start_time": "2022-08-16T09:19:23.830Z"
   },
   {
    "duration": 0,
    "start_time": "2022-08-16T09:19:23.831Z"
   },
   {
    "duration": 0,
    "start_time": "2022-08-16T09:19:23.832Z"
   },
   {
    "duration": 0,
    "start_time": "2022-08-16T09:19:23.833Z"
   },
   {
    "duration": 0,
    "start_time": "2022-08-16T09:19:23.834Z"
   },
   {
    "duration": 0,
    "start_time": "2022-08-16T09:19:23.834Z"
   },
   {
    "duration": 0,
    "start_time": "2022-08-16T09:19:23.835Z"
   },
   {
    "duration": 0,
    "start_time": "2022-08-16T09:19:23.836Z"
   },
   {
    "duration": 0,
    "start_time": "2022-08-16T09:19:23.838Z"
   },
   {
    "duration": 0,
    "start_time": "2022-08-16T09:19:23.838Z"
   },
   {
    "duration": 0,
    "start_time": "2022-08-16T09:19:23.839Z"
   },
   {
    "duration": 0,
    "start_time": "2022-08-16T09:19:23.840Z"
   },
   {
    "duration": 0,
    "start_time": "2022-08-16T09:19:23.841Z"
   },
   {
    "duration": 0,
    "start_time": "2022-08-16T09:19:23.843Z"
   },
   {
    "duration": 8,
    "start_time": "2022-08-16T09:23:19.144Z"
   },
   {
    "duration": 2229,
    "start_time": "2022-08-16T09:25:01.219Z"
   },
   {
    "duration": 1397,
    "start_time": "2022-08-16T09:25:18.418Z"
   },
   {
    "duration": 96,
    "start_time": "2022-08-16T09:25:19.818Z"
   },
   {
    "duration": 15,
    "start_time": "2022-08-16T09:25:19.916Z"
   },
   {
    "duration": 10,
    "start_time": "2022-08-16T09:25:19.932Z"
   },
   {
    "duration": 13,
    "start_time": "2022-08-16T09:25:19.944Z"
   },
   {
    "duration": 258,
    "start_time": "2022-08-16T09:25:19.958Z"
   },
   {
    "duration": 122,
    "start_time": "2022-08-16T09:25:20.218Z"
   },
   {
    "duration": 79,
    "start_time": "2022-08-16T09:25:20.342Z"
   },
   {
    "duration": 11,
    "start_time": "2022-08-16T09:25:20.423Z"
   },
   {
    "duration": 16,
    "start_time": "2022-08-16T09:25:20.435Z"
   },
   {
    "duration": 360,
    "start_time": "2022-08-16T09:25:20.453Z"
   },
   {
    "duration": 93,
    "start_time": "2022-08-16T09:25:20.815Z"
   },
   {
    "duration": 169,
    "start_time": "2022-08-16T09:25:20.909Z"
   },
   {
    "duration": 99,
    "start_time": "2022-08-16T09:25:21.081Z"
   },
   {
    "duration": 11,
    "start_time": "2022-08-16T09:25:21.182Z"
   },
   {
    "duration": 191,
    "start_time": "2022-08-16T09:25:21.194Z"
   },
   {
    "duration": 7,
    "start_time": "2022-08-16T09:25:21.387Z"
   },
   {
    "duration": 141,
    "start_time": "2022-08-16T09:25:21.396Z"
   },
   {
    "duration": 25,
    "start_time": "2022-08-16T09:25:21.539Z"
   },
   {
    "duration": 10,
    "start_time": "2022-08-16T09:25:21.565Z"
   },
   {
    "duration": 53,
    "start_time": "2022-08-16T09:25:21.577Z"
   },
   {
    "duration": 2602,
    "start_time": "2022-08-16T09:25:21.632Z"
   },
   {
    "duration": 94,
    "start_time": "2022-08-16T09:25:24.235Z"
   },
   {
    "duration": 85,
    "start_time": "2022-08-16T09:25:24.330Z"
   },
   {
    "duration": 15,
    "start_time": "2022-08-16T09:25:24.418Z"
   },
   {
    "duration": 13,
    "start_time": "2022-08-16T09:25:24.435Z"
   },
   {
    "duration": 11,
    "start_time": "2022-08-16T09:25:24.449Z"
   },
   {
    "duration": 81,
    "start_time": "2022-08-16T09:25:24.461Z"
   },
   {
    "duration": 8,
    "start_time": "2022-08-16T09:25:24.544Z"
   },
   {
    "duration": 223,
    "start_time": "2022-08-16T09:25:24.553Z"
   },
   {
    "duration": 222,
    "start_time": "2022-08-16T09:25:24.778Z"
   },
   {
    "duration": 10,
    "start_time": "2022-08-16T09:25:25.006Z"
   },
   {
    "duration": 18,
    "start_time": "2022-08-16T09:25:25.018Z"
   },
   {
    "duration": 54,
    "start_time": "2022-08-16T09:25:25.038Z"
   },
   {
    "duration": 14,
    "start_time": "2022-08-16T09:25:25.093Z"
   },
   {
    "duration": 29,
    "start_time": "2022-08-16T09:25:25.109Z"
   },
   {
    "duration": 38,
    "start_time": "2022-08-16T09:25:25.139Z"
   },
   {
    "duration": 1892,
    "start_time": "2022-08-16T09:25:25.178Z"
   },
   {
    "duration": 249,
    "start_time": "2022-08-16T09:25:27.071Z"
   },
   {
    "duration": 10,
    "start_time": "2022-08-16T09:25:27.322Z"
   },
   {
    "duration": 9,
    "start_time": "2022-08-16T09:25:27.336Z"
   },
   {
    "duration": 81,
    "start_time": "2022-08-16T09:25:27.347Z"
   },
   {
    "duration": 14,
    "start_time": "2022-08-16T09:25:27.430Z"
   },
   {
    "duration": 14,
    "start_time": "2022-08-16T09:25:27.445Z"
   },
   {
    "duration": 6,
    "start_time": "2022-08-16T09:25:27.461Z"
   },
   {
    "duration": 11,
    "start_time": "2022-08-16T09:25:27.468Z"
   },
   {
    "duration": 5,
    "start_time": "2022-08-16T09:25:27.480Z"
   },
   {
    "duration": 3,
    "start_time": "2022-08-16T09:25:27.487Z"
   },
   {
    "duration": 14,
    "start_time": "2022-08-16T09:25:27.492Z"
   },
   {
    "duration": 13,
    "start_time": "2022-08-16T09:25:27.509Z"
   },
   {
    "duration": 16,
    "start_time": "2022-08-16T09:25:27.524Z"
   },
   {
    "duration": 18,
    "start_time": "2022-08-16T09:25:27.542Z"
   },
   {
    "duration": 9,
    "start_time": "2022-08-16T09:25:27.561Z"
   },
   {
    "duration": 20,
    "start_time": "2022-08-16T09:25:27.572Z"
   },
   {
    "duration": 19,
    "start_time": "2022-08-16T09:25:27.595Z"
   },
   {
    "duration": 30,
    "start_time": "2022-08-16T09:25:27.616Z"
   },
   {
    "duration": 12,
    "start_time": "2022-08-16T09:25:27.648Z"
   },
   {
    "duration": 3,
    "start_time": "2022-08-16T09:25:27.662Z"
   },
   {
    "duration": 17,
    "start_time": "2022-08-16T09:25:27.667Z"
   },
   {
    "duration": 113,
    "start_time": "2022-08-16T09:25:27.686Z"
   },
   {
    "duration": 20,
    "start_time": "2022-08-16T09:25:27.800Z"
   },
   {
    "duration": 17,
    "start_time": "2022-08-16T09:25:27.822Z"
   },
   {
    "duration": 12,
    "start_time": "2022-08-16T09:25:27.840Z"
   },
   {
    "duration": 7,
    "start_time": "2022-08-16T09:25:27.854Z"
   },
   {
    "duration": 17,
    "start_time": "2022-08-16T09:25:27.862Z"
   },
   {
    "duration": 31,
    "start_time": "2022-08-16T09:25:27.881Z"
   },
   {
    "duration": 18,
    "start_time": "2022-08-16T09:25:27.914Z"
   },
   {
    "duration": 9,
    "start_time": "2022-08-16T09:25:27.934Z"
   },
   {
    "duration": 10,
    "start_time": "2022-08-16T09:25:27.945Z"
   },
   {
    "duration": 99,
    "start_time": "2022-08-16T09:25:27.957Z"
   },
   {
    "duration": 4,
    "start_time": "2022-08-16T09:25:28.058Z"
   },
   {
    "duration": 111,
    "start_time": "2022-08-16T09:25:28.063Z"
   },
   {
    "duration": 3,
    "start_time": "2022-08-16T09:25:28.176Z"
   },
   {
    "duration": 18,
    "start_time": "2022-08-16T09:25:28.180Z"
   },
   {
    "duration": 40,
    "start_time": "2022-08-16T09:25:28.199Z"
   },
   {
    "duration": 15,
    "start_time": "2022-08-16T09:25:28.240Z"
   },
   {
    "duration": 124,
    "start_time": "2022-08-16T09:25:28.257Z"
   },
   {
    "duration": 0,
    "start_time": "2022-08-16T09:25:28.382Z"
   },
   {
    "duration": 0,
    "start_time": "2022-08-16T09:25:28.384Z"
   },
   {
    "duration": 0,
    "start_time": "2022-08-16T09:25:28.385Z"
   },
   {
    "duration": 0,
    "start_time": "2022-08-16T09:25:28.387Z"
   },
   {
    "duration": 0,
    "start_time": "2022-08-16T09:25:28.388Z"
   },
   {
    "duration": 0,
    "start_time": "2022-08-16T09:25:28.390Z"
   },
   {
    "duration": 0,
    "start_time": "2022-08-16T09:25:28.406Z"
   },
   {
    "duration": 0,
    "start_time": "2022-08-16T09:25:28.408Z"
   },
   {
    "duration": 0,
    "start_time": "2022-08-16T09:25:28.410Z"
   },
   {
    "duration": 0,
    "start_time": "2022-08-16T09:25:28.412Z"
   },
   {
    "duration": 0,
    "start_time": "2022-08-16T09:25:28.413Z"
   },
   {
    "duration": 1,
    "start_time": "2022-08-16T09:25:28.414Z"
   },
   {
    "duration": 0,
    "start_time": "2022-08-16T09:25:28.417Z"
   },
   {
    "duration": 0,
    "start_time": "2022-08-16T09:25:28.418Z"
   },
   {
    "duration": 0,
    "start_time": "2022-08-16T09:25:28.420Z"
   },
   {
    "duration": 0,
    "start_time": "2022-08-16T09:25:28.421Z"
   },
   {
    "duration": 0,
    "start_time": "2022-08-16T09:25:28.422Z"
   },
   {
    "duration": 0,
    "start_time": "2022-08-16T09:25:28.424Z"
   },
   {
    "duration": 0,
    "start_time": "2022-08-16T09:25:28.425Z"
   },
   {
    "duration": 0,
    "start_time": "2022-08-16T09:25:28.426Z"
   },
   {
    "duration": 0,
    "start_time": "2022-08-16T09:25:28.427Z"
   },
   {
    "duration": 0,
    "start_time": "2022-08-16T09:25:28.428Z"
   },
   {
    "duration": 0,
    "start_time": "2022-08-16T09:25:28.429Z"
   },
   {
    "duration": 0,
    "start_time": "2022-08-16T09:25:28.430Z"
   },
   {
    "duration": 0,
    "start_time": "2022-08-16T09:25:28.431Z"
   },
   {
    "duration": 0,
    "start_time": "2022-08-16T09:25:28.433Z"
   },
   {
    "duration": 0,
    "start_time": "2022-08-16T09:25:28.433Z"
   },
   {
    "duration": 0,
    "start_time": "2022-08-16T09:25:28.434Z"
   },
   {
    "duration": 0,
    "start_time": "2022-08-16T09:25:28.435Z"
   },
   {
    "duration": 0,
    "start_time": "2022-08-16T09:25:28.436Z"
   },
   {
    "duration": 0,
    "start_time": "2022-08-16T09:25:28.437Z"
   },
   {
    "duration": 0,
    "start_time": "2022-08-16T09:25:28.438Z"
   },
   {
    "duration": 0,
    "start_time": "2022-08-16T09:25:28.439Z"
   },
   {
    "duration": 0,
    "start_time": "2022-08-16T09:25:28.440Z"
   },
   {
    "duration": 0,
    "start_time": "2022-08-16T09:25:28.441Z"
   },
   {
    "duration": 0,
    "start_time": "2022-08-16T09:25:28.441Z"
   },
   {
    "duration": 0,
    "start_time": "2022-08-16T09:25:28.442Z"
   },
   {
    "duration": 0,
    "start_time": "2022-08-16T09:25:28.443Z"
   },
   {
    "duration": 0,
    "start_time": "2022-08-16T09:25:28.445Z"
   },
   {
    "duration": 0,
    "start_time": "2022-08-16T09:25:28.446Z"
   },
   {
    "duration": 0,
    "start_time": "2022-08-16T09:25:28.507Z"
   },
   {
    "duration": 0,
    "start_time": "2022-08-16T09:25:28.508Z"
   },
   {
    "duration": 0,
    "start_time": "2022-08-16T09:25:28.509Z"
   },
   {
    "duration": 0,
    "start_time": "2022-08-16T09:25:28.510Z"
   },
   {
    "duration": 0,
    "start_time": "2022-08-16T09:25:28.511Z"
   },
   {
    "duration": 0,
    "start_time": "2022-08-16T09:25:28.513Z"
   },
   {
    "duration": 0,
    "start_time": "2022-08-16T09:25:28.514Z"
   },
   {
    "duration": 0,
    "start_time": "2022-08-16T09:25:28.515Z"
   },
   {
    "duration": 0,
    "start_time": "2022-08-16T09:25:28.516Z"
   },
   {
    "duration": 0,
    "start_time": "2022-08-16T09:25:28.518Z"
   },
   {
    "duration": 1379,
    "start_time": "2022-08-16T09:26:12.940Z"
   },
   {
    "duration": 1379,
    "start_time": "2022-08-16T09:26:23.844Z"
   },
   {
    "duration": 94,
    "start_time": "2022-08-16T09:26:25.225Z"
   },
   {
    "duration": 17,
    "start_time": "2022-08-16T09:26:25.320Z"
   },
   {
    "duration": 11,
    "start_time": "2022-08-16T09:26:25.338Z"
   },
   {
    "duration": 15,
    "start_time": "2022-08-16T09:26:25.351Z"
   },
   {
    "duration": 285,
    "start_time": "2022-08-16T09:26:25.368Z"
   },
   {
    "duration": 130,
    "start_time": "2022-08-16T09:26:25.655Z"
   },
   {
    "duration": 84,
    "start_time": "2022-08-16T09:26:25.787Z"
   },
   {
    "duration": 14,
    "start_time": "2022-08-16T09:26:25.873Z"
   },
   {
    "duration": 23,
    "start_time": "2022-08-16T09:26:25.888Z"
   },
   {
    "duration": 492,
    "start_time": "2022-08-16T09:26:25.913Z"
   },
   {
    "duration": 141,
    "start_time": "2022-08-16T09:26:26.412Z"
   },
   {
    "duration": 179,
    "start_time": "2022-08-16T09:26:26.555Z"
   },
   {
    "duration": 97,
    "start_time": "2022-08-16T09:26:26.738Z"
   },
   {
    "duration": 11,
    "start_time": "2022-08-16T09:26:26.837Z"
   },
   {
    "duration": 176,
    "start_time": "2022-08-16T09:26:26.850Z"
   },
   {
    "duration": 9,
    "start_time": "2022-08-16T09:26:27.027Z"
   },
   {
    "duration": 12,
    "start_time": "2022-08-16T09:26:27.037Z"
   },
   {
    "duration": 87,
    "start_time": "2022-08-16T09:26:27.050Z"
   },
   {
    "duration": 20,
    "start_time": "2022-08-16T09:26:27.139Z"
   },
   {
    "duration": 16,
    "start_time": "2022-08-16T09:26:27.161Z"
   },
   {
    "duration": 53,
    "start_time": "2022-08-16T09:26:27.178Z"
   },
   {
    "duration": 2760,
    "start_time": "2022-08-16T09:26:27.233Z"
   },
   {
    "duration": 113,
    "start_time": "2022-08-16T09:26:29.996Z"
   },
   {
    "duration": 115,
    "start_time": "2022-08-16T09:26:30.112Z"
   },
   {
    "duration": 17,
    "start_time": "2022-08-16T09:26:30.228Z"
   },
   {
    "duration": 36,
    "start_time": "2022-08-16T09:26:30.246Z"
   },
   {
    "duration": 34,
    "start_time": "2022-08-16T09:26:30.284Z"
   },
   {
    "duration": 111,
    "start_time": "2022-08-16T09:26:30.321Z"
   },
   {
    "duration": 9,
    "start_time": "2022-08-16T09:26:30.434Z"
   },
   {
    "duration": 224,
    "start_time": "2022-08-16T09:26:30.444Z"
   },
   {
    "duration": 239,
    "start_time": "2022-08-16T09:26:30.670Z"
   },
   {
    "duration": 10,
    "start_time": "2022-08-16T09:26:30.911Z"
   },
   {
    "duration": 26,
    "start_time": "2022-08-16T09:26:30.923Z"
   },
   {
    "duration": 69,
    "start_time": "2022-08-16T09:26:30.951Z"
   },
   {
    "duration": 14,
    "start_time": "2022-08-16T09:26:31.021Z"
   },
   {
    "duration": 12,
    "start_time": "2022-08-16T09:26:31.037Z"
   },
   {
    "duration": 42,
    "start_time": "2022-08-16T09:26:31.050Z"
   },
   {
    "duration": 1671,
    "start_time": "2022-08-16T09:26:31.093Z"
   },
   {
    "duration": 252,
    "start_time": "2022-08-16T09:26:32.766Z"
   },
   {
    "duration": 10,
    "start_time": "2022-08-16T09:26:33.024Z"
   },
   {
    "duration": 27,
    "start_time": "2022-08-16T09:26:33.036Z"
   },
   {
    "duration": 101,
    "start_time": "2022-08-16T09:26:33.065Z"
   },
   {
    "duration": 13,
    "start_time": "2022-08-16T09:26:33.168Z"
   },
   {
    "duration": 17,
    "start_time": "2022-08-16T09:26:33.183Z"
   },
   {
    "duration": 30,
    "start_time": "2022-08-16T09:26:33.202Z"
   },
   {
    "duration": 20,
    "start_time": "2022-08-16T09:26:33.233Z"
   },
   {
    "duration": 19,
    "start_time": "2022-08-16T09:26:33.255Z"
   },
   {
    "duration": 11,
    "start_time": "2022-08-16T09:26:33.276Z"
   },
   {
    "duration": 30,
    "start_time": "2022-08-16T09:26:33.289Z"
   },
   {
    "duration": 13,
    "start_time": "2022-08-16T09:26:33.321Z"
   },
   {
    "duration": 24,
    "start_time": "2022-08-16T09:26:33.336Z"
   },
   {
    "duration": 28,
    "start_time": "2022-08-16T09:26:33.361Z"
   },
   {
    "duration": 31,
    "start_time": "2022-08-16T09:26:33.391Z"
   },
   {
    "duration": 27,
    "start_time": "2022-08-16T09:26:33.424Z"
   },
   {
    "duration": 24,
    "start_time": "2022-08-16T09:26:33.453Z"
   },
   {
    "duration": 21,
    "start_time": "2022-08-16T09:26:33.478Z"
   },
   {
    "duration": 27,
    "start_time": "2022-08-16T09:26:33.500Z"
   },
   {
    "duration": 5,
    "start_time": "2022-08-16T09:26:33.529Z"
   },
   {
    "duration": 33,
    "start_time": "2022-08-16T09:26:33.536Z"
   },
   {
    "duration": 93,
    "start_time": "2022-08-16T09:26:33.571Z"
   },
   {
    "duration": 11,
    "start_time": "2022-08-16T09:26:33.665Z"
   },
   {
    "duration": 21,
    "start_time": "2022-08-16T09:26:33.678Z"
   },
   {
    "duration": 25,
    "start_time": "2022-08-16T09:26:33.701Z"
   },
   {
    "duration": 33,
    "start_time": "2022-08-16T09:26:33.728Z"
   },
   {
    "duration": 25,
    "start_time": "2022-08-16T09:26:33.763Z"
   },
   {
    "duration": 39,
    "start_time": "2022-08-16T09:26:33.790Z"
   },
   {
    "duration": 18,
    "start_time": "2022-08-16T09:26:33.830Z"
   },
   {
    "duration": 16,
    "start_time": "2022-08-16T09:26:33.849Z"
   },
   {
    "duration": 18,
    "start_time": "2022-08-16T09:26:33.866Z"
   },
   {
    "duration": 97,
    "start_time": "2022-08-16T09:26:33.886Z"
   },
   {
    "duration": 4,
    "start_time": "2022-08-16T09:26:33.984Z"
   },
   {
    "duration": 121,
    "start_time": "2022-08-16T09:26:33.990Z"
   },
   {
    "duration": 4,
    "start_time": "2022-08-16T09:26:34.113Z"
   },
   {
    "duration": 18,
    "start_time": "2022-08-16T09:26:34.119Z"
   },
   {
    "duration": 28,
    "start_time": "2022-08-16T09:26:34.139Z"
   },
   {
    "duration": 10,
    "start_time": "2022-08-16T09:26:34.169Z"
   },
   {
    "duration": 112,
    "start_time": "2022-08-16T09:26:34.181Z"
   },
   {
    "duration": 0,
    "start_time": "2022-08-16T09:26:34.295Z"
   },
   {
    "duration": 1,
    "start_time": "2022-08-16T09:26:34.296Z"
   },
   {
    "duration": 0,
    "start_time": "2022-08-16T09:26:34.298Z"
   },
   {
    "duration": 0,
    "start_time": "2022-08-16T09:26:34.299Z"
   },
   {
    "duration": 0,
    "start_time": "2022-08-16T09:26:34.307Z"
   },
   {
    "duration": 0,
    "start_time": "2022-08-16T09:26:34.308Z"
   },
   {
    "duration": 0,
    "start_time": "2022-08-16T09:26:34.309Z"
   },
   {
    "duration": 0,
    "start_time": "2022-08-16T09:26:34.310Z"
   },
   {
    "duration": 0,
    "start_time": "2022-08-16T09:26:34.311Z"
   },
   {
    "duration": 0,
    "start_time": "2022-08-16T09:26:34.312Z"
   },
   {
    "duration": 0,
    "start_time": "2022-08-16T09:26:34.313Z"
   },
   {
    "duration": 0,
    "start_time": "2022-08-16T09:26:34.314Z"
   },
   {
    "duration": 0,
    "start_time": "2022-08-16T09:26:34.315Z"
   },
   {
    "duration": 0,
    "start_time": "2022-08-16T09:26:34.316Z"
   },
   {
    "duration": 0,
    "start_time": "2022-08-16T09:26:34.317Z"
   },
   {
    "duration": 0,
    "start_time": "2022-08-16T09:26:34.319Z"
   },
   {
    "duration": 0,
    "start_time": "2022-08-16T09:26:34.320Z"
   },
   {
    "duration": 0,
    "start_time": "2022-08-16T09:26:34.323Z"
   },
   {
    "duration": 0,
    "start_time": "2022-08-16T09:26:34.324Z"
   },
   {
    "duration": 0,
    "start_time": "2022-08-16T09:26:34.325Z"
   },
   {
    "duration": 0,
    "start_time": "2022-08-16T09:26:34.327Z"
   },
   {
    "duration": 0,
    "start_time": "2022-08-16T09:26:34.328Z"
   },
   {
    "duration": 0,
    "start_time": "2022-08-16T09:26:34.329Z"
   },
   {
    "duration": 0,
    "start_time": "2022-08-16T09:26:34.331Z"
   },
   {
    "duration": 0,
    "start_time": "2022-08-16T09:26:34.332Z"
   },
   {
    "duration": 0,
    "start_time": "2022-08-16T09:26:34.333Z"
   },
   {
    "duration": 0,
    "start_time": "2022-08-16T09:26:34.335Z"
   },
   {
    "duration": 0,
    "start_time": "2022-08-16T09:26:34.336Z"
   },
   {
    "duration": 0,
    "start_time": "2022-08-16T09:26:34.337Z"
   },
   {
    "duration": 0,
    "start_time": "2022-08-16T09:26:34.339Z"
   },
   {
    "duration": 0,
    "start_time": "2022-08-16T09:26:34.340Z"
   },
   {
    "duration": 0,
    "start_time": "2022-08-16T09:26:34.341Z"
   },
   {
    "duration": 0,
    "start_time": "2022-08-16T09:26:34.342Z"
   },
   {
    "duration": 0,
    "start_time": "2022-08-16T09:26:34.344Z"
   },
   {
    "duration": 0,
    "start_time": "2022-08-16T09:26:34.345Z"
   },
   {
    "duration": 0,
    "start_time": "2022-08-16T09:26:34.346Z"
   },
   {
    "duration": 0,
    "start_time": "2022-08-16T09:26:34.347Z"
   },
   {
    "duration": 0,
    "start_time": "2022-08-16T09:26:34.348Z"
   },
   {
    "duration": 0,
    "start_time": "2022-08-16T09:26:34.350Z"
   },
   {
    "duration": 0,
    "start_time": "2022-08-16T09:26:34.406Z"
   },
   {
    "duration": 0,
    "start_time": "2022-08-16T09:26:34.408Z"
   },
   {
    "duration": 0,
    "start_time": "2022-08-16T09:26:34.409Z"
   },
   {
    "duration": 0,
    "start_time": "2022-08-16T09:26:34.412Z"
   },
   {
    "duration": 0,
    "start_time": "2022-08-16T09:26:34.413Z"
   },
   {
    "duration": 0,
    "start_time": "2022-08-16T09:26:34.414Z"
   },
   {
    "duration": 0,
    "start_time": "2022-08-16T09:26:34.415Z"
   },
   {
    "duration": 0,
    "start_time": "2022-08-16T09:26:34.417Z"
   },
   {
    "duration": 0,
    "start_time": "2022-08-16T09:26:34.418Z"
   },
   {
    "duration": 0,
    "start_time": "2022-08-16T09:26:34.420Z"
   },
   {
    "duration": 0,
    "start_time": "2022-08-16T09:26:34.422Z"
   },
   {
    "duration": 1348,
    "start_time": "2022-08-16T09:27:56.417Z"
   },
   {
    "duration": 1458,
    "start_time": "2022-08-16T09:28:03.005Z"
   },
   {
    "duration": 103,
    "start_time": "2022-08-16T09:28:04.464Z"
   },
   {
    "duration": 14,
    "start_time": "2022-08-16T09:28:04.568Z"
   },
   {
    "duration": 9,
    "start_time": "2022-08-16T09:28:04.584Z"
   },
   {
    "duration": 22,
    "start_time": "2022-08-16T09:28:04.595Z"
   },
   {
    "duration": 243,
    "start_time": "2022-08-16T09:28:04.619Z"
   },
   {
    "duration": 119,
    "start_time": "2022-08-16T09:28:04.864Z"
   },
   {
    "duration": 85,
    "start_time": "2022-08-16T09:28:04.985Z"
   },
   {
    "duration": 13,
    "start_time": "2022-08-16T09:28:05.072Z"
   },
   {
    "duration": 1994,
    "start_time": "2022-08-16T09:28:05.087Z"
   },
   {
    "duration": 1484,
    "start_time": "2022-08-16T09:28:07.082Z"
   },
   {
    "duration": 2117,
    "start_time": "2022-08-16T09:28:08.567Z"
   },
   {
    "duration": 190,
    "start_time": "2022-08-16T09:28:10.685Z"
   },
   {
    "duration": 119,
    "start_time": "2022-08-16T09:28:10.879Z"
   },
   {
    "duration": 18,
    "start_time": "2022-08-16T09:28:11.000Z"
   },
   {
    "duration": 207,
    "start_time": "2022-08-16T09:28:11.020Z"
   },
   {
    "duration": 11,
    "start_time": "2022-08-16T09:28:11.229Z"
   },
   {
    "duration": 37,
    "start_time": "2022-08-16T09:28:11.242Z"
   },
   {
    "duration": 96,
    "start_time": "2022-08-16T09:28:11.281Z"
   },
   {
    "duration": 21,
    "start_time": "2022-08-16T09:28:11.379Z"
   },
   {
    "duration": 26,
    "start_time": "2022-08-16T09:28:11.402Z"
   },
   {
    "duration": 69,
    "start_time": "2022-08-16T09:28:11.430Z"
   },
   {
    "duration": 2667,
    "start_time": "2022-08-16T09:28:11.501Z"
   },
   {
    "duration": 92,
    "start_time": "2022-08-16T09:28:14.170Z"
   },
   {
    "duration": 108,
    "start_time": "2022-08-16T09:28:14.264Z"
   },
   {
    "duration": 16,
    "start_time": "2022-08-16T09:28:14.373Z"
   },
   {
    "duration": 14,
    "start_time": "2022-08-16T09:28:14.390Z"
   },
   {
    "duration": 22,
    "start_time": "2022-08-16T09:28:14.405Z"
   },
   {
    "duration": 81,
    "start_time": "2022-08-16T09:28:14.429Z"
   },
   {
    "duration": 11,
    "start_time": "2022-08-16T09:28:14.512Z"
   },
   {
    "duration": 217,
    "start_time": "2022-08-16T09:28:14.524Z"
   },
   {
    "duration": 215,
    "start_time": "2022-08-16T09:28:14.743Z"
   },
   {
    "duration": 7,
    "start_time": "2022-08-16T09:28:14.960Z"
   },
   {
    "duration": 9,
    "start_time": "2022-08-16T09:28:14.968Z"
   },
   {
    "duration": 96,
    "start_time": "2022-08-16T09:28:14.978Z"
   },
   {
    "duration": 14,
    "start_time": "2022-08-16T09:28:15.076Z"
   },
   {
    "duration": 9,
    "start_time": "2022-08-16T09:28:15.092Z"
   },
   {
    "duration": 36,
    "start_time": "2022-08-16T09:28:15.102Z"
   },
   {
    "duration": 1832,
    "start_time": "2022-08-16T09:28:15.140Z"
   },
   {
    "duration": 247,
    "start_time": "2022-08-16T09:28:16.974Z"
   },
   {
    "duration": 9,
    "start_time": "2022-08-16T09:28:17.226Z"
   },
   {
    "duration": 17,
    "start_time": "2022-08-16T09:28:17.236Z"
   },
   {
    "duration": 106,
    "start_time": "2022-08-16T09:28:17.254Z"
   },
   {
    "duration": 23,
    "start_time": "2022-08-16T09:28:17.362Z"
   },
   {
    "duration": 16,
    "start_time": "2022-08-16T09:28:17.387Z"
   },
   {
    "duration": 19,
    "start_time": "2022-08-16T09:28:17.404Z"
   },
   {
    "duration": 13,
    "start_time": "2022-08-16T09:28:17.424Z"
   },
   {
    "duration": 5,
    "start_time": "2022-08-16T09:28:17.439Z"
   },
   {
    "duration": 8,
    "start_time": "2022-08-16T09:28:17.446Z"
   },
   {
    "duration": 14,
    "start_time": "2022-08-16T09:28:17.456Z"
   },
   {
    "duration": 6,
    "start_time": "2022-08-16T09:28:17.472Z"
   },
   {
    "duration": 20,
    "start_time": "2022-08-16T09:28:17.479Z"
   },
   {
    "duration": 19,
    "start_time": "2022-08-16T09:28:17.500Z"
   },
   {
    "duration": 4,
    "start_time": "2022-08-16T09:28:17.521Z"
   },
   {
    "duration": 17,
    "start_time": "2022-08-16T09:28:17.527Z"
   },
   {
    "duration": 14,
    "start_time": "2022-08-16T09:28:17.546Z"
   },
   {
    "duration": 14,
    "start_time": "2022-08-16T09:28:17.561Z"
   },
   {
    "duration": 13,
    "start_time": "2022-08-16T09:28:17.576Z"
   },
   {
    "duration": 16,
    "start_time": "2022-08-16T09:28:17.591Z"
   },
   {
    "duration": 15,
    "start_time": "2022-08-16T09:28:17.609Z"
   },
   {
    "duration": 87,
    "start_time": "2022-08-16T09:28:17.627Z"
   },
   {
    "duration": 8,
    "start_time": "2022-08-16T09:28:17.716Z"
   },
   {
    "duration": 13,
    "start_time": "2022-08-16T09:28:17.725Z"
   },
   {
    "duration": 8,
    "start_time": "2022-08-16T09:28:17.739Z"
   },
   {
    "duration": 11,
    "start_time": "2022-08-16T09:28:17.748Z"
   },
   {
    "duration": 6,
    "start_time": "2022-08-16T09:28:17.760Z"
   },
   {
    "duration": 46,
    "start_time": "2022-08-16T09:28:17.767Z"
   },
   {
    "duration": 17,
    "start_time": "2022-08-16T09:28:17.818Z"
   },
   {
    "duration": 18,
    "start_time": "2022-08-16T09:28:17.837Z"
   },
   {
    "duration": 11,
    "start_time": "2022-08-16T09:28:17.857Z"
   },
   {
    "duration": 29,
    "start_time": "2022-08-16T09:28:17.869Z"
   },
   {
    "duration": 85,
    "start_time": "2022-08-16T09:28:17.905Z"
   },
   {
    "duration": 4,
    "start_time": "2022-08-16T09:28:17.992Z"
   },
   {
    "duration": 102,
    "start_time": "2022-08-16T09:28:17.997Z"
   },
   {
    "duration": 6,
    "start_time": "2022-08-16T09:28:18.100Z"
   },
   {
    "duration": 24,
    "start_time": "2022-08-16T09:28:18.108Z"
   },
   {
    "duration": 21,
    "start_time": "2022-08-16T09:28:18.134Z"
   },
   {
    "duration": 8,
    "start_time": "2022-08-16T09:28:18.157Z"
   },
   {
    "duration": 110,
    "start_time": "2022-08-16T09:28:18.166Z"
   },
   {
    "duration": 0,
    "start_time": "2022-08-16T09:28:18.277Z"
   },
   {
    "duration": 0,
    "start_time": "2022-08-16T09:28:18.278Z"
   },
   {
    "duration": 0,
    "start_time": "2022-08-16T09:28:18.279Z"
   },
   {
    "duration": 0,
    "start_time": "2022-08-16T09:28:18.280Z"
   },
   {
    "duration": 0,
    "start_time": "2022-08-16T09:28:18.281Z"
   },
   {
    "duration": 0,
    "start_time": "2022-08-16T09:28:18.282Z"
   },
   {
    "duration": 0,
    "start_time": "2022-08-16T09:28:18.283Z"
   },
   {
    "duration": 0,
    "start_time": "2022-08-16T09:28:18.284Z"
   },
   {
    "duration": 0,
    "start_time": "2022-08-16T09:28:18.285Z"
   },
   {
    "duration": 0,
    "start_time": "2022-08-16T09:28:18.286Z"
   },
   {
    "duration": 0,
    "start_time": "2022-08-16T09:28:18.287Z"
   },
   {
    "duration": 0,
    "start_time": "2022-08-16T09:28:18.288Z"
   },
   {
    "duration": 0,
    "start_time": "2022-08-16T09:28:18.289Z"
   },
   {
    "duration": 0,
    "start_time": "2022-08-16T09:28:18.290Z"
   },
   {
    "duration": 0,
    "start_time": "2022-08-16T09:28:18.290Z"
   },
   {
    "duration": 0,
    "start_time": "2022-08-16T09:28:18.306Z"
   },
   {
    "duration": 0,
    "start_time": "2022-08-16T09:28:18.307Z"
   },
   {
    "duration": 0,
    "start_time": "2022-08-16T09:28:18.309Z"
   },
   {
    "duration": 0,
    "start_time": "2022-08-16T09:28:18.310Z"
   },
   {
    "duration": 0,
    "start_time": "2022-08-16T09:28:18.311Z"
   },
   {
    "duration": 0,
    "start_time": "2022-08-16T09:28:18.313Z"
   },
   {
    "duration": 0,
    "start_time": "2022-08-16T09:28:18.314Z"
   },
   {
    "duration": 0,
    "start_time": "2022-08-16T09:28:18.315Z"
   },
   {
    "duration": 0,
    "start_time": "2022-08-16T09:28:18.316Z"
   },
   {
    "duration": 0,
    "start_time": "2022-08-16T09:28:18.317Z"
   },
   {
    "duration": 0,
    "start_time": "2022-08-16T09:28:18.318Z"
   },
   {
    "duration": 0,
    "start_time": "2022-08-16T09:28:18.320Z"
   },
   {
    "duration": 0,
    "start_time": "2022-08-16T09:28:18.321Z"
   },
   {
    "duration": 0,
    "start_time": "2022-08-16T09:28:18.322Z"
   },
   {
    "duration": 0,
    "start_time": "2022-08-16T09:28:18.324Z"
   },
   {
    "duration": 0,
    "start_time": "2022-08-16T09:28:18.325Z"
   },
   {
    "duration": 0,
    "start_time": "2022-08-16T09:28:18.326Z"
   },
   {
    "duration": 0,
    "start_time": "2022-08-16T09:28:18.327Z"
   },
   {
    "duration": 0,
    "start_time": "2022-08-16T09:28:18.328Z"
   },
   {
    "duration": 0,
    "start_time": "2022-08-16T09:28:18.329Z"
   },
   {
    "duration": 0,
    "start_time": "2022-08-16T09:28:18.330Z"
   },
   {
    "duration": 0,
    "start_time": "2022-08-16T09:28:18.330Z"
   },
   {
    "duration": 0,
    "start_time": "2022-08-16T09:28:18.332Z"
   },
   {
    "duration": 0,
    "start_time": "2022-08-16T09:28:18.332Z"
   },
   {
    "duration": 0,
    "start_time": "2022-08-16T09:28:18.333Z"
   },
   {
    "duration": 0,
    "start_time": "2022-08-16T09:28:18.334Z"
   },
   {
    "duration": 0,
    "start_time": "2022-08-16T09:28:18.335Z"
   },
   {
    "duration": 0,
    "start_time": "2022-08-16T09:28:18.336Z"
   },
   {
    "duration": 0,
    "start_time": "2022-08-16T09:28:18.337Z"
   },
   {
    "duration": 0,
    "start_time": "2022-08-16T09:28:18.338Z"
   },
   {
    "duration": 0,
    "start_time": "2022-08-16T09:28:18.339Z"
   },
   {
    "duration": 0,
    "start_time": "2022-08-16T09:28:18.340Z"
   },
   {
    "duration": 0,
    "start_time": "2022-08-16T09:28:18.341Z"
   },
   {
    "duration": 0,
    "start_time": "2022-08-16T09:28:18.341Z"
   },
   {
    "duration": 0,
    "start_time": "2022-08-16T09:28:18.342Z"
   },
   {
    "duration": 24,
    "start_time": "2022-08-16T09:30:41.299Z"
   },
   {
    "duration": 1430,
    "start_time": "2022-08-16T09:30:48.527Z"
   },
   {
    "duration": 98,
    "start_time": "2022-08-16T09:30:49.959Z"
   },
   {
    "duration": 16,
    "start_time": "2022-08-16T09:30:50.059Z"
   },
   {
    "duration": 11,
    "start_time": "2022-08-16T09:30:50.076Z"
   },
   {
    "duration": 13,
    "start_time": "2022-08-16T09:30:50.089Z"
   },
   {
    "duration": 247,
    "start_time": "2022-08-16T09:30:50.104Z"
   },
   {
    "duration": 119,
    "start_time": "2022-08-16T09:30:50.353Z"
   },
   {
    "duration": 73,
    "start_time": "2022-08-16T09:30:50.474Z"
   },
   {
    "duration": 12,
    "start_time": "2022-08-16T09:30:50.549Z"
   },
   {
    "duration": 18,
    "start_time": "2022-08-16T09:30:50.562Z"
   },
   {
    "duration": 358,
    "start_time": "2022-08-16T09:30:50.582Z"
   },
   {
    "duration": 109,
    "start_time": "2022-08-16T09:30:50.942Z"
   },
   {
    "duration": 163,
    "start_time": "2022-08-16T09:30:51.053Z"
   },
   {
    "duration": 98,
    "start_time": "2022-08-16T09:30:51.219Z"
   },
   {
    "duration": 12,
    "start_time": "2022-08-16T09:30:51.318Z"
   },
   {
    "duration": 193,
    "start_time": "2022-08-16T09:30:51.331Z"
   },
   {
    "duration": 8,
    "start_time": "2022-08-16T09:30:51.526Z"
   },
   {
    "duration": 8,
    "start_time": "2022-08-16T09:30:51.536Z"
   },
   {
    "duration": 110,
    "start_time": "2022-08-16T09:30:51.546Z"
   },
   {
    "duration": 19,
    "start_time": "2022-08-16T09:30:51.658Z"
   },
   {
    "duration": 16,
    "start_time": "2022-08-16T09:30:51.678Z"
   },
   {
    "duration": 77,
    "start_time": "2022-08-16T09:30:51.695Z"
   },
   {
    "duration": 2881,
    "start_time": "2022-08-16T09:30:51.773Z"
   },
   {
    "duration": 92,
    "start_time": "2022-08-16T09:30:54.655Z"
   },
   {
    "duration": 90,
    "start_time": "2022-08-16T09:30:54.748Z"
   },
   {
    "duration": 15,
    "start_time": "2022-08-16T09:30:54.840Z"
   },
   {
    "duration": 16,
    "start_time": "2022-08-16T09:30:54.856Z"
   },
   {
    "duration": 8,
    "start_time": "2022-08-16T09:30:54.873Z"
   },
   {
    "duration": 84,
    "start_time": "2022-08-16T09:30:54.882Z"
   },
   {
    "duration": 8,
    "start_time": "2022-08-16T09:30:54.968Z"
   },
   {
    "duration": 211,
    "start_time": "2022-08-16T09:30:54.978Z"
   },
   {
    "duration": 206,
    "start_time": "2022-08-16T09:30:55.191Z"
   },
   {
    "duration": 14,
    "start_time": "2022-08-16T09:30:55.399Z"
   },
   {
    "duration": 21,
    "start_time": "2022-08-16T09:30:55.414Z"
   },
   {
    "duration": 59,
    "start_time": "2022-08-16T09:30:55.437Z"
   },
   {
    "duration": 17,
    "start_time": "2022-08-16T09:30:55.498Z"
   },
   {
    "duration": 19,
    "start_time": "2022-08-16T09:30:55.516Z"
   },
   {
    "duration": 34,
    "start_time": "2022-08-16T09:30:55.536Z"
   },
   {
    "duration": 1876,
    "start_time": "2022-08-16T09:30:55.572Z"
   },
   {
    "duration": 341,
    "start_time": "2022-08-16T09:30:57.450Z"
   },
   {
    "duration": 15,
    "start_time": "2022-08-16T09:30:57.811Z"
   },
   {
    "duration": 9,
    "start_time": "2022-08-16T09:30:57.827Z"
   },
   {
    "duration": 86,
    "start_time": "2022-08-16T09:30:57.837Z"
   },
   {
    "duration": 13,
    "start_time": "2022-08-16T09:30:57.925Z"
   },
   {
    "duration": 10,
    "start_time": "2022-08-16T09:30:57.940Z"
   },
   {
    "duration": 2,
    "start_time": "2022-08-16T09:30:57.952Z"
   },
   {
    "duration": 9,
    "start_time": "2022-08-16T09:30:57.956Z"
   },
   {
    "duration": 5,
    "start_time": "2022-08-16T09:30:57.967Z"
   },
   {
    "duration": 5,
    "start_time": "2022-08-16T09:30:57.974Z"
   },
   {
    "duration": 26,
    "start_time": "2022-08-16T09:30:57.980Z"
   },
   {
    "duration": 3,
    "start_time": "2022-08-16T09:30:58.008Z"
   },
   {
    "duration": 25,
    "start_time": "2022-08-16T09:30:58.013Z"
   },
   {
    "duration": 10,
    "start_time": "2022-08-16T09:30:58.040Z"
   },
   {
    "duration": 7,
    "start_time": "2022-08-16T09:30:58.052Z"
   },
   {
    "duration": 22,
    "start_time": "2022-08-16T09:30:58.061Z"
   },
   {
    "duration": 34,
    "start_time": "2022-08-16T09:30:58.085Z"
   },
   {
    "duration": 25,
    "start_time": "2022-08-16T09:30:58.121Z"
   },
   {
    "duration": 20,
    "start_time": "2022-08-16T09:30:58.147Z"
   },
   {
    "duration": 37,
    "start_time": "2022-08-16T09:30:58.169Z"
   },
   {
    "duration": 15,
    "start_time": "2022-08-16T09:30:58.208Z"
   },
   {
    "duration": 191,
    "start_time": "2022-08-16T09:30:58.225Z"
   },
   {
    "duration": 8,
    "start_time": "2022-08-16T09:30:58.418Z"
   },
   {
    "duration": 10,
    "start_time": "2022-08-16T09:30:58.428Z"
   },
   {
    "duration": 9,
    "start_time": "2022-08-16T09:30:58.440Z"
   },
   {
    "duration": 69,
    "start_time": "2022-08-16T09:30:58.450Z"
   },
   {
    "duration": 8,
    "start_time": "2022-08-16T09:30:58.521Z"
   },
   {
    "duration": 17,
    "start_time": "2022-08-16T09:30:58.530Z"
   },
   {
    "duration": 60,
    "start_time": "2022-08-16T09:30:58.548Z"
   },
   {
    "duration": 21,
    "start_time": "2022-08-16T09:30:58.609Z"
   },
   {
    "duration": 11,
    "start_time": "2022-08-16T09:30:58.631Z"
   },
   {
    "duration": 66,
    "start_time": "2022-08-16T09:30:58.644Z"
   },
   {
    "duration": 136,
    "start_time": "2022-08-16T09:30:58.712Z"
   },
   {
    "duration": 58,
    "start_time": "2022-08-16T09:30:58.850Z"
   },
   {
    "duration": 203,
    "start_time": "2022-08-16T09:30:58.910Z"
   },
   {
    "duration": 5,
    "start_time": "2022-08-16T09:30:59.114Z"
   },
   {
    "duration": 29,
    "start_time": "2022-08-16T09:30:59.121Z"
   },
   {
    "duration": 59,
    "start_time": "2022-08-16T09:30:59.152Z"
   },
   {
    "duration": 6,
    "start_time": "2022-08-16T09:30:59.212Z"
   },
   {
    "duration": 17,
    "start_time": "2022-08-16T09:30:59.220Z"
   },
   {
    "duration": 9,
    "start_time": "2022-08-16T09:30:59.239Z"
   },
   {
    "duration": 67,
    "start_time": "2022-08-16T09:30:59.250Z"
   },
   {
    "duration": 21,
    "start_time": "2022-08-16T09:30:59.319Z"
   },
   {
    "duration": 7,
    "start_time": "2022-08-16T09:30:59.341Z"
   },
   {
    "duration": 10,
    "start_time": "2022-08-16T09:30:59.350Z"
   },
   {
    "duration": 45,
    "start_time": "2022-08-16T09:30:59.361Z"
   },
   {
    "duration": 208,
    "start_time": "2022-08-16T09:30:59.408Z"
   },
   {
    "duration": 4,
    "start_time": "2022-08-16T09:30:59.618Z"
   },
   {
    "duration": 201,
    "start_time": "2022-08-16T09:30:59.623Z"
   },
   {
    "duration": 197,
    "start_time": "2022-08-16T09:30:59.825Z"
   },
   {
    "duration": 5,
    "start_time": "2022-08-16T09:31:00.024Z"
   },
   {
    "duration": 118,
    "start_time": "2022-08-16T09:31:00.030Z"
   },
   {
    "duration": 4,
    "start_time": "2022-08-16T09:31:00.149Z"
   },
   {
    "duration": 111,
    "start_time": "2022-08-16T09:31:00.155Z"
   },
   {
    "duration": 106,
    "start_time": "2022-08-16T09:31:00.268Z"
   },
   {
    "duration": 129,
    "start_time": "2022-08-16T09:31:00.376Z"
   },
   {
    "duration": 0,
    "start_time": "2022-08-16T09:31:00.513Z"
   },
   {
    "duration": 0,
    "start_time": "2022-08-16T09:31:00.514Z"
   },
   {
    "duration": 0,
    "start_time": "2022-08-16T09:31:00.515Z"
   },
   {
    "duration": 0,
    "start_time": "2022-08-16T09:31:00.516Z"
   },
   {
    "duration": 0,
    "start_time": "2022-08-16T09:31:00.517Z"
   },
   {
    "duration": 0,
    "start_time": "2022-08-16T09:31:00.519Z"
   },
   {
    "duration": 0,
    "start_time": "2022-08-16T09:31:00.520Z"
   },
   {
    "duration": 0,
    "start_time": "2022-08-16T09:31:00.521Z"
   },
   {
    "duration": 0,
    "start_time": "2022-08-16T09:31:00.522Z"
   },
   {
    "duration": 0,
    "start_time": "2022-08-16T09:31:00.523Z"
   },
   {
    "duration": 0,
    "start_time": "2022-08-16T09:31:00.524Z"
   },
   {
    "duration": 0,
    "start_time": "2022-08-16T09:31:00.525Z"
   },
   {
    "duration": 0,
    "start_time": "2022-08-16T09:31:00.526Z"
   },
   {
    "duration": 0,
    "start_time": "2022-08-16T09:31:00.527Z"
   },
   {
    "duration": 0,
    "start_time": "2022-08-16T09:31:00.528Z"
   },
   {
    "duration": 0,
    "start_time": "2022-08-16T09:31:00.529Z"
   },
   {
    "duration": 0,
    "start_time": "2022-08-16T09:31:00.530Z"
   },
   {
    "duration": 0,
    "start_time": "2022-08-16T09:31:00.531Z"
   },
   {
    "duration": 0,
    "start_time": "2022-08-16T09:31:00.532Z"
   },
   {
    "duration": 0,
    "start_time": "2022-08-16T09:31:00.532Z"
   },
   {
    "duration": 0,
    "start_time": "2022-08-16T09:31:00.533Z"
   },
   {
    "duration": 0,
    "start_time": "2022-08-16T09:31:00.534Z"
   },
   {
    "duration": 0,
    "start_time": "2022-08-16T09:31:00.535Z"
   },
   {
    "duration": 0,
    "start_time": "2022-08-16T09:31:00.536Z"
   },
   {
    "duration": 0,
    "start_time": "2022-08-16T09:31:00.537Z"
   },
   {
    "duration": 0,
    "start_time": "2022-08-16T09:31:00.538Z"
   },
   {
    "duration": 0,
    "start_time": "2022-08-16T09:31:00.539Z"
   },
   {
    "duration": 0,
    "start_time": "2022-08-16T09:31:00.540Z"
   },
   {
    "duration": 0,
    "start_time": "2022-08-16T09:31:00.541Z"
   },
   {
    "duration": 0,
    "start_time": "2022-08-16T09:31:00.542Z"
   },
   {
    "duration": 0,
    "start_time": "2022-08-16T09:31:00.543Z"
   },
   {
    "duration": 0,
    "start_time": "2022-08-16T09:31:00.544Z"
   },
   {
    "duration": 0,
    "start_time": "2022-08-16T09:31:00.545Z"
   },
   {
    "duration": 110,
    "start_time": "2022-08-16T09:42:48.939Z"
   },
   {
    "duration": 4,
    "start_time": "2022-08-16T09:43:01.580Z"
   },
   {
    "duration": 1521,
    "start_time": "2022-08-16T09:43:11.816Z"
   },
   {
    "duration": 92,
    "start_time": "2022-08-16T09:43:13.339Z"
   },
   {
    "duration": 20,
    "start_time": "2022-08-16T09:43:13.433Z"
   },
   {
    "duration": 13,
    "start_time": "2022-08-16T09:43:13.455Z"
   },
   {
    "duration": 20,
    "start_time": "2022-08-16T09:43:13.471Z"
   },
   {
    "duration": 269,
    "start_time": "2022-08-16T09:43:13.493Z"
   },
   {
    "duration": 127,
    "start_time": "2022-08-16T09:43:13.764Z"
   },
   {
    "duration": 96,
    "start_time": "2022-08-16T09:43:13.893Z"
   },
   {
    "duration": 17,
    "start_time": "2022-08-16T09:43:13.990Z"
   },
   {
    "duration": 21,
    "start_time": "2022-08-16T09:43:14.009Z"
   },
   {
    "duration": 400,
    "start_time": "2022-08-16T09:43:14.033Z"
   },
   {
    "duration": 111,
    "start_time": "2022-08-16T09:43:14.435Z"
   },
   {
    "duration": 166,
    "start_time": "2022-08-16T09:43:14.547Z"
   },
   {
    "duration": 108,
    "start_time": "2022-08-16T09:43:14.716Z"
   },
   {
    "duration": 12,
    "start_time": "2022-08-16T09:43:14.825Z"
   },
   {
    "duration": 179,
    "start_time": "2022-08-16T09:43:14.839Z"
   },
   {
    "duration": 11,
    "start_time": "2022-08-16T09:43:15.020Z"
   },
   {
    "duration": 15,
    "start_time": "2022-08-16T09:43:15.033Z"
   },
   {
    "duration": 105,
    "start_time": "2022-08-16T09:43:15.050Z"
   },
   {
    "duration": 29,
    "start_time": "2022-08-16T09:43:15.157Z"
   },
   {
    "duration": 10,
    "start_time": "2022-08-16T09:43:15.188Z"
   },
   {
    "duration": 50,
    "start_time": "2022-08-16T09:43:15.199Z"
   },
   {
    "duration": 2808,
    "start_time": "2022-08-16T09:43:15.250Z"
   },
   {
    "duration": 102,
    "start_time": "2022-08-16T09:43:18.060Z"
   },
   {
    "duration": 90,
    "start_time": "2022-08-16T09:43:18.165Z"
   },
   {
    "duration": 27,
    "start_time": "2022-08-16T09:43:18.257Z"
   },
   {
    "duration": 18,
    "start_time": "2022-08-16T09:43:18.286Z"
   },
   {
    "duration": 15,
    "start_time": "2022-08-16T09:43:18.307Z"
   },
   {
    "duration": 116,
    "start_time": "2022-08-16T09:43:18.325Z"
   },
   {
    "duration": 12,
    "start_time": "2022-08-16T09:43:18.444Z"
   },
   {
    "duration": 268,
    "start_time": "2022-08-16T09:43:18.458Z"
   },
   {
    "duration": 314,
    "start_time": "2022-08-16T09:43:18.728Z"
   },
   {
    "duration": 10,
    "start_time": "2022-08-16T09:43:19.045Z"
   },
   {
    "duration": 14,
    "start_time": "2022-08-16T09:43:19.057Z"
   },
   {
    "duration": 61,
    "start_time": "2022-08-16T09:43:19.075Z"
   },
   {
    "duration": 20,
    "start_time": "2022-08-16T09:43:19.138Z"
   },
   {
    "duration": 20,
    "start_time": "2022-08-16T09:43:19.161Z"
   },
   {
    "duration": 40,
    "start_time": "2022-08-16T09:43:19.183Z"
   },
   {
    "duration": 2229,
    "start_time": "2022-08-16T09:43:19.225Z"
   },
   {
    "duration": 267,
    "start_time": "2022-08-16T09:43:21.456Z"
   },
   {
    "duration": 12,
    "start_time": "2022-08-16T09:43:21.731Z"
   },
   {
    "duration": 19,
    "start_time": "2022-08-16T09:43:21.744Z"
   },
   {
    "duration": 88,
    "start_time": "2022-08-16T09:43:21.765Z"
   },
   {
    "duration": 15,
    "start_time": "2022-08-16T09:43:21.855Z"
   },
   {
    "duration": 33,
    "start_time": "2022-08-16T09:43:21.872Z"
   },
   {
    "duration": 6,
    "start_time": "2022-08-16T09:43:21.907Z"
   },
   {
    "duration": 31,
    "start_time": "2022-08-16T09:43:21.915Z"
   },
   {
    "duration": 11,
    "start_time": "2022-08-16T09:43:21.949Z"
   },
   {
    "duration": 4,
    "start_time": "2022-08-16T09:43:21.963Z"
   },
   {
    "duration": 32,
    "start_time": "2022-08-16T09:43:21.969Z"
   },
   {
    "duration": 33,
    "start_time": "2022-08-16T09:43:22.003Z"
   },
   {
    "duration": 37,
    "start_time": "2022-08-16T09:43:22.038Z"
   },
   {
    "duration": 36,
    "start_time": "2022-08-16T09:43:22.077Z"
   },
   {
    "duration": 4,
    "start_time": "2022-08-16T09:43:22.116Z"
   },
   {
    "duration": 47,
    "start_time": "2022-08-16T09:43:22.121Z"
   },
   {
    "duration": 37,
    "start_time": "2022-08-16T09:43:22.170Z"
   },
   {
    "duration": 26,
    "start_time": "2022-08-16T09:43:22.208Z"
   },
   {
    "duration": 25,
    "start_time": "2022-08-16T09:43:22.236Z"
   },
   {
    "duration": 10,
    "start_time": "2022-08-16T09:43:22.263Z"
   },
   {
    "duration": 42,
    "start_time": "2022-08-16T09:43:22.275Z"
   },
   {
    "duration": 138,
    "start_time": "2022-08-16T09:43:22.319Z"
   },
   {
    "duration": 8,
    "start_time": "2022-08-16T09:43:22.459Z"
   },
   {
    "duration": 34,
    "start_time": "2022-08-16T09:43:22.471Z"
   },
   {
    "duration": 18,
    "start_time": "2022-08-16T09:43:22.508Z"
   },
   {
    "duration": 35,
    "start_time": "2022-08-16T09:43:22.528Z"
   },
   {
    "duration": 10,
    "start_time": "2022-08-16T09:43:22.565Z"
   },
   {
    "duration": 29,
    "start_time": "2022-08-16T09:43:22.577Z"
   },
   {
    "duration": 9,
    "start_time": "2022-08-16T09:43:22.608Z"
   },
   {
    "duration": 28,
    "start_time": "2022-08-16T09:43:22.619Z"
   },
   {
    "duration": 27,
    "start_time": "2022-08-16T09:43:22.649Z"
   },
   {
    "duration": 18,
    "start_time": "2022-08-16T09:43:22.678Z"
   },
   {
    "duration": 48,
    "start_time": "2022-08-16T09:43:22.712Z"
   },
   {
    "duration": 130,
    "start_time": "2022-08-16T09:43:22.762Z"
   },
   {
    "duration": 12,
    "start_time": "2022-08-16T09:43:22.894Z"
   },
   {
    "duration": 135,
    "start_time": "2022-08-16T09:43:22.908Z"
   },
   {
    "duration": 5,
    "start_time": "2022-08-16T09:43:23.045Z"
   },
   {
    "duration": 36,
    "start_time": "2022-08-16T09:43:23.052Z"
   },
   {
    "duration": 9,
    "start_time": "2022-08-16T09:43:23.090Z"
   },
   {
    "duration": 13,
    "start_time": "2022-08-16T09:43:23.106Z"
   },
   {
    "duration": 18,
    "start_time": "2022-08-16T09:43:23.121Z"
   },
   {
    "duration": 16,
    "start_time": "2022-08-16T09:43:23.141Z"
   },
   {
    "duration": 18,
    "start_time": "2022-08-16T09:43:23.159Z"
   },
   {
    "duration": 35,
    "start_time": "2022-08-16T09:43:23.179Z"
   },
   {
    "duration": 10,
    "start_time": "2022-08-16T09:43:23.216Z"
   },
   {
    "duration": 24,
    "start_time": "2022-08-16T09:43:23.228Z"
   },
   {
    "duration": 10,
    "start_time": "2022-08-16T09:43:23.254Z"
   },
   {
    "duration": 129,
    "start_time": "2022-08-16T09:43:23.266Z"
   },
   {
    "duration": 10,
    "start_time": "2022-08-16T09:43:23.397Z"
   },
   {
    "duration": 139,
    "start_time": "2022-08-16T09:43:23.409Z"
   },
   {
    "duration": 133,
    "start_time": "2022-08-16T09:43:23.550Z"
   },
   {
    "duration": 5,
    "start_time": "2022-08-16T09:43:23.684Z"
   },
   {
    "duration": 123,
    "start_time": "2022-08-16T09:43:23.690Z"
   },
   {
    "duration": 4,
    "start_time": "2022-08-16T09:43:23.815Z"
   },
   {
    "duration": 117,
    "start_time": "2022-08-16T09:43:23.821Z"
   },
   {
    "duration": 129,
    "start_time": "2022-08-16T09:43:23.940Z"
   },
   {
    "duration": 91,
    "start_time": "2022-08-16T09:43:24.071Z"
   },
   {
    "duration": 0,
    "start_time": "2022-08-16T09:43:24.163Z"
   },
   {
    "duration": 0,
    "start_time": "2022-08-16T09:43:24.165Z"
   },
   {
    "duration": 0,
    "start_time": "2022-08-16T09:43:24.166Z"
   },
   {
    "duration": 0,
    "start_time": "2022-08-16T09:43:24.167Z"
   },
   {
    "duration": 0,
    "start_time": "2022-08-16T09:43:24.169Z"
   },
   {
    "duration": 0,
    "start_time": "2022-08-16T09:43:24.171Z"
   },
   {
    "duration": 0,
    "start_time": "2022-08-16T09:43:24.172Z"
   },
   {
    "duration": 0,
    "start_time": "2022-08-16T09:43:24.173Z"
   },
   {
    "duration": 0,
    "start_time": "2022-08-16T09:43:24.174Z"
   },
   {
    "duration": 0,
    "start_time": "2022-08-16T09:43:24.174Z"
   },
   {
    "duration": 0,
    "start_time": "2022-08-16T09:43:24.176Z"
   },
   {
    "duration": 0,
    "start_time": "2022-08-16T09:43:24.177Z"
   },
   {
    "duration": 0,
    "start_time": "2022-08-16T09:43:24.178Z"
   },
   {
    "duration": 0,
    "start_time": "2022-08-16T09:43:24.179Z"
   },
   {
    "duration": 0,
    "start_time": "2022-08-16T09:43:24.181Z"
   },
   {
    "duration": 0,
    "start_time": "2022-08-16T09:43:24.182Z"
   },
   {
    "duration": 0,
    "start_time": "2022-08-16T09:43:24.184Z"
   },
   {
    "duration": 0,
    "start_time": "2022-08-16T09:43:24.185Z"
   },
   {
    "duration": 0,
    "start_time": "2022-08-16T09:43:24.186Z"
   },
   {
    "duration": 0,
    "start_time": "2022-08-16T09:43:24.188Z"
   },
   {
    "duration": 0,
    "start_time": "2022-08-16T09:43:24.189Z"
   },
   {
    "duration": 0,
    "start_time": "2022-08-16T09:43:24.190Z"
   },
   {
    "duration": 0,
    "start_time": "2022-08-16T09:43:24.191Z"
   },
   {
    "duration": 0,
    "start_time": "2022-08-16T09:43:24.193Z"
   },
   {
    "duration": 0,
    "start_time": "2022-08-16T09:43:24.194Z"
   },
   {
    "duration": 0,
    "start_time": "2022-08-16T09:43:24.195Z"
   },
   {
    "duration": 0,
    "start_time": "2022-08-16T09:43:24.196Z"
   },
   {
    "duration": 0,
    "start_time": "2022-08-16T09:43:24.198Z"
   },
   {
    "duration": 0,
    "start_time": "2022-08-16T09:43:24.199Z"
   },
   {
    "duration": 0,
    "start_time": "2022-08-16T09:43:24.205Z"
   },
   {
    "duration": 0,
    "start_time": "2022-08-16T09:43:24.206Z"
   },
   {
    "duration": 0,
    "start_time": "2022-08-16T09:43:24.207Z"
   },
   {
    "duration": 0,
    "start_time": "2022-08-16T09:43:24.208Z"
   },
   {
    "duration": 13,
    "start_time": "2022-08-16T09:44:38.173Z"
   },
   {
    "duration": 100,
    "start_time": "2022-08-16T09:46:43.445Z"
   },
   {
    "duration": 5,
    "start_time": "2022-08-16T09:48:32.340Z"
   },
   {
    "duration": 86,
    "start_time": "2022-08-16T09:48:34.983Z"
   },
   {
    "duration": 82,
    "start_time": "2022-08-16T09:48:44.391Z"
   },
   {
    "duration": 86,
    "start_time": "2022-08-16T09:48:58.544Z"
   },
   {
    "duration": 11,
    "start_time": "2022-08-16T09:49:29.864Z"
   },
   {
    "duration": 3,
    "start_time": "2022-08-16T09:54:16.783Z"
   },
   {
    "duration": 2,
    "start_time": "2022-08-16T10:02:50.623Z"
   },
   {
    "duration": 2,
    "start_time": "2022-08-16T10:02:51.041Z"
   },
   {
    "duration": 17,
    "start_time": "2022-08-16T10:02:52.972Z"
   },
   {
    "duration": 18,
    "start_time": "2022-08-16T10:02:57.694Z"
   },
   {
    "duration": 14,
    "start_time": "2022-08-16T10:03:00.303Z"
   },
   {
    "duration": 14,
    "start_time": "2022-08-16T10:03:45.223Z"
   },
   {
    "duration": 201,
    "start_time": "2022-08-16T10:04:03.623Z"
   },
   {
    "duration": 15,
    "start_time": "2022-08-16T10:04:15.363Z"
   },
   {
    "duration": 12,
    "start_time": "2022-08-16T10:04:28.944Z"
   },
   {
    "duration": 18,
    "start_time": "2022-08-16T10:04:29.794Z"
   },
   {
    "duration": 1547,
    "start_time": "2022-08-16T10:04:35.419Z"
   },
   {
    "duration": 99,
    "start_time": "2022-08-16T10:04:36.968Z"
   },
   {
    "duration": 20,
    "start_time": "2022-08-16T10:04:37.069Z"
   },
   {
    "duration": 14,
    "start_time": "2022-08-16T10:04:37.091Z"
   },
   {
    "duration": 19,
    "start_time": "2022-08-16T10:04:37.108Z"
   },
   {
    "duration": 330,
    "start_time": "2022-08-16T10:04:37.128Z"
   },
   {
    "duration": 141,
    "start_time": "2022-08-16T10:04:37.460Z"
   },
   {
    "duration": 111,
    "start_time": "2022-08-16T10:04:37.602Z"
   },
   {
    "duration": 14,
    "start_time": "2022-08-16T10:04:37.715Z"
   },
   {
    "duration": 22,
    "start_time": "2022-08-16T10:04:37.731Z"
   },
   {
    "duration": 355,
    "start_time": "2022-08-16T10:04:37.755Z"
   },
   {
    "duration": 95,
    "start_time": "2022-08-16T10:04:38.112Z"
   },
   {
    "duration": 157,
    "start_time": "2022-08-16T10:04:38.209Z"
   },
   {
    "duration": 96,
    "start_time": "2022-08-16T10:04:38.369Z"
   },
   {
    "duration": 12,
    "start_time": "2022-08-16T10:04:38.466Z"
   },
   {
    "duration": 172,
    "start_time": "2022-08-16T10:04:38.480Z"
   },
   {
    "duration": 9,
    "start_time": "2022-08-16T10:04:38.654Z"
   },
   {
    "duration": 10,
    "start_time": "2022-08-16T10:04:38.664Z"
   },
   {
    "duration": 77,
    "start_time": "2022-08-16T10:04:38.675Z"
   },
   {
    "duration": 22,
    "start_time": "2022-08-16T10:04:38.755Z"
   },
   {
    "duration": 13,
    "start_time": "2022-08-16T10:04:38.779Z"
   },
   {
    "duration": 54,
    "start_time": "2022-08-16T10:04:38.794Z"
   },
   {
    "duration": 2552,
    "start_time": "2022-08-16T10:04:38.850Z"
   },
   {
    "duration": 145,
    "start_time": "2022-08-16T10:04:41.407Z"
   },
   {
    "duration": 81,
    "start_time": "2022-08-16T10:04:41.554Z"
   },
   {
    "duration": 17,
    "start_time": "2022-08-16T10:04:41.637Z"
   },
   {
    "duration": 14,
    "start_time": "2022-08-16T10:04:41.655Z"
   },
   {
    "duration": 10,
    "start_time": "2022-08-16T10:04:41.671Z"
   },
   {
    "duration": 75,
    "start_time": "2022-08-16T10:04:41.683Z"
   },
   {
    "duration": 10,
    "start_time": "2022-08-16T10:04:41.759Z"
   },
   {
    "duration": 197,
    "start_time": "2022-08-16T10:04:41.770Z"
   },
   {
    "duration": 238,
    "start_time": "2022-08-16T10:04:41.968Z"
   },
   {
    "duration": 7,
    "start_time": "2022-08-16T10:04:42.208Z"
   },
   {
    "duration": 21,
    "start_time": "2022-08-16T10:04:42.217Z"
   },
   {
    "duration": 80,
    "start_time": "2022-08-16T10:04:42.239Z"
   },
   {
    "duration": 16,
    "start_time": "2022-08-16T10:04:42.320Z"
   },
   {
    "duration": 16,
    "start_time": "2022-08-16T10:04:42.337Z"
   },
   {
    "duration": 53,
    "start_time": "2022-08-16T10:04:42.355Z"
   },
   {
    "duration": 1678,
    "start_time": "2022-08-16T10:04:42.410Z"
   },
   {
    "duration": 269,
    "start_time": "2022-08-16T10:04:44.090Z"
   },
   {
    "duration": 10,
    "start_time": "2022-08-16T10:04:44.363Z"
   },
   {
    "duration": 13,
    "start_time": "2022-08-16T10:04:44.375Z"
   },
   {
    "duration": 81,
    "start_time": "2022-08-16T10:04:44.390Z"
   },
   {
    "duration": 14,
    "start_time": "2022-08-16T10:04:44.473Z"
   },
   {
    "duration": 12,
    "start_time": "2022-08-16T10:04:44.489Z"
   },
   {
    "duration": 3,
    "start_time": "2022-08-16T10:04:44.502Z"
   },
   {
    "duration": 10,
    "start_time": "2022-08-16T10:04:44.506Z"
   },
   {
    "duration": 12,
    "start_time": "2022-08-16T10:04:44.518Z"
   },
   {
    "duration": 6,
    "start_time": "2022-08-16T10:04:44.531Z"
   },
   {
    "duration": 22,
    "start_time": "2022-08-16T10:04:44.538Z"
   },
   {
    "duration": 10,
    "start_time": "2022-08-16T10:04:44.562Z"
   },
   {
    "duration": 17,
    "start_time": "2022-08-16T10:04:44.573Z"
   },
   {
    "duration": 21,
    "start_time": "2022-08-16T10:04:44.592Z"
   },
   {
    "duration": 4,
    "start_time": "2022-08-16T10:04:44.615Z"
   },
   {
    "duration": 26,
    "start_time": "2022-08-16T10:04:44.620Z"
   },
   {
    "duration": 11,
    "start_time": "2022-08-16T10:04:44.647Z"
   },
   {
    "duration": 17,
    "start_time": "2022-08-16T10:04:44.659Z"
   },
   {
    "duration": 42,
    "start_time": "2022-08-16T10:04:44.678Z"
   },
   {
    "duration": 7,
    "start_time": "2022-08-16T10:04:44.721Z"
   },
   {
    "duration": 16,
    "start_time": "2022-08-16T10:04:44.729Z"
   },
   {
    "duration": 92,
    "start_time": "2022-08-16T10:04:44.746Z"
   },
   {
    "duration": 9,
    "start_time": "2022-08-16T10:04:44.839Z"
   },
   {
    "duration": 13,
    "start_time": "2022-08-16T10:04:44.849Z"
   },
   {
    "duration": 10,
    "start_time": "2022-08-16T10:04:44.864Z"
   },
   {
    "duration": 36,
    "start_time": "2022-08-16T10:04:44.876Z"
   },
   {
    "duration": 3,
    "start_time": "2022-08-16T10:04:44.913Z"
   },
   {
    "duration": 13,
    "start_time": "2022-08-16T10:04:44.917Z"
   },
   {
    "duration": 8,
    "start_time": "2022-08-16T10:04:44.932Z"
   },
   {
    "duration": 13,
    "start_time": "2022-08-16T10:04:44.941Z"
   },
   {
    "duration": 17,
    "start_time": "2022-08-16T10:04:44.956Z"
   },
   {
    "duration": 50,
    "start_time": "2022-08-16T10:04:44.974Z"
   },
   {
    "duration": 12,
    "start_time": "2022-08-16T10:04:45.026Z"
   },
   {
    "duration": 13,
    "start_time": "2022-08-16T10:04:45.040Z"
   },
   {
    "duration": 104,
    "start_time": "2022-08-16T10:04:45.055Z"
   },
   {
    "duration": 7,
    "start_time": "2022-08-16T10:04:45.161Z"
   },
   {
    "duration": 109,
    "start_time": "2022-08-16T10:04:45.171Z"
   },
   {
    "duration": 4,
    "start_time": "2022-08-16T10:04:45.281Z"
   },
   {
    "duration": 35,
    "start_time": "2022-08-16T10:04:45.287Z"
   },
   {
    "duration": 9,
    "start_time": "2022-08-16T10:04:45.323Z"
   },
   {
    "duration": 6,
    "start_time": "2022-08-16T10:04:45.334Z"
   },
   {
    "duration": 13,
    "start_time": "2022-08-16T10:04:45.342Z"
   },
   {
    "duration": 5,
    "start_time": "2022-08-16T10:04:45.356Z"
   },
   {
    "duration": 44,
    "start_time": "2022-08-16T10:04:45.363Z"
   },
   {
    "duration": 23,
    "start_time": "2022-08-16T10:04:45.409Z"
   },
   {
    "duration": 5,
    "start_time": "2022-08-16T10:04:45.434Z"
   },
   {
    "duration": 8,
    "start_time": "2022-08-16T10:04:45.441Z"
   },
   {
    "duration": 5,
    "start_time": "2022-08-16T10:04:45.451Z"
   },
   {
    "duration": 121,
    "start_time": "2022-08-16T10:04:45.458Z"
   },
   {
    "duration": 3,
    "start_time": "2022-08-16T10:04:45.581Z"
   },
   {
    "duration": 4,
    "start_time": "2022-08-16T10:04:45.586Z"
   },
   {
    "duration": 86,
    "start_time": "2022-08-16T10:04:45.605Z"
   },
   {
    "duration": 15,
    "start_time": "2022-08-16T10:04:45.693Z"
   },
   {
    "duration": 17,
    "start_time": "2022-08-16T10:04:45.710Z"
   },
   {
    "duration": 12,
    "start_time": "2022-08-16T10:04:45.729Z"
   },
   {
    "duration": 17,
    "start_time": "2022-08-16T10:04:45.743Z"
   },
   {
    "duration": 109,
    "start_time": "2022-08-16T10:04:45.762Z"
   },
   {
    "duration": 6,
    "start_time": "2022-08-16T10:04:45.873Z"
   },
   {
    "duration": 89,
    "start_time": "2022-08-16T10:04:45.881Z"
   },
   {
    "duration": 3,
    "start_time": "2022-08-16T10:04:45.971Z"
   },
   {
    "duration": 8,
    "start_time": "2022-08-16T10:04:45.975Z"
   },
   {
    "duration": 9,
    "start_time": "2022-08-16T10:04:45.985Z"
   },
   {
    "duration": 23,
    "start_time": "2022-08-16T10:04:45.995Z"
   },
   {
    "duration": 8,
    "start_time": "2022-08-16T10:04:46.020Z"
   },
   {
    "duration": 40,
    "start_time": "2022-08-16T10:04:46.030Z"
   },
   {
    "duration": 38,
    "start_time": "2022-08-16T10:04:46.072Z"
   },
   {
    "duration": 7,
    "start_time": "2022-08-16T10:04:46.112Z"
   },
   {
    "duration": 9,
    "start_time": "2022-08-16T10:04:46.121Z"
   },
   {
    "duration": 23,
    "start_time": "2022-08-16T10:04:46.132Z"
   },
   {
    "duration": 19,
    "start_time": "2022-08-16T10:04:46.158Z"
   },
   {
    "duration": 24,
    "start_time": "2022-08-16T10:04:46.180Z"
   },
   {
    "duration": 41,
    "start_time": "2022-08-16T10:04:46.206Z"
   },
   {
    "duration": 17,
    "start_time": "2022-08-16T10:04:46.249Z"
   },
   {
    "duration": 295,
    "start_time": "2022-08-16T10:04:46.269Z"
   },
   {
    "duration": 3,
    "start_time": "2022-08-16T10:04:46.565Z"
   },
   {
    "duration": 100,
    "start_time": "2022-08-16T10:04:46.569Z"
   },
   {
    "duration": 12,
    "start_time": "2022-08-16T10:04:46.671Z"
   },
   {
    "duration": 0,
    "start_time": "2022-08-16T10:04:46.685Z"
   },
   {
    "duration": 0,
    "start_time": "2022-08-16T10:04:46.686Z"
   },
   {
    "duration": 0,
    "start_time": "2022-08-16T10:04:46.687Z"
   },
   {
    "duration": 0,
    "start_time": "2022-08-16T10:04:46.689Z"
   },
   {
    "duration": 0,
    "start_time": "2022-08-16T10:04:46.690Z"
   },
   {
    "duration": 0,
    "start_time": "2022-08-16T10:04:46.690Z"
   },
   {
    "duration": 0,
    "start_time": "2022-08-16T10:04:46.693Z"
   },
   {
    "duration": 0,
    "start_time": "2022-08-16T10:04:46.694Z"
   },
   {
    "duration": 0,
    "start_time": "2022-08-16T10:04:46.695Z"
   },
   {
    "duration": 1,
    "start_time": "2022-08-16T10:04:46.695Z"
   },
   {
    "duration": 0,
    "start_time": "2022-08-16T10:04:46.696Z"
   },
   {
    "duration": 0,
    "start_time": "2022-08-16T10:04:46.697Z"
   },
   {
    "duration": 0,
    "start_time": "2022-08-16T10:04:46.698Z"
   },
   {
    "duration": 0,
    "start_time": "2022-08-16T10:04:46.699Z"
   },
   {
    "duration": 0,
    "start_time": "2022-08-16T10:04:46.700Z"
   },
   {
    "duration": 122,
    "start_time": "2022-08-16T10:06:39.772Z"
   },
   {
    "duration": 3,
    "start_time": "2022-08-16T10:06:47.217Z"
   },
   {
    "duration": 14,
    "start_time": "2022-08-16T10:06:50.399Z"
   },
   {
    "duration": 6964,
    "start_time": "2022-08-16T10:07:11.035Z"
   },
   {
    "duration": 7451,
    "start_time": "2022-08-16T10:07:29.832Z"
   },
   {
    "duration": 41725,
    "start_time": "2022-08-16T10:07:48.211Z"
   },
   {
    "duration": 4,
    "start_time": "2022-08-16T10:10:00.351Z"
   },
   {
    "duration": 1336,
    "start_time": "2022-08-16T10:14:36.290Z"
   },
   {
    "duration": 146,
    "start_time": "2022-08-16T10:14:37.628Z"
   },
   {
    "duration": 15,
    "start_time": "2022-08-16T10:14:37.775Z"
   },
   {
    "duration": 9,
    "start_time": "2022-08-16T10:14:37.792Z"
   },
   {
    "duration": 13,
    "start_time": "2022-08-16T10:14:37.803Z"
   },
   {
    "duration": 230,
    "start_time": "2022-08-16T10:14:37.817Z"
   },
   {
    "duration": 125,
    "start_time": "2022-08-16T10:14:38.049Z"
   },
   {
    "duration": 99,
    "start_time": "2022-08-16T10:14:38.175Z"
   },
   {
    "duration": 12,
    "start_time": "2022-08-16T10:14:38.276Z"
   },
   {
    "duration": 20,
    "start_time": "2022-08-16T10:14:38.290Z"
   },
   {
    "duration": 331,
    "start_time": "2022-08-16T10:14:38.311Z"
   },
   {
    "duration": 101,
    "start_time": "2022-08-16T10:14:38.644Z"
   },
   {
    "duration": 151,
    "start_time": "2022-08-16T10:14:38.746Z"
   },
   {
    "duration": 84,
    "start_time": "2022-08-16T10:14:38.905Z"
   },
   {
    "duration": 22,
    "start_time": "2022-08-16T10:14:38.991Z"
   },
   {
    "duration": 158,
    "start_time": "2022-08-16T10:14:39.014Z"
   },
   {
    "duration": 8,
    "start_time": "2022-08-16T10:14:39.174Z"
   },
   {
    "duration": 22,
    "start_time": "2022-08-16T10:14:39.184Z"
   },
   {
    "duration": 112,
    "start_time": "2022-08-16T10:14:39.208Z"
   },
   {
    "duration": 19,
    "start_time": "2022-08-16T10:14:39.322Z"
   },
   {
    "duration": 13,
    "start_time": "2022-08-16T10:14:39.342Z"
   },
   {
    "duration": 51,
    "start_time": "2022-08-16T10:14:39.356Z"
   },
   {
    "duration": 2593,
    "start_time": "2022-08-16T10:14:39.408Z"
   },
   {
    "duration": 84,
    "start_time": "2022-08-16T10:14:42.005Z"
   },
   {
    "duration": 99,
    "start_time": "2022-08-16T10:14:42.090Z"
   },
   {
    "duration": 21,
    "start_time": "2022-08-16T10:14:42.191Z"
   },
   {
    "duration": 12,
    "start_time": "2022-08-16T10:14:42.214Z"
   },
   {
    "duration": 17,
    "start_time": "2022-08-16T10:14:42.227Z"
   },
   {
    "duration": 78,
    "start_time": "2022-08-16T10:14:42.245Z"
   },
   {
    "duration": 9,
    "start_time": "2022-08-16T10:14:42.324Z"
   },
   {
    "duration": 219,
    "start_time": "2022-08-16T10:14:42.335Z"
   },
   {
    "duration": 217,
    "start_time": "2022-08-16T10:14:42.556Z"
   },
   {
    "duration": 8,
    "start_time": "2022-08-16T10:14:42.774Z"
   },
   {
    "duration": 24,
    "start_time": "2022-08-16T10:14:42.783Z"
   },
   {
    "duration": 70,
    "start_time": "2022-08-16T10:14:42.809Z"
   },
   {
    "duration": 16,
    "start_time": "2022-08-16T10:14:42.881Z"
   },
   {
    "duration": 16,
    "start_time": "2022-08-16T10:14:42.899Z"
   },
   {
    "duration": 42,
    "start_time": "2022-08-16T10:14:42.917Z"
   },
   {
    "duration": 1665,
    "start_time": "2022-08-16T10:14:42.961Z"
   },
   {
    "duration": 232,
    "start_time": "2022-08-16T10:14:44.628Z"
   },
   {
    "duration": 12,
    "start_time": "2022-08-16T10:14:44.868Z"
   },
   {
    "duration": 28,
    "start_time": "2022-08-16T10:14:44.882Z"
   },
   {
    "duration": 87,
    "start_time": "2022-08-16T10:14:44.912Z"
   },
   {
    "duration": 13,
    "start_time": "2022-08-16T10:14:45.001Z"
   },
   {
    "duration": 21,
    "start_time": "2022-08-16T10:14:45.016Z"
   },
   {
    "duration": 7,
    "start_time": "2022-08-16T10:14:45.039Z"
   },
   {
    "duration": 11,
    "start_time": "2022-08-16T10:14:45.048Z"
   },
   {
    "duration": 6,
    "start_time": "2022-08-16T10:14:45.060Z"
   },
   {
    "duration": 7,
    "start_time": "2022-08-16T10:14:45.068Z"
   },
   {
    "duration": 17,
    "start_time": "2022-08-16T10:14:45.077Z"
   },
   {
    "duration": 11,
    "start_time": "2022-08-16T10:14:45.095Z"
   },
   {
    "duration": 13,
    "start_time": "2022-08-16T10:14:45.107Z"
   },
   {
    "duration": 11,
    "start_time": "2022-08-16T10:14:45.122Z"
   },
   {
    "duration": 6,
    "start_time": "2022-08-16T10:14:45.134Z"
   },
   {
    "duration": 17,
    "start_time": "2022-08-16T10:14:45.141Z"
   },
   {
    "duration": 12,
    "start_time": "2022-08-16T10:14:45.159Z"
   },
   {
    "duration": 38,
    "start_time": "2022-08-16T10:14:45.172Z"
   },
   {
    "duration": 12,
    "start_time": "2022-08-16T10:14:45.212Z"
   },
   {
    "duration": 7,
    "start_time": "2022-08-16T10:14:45.226Z"
   },
   {
    "duration": 14,
    "start_time": "2022-08-16T10:14:45.235Z"
   },
   {
    "duration": 96,
    "start_time": "2022-08-16T10:14:45.250Z"
   },
   {
    "duration": 9,
    "start_time": "2022-08-16T10:14:45.347Z"
   },
   {
    "duration": 11,
    "start_time": "2022-08-16T10:14:45.358Z"
   },
   {
    "duration": 13,
    "start_time": "2022-08-16T10:14:45.370Z"
   },
   {
    "duration": 33,
    "start_time": "2022-08-16T10:14:45.384Z"
   },
   {
    "duration": 8,
    "start_time": "2022-08-16T10:14:45.418Z"
   },
   {
    "duration": 14,
    "start_time": "2022-08-16T10:14:45.427Z"
   },
   {
    "duration": 4,
    "start_time": "2022-08-16T10:14:45.442Z"
   },
   {
    "duration": 13,
    "start_time": "2022-08-16T10:14:45.448Z"
   },
   {
    "duration": 18,
    "start_time": "2022-08-16T10:14:45.462Z"
   },
   {
    "duration": 41,
    "start_time": "2022-08-16T10:14:45.482Z"
   },
   {
    "duration": 11,
    "start_time": "2022-08-16T10:14:45.525Z"
   },
   {
    "duration": 12,
    "start_time": "2022-08-16T10:14:45.537Z"
   },
   {
    "duration": 106,
    "start_time": "2022-08-16T10:14:45.551Z"
   },
   {
    "duration": 4,
    "start_time": "2022-08-16T10:14:45.658Z"
   },
   {
    "duration": 99,
    "start_time": "2022-08-16T10:14:45.664Z"
   },
   {
    "duration": 5,
    "start_time": "2022-08-16T10:14:45.764Z"
   },
   {
    "duration": 20,
    "start_time": "2022-08-16T10:14:45.770Z"
   },
   {
    "duration": 8,
    "start_time": "2022-08-16T10:14:45.805Z"
   },
   {
    "duration": 7,
    "start_time": "2022-08-16T10:14:45.815Z"
   },
   {
    "duration": 12,
    "start_time": "2022-08-16T10:14:45.823Z"
   },
   {
    "duration": 4,
    "start_time": "2022-08-16T10:14:45.836Z"
   },
   {
    "duration": 13,
    "start_time": "2022-08-16T10:14:45.842Z"
   },
   {
    "duration": 16,
    "start_time": "2022-08-16T10:14:45.857Z"
   },
   {
    "duration": 36,
    "start_time": "2022-08-16T10:14:45.874Z"
   },
   {
    "duration": 10,
    "start_time": "2022-08-16T10:14:45.911Z"
   },
   {
    "duration": 9,
    "start_time": "2022-08-16T10:14:45.922Z"
   },
   {
    "duration": 97,
    "start_time": "2022-08-16T10:14:45.933Z"
   },
   {
    "duration": 4,
    "start_time": "2022-08-16T10:14:46.032Z"
   },
   {
    "duration": 20,
    "start_time": "2022-08-16T10:14:46.038Z"
   },
   {
    "duration": 133,
    "start_time": "2022-08-16T10:14:46.060Z"
   },
   {
    "duration": 15,
    "start_time": "2022-08-16T10:14:46.196Z"
   },
   {
    "duration": 10,
    "start_time": "2022-08-16T10:14:46.213Z"
   },
   {
    "duration": 7,
    "start_time": "2022-08-16T10:14:46.225Z"
   },
   {
    "duration": 16,
    "start_time": "2022-08-16T10:14:46.233Z"
   },
   {
    "duration": 128,
    "start_time": "2022-08-16T10:14:46.250Z"
   },
   {
    "duration": 4,
    "start_time": "2022-08-16T10:14:46.380Z"
   },
   {
    "duration": 83,
    "start_time": "2022-08-16T10:14:46.386Z"
   },
   {
    "duration": 2,
    "start_time": "2022-08-16T10:14:46.471Z"
   },
   {
    "duration": 7,
    "start_time": "2022-08-16T10:14:46.475Z"
   },
   {
    "duration": 6,
    "start_time": "2022-08-16T10:14:46.484Z"
   },
   {
    "duration": 14,
    "start_time": "2022-08-16T10:14:46.492Z"
   },
   {
    "duration": 10,
    "start_time": "2022-08-16T10:14:46.508Z"
   },
   {
    "duration": 16,
    "start_time": "2022-08-16T10:14:46.519Z"
   },
   {
    "duration": 3,
    "start_time": "2022-08-16T10:14:46.537Z"
   },
   {
    "duration": 18,
    "start_time": "2022-08-16T10:14:46.542Z"
   },
   {
    "duration": 9,
    "start_time": "2022-08-16T10:14:46.561Z"
   },
   {
    "duration": 22,
    "start_time": "2022-08-16T10:14:46.572Z"
   },
   {
    "duration": 16,
    "start_time": "2022-08-16T10:14:46.596Z"
   },
   {
    "duration": 117,
    "start_time": "2022-08-16T10:14:46.613Z"
   },
   {
    "duration": 0,
    "start_time": "2022-08-16T10:14:46.732Z"
   },
   {
    "duration": 0,
    "start_time": "2022-08-16T10:14:46.734Z"
   },
   {
    "duration": 0,
    "start_time": "2022-08-16T10:14:46.735Z"
   },
   {
    "duration": 0,
    "start_time": "2022-08-16T10:14:46.736Z"
   },
   {
    "duration": 0,
    "start_time": "2022-08-16T10:14:46.738Z"
   },
   {
    "duration": 0,
    "start_time": "2022-08-16T10:14:46.739Z"
   },
   {
    "duration": 0,
    "start_time": "2022-08-16T10:14:46.740Z"
   },
   {
    "duration": 0,
    "start_time": "2022-08-16T10:14:46.741Z"
   },
   {
    "duration": 0,
    "start_time": "2022-08-16T10:14:46.743Z"
   },
   {
    "duration": 0,
    "start_time": "2022-08-16T10:14:46.744Z"
   },
   {
    "duration": 0,
    "start_time": "2022-08-16T10:14:46.745Z"
   },
   {
    "duration": 0,
    "start_time": "2022-08-16T10:14:46.746Z"
   },
   {
    "duration": 0,
    "start_time": "2022-08-16T10:14:46.747Z"
   },
   {
    "duration": 0,
    "start_time": "2022-08-16T10:14:46.748Z"
   },
   {
    "duration": 0,
    "start_time": "2022-08-16T10:14:46.749Z"
   },
   {
    "duration": 0,
    "start_time": "2022-08-16T10:14:46.750Z"
   },
   {
    "duration": 0,
    "start_time": "2022-08-16T10:14:46.751Z"
   },
   {
    "duration": 0,
    "start_time": "2022-08-16T10:14:46.752Z"
   },
   {
    "duration": 0,
    "start_time": "2022-08-16T10:14:46.753Z"
   },
   {
    "duration": 0,
    "start_time": "2022-08-16T10:14:46.754Z"
   },
   {
    "duration": 0,
    "start_time": "2022-08-16T10:14:46.756Z"
   },
   {
    "duration": 0,
    "start_time": "2022-08-16T10:14:46.757Z"
   },
   {
    "duration": 0,
    "start_time": "2022-08-16T10:14:46.757Z"
   },
   {
    "duration": 1461,
    "start_time": "2022-08-16T10:18:39.817Z"
   },
   {
    "duration": 109,
    "start_time": "2022-08-16T10:18:41.281Z"
   },
   {
    "duration": 15,
    "start_time": "2022-08-16T10:18:41.392Z"
   },
   {
    "duration": 23,
    "start_time": "2022-08-16T10:18:41.409Z"
   },
   {
    "duration": 15,
    "start_time": "2022-08-16T10:18:41.435Z"
   },
   {
    "duration": 261,
    "start_time": "2022-08-16T10:18:41.452Z"
   },
   {
    "duration": 115,
    "start_time": "2022-08-16T10:18:41.720Z"
   },
   {
    "duration": 75,
    "start_time": "2022-08-16T10:18:41.836Z"
   },
   {
    "duration": 16,
    "start_time": "2022-08-16T10:18:41.915Z"
   },
   {
    "duration": 24,
    "start_time": "2022-08-16T10:18:41.933Z"
   },
   {
    "duration": 401,
    "start_time": "2022-08-16T10:18:41.959Z"
   },
   {
    "duration": 109,
    "start_time": "2022-08-16T10:18:42.361Z"
   },
   {
    "duration": 168,
    "start_time": "2022-08-16T10:18:42.471Z"
   },
   {
    "duration": 97,
    "start_time": "2022-08-16T10:18:42.641Z"
   },
   {
    "duration": 9,
    "start_time": "2022-08-16T10:18:42.740Z"
   },
   {
    "duration": 176,
    "start_time": "2022-08-16T10:18:42.751Z"
   },
   {
    "duration": 8,
    "start_time": "2022-08-16T10:18:42.928Z"
   },
   {
    "duration": 8,
    "start_time": "2022-08-16T10:18:42.938Z"
   },
   {
    "duration": 83,
    "start_time": "2022-08-16T10:18:42.948Z"
   },
   {
    "duration": 19,
    "start_time": "2022-08-16T10:18:43.033Z"
   },
   {
    "duration": 11,
    "start_time": "2022-08-16T10:18:43.054Z"
   },
   {
    "duration": 48,
    "start_time": "2022-08-16T10:18:43.067Z"
   },
   {
    "duration": 2475,
    "start_time": "2022-08-16T10:18:43.116Z"
   },
   {
    "duration": 91,
    "start_time": "2022-08-16T10:18:45.593Z"
   },
   {
    "duration": 81,
    "start_time": "2022-08-16T10:18:45.686Z"
   },
   {
    "duration": 17,
    "start_time": "2022-08-16T10:18:45.769Z"
   },
   {
    "duration": 13,
    "start_time": "2022-08-16T10:18:45.788Z"
   },
   {
    "duration": 11,
    "start_time": "2022-08-16T10:18:45.802Z"
   },
   {
    "duration": 85,
    "start_time": "2022-08-16T10:18:45.815Z"
   },
   {
    "duration": 10,
    "start_time": "2022-08-16T10:18:45.902Z"
   },
   {
    "duration": 283,
    "start_time": "2022-08-16T10:18:45.914Z"
   },
   {
    "duration": 253,
    "start_time": "2022-08-16T10:18:46.199Z"
   },
   {
    "duration": 8,
    "start_time": "2022-08-16T10:18:46.453Z"
   },
   {
    "duration": 14,
    "start_time": "2022-08-16T10:18:46.462Z"
   },
   {
    "duration": 87,
    "start_time": "2022-08-16T10:18:46.478Z"
   },
   {
    "duration": 15,
    "start_time": "2022-08-16T10:18:46.567Z"
   },
   {
    "duration": 17,
    "start_time": "2022-08-16T10:18:46.583Z"
   },
   {
    "duration": 42,
    "start_time": "2022-08-16T10:18:46.602Z"
   },
   {
    "duration": 1698,
    "start_time": "2022-08-16T10:18:46.646Z"
   },
   {
    "duration": 236,
    "start_time": "2022-08-16T10:18:48.346Z"
   },
   {
    "duration": 10,
    "start_time": "2022-08-16T10:18:48.587Z"
   },
   {
    "duration": 28,
    "start_time": "2022-08-16T10:18:48.598Z"
   },
   {
    "duration": 93,
    "start_time": "2022-08-16T10:18:48.627Z"
   },
   {
    "duration": 14,
    "start_time": "2022-08-16T10:18:48.722Z"
   },
   {
    "duration": 13,
    "start_time": "2022-08-16T10:18:48.738Z"
   },
   {
    "duration": 4,
    "start_time": "2022-08-16T10:18:48.752Z"
   },
   {
    "duration": 10,
    "start_time": "2022-08-16T10:18:48.757Z"
   },
   {
    "duration": 5,
    "start_time": "2022-08-16T10:18:48.769Z"
   },
   {
    "duration": 5,
    "start_time": "2022-08-16T10:18:48.775Z"
   },
   {
    "duration": 25,
    "start_time": "2022-08-16T10:18:48.782Z"
   },
   {
    "duration": 8,
    "start_time": "2022-08-16T10:18:48.809Z"
   },
   {
    "duration": 16,
    "start_time": "2022-08-16T10:18:48.820Z"
   },
   {
    "duration": 13,
    "start_time": "2022-08-16T10:18:48.838Z"
   },
   {
    "duration": 5,
    "start_time": "2022-08-16T10:18:48.852Z"
   },
   {
    "duration": 17,
    "start_time": "2022-08-16T10:18:48.858Z"
   },
   {
    "duration": 30,
    "start_time": "2022-08-16T10:18:48.877Z"
   },
   {
    "duration": 19,
    "start_time": "2022-08-16T10:18:48.908Z"
   },
   {
    "duration": 12,
    "start_time": "2022-08-16T10:18:48.928Z"
   },
   {
    "duration": 6,
    "start_time": "2022-08-16T10:18:48.941Z"
   },
   {
    "duration": 14,
    "start_time": "2022-08-16T10:18:48.949Z"
   },
   {
    "duration": 102,
    "start_time": "2022-08-16T10:18:48.964Z"
   },
   {
    "duration": 8,
    "start_time": "2022-08-16T10:18:49.067Z"
   },
   {
    "duration": 11,
    "start_time": "2022-08-16T10:18:49.076Z"
   },
   {
    "duration": 26,
    "start_time": "2022-08-16T10:18:49.089Z"
   },
   {
    "duration": 18,
    "start_time": "2022-08-16T10:18:49.117Z"
   },
   {
    "duration": 4,
    "start_time": "2022-08-16T10:18:49.136Z"
   },
   {
    "duration": 13,
    "start_time": "2022-08-16T10:18:49.142Z"
   },
   {
    "duration": 4,
    "start_time": "2022-08-16T10:18:49.156Z"
   },
   {
    "duration": 16,
    "start_time": "2022-08-16T10:18:49.161Z"
   },
   {
    "duration": 38,
    "start_time": "2022-08-16T10:18:49.178Z"
   },
   {
    "duration": 21,
    "start_time": "2022-08-16T10:18:49.218Z"
   },
   {
    "duration": 10,
    "start_time": "2022-08-16T10:18:49.240Z"
   },
   {
    "duration": 12,
    "start_time": "2022-08-16T10:18:49.252Z"
   },
   {
    "duration": 100,
    "start_time": "2022-08-16T10:18:49.266Z"
   },
   {
    "duration": 4,
    "start_time": "2022-08-16T10:18:49.367Z"
   },
   {
    "duration": 96,
    "start_time": "2022-08-16T10:18:49.373Z"
   },
   {
    "duration": 4,
    "start_time": "2022-08-16T10:18:49.470Z"
   },
   {
    "duration": 19,
    "start_time": "2022-08-16T10:18:49.476Z"
   },
   {
    "duration": 9,
    "start_time": "2022-08-16T10:18:49.506Z"
   },
   {
    "duration": 13,
    "start_time": "2022-08-16T10:18:49.517Z"
   },
   {
    "duration": 11,
    "start_time": "2022-08-16T10:18:49.534Z"
   },
   {
    "duration": 12,
    "start_time": "2022-08-16T10:18:49.546Z"
   },
   {
    "duration": 13,
    "start_time": "2022-08-16T10:18:49.559Z"
   },
   {
    "duration": 16,
    "start_time": "2022-08-16T10:18:49.573Z"
   },
   {
    "duration": 15,
    "start_time": "2022-08-16T10:18:49.590Z"
   },
   {
    "duration": 21,
    "start_time": "2022-08-16T10:18:49.607Z"
   },
   {
    "duration": 12,
    "start_time": "2022-08-16T10:18:49.630Z"
   },
   {
    "duration": 108,
    "start_time": "2022-08-16T10:18:49.644Z"
   },
   {
    "duration": 4,
    "start_time": "2022-08-16T10:18:49.753Z"
   },
   {
    "duration": 14,
    "start_time": "2022-08-16T10:18:49.758Z"
   },
   {
    "duration": 110,
    "start_time": "2022-08-16T10:18:49.773Z"
   },
   {
    "duration": 4,
    "start_time": "2022-08-16T10:18:49.884Z"
   },
   {
    "duration": 6,
    "start_time": "2022-08-16T10:18:49.889Z"
   },
   {
    "duration": 8,
    "start_time": "2022-08-16T10:18:49.906Z"
   },
   {
    "duration": 11,
    "start_time": "2022-08-16T10:18:49.916Z"
   },
   {
    "duration": 100,
    "start_time": "2022-08-16T10:18:49.928Z"
   },
   {
    "duration": 4,
    "start_time": "2022-08-16T10:18:50.030Z"
   },
   {
    "duration": 95,
    "start_time": "2022-08-16T10:18:50.035Z"
   },
   {
    "duration": 2,
    "start_time": "2022-08-16T10:18:50.131Z"
   },
   {
    "duration": 7,
    "start_time": "2022-08-16T10:18:50.135Z"
   },
   {
    "duration": 6,
    "start_time": "2022-08-16T10:18:50.143Z"
   },
   {
    "duration": 7,
    "start_time": "2022-08-16T10:18:50.150Z"
   },
   {
    "duration": 4,
    "start_time": "2022-08-16T10:18:50.158Z"
   },
   {
    "duration": 12,
    "start_time": "2022-08-16T10:18:50.164Z"
   },
   {
    "duration": 27,
    "start_time": "2022-08-16T10:18:50.178Z"
   },
   {
    "duration": 6,
    "start_time": "2022-08-16T10:18:50.207Z"
   },
   {
    "duration": 13,
    "start_time": "2022-08-16T10:18:50.214Z"
   },
   {
    "duration": 16,
    "start_time": "2022-08-16T10:18:50.228Z"
   },
   {
    "duration": 11,
    "start_time": "2022-08-16T10:18:50.245Z"
   },
   {
    "duration": 117,
    "start_time": "2022-08-16T10:18:50.258Z"
   },
   {
    "duration": 0,
    "start_time": "2022-08-16T10:18:50.377Z"
   },
   {
    "duration": 0,
    "start_time": "2022-08-16T10:18:50.378Z"
   },
   {
    "duration": 0,
    "start_time": "2022-08-16T10:18:50.379Z"
   },
   {
    "duration": 0,
    "start_time": "2022-08-16T10:18:50.380Z"
   },
   {
    "duration": 0,
    "start_time": "2022-08-16T10:18:50.381Z"
   },
   {
    "duration": 0,
    "start_time": "2022-08-16T10:18:50.382Z"
   },
   {
    "duration": 0,
    "start_time": "2022-08-16T10:18:50.383Z"
   },
   {
    "duration": 0,
    "start_time": "2022-08-16T10:18:50.384Z"
   },
   {
    "duration": 0,
    "start_time": "2022-08-16T10:18:50.386Z"
   },
   {
    "duration": 0,
    "start_time": "2022-08-16T10:18:50.387Z"
   },
   {
    "duration": 0,
    "start_time": "2022-08-16T10:18:50.387Z"
   },
   {
    "duration": 0,
    "start_time": "2022-08-16T10:18:50.388Z"
   },
   {
    "duration": 0,
    "start_time": "2022-08-16T10:18:50.406Z"
   },
   {
    "duration": 0,
    "start_time": "2022-08-16T10:18:50.408Z"
   },
   {
    "duration": 0,
    "start_time": "2022-08-16T10:18:50.409Z"
   },
   {
    "duration": 0,
    "start_time": "2022-08-16T10:18:50.411Z"
   },
   {
    "duration": 0,
    "start_time": "2022-08-16T10:18:50.413Z"
   },
   {
    "duration": 0,
    "start_time": "2022-08-16T10:18:50.414Z"
   },
   {
    "duration": 0,
    "start_time": "2022-08-16T10:18:50.415Z"
   },
   {
    "duration": 0,
    "start_time": "2022-08-16T10:18:50.417Z"
   },
   {
    "duration": 0,
    "start_time": "2022-08-16T10:18:50.418Z"
   },
   {
    "duration": 0,
    "start_time": "2022-08-16T10:18:50.419Z"
   },
   {
    "duration": 0,
    "start_time": "2022-08-16T10:18:50.420Z"
   },
   {
    "duration": 1422,
    "start_time": "2022-08-16T10:19:23.713Z"
   },
   {
    "duration": 92,
    "start_time": "2022-08-16T10:19:25.136Z"
   },
   {
    "duration": 14,
    "start_time": "2022-08-16T10:19:25.229Z"
   },
   {
    "duration": 19,
    "start_time": "2022-08-16T10:19:25.244Z"
   },
   {
    "duration": 17,
    "start_time": "2022-08-16T10:19:25.265Z"
   },
   {
    "duration": 255,
    "start_time": "2022-08-16T10:19:25.283Z"
   },
   {
    "duration": 126,
    "start_time": "2022-08-16T10:19:25.539Z"
   },
   {
    "duration": 80,
    "start_time": "2022-08-16T10:19:25.667Z"
   },
   {
    "duration": 11,
    "start_time": "2022-08-16T10:19:25.749Z"
   },
   {
    "duration": 27,
    "start_time": "2022-08-16T10:19:25.761Z"
   },
   {
    "duration": 403,
    "start_time": "2022-08-16T10:19:25.789Z"
   },
   {
    "duration": 129,
    "start_time": "2022-08-16T10:19:26.194Z"
   },
   {
    "duration": 193,
    "start_time": "2022-08-16T10:19:26.325Z"
   },
   {
    "duration": 108,
    "start_time": "2022-08-16T10:19:26.521Z"
   },
   {
    "duration": 11,
    "start_time": "2022-08-16T10:19:26.630Z"
   },
   {
    "duration": 184,
    "start_time": "2022-08-16T10:19:26.642Z"
   },
   {
    "duration": 8,
    "start_time": "2022-08-16T10:19:26.827Z"
   },
   {
    "duration": 9,
    "start_time": "2022-08-16T10:19:26.837Z"
   },
   {
    "duration": 84,
    "start_time": "2022-08-16T10:19:26.847Z"
   },
   {
    "duration": 22,
    "start_time": "2022-08-16T10:19:26.933Z"
   },
   {
    "duration": 14,
    "start_time": "2022-08-16T10:19:26.956Z"
   },
   {
    "duration": 58,
    "start_time": "2022-08-16T10:19:26.972Z"
   },
   {
    "duration": 2800,
    "start_time": "2022-08-16T10:19:27.032Z"
   },
   {
    "duration": 99,
    "start_time": "2022-08-16T10:19:29.834Z"
   },
   {
    "duration": 87,
    "start_time": "2022-08-16T10:19:29.935Z"
   },
   {
    "duration": 19,
    "start_time": "2022-08-16T10:19:30.023Z"
   },
   {
    "duration": 38,
    "start_time": "2022-08-16T10:19:30.044Z"
   },
   {
    "duration": 17,
    "start_time": "2022-08-16T10:19:30.083Z"
   },
   {
    "duration": 104,
    "start_time": "2022-08-16T10:19:30.102Z"
   },
   {
    "duration": 11,
    "start_time": "2022-08-16T10:19:30.208Z"
   },
   {
    "duration": 234,
    "start_time": "2022-08-16T10:19:30.221Z"
   },
   {
    "duration": 246,
    "start_time": "2022-08-16T10:19:30.457Z"
   },
   {
    "duration": 10,
    "start_time": "2022-08-16T10:19:30.705Z"
   },
   {
    "duration": 30,
    "start_time": "2022-08-16T10:19:30.717Z"
   },
   {
    "duration": 83,
    "start_time": "2022-08-16T10:19:30.749Z"
   },
   {
    "duration": 16,
    "start_time": "2022-08-16T10:19:30.834Z"
   },
   {
    "duration": 23,
    "start_time": "2022-08-16T10:19:30.852Z"
   },
   {
    "duration": 73,
    "start_time": "2022-08-16T10:19:30.877Z"
   },
   {
    "duration": 1894,
    "start_time": "2022-08-16T10:19:30.952Z"
   },
   {
    "duration": 261,
    "start_time": "2022-08-16T10:19:32.847Z"
   },
   {
    "duration": 12,
    "start_time": "2022-08-16T10:19:33.115Z"
   },
   {
    "duration": 18,
    "start_time": "2022-08-16T10:19:33.129Z"
   },
   {
    "duration": 91,
    "start_time": "2022-08-16T10:19:33.149Z"
   },
   {
    "duration": 14,
    "start_time": "2022-08-16T10:19:33.242Z"
   },
   {
    "duration": 40,
    "start_time": "2022-08-16T10:19:33.258Z"
   },
   {
    "duration": 31,
    "start_time": "2022-08-16T10:19:33.300Z"
   },
   {
    "duration": 36,
    "start_time": "2022-08-16T10:19:33.333Z"
   },
   {
    "duration": 11,
    "start_time": "2022-08-16T10:19:33.371Z"
   },
   {
    "duration": 44,
    "start_time": "2022-08-16T10:19:33.384Z"
   },
   {
    "duration": 26,
    "start_time": "2022-08-16T10:19:33.429Z"
   },
   {
    "duration": 13,
    "start_time": "2022-08-16T10:19:33.456Z"
   },
   {
    "duration": 32,
    "start_time": "2022-08-16T10:19:33.471Z"
   },
   {
    "duration": 30,
    "start_time": "2022-08-16T10:19:33.505Z"
   },
   {
    "duration": 18,
    "start_time": "2022-08-16T10:19:33.537Z"
   },
   {
    "duration": 37,
    "start_time": "2022-08-16T10:19:33.556Z"
   },
   {
    "duration": 38,
    "start_time": "2022-08-16T10:19:33.595Z"
   },
   {
    "duration": 32,
    "start_time": "2022-08-16T10:19:33.634Z"
   },
   {
    "duration": 21,
    "start_time": "2022-08-16T10:19:33.668Z"
   },
   {
    "duration": 35,
    "start_time": "2022-08-16T10:19:33.691Z"
   },
   {
    "duration": 32,
    "start_time": "2022-08-16T10:19:33.728Z"
   },
   {
    "duration": 108,
    "start_time": "2022-08-16T10:19:33.762Z"
   },
   {
    "duration": 9,
    "start_time": "2022-08-16T10:19:33.871Z"
   },
   {
    "duration": 43,
    "start_time": "2022-08-16T10:19:33.882Z"
   },
   {
    "duration": 38,
    "start_time": "2022-08-16T10:19:33.927Z"
   },
   {
    "duration": 58,
    "start_time": "2022-08-16T10:19:33.966Z"
   },
   {
    "duration": 25,
    "start_time": "2022-08-16T10:19:34.025Z"
   },
   {
    "duration": 49,
    "start_time": "2022-08-16T10:19:34.053Z"
   },
   {
    "duration": 43,
    "start_time": "2022-08-16T10:19:34.103Z"
   },
   {
    "duration": 27,
    "start_time": "2022-08-16T10:19:34.148Z"
   },
   {
    "duration": 63,
    "start_time": "2022-08-16T10:19:34.177Z"
   },
   {
    "duration": 28,
    "start_time": "2022-08-16T10:19:34.242Z"
   },
   {
    "duration": 39,
    "start_time": "2022-08-16T10:19:34.271Z"
   },
   {
    "duration": 19,
    "start_time": "2022-08-16T10:19:34.312Z"
   },
   {
    "duration": 99,
    "start_time": "2022-08-16T10:19:34.333Z"
   },
   {
    "duration": 5,
    "start_time": "2022-08-16T10:19:34.434Z"
   },
   {
    "duration": 108,
    "start_time": "2022-08-16T10:19:34.440Z"
   },
   {
    "duration": 4,
    "start_time": "2022-08-16T10:19:34.549Z"
   },
   {
    "duration": 32,
    "start_time": "2022-08-16T10:19:34.555Z"
   },
   {
    "duration": 30,
    "start_time": "2022-08-16T10:19:34.589Z"
   },
   {
    "duration": 7,
    "start_time": "2022-08-16T10:19:34.623Z"
   },
   {
    "duration": 15,
    "start_time": "2022-08-16T10:19:34.631Z"
   },
   {
    "duration": 15,
    "start_time": "2022-08-16T10:19:34.647Z"
   },
   {
    "duration": 20,
    "start_time": "2022-08-16T10:19:34.664Z"
   },
   {
    "duration": 18,
    "start_time": "2022-08-16T10:19:34.686Z"
   },
   {
    "duration": 21,
    "start_time": "2022-08-16T10:19:34.706Z"
   },
   {
    "duration": 12,
    "start_time": "2022-08-16T10:19:34.729Z"
   },
   {
    "duration": 12,
    "start_time": "2022-08-16T10:19:34.742Z"
   },
   {
    "duration": 103,
    "start_time": "2022-08-16T10:19:34.755Z"
   },
   {
    "duration": 4,
    "start_time": "2022-08-16T10:19:34.860Z"
   },
   {
    "duration": 5,
    "start_time": "2022-08-16T10:19:34.865Z"
   },
   {
    "duration": 112,
    "start_time": "2022-08-16T10:19:34.871Z"
   },
   {
    "duration": 4,
    "start_time": "2022-08-16T10:19:34.985Z"
   },
   {
    "duration": 8,
    "start_time": "2022-08-16T10:19:34.990Z"
   },
   {
    "duration": 2,
    "start_time": "2022-08-16T10:19:35.007Z"
   },
   {
    "duration": 21,
    "start_time": "2022-08-16T10:19:35.011Z"
   },
   {
    "duration": 109,
    "start_time": "2022-08-16T10:19:35.034Z"
   },
   {
    "duration": 4,
    "start_time": "2022-08-16T10:19:35.145Z"
   },
   {
    "duration": 92,
    "start_time": "2022-08-16T10:19:35.151Z"
   },
   {
    "duration": 3,
    "start_time": "2022-08-16T10:19:35.244Z"
   },
   {
    "duration": 12,
    "start_time": "2022-08-16T10:19:35.249Z"
   },
   {
    "duration": 13,
    "start_time": "2022-08-16T10:19:35.262Z"
   },
   {
    "duration": 4,
    "start_time": "2022-08-16T10:19:35.277Z"
   },
   {
    "duration": 6,
    "start_time": "2022-08-16T10:19:35.282Z"
   },
   {
    "duration": 17,
    "start_time": "2022-08-16T10:19:35.289Z"
   },
   {
    "duration": 20,
    "start_time": "2022-08-16T10:19:35.307Z"
   },
   {
    "duration": 6,
    "start_time": "2022-08-16T10:19:35.329Z"
   },
   {
    "duration": 6,
    "start_time": "2022-08-16T10:19:35.336Z"
   },
   {
    "duration": 13,
    "start_time": "2022-08-16T10:19:35.343Z"
   },
   {
    "duration": 9,
    "start_time": "2022-08-16T10:19:35.358Z"
   },
   {
    "duration": 120,
    "start_time": "2022-08-16T10:19:35.368Z"
   },
   {
    "duration": 0,
    "start_time": "2022-08-16T10:19:35.490Z"
   },
   {
    "duration": 0,
    "start_time": "2022-08-16T10:19:35.491Z"
   },
   {
    "duration": 0,
    "start_time": "2022-08-16T10:19:35.493Z"
   },
   {
    "duration": 0,
    "start_time": "2022-08-16T10:19:35.493Z"
   },
   {
    "duration": 0,
    "start_time": "2022-08-16T10:19:35.494Z"
   },
   {
    "duration": 0,
    "start_time": "2022-08-16T10:19:35.506Z"
   },
   {
    "duration": 0,
    "start_time": "2022-08-16T10:19:35.508Z"
   },
   {
    "duration": 0,
    "start_time": "2022-08-16T10:19:35.508Z"
   },
   {
    "duration": 0,
    "start_time": "2022-08-16T10:19:35.509Z"
   },
   {
    "duration": 0,
    "start_time": "2022-08-16T10:19:35.509Z"
   },
   {
    "duration": 0,
    "start_time": "2022-08-16T10:19:35.510Z"
   },
   {
    "duration": 0,
    "start_time": "2022-08-16T10:19:35.512Z"
   },
   {
    "duration": 0,
    "start_time": "2022-08-16T10:19:35.513Z"
   },
   {
    "duration": 0,
    "start_time": "2022-08-16T10:19:35.514Z"
   },
   {
    "duration": 0,
    "start_time": "2022-08-16T10:19:35.516Z"
   },
   {
    "duration": 0,
    "start_time": "2022-08-16T10:19:35.516Z"
   },
   {
    "duration": 0,
    "start_time": "2022-08-16T10:19:35.517Z"
   },
   {
    "duration": 0,
    "start_time": "2022-08-16T10:19:35.517Z"
   },
   {
    "duration": 0,
    "start_time": "2022-08-16T10:19:35.518Z"
   },
   {
    "duration": 0,
    "start_time": "2022-08-16T10:19:35.519Z"
   },
   {
    "duration": 0,
    "start_time": "2022-08-16T10:19:35.520Z"
   },
   {
    "duration": 0,
    "start_time": "2022-08-16T10:19:35.521Z"
   },
   {
    "duration": 0,
    "start_time": "2022-08-16T10:19:35.522Z"
   },
   {
    "duration": 24,
    "start_time": "2022-08-16T10:21:08.901Z"
   },
   {
    "duration": 1533,
    "start_time": "2022-08-16T10:21:14.622Z"
   },
   {
    "duration": 113,
    "start_time": "2022-08-16T10:21:16.158Z"
   },
   {
    "duration": 15,
    "start_time": "2022-08-16T10:21:16.273Z"
   },
   {
    "duration": 14,
    "start_time": "2022-08-16T10:21:16.290Z"
   },
   {
    "duration": 56,
    "start_time": "2022-08-16T10:21:16.307Z"
   },
   {
    "duration": 273,
    "start_time": "2022-08-16T10:21:16.364Z"
   },
   {
    "duration": 116,
    "start_time": "2022-08-16T10:21:16.639Z"
   },
   {
    "duration": 103,
    "start_time": "2022-08-16T10:21:16.756Z"
   },
   {
    "duration": 11,
    "start_time": "2022-08-16T10:21:16.861Z"
   },
   {
    "duration": 20,
    "start_time": "2022-08-16T10:21:16.873Z"
   },
   {
    "duration": 351,
    "start_time": "2022-08-16T10:21:16.895Z"
   },
   {
    "duration": 100,
    "start_time": "2022-08-16T10:21:17.248Z"
   },
   {
    "duration": 142,
    "start_time": "2022-08-16T10:21:17.350Z"
   },
   {
    "duration": 96,
    "start_time": "2022-08-16T10:21:17.494Z"
   },
   {
    "duration": 21,
    "start_time": "2022-08-16T10:21:17.591Z"
   },
   {
    "duration": 162,
    "start_time": "2022-08-16T10:21:17.614Z"
   },
   {
    "duration": 8,
    "start_time": "2022-08-16T10:21:17.777Z"
   },
   {
    "duration": 10,
    "start_time": "2022-08-16T10:21:17.786Z"
   },
   {
    "duration": 86,
    "start_time": "2022-08-16T10:21:17.806Z"
   },
   {
    "duration": 29,
    "start_time": "2022-08-16T10:21:17.894Z"
   },
   {
    "duration": 10,
    "start_time": "2022-08-16T10:21:17.924Z"
   },
   {
    "duration": 47,
    "start_time": "2022-08-16T10:21:17.935Z"
   },
   {
    "duration": 2560,
    "start_time": "2022-08-16T10:21:17.984Z"
   },
   {
    "duration": 89,
    "start_time": "2022-08-16T10:21:20.546Z"
   },
   {
    "duration": 88,
    "start_time": "2022-08-16T10:21:20.637Z"
   },
   {
    "duration": 17,
    "start_time": "2022-08-16T10:21:20.727Z"
   },
   {
    "duration": 12,
    "start_time": "2022-08-16T10:21:20.745Z"
   },
   {
    "duration": 9,
    "start_time": "2022-08-16T10:21:20.758Z"
   },
   {
    "duration": 95,
    "start_time": "2022-08-16T10:21:20.768Z"
   },
   {
    "duration": 9,
    "start_time": "2022-08-16T10:21:20.864Z"
   },
   {
    "duration": 204,
    "start_time": "2022-08-16T10:21:20.875Z"
   },
   {
    "duration": 214,
    "start_time": "2022-08-16T10:21:21.081Z"
   },
   {
    "duration": 14,
    "start_time": "2022-08-16T10:21:21.297Z"
   },
   {
    "duration": 21,
    "start_time": "2022-08-16T10:21:21.313Z"
   },
   {
    "duration": 59,
    "start_time": "2022-08-16T10:21:21.335Z"
   },
   {
    "duration": 17,
    "start_time": "2022-08-16T10:21:21.396Z"
   },
   {
    "duration": 21,
    "start_time": "2022-08-16T10:21:21.414Z"
   },
   {
    "duration": 34,
    "start_time": "2022-08-16T10:21:21.437Z"
   },
   {
    "duration": 1648,
    "start_time": "2022-08-16T10:21:21.472Z"
   },
   {
    "duration": 244,
    "start_time": "2022-08-16T10:21:23.121Z"
   },
   {
    "duration": 9,
    "start_time": "2022-08-16T10:21:23.371Z"
   },
   {
    "duration": 13,
    "start_time": "2022-08-16T10:21:23.382Z"
   },
   {
    "duration": 135,
    "start_time": "2022-08-16T10:21:23.397Z"
   },
   {
    "duration": 13,
    "start_time": "2022-08-16T10:21:23.535Z"
   },
   {
    "duration": 13,
    "start_time": "2022-08-16T10:21:23.550Z"
   },
   {
    "duration": 8,
    "start_time": "2022-08-16T10:21:23.564Z"
   },
   {
    "duration": 16,
    "start_time": "2022-08-16T10:21:23.574Z"
   },
   {
    "duration": 6,
    "start_time": "2022-08-16T10:21:23.592Z"
   },
   {
    "duration": 36,
    "start_time": "2022-08-16T10:21:23.600Z"
   },
   {
    "duration": 18,
    "start_time": "2022-08-16T10:21:23.638Z"
   },
   {
    "duration": 5,
    "start_time": "2022-08-16T10:21:23.657Z"
   },
   {
    "duration": 19,
    "start_time": "2022-08-16T10:21:23.663Z"
   },
   {
    "duration": 13,
    "start_time": "2022-08-16T10:21:23.683Z"
   },
   {
    "duration": 5,
    "start_time": "2022-08-16T10:21:23.697Z"
   },
   {
    "duration": 47,
    "start_time": "2022-08-16T10:21:23.704Z"
   },
   {
    "duration": 11,
    "start_time": "2022-08-16T10:21:23.753Z"
   },
   {
    "duration": 14,
    "start_time": "2022-08-16T10:21:23.766Z"
   },
   {
    "duration": 12,
    "start_time": "2022-08-16T10:21:23.782Z"
   },
   {
    "duration": 8,
    "start_time": "2022-08-16T10:21:23.795Z"
   },
   {
    "duration": 40,
    "start_time": "2022-08-16T10:21:23.804Z"
   },
   {
    "duration": 105,
    "start_time": "2022-08-16T10:21:23.846Z"
   },
   {
    "duration": 8,
    "start_time": "2022-08-16T10:21:23.953Z"
   },
   {
    "duration": 12,
    "start_time": "2022-08-16T10:21:23.963Z"
   },
   {
    "duration": 9,
    "start_time": "2022-08-16T10:21:23.976Z"
   },
   {
    "duration": 36,
    "start_time": "2022-08-16T10:21:23.987Z"
   },
   {
    "duration": 26,
    "start_time": "2022-08-16T10:21:24.032Z"
   },
   {
    "duration": 28,
    "start_time": "2022-08-16T10:21:24.060Z"
   },
   {
    "duration": 49,
    "start_time": "2022-08-16T10:21:24.090Z"
   },
   {
    "duration": 33,
    "start_time": "2022-08-16T10:21:24.141Z"
   },
   {
    "duration": 26,
    "start_time": "2022-08-16T10:21:24.175Z"
   },
   {
    "duration": 51,
    "start_time": "2022-08-16T10:21:24.203Z"
   },
   {
    "duration": 16,
    "start_time": "2022-08-16T10:21:24.255Z"
   },
   {
    "duration": 31,
    "start_time": "2022-08-16T10:21:24.273Z"
   },
   {
    "duration": 110,
    "start_time": "2022-08-16T10:21:24.306Z"
   },
   {
    "duration": 12,
    "start_time": "2022-08-16T10:21:24.418Z"
   },
   {
    "duration": 111,
    "start_time": "2022-08-16T10:21:24.432Z"
   },
   {
    "duration": 5,
    "start_time": "2022-08-16T10:21:24.548Z"
   },
   {
    "duration": 20,
    "start_time": "2022-08-16T10:21:24.554Z"
   },
   {
    "duration": 8,
    "start_time": "2022-08-16T10:21:24.575Z"
   },
   {
    "duration": 6,
    "start_time": "2022-08-16T10:21:24.584Z"
   },
   {
    "duration": 20,
    "start_time": "2022-08-16T10:21:24.592Z"
   },
   {
    "duration": 7,
    "start_time": "2022-08-16T10:21:24.614Z"
   },
   {
    "duration": 25,
    "start_time": "2022-08-16T10:21:24.624Z"
   },
   {
    "duration": 17,
    "start_time": "2022-08-16T10:21:24.651Z"
   },
   {
    "duration": 7,
    "start_time": "2022-08-16T10:21:24.670Z"
   },
   {
    "duration": 6,
    "start_time": "2022-08-16T10:21:24.678Z"
   },
   {
    "duration": 7,
    "start_time": "2022-08-16T10:21:24.685Z"
   },
   {
    "duration": 117,
    "start_time": "2022-08-16T10:21:24.693Z"
   },
   {
    "duration": 9,
    "start_time": "2022-08-16T10:21:24.813Z"
   },
   {
    "duration": 20,
    "start_time": "2022-08-16T10:21:24.825Z"
   },
   {
    "duration": 112,
    "start_time": "2022-08-16T10:21:24.848Z"
   },
   {
    "duration": 4,
    "start_time": "2022-08-16T10:21:24.962Z"
   },
   {
    "duration": 6,
    "start_time": "2022-08-16T10:21:24.967Z"
   },
   {
    "duration": 4,
    "start_time": "2022-08-16T10:21:24.974Z"
   },
   {
    "duration": 8,
    "start_time": "2022-08-16T10:21:24.980Z"
   },
   {
    "duration": 113,
    "start_time": "2022-08-16T10:21:24.990Z"
   },
   {
    "duration": 5,
    "start_time": "2022-08-16T10:21:25.108Z"
   },
   {
    "duration": 103,
    "start_time": "2022-08-16T10:21:25.115Z"
   },
   {
    "duration": 3,
    "start_time": "2022-08-16T10:21:25.220Z"
   },
   {
    "duration": 19,
    "start_time": "2022-08-16T10:21:25.225Z"
   },
   {
    "duration": 5,
    "start_time": "2022-08-16T10:21:25.245Z"
   },
   {
    "duration": 6,
    "start_time": "2022-08-16T10:21:25.251Z"
   },
   {
    "duration": 7,
    "start_time": "2022-08-16T10:21:25.258Z"
   },
   {
    "duration": 11,
    "start_time": "2022-08-16T10:21:25.267Z"
   },
   {
    "duration": 4,
    "start_time": "2022-08-16T10:21:25.280Z"
   },
   {
    "duration": 7,
    "start_time": "2022-08-16T10:21:25.285Z"
   },
   {
    "duration": 5,
    "start_time": "2022-08-16T10:21:25.293Z"
   },
   {
    "duration": 16,
    "start_time": "2022-08-16T10:21:25.299Z"
   },
   {
    "duration": 33,
    "start_time": "2022-08-16T10:21:25.316Z"
   },
   {
    "duration": 121,
    "start_time": "2022-08-16T10:21:25.351Z"
   },
   {
    "duration": 0,
    "start_time": "2022-08-16T10:21:25.474Z"
   },
   {
    "duration": 0,
    "start_time": "2022-08-16T10:21:25.475Z"
   },
   {
    "duration": 0,
    "start_time": "2022-08-16T10:21:25.476Z"
   },
   {
    "duration": 0,
    "start_time": "2022-08-16T10:21:25.476Z"
   },
   {
    "duration": 0,
    "start_time": "2022-08-16T10:21:25.477Z"
   },
   {
    "duration": 0,
    "start_time": "2022-08-16T10:21:25.478Z"
   },
   {
    "duration": 0,
    "start_time": "2022-08-16T10:21:25.479Z"
   },
   {
    "duration": 0,
    "start_time": "2022-08-16T10:21:25.480Z"
   },
   {
    "duration": 0,
    "start_time": "2022-08-16T10:21:25.481Z"
   },
   {
    "duration": 0,
    "start_time": "2022-08-16T10:21:25.482Z"
   },
   {
    "duration": 0,
    "start_time": "2022-08-16T10:21:25.483Z"
   },
   {
    "duration": 0,
    "start_time": "2022-08-16T10:21:25.483Z"
   },
   {
    "duration": 0,
    "start_time": "2022-08-16T10:21:25.484Z"
   },
   {
    "duration": 0,
    "start_time": "2022-08-16T10:21:25.486Z"
   },
   {
    "duration": 0,
    "start_time": "2022-08-16T10:21:25.505Z"
   },
   {
    "duration": 0,
    "start_time": "2022-08-16T10:21:25.507Z"
   },
   {
    "duration": 0,
    "start_time": "2022-08-16T10:21:25.508Z"
   },
   {
    "duration": 0,
    "start_time": "2022-08-16T10:21:25.509Z"
   },
   {
    "duration": 0,
    "start_time": "2022-08-16T10:21:25.510Z"
   },
   {
    "duration": 0,
    "start_time": "2022-08-16T10:21:25.511Z"
   },
   {
    "duration": 0,
    "start_time": "2022-08-16T10:21:25.513Z"
   },
   {
    "duration": 0,
    "start_time": "2022-08-16T10:21:25.513Z"
   },
   {
    "duration": 0,
    "start_time": "2022-08-16T10:21:25.515Z"
   },
   {
    "duration": 5,
    "start_time": "2022-08-16T10:24:55.461Z"
   },
   {
    "duration": 21,
    "start_time": "2022-08-16T10:25:02.105Z"
   },
   {
    "duration": 17,
    "start_time": "2022-08-16T10:25:38.521Z"
   },
   {
    "duration": 17,
    "start_time": "2022-08-16T10:25:39.518Z"
   },
   {
    "duration": 12,
    "start_time": "2022-08-16T10:26:08.888Z"
   },
   {
    "duration": 19,
    "start_time": "2022-08-16T10:26:25.070Z"
   },
   {
    "duration": 5,
    "start_time": "2022-08-16T10:26:34.341Z"
   },
   {
    "duration": 17,
    "start_time": "2022-08-16T10:26:35.250Z"
   },
   {
    "duration": 28,
    "start_time": "2022-08-16T10:26:35.992Z"
   },
   {
    "duration": 1317,
    "start_time": "2022-08-16T10:26:53.916Z"
   },
   {
    "duration": 91,
    "start_time": "2022-08-16T10:26:55.235Z"
   },
   {
    "duration": 14,
    "start_time": "2022-08-16T10:26:55.328Z"
   },
   {
    "duration": 10,
    "start_time": "2022-08-16T10:26:55.343Z"
   },
   {
    "duration": 16,
    "start_time": "2022-08-16T10:26:55.355Z"
   },
   {
    "duration": 261,
    "start_time": "2022-08-16T10:26:55.372Z"
   },
   {
    "duration": 118,
    "start_time": "2022-08-16T10:26:55.634Z"
   },
   {
    "duration": 78,
    "start_time": "2022-08-16T10:26:55.754Z"
   },
   {
    "duration": 11,
    "start_time": "2022-08-16T10:26:55.834Z"
   },
   {
    "duration": 18,
    "start_time": "2022-08-16T10:26:55.847Z"
   },
   {
    "duration": 428,
    "start_time": "2022-08-16T10:26:55.866Z"
   },
   {
    "duration": 129,
    "start_time": "2022-08-16T10:26:56.296Z"
   },
   {
    "duration": 173,
    "start_time": "2022-08-16T10:26:56.427Z"
   },
   {
    "duration": 99,
    "start_time": "2022-08-16T10:26:56.605Z"
   },
   {
    "duration": 12,
    "start_time": "2022-08-16T10:26:56.707Z"
   },
   {
    "duration": 184,
    "start_time": "2022-08-16T10:26:56.722Z"
   },
   {
    "duration": 11,
    "start_time": "2022-08-16T10:26:56.908Z"
   },
   {
    "duration": 16,
    "start_time": "2022-08-16T10:26:56.921Z"
   },
   {
    "duration": 116,
    "start_time": "2022-08-16T10:26:56.939Z"
   },
   {
    "duration": 20,
    "start_time": "2022-08-16T10:26:57.057Z"
   },
   {
    "duration": 10,
    "start_time": "2022-08-16T10:26:57.078Z"
   },
   {
    "duration": 53,
    "start_time": "2022-08-16T10:26:57.090Z"
   },
   {
    "duration": 2675,
    "start_time": "2022-08-16T10:26:57.145Z"
   },
   {
    "duration": 86,
    "start_time": "2022-08-16T10:26:59.822Z"
   },
   {
    "duration": 141,
    "start_time": "2022-08-16T10:26:59.909Z"
   },
   {
    "duration": 17,
    "start_time": "2022-08-16T10:27:00.052Z"
   },
   {
    "duration": 27,
    "start_time": "2022-08-16T10:27:00.071Z"
   },
   {
    "duration": 41,
    "start_time": "2022-08-16T10:27:00.100Z"
   },
   {
    "duration": 98,
    "start_time": "2022-08-16T10:27:00.143Z"
   },
   {
    "duration": 9,
    "start_time": "2022-08-16T10:27:00.243Z"
   },
   {
    "duration": 250,
    "start_time": "2022-08-16T10:27:00.253Z"
   },
   {
    "duration": 242,
    "start_time": "2022-08-16T10:27:00.504Z"
   },
   {
    "duration": 8,
    "start_time": "2022-08-16T10:27:00.748Z"
   },
   {
    "duration": 21,
    "start_time": "2022-08-16T10:27:00.758Z"
   },
   {
    "duration": 65,
    "start_time": "2022-08-16T10:27:00.781Z"
   },
   {
    "duration": 15,
    "start_time": "2022-08-16T10:27:00.848Z"
   },
   {
    "duration": 20,
    "start_time": "2022-08-16T10:27:00.865Z"
   },
   {
    "duration": 46,
    "start_time": "2022-08-16T10:27:00.887Z"
   },
   {
    "duration": 1694,
    "start_time": "2022-08-16T10:27:00.935Z"
   },
   {
    "duration": 257,
    "start_time": "2022-08-16T10:27:02.631Z"
   },
   {
    "duration": 14,
    "start_time": "2022-08-16T10:27:02.893Z"
   },
   {
    "duration": 26,
    "start_time": "2022-08-16T10:27:02.909Z"
   },
   {
    "duration": 95,
    "start_time": "2022-08-16T10:27:02.936Z"
   },
   {
    "duration": 15,
    "start_time": "2022-08-16T10:27:03.033Z"
   },
   {
    "duration": 14,
    "start_time": "2022-08-16T10:27:03.049Z"
   },
   {
    "duration": 9,
    "start_time": "2022-08-16T10:27:03.065Z"
   },
   {
    "duration": 14,
    "start_time": "2022-08-16T10:27:03.075Z"
   },
   {
    "duration": 6,
    "start_time": "2022-08-16T10:27:03.091Z"
   },
   {
    "duration": 5,
    "start_time": "2022-08-16T10:27:03.098Z"
   },
   {
    "duration": 30,
    "start_time": "2022-08-16T10:27:03.104Z"
   },
   {
    "duration": 8,
    "start_time": "2022-08-16T10:27:03.135Z"
   },
   {
    "duration": 19,
    "start_time": "2022-08-16T10:27:03.144Z"
   },
   {
    "duration": 13,
    "start_time": "2022-08-16T10:27:03.165Z"
   },
   {
    "duration": 4,
    "start_time": "2022-08-16T10:27:03.179Z"
   },
   {
    "duration": 21,
    "start_time": "2022-08-16T10:27:03.185Z"
   },
   {
    "duration": 55,
    "start_time": "2022-08-16T10:27:03.209Z"
   },
   {
    "duration": 16,
    "start_time": "2022-08-16T10:27:03.265Z"
   },
   {
    "duration": 13,
    "start_time": "2022-08-16T10:27:03.282Z"
   },
   {
    "duration": 4,
    "start_time": "2022-08-16T10:27:03.296Z"
   },
   {
    "duration": 31,
    "start_time": "2022-08-16T10:27:03.301Z"
   },
   {
    "duration": 83,
    "start_time": "2022-08-16T10:27:03.334Z"
   },
   {
    "duration": 10,
    "start_time": "2022-08-16T10:27:03.419Z"
   },
   {
    "duration": 22,
    "start_time": "2022-08-16T10:27:03.430Z"
   },
   {
    "duration": 11,
    "start_time": "2022-08-16T10:27:03.454Z"
   },
   {
    "duration": 15,
    "start_time": "2022-08-16T10:27:03.466Z"
   },
   {
    "duration": 9,
    "start_time": "2022-08-16T10:27:03.483Z"
   },
   {
    "duration": 15,
    "start_time": "2022-08-16T10:27:03.507Z"
   },
   {
    "duration": 7,
    "start_time": "2022-08-16T10:27:03.525Z"
   },
   {
    "duration": 13,
    "start_time": "2022-08-16T10:27:03.534Z"
   },
   {
    "duration": 19,
    "start_time": "2022-08-16T10:27:03.549Z"
   },
   {
    "duration": 46,
    "start_time": "2022-08-16T10:27:03.569Z"
   },
   {
    "duration": 13,
    "start_time": "2022-08-16T10:27:03.617Z"
   },
   {
    "duration": 13,
    "start_time": "2022-08-16T10:27:03.631Z"
   },
   {
    "duration": 108,
    "start_time": "2022-08-16T10:27:03.646Z"
   },
   {
    "duration": 5,
    "start_time": "2022-08-16T10:27:03.756Z"
   },
   {
    "duration": 100,
    "start_time": "2022-08-16T10:27:03.762Z"
   },
   {
    "duration": 4,
    "start_time": "2022-08-16T10:27:03.864Z"
   },
   {
    "duration": 23,
    "start_time": "2022-08-16T10:27:03.870Z"
   },
   {
    "duration": 9,
    "start_time": "2022-08-16T10:27:03.906Z"
   },
   {
    "duration": 13,
    "start_time": "2022-08-16T10:27:03.917Z"
   },
   {
    "duration": 10,
    "start_time": "2022-08-16T10:27:03.932Z"
   },
   {
    "duration": 4,
    "start_time": "2022-08-16T10:27:03.944Z"
   },
   {
    "duration": 11,
    "start_time": "2022-08-16T10:27:03.950Z"
   },
   {
    "duration": 17,
    "start_time": "2022-08-16T10:27:03.963Z"
   },
   {
    "duration": 7,
    "start_time": "2022-08-16T10:27:04.005Z"
   },
   {
    "duration": 13,
    "start_time": "2022-08-16T10:27:04.014Z"
   },
   {
    "duration": 8,
    "start_time": "2022-08-16T10:27:04.028Z"
   },
   {
    "duration": 108,
    "start_time": "2022-08-16T10:27:04.037Z"
   },
   {
    "duration": 4,
    "start_time": "2022-08-16T10:27:04.147Z"
   },
   {
    "duration": 9,
    "start_time": "2022-08-16T10:27:04.153Z"
   },
   {
    "duration": 112,
    "start_time": "2022-08-16T10:27:04.163Z"
   },
   {
    "duration": 5,
    "start_time": "2022-08-16T10:27:04.276Z"
   },
   {
    "duration": 16,
    "start_time": "2022-08-16T10:27:04.282Z"
   },
   {
    "duration": 27,
    "start_time": "2022-08-16T10:27:04.299Z"
   },
   {
    "duration": 22,
    "start_time": "2022-08-16T10:27:04.328Z"
   },
   {
    "duration": 111,
    "start_time": "2022-08-16T10:27:04.351Z"
   },
   {
    "duration": 4,
    "start_time": "2022-08-16T10:27:04.463Z"
   },
   {
    "duration": 91,
    "start_time": "2022-08-16T10:27:04.469Z"
   },
   {
    "duration": 2,
    "start_time": "2022-08-16T10:27:04.562Z"
   },
   {
    "duration": 21,
    "start_time": "2022-08-16T10:27:04.566Z"
   },
   {
    "duration": 22,
    "start_time": "2022-08-16T10:27:04.588Z"
   },
   {
    "duration": 30,
    "start_time": "2022-08-16T10:27:04.612Z"
   },
   {
    "duration": 19,
    "start_time": "2022-08-16T10:27:04.644Z"
   },
   {
    "duration": 27,
    "start_time": "2022-08-16T10:27:04.665Z"
   },
   {
    "duration": 12,
    "start_time": "2022-08-16T10:27:04.693Z"
   },
   {
    "duration": 16,
    "start_time": "2022-08-16T10:27:04.707Z"
   },
   {
    "duration": 19,
    "start_time": "2022-08-16T10:27:04.725Z"
   },
   {
    "duration": 16,
    "start_time": "2022-08-16T10:27:04.746Z"
   },
   {
    "duration": 21,
    "start_time": "2022-08-16T10:27:04.764Z"
   },
   {
    "duration": 15,
    "start_time": "2022-08-16T10:27:04.787Z"
   },
   {
    "duration": 38,
    "start_time": "2022-08-16T10:27:04.804Z"
   },
   {
    "duration": 16,
    "start_time": "2022-08-16T10:27:04.843Z"
   },
   {
    "duration": 26,
    "start_time": "2022-08-16T10:27:04.861Z"
   },
   {
    "duration": 4,
    "start_time": "2022-08-16T10:27:04.888Z"
   },
   {
    "duration": 8238,
    "start_time": "2022-08-16T10:27:04.894Z"
   },
   {
    "duration": 3,
    "start_time": "2022-08-16T10:27:13.133Z"
   },
   {
    "duration": 9,
    "start_time": "2022-08-16T10:27:13.137Z"
   },
   {
    "duration": 117,
    "start_time": "2022-08-16T10:27:13.148Z"
   },
   {
    "duration": 0,
    "start_time": "2022-08-16T10:27:13.267Z"
   },
   {
    "duration": 0,
    "start_time": "2022-08-16T10:27:13.268Z"
   },
   {
    "duration": 0,
    "start_time": "2022-08-16T10:27:13.269Z"
   },
   {
    "duration": 0,
    "start_time": "2022-08-16T10:27:13.270Z"
   },
   {
    "duration": 0,
    "start_time": "2022-08-16T10:27:13.271Z"
   },
   {
    "duration": 0,
    "start_time": "2022-08-16T10:27:13.272Z"
   },
   {
    "duration": 0,
    "start_time": "2022-08-16T10:27:13.273Z"
   },
   {
    "duration": 0,
    "start_time": "2022-08-16T10:27:13.274Z"
   },
   {
    "duration": 0,
    "start_time": "2022-08-16T10:27:13.275Z"
   },
   {
    "duration": 0,
    "start_time": "2022-08-16T10:27:13.276Z"
   },
   {
    "duration": 0,
    "start_time": "2022-08-16T10:27:13.277Z"
   },
   {
    "duration": 0,
    "start_time": "2022-08-16T10:27:13.278Z"
   },
   {
    "duration": 0,
    "start_time": "2022-08-16T10:27:13.279Z"
   },
   {
    "duration": 0,
    "start_time": "2022-08-16T10:27:13.280Z"
   },
   {
    "duration": 0,
    "start_time": "2022-08-16T10:27:13.281Z"
   },
   {
    "duration": 0,
    "start_time": "2022-08-16T10:27:13.282Z"
   },
   {
    "duration": 0,
    "start_time": "2022-08-16T10:27:13.283Z"
   },
   {
    "duration": 1451,
    "start_time": "2022-08-16T10:28:27.300Z"
   },
   {
    "duration": 95,
    "start_time": "2022-08-16T10:28:28.753Z"
   },
   {
    "duration": 15,
    "start_time": "2022-08-16T10:28:28.849Z"
   },
   {
    "duration": 12,
    "start_time": "2022-08-16T10:28:28.865Z"
   },
   {
    "duration": 14,
    "start_time": "2022-08-16T10:28:28.879Z"
   },
   {
    "duration": 255,
    "start_time": "2022-08-16T10:28:28.895Z"
   },
   {
    "duration": 143,
    "start_time": "2022-08-16T10:28:29.152Z"
   },
   {
    "duration": 77,
    "start_time": "2022-08-16T10:28:29.296Z"
   },
   {
    "duration": 12,
    "start_time": "2022-08-16T10:28:29.374Z"
   },
   {
    "duration": 23,
    "start_time": "2022-08-16T10:28:29.388Z"
   },
   {
    "duration": 408,
    "start_time": "2022-08-16T10:28:29.413Z"
   },
   {
    "duration": 107,
    "start_time": "2022-08-16T10:28:29.822Z"
   },
   {
    "duration": 181,
    "start_time": "2022-08-16T10:28:29.931Z"
   },
   {
    "duration": 124,
    "start_time": "2022-08-16T10:28:30.121Z"
   },
   {
    "duration": 12,
    "start_time": "2022-08-16T10:28:30.247Z"
   },
   {
    "duration": 212,
    "start_time": "2022-08-16T10:28:30.261Z"
   },
   {
    "duration": 8,
    "start_time": "2022-08-16T10:28:30.475Z"
   },
   {
    "duration": 26,
    "start_time": "2022-08-16T10:28:30.484Z"
   },
   {
    "duration": 97,
    "start_time": "2022-08-16T10:28:30.512Z"
   },
   {
    "duration": 22,
    "start_time": "2022-08-16T10:28:30.611Z"
   },
   {
    "duration": 18,
    "start_time": "2022-08-16T10:28:30.635Z"
   },
   {
    "duration": 64,
    "start_time": "2022-08-16T10:28:30.654Z"
   },
   {
    "duration": 2777,
    "start_time": "2022-08-16T10:28:30.720Z"
   },
   {
    "duration": 108,
    "start_time": "2022-08-16T10:28:33.498Z"
   },
   {
    "duration": 155,
    "start_time": "2022-08-16T10:28:33.608Z"
   },
   {
    "duration": 17,
    "start_time": "2022-08-16T10:28:33.764Z"
   },
   {
    "duration": 13,
    "start_time": "2022-08-16T10:28:33.783Z"
   },
   {
    "duration": 11,
    "start_time": "2022-08-16T10:28:33.798Z"
   },
   {
    "duration": 121,
    "start_time": "2022-08-16T10:28:33.811Z"
   },
   {
    "duration": 9,
    "start_time": "2022-08-16T10:28:33.933Z"
   },
   {
    "duration": 226,
    "start_time": "2022-08-16T10:28:33.944Z"
   },
   {
    "duration": 235,
    "start_time": "2022-08-16T10:28:34.171Z"
   },
   {
    "duration": 9,
    "start_time": "2022-08-16T10:28:34.408Z"
   },
   {
    "duration": 17,
    "start_time": "2022-08-16T10:28:34.419Z"
   },
   {
    "duration": 87,
    "start_time": "2022-08-16T10:28:34.437Z"
   },
   {
    "duration": 16,
    "start_time": "2022-08-16T10:28:34.526Z"
   },
   {
    "duration": 21,
    "start_time": "2022-08-16T10:28:34.544Z"
   },
   {
    "duration": 38,
    "start_time": "2022-08-16T10:28:34.567Z"
   },
   {
    "duration": 1889,
    "start_time": "2022-08-16T10:28:34.606Z"
   },
   {
    "duration": 254,
    "start_time": "2022-08-16T10:28:36.497Z"
   },
   {
    "duration": 10,
    "start_time": "2022-08-16T10:28:36.756Z"
   },
   {
    "duration": 32,
    "start_time": "2022-08-16T10:28:36.767Z"
   },
   {
    "duration": 96,
    "start_time": "2022-08-16T10:28:36.800Z"
   },
   {
    "duration": 15,
    "start_time": "2022-08-16T10:28:36.898Z"
   },
   {
    "duration": 32,
    "start_time": "2022-08-16T10:28:36.914Z"
   },
   {
    "duration": 19,
    "start_time": "2022-08-16T10:28:36.947Z"
   },
   {
    "duration": 26,
    "start_time": "2022-08-16T10:28:36.968Z"
   },
   {
    "duration": 6,
    "start_time": "2022-08-16T10:28:36.995Z"
   },
   {
    "duration": 32,
    "start_time": "2022-08-16T10:28:37.002Z"
   },
   {
    "duration": 16,
    "start_time": "2022-08-16T10:28:37.035Z"
   },
   {
    "duration": 16,
    "start_time": "2022-08-16T10:28:37.052Z"
   },
   {
    "duration": 14,
    "start_time": "2022-08-16T10:28:37.069Z"
   },
   {
    "duration": 11,
    "start_time": "2022-08-16T10:28:37.084Z"
   },
   {
    "duration": 4,
    "start_time": "2022-08-16T10:28:37.096Z"
   },
   {
    "duration": 29,
    "start_time": "2022-08-16T10:28:37.101Z"
   },
   {
    "duration": 11,
    "start_time": "2022-08-16T10:28:37.132Z"
   },
   {
    "duration": 14,
    "start_time": "2022-08-16T10:28:37.144Z"
   },
   {
    "duration": 12,
    "start_time": "2022-08-16T10:28:37.159Z"
   },
   {
    "duration": 3,
    "start_time": "2022-08-16T10:28:37.172Z"
   },
   {
    "duration": 13,
    "start_time": "2022-08-16T10:28:37.176Z"
   },
   {
    "duration": 90,
    "start_time": "2022-08-16T10:28:37.190Z"
   },
   {
    "duration": 7,
    "start_time": "2022-08-16T10:28:37.282Z"
   },
   {
    "duration": 24,
    "start_time": "2022-08-16T10:28:37.291Z"
   },
   {
    "duration": 10,
    "start_time": "2022-08-16T10:28:37.317Z"
   },
   {
    "duration": 13,
    "start_time": "2022-08-16T10:28:37.328Z"
   },
   {
    "duration": 3,
    "start_time": "2022-08-16T10:28:37.342Z"
   },
   {
    "duration": 15,
    "start_time": "2022-08-16T10:28:37.346Z"
   },
   {
    "duration": 3,
    "start_time": "2022-08-16T10:28:37.362Z"
   },
   {
    "duration": 13,
    "start_time": "2022-08-16T10:28:37.367Z"
   },
   {
    "duration": 20,
    "start_time": "2022-08-16T10:28:37.406Z"
   },
   {
    "duration": 19,
    "start_time": "2022-08-16T10:28:37.428Z"
   },
   {
    "duration": 10,
    "start_time": "2022-08-16T10:28:37.449Z"
   },
   {
    "duration": 11,
    "start_time": "2022-08-16T10:28:37.461Z"
   },
   {
    "duration": 108,
    "start_time": "2022-08-16T10:28:37.473Z"
   },
   {
    "duration": 4,
    "start_time": "2022-08-16T10:28:37.583Z"
   },
   {
    "duration": 92,
    "start_time": "2022-08-16T10:28:37.589Z"
   },
   {
    "duration": 3,
    "start_time": "2022-08-16T10:28:37.683Z"
   },
   {
    "duration": 34,
    "start_time": "2022-08-16T10:28:37.688Z"
   },
   {
    "duration": 7,
    "start_time": "2022-08-16T10:28:37.724Z"
   },
   {
    "duration": 7,
    "start_time": "2022-08-16T10:28:37.733Z"
   },
   {
    "duration": 9,
    "start_time": "2022-08-16T10:28:37.742Z"
   },
   {
    "duration": 3,
    "start_time": "2022-08-16T10:28:37.753Z"
   },
   {
    "duration": 12,
    "start_time": "2022-08-16T10:28:37.758Z"
   },
   {
    "duration": 49,
    "start_time": "2022-08-16T10:28:37.772Z"
   },
   {
    "duration": 2,
    "start_time": "2022-08-16T10:28:37.823Z"
   },
   {
    "duration": 5,
    "start_time": "2022-08-16T10:28:37.827Z"
   },
   {
    "duration": 7,
    "start_time": "2022-08-16T10:28:37.834Z"
   },
   {
    "duration": 104,
    "start_time": "2022-08-16T10:28:37.843Z"
   },
   {
    "duration": 4,
    "start_time": "2022-08-16T10:28:37.949Z"
   },
   {
    "duration": 6,
    "start_time": "2022-08-16T10:28:37.955Z"
   },
   {
    "duration": 102,
    "start_time": "2022-08-16T10:28:37.963Z"
   },
   {
    "duration": 3,
    "start_time": "2022-08-16T10:28:38.067Z"
   },
   {
    "duration": 5,
    "start_time": "2022-08-16T10:28:38.071Z"
   },
   {
    "duration": 7,
    "start_time": "2022-08-16T10:28:38.077Z"
   },
   {
    "duration": 5,
    "start_time": "2022-08-16T10:28:38.085Z"
   },
   {
    "duration": 96,
    "start_time": "2022-08-16T10:28:38.091Z"
   },
   {
    "duration": 4,
    "start_time": "2022-08-16T10:28:38.189Z"
   },
   {
    "duration": 77,
    "start_time": "2022-08-16T10:28:38.206Z"
   },
   {
    "duration": 2,
    "start_time": "2022-08-16T10:28:38.284Z"
   },
   {
    "duration": 7,
    "start_time": "2022-08-16T10:28:38.288Z"
   },
   {
    "duration": 8,
    "start_time": "2022-08-16T10:28:38.297Z"
   },
   {
    "duration": 14,
    "start_time": "2022-08-16T10:28:38.307Z"
   },
   {
    "duration": 5,
    "start_time": "2022-08-16T10:28:38.323Z"
   },
   {
    "duration": 13,
    "start_time": "2022-08-16T10:28:38.329Z"
   },
   {
    "duration": 3,
    "start_time": "2022-08-16T10:28:38.343Z"
   },
   {
    "duration": 4,
    "start_time": "2022-08-16T10:28:38.348Z"
   },
   {
    "duration": 6,
    "start_time": "2022-08-16T10:28:38.353Z"
   },
   {
    "duration": 13,
    "start_time": "2022-08-16T10:28:38.360Z"
   },
   {
    "duration": 11,
    "start_time": "2022-08-16T10:28:38.375Z"
   },
   {
    "duration": 5,
    "start_time": "2022-08-16T10:28:38.387Z"
   },
   {
    "duration": 28,
    "start_time": "2022-08-16T10:28:38.393Z"
   },
   {
    "duration": 11,
    "start_time": "2022-08-16T10:28:38.423Z"
   },
   {
    "duration": 12,
    "start_time": "2022-08-16T10:28:38.436Z"
   },
   {
    "duration": 2,
    "start_time": "2022-08-16T10:28:38.450Z"
   },
   {
    "duration": 7713,
    "start_time": "2022-08-16T10:28:38.453Z"
   },
   {
    "duration": 3,
    "start_time": "2022-08-16T10:28:46.167Z"
   },
   {
    "duration": 16,
    "start_time": "2022-08-16T10:28:46.172Z"
   },
   {
    "duration": 95,
    "start_time": "2022-08-16T10:28:46.190Z"
   },
   {
    "duration": 0,
    "start_time": "2022-08-16T10:28:46.287Z"
   },
   {
    "duration": 0,
    "start_time": "2022-08-16T10:28:46.288Z"
   },
   {
    "duration": 0,
    "start_time": "2022-08-16T10:28:46.289Z"
   },
   {
    "duration": 0,
    "start_time": "2022-08-16T10:28:46.291Z"
   },
   {
    "duration": 0,
    "start_time": "2022-08-16T10:28:46.292Z"
   },
   {
    "duration": 0,
    "start_time": "2022-08-16T10:28:46.294Z"
   },
   {
    "duration": 0,
    "start_time": "2022-08-16T10:28:46.295Z"
   },
   {
    "duration": 0,
    "start_time": "2022-08-16T10:28:46.296Z"
   },
   {
    "duration": 0,
    "start_time": "2022-08-16T10:28:46.297Z"
   },
   {
    "duration": 0,
    "start_time": "2022-08-16T10:28:46.299Z"
   },
   {
    "duration": 0,
    "start_time": "2022-08-16T10:28:46.300Z"
   },
   {
    "duration": 0,
    "start_time": "2022-08-16T10:28:46.302Z"
   },
   {
    "duration": 0,
    "start_time": "2022-08-16T10:28:46.303Z"
   },
   {
    "duration": 0,
    "start_time": "2022-08-16T10:28:46.304Z"
   },
   {
    "duration": 0,
    "start_time": "2022-08-16T10:28:46.305Z"
   },
   {
    "duration": 0,
    "start_time": "2022-08-16T10:28:46.306Z"
   },
   {
    "duration": 0,
    "start_time": "2022-08-16T10:28:46.308Z"
   },
   {
    "duration": 13,
    "start_time": "2022-08-16T10:29:08.186Z"
   },
   {
    "duration": 1502,
    "start_time": "2022-08-16T10:29:46.390Z"
   },
   {
    "duration": 100,
    "start_time": "2022-08-16T10:29:47.895Z"
   },
   {
    "duration": 17,
    "start_time": "2022-08-16T10:29:47.997Z"
   },
   {
    "duration": 22,
    "start_time": "2022-08-16T10:29:48.015Z"
   },
   {
    "duration": 24,
    "start_time": "2022-08-16T10:29:48.040Z"
   },
   {
    "duration": 292,
    "start_time": "2022-08-16T10:29:48.066Z"
   },
   {
    "duration": 139,
    "start_time": "2022-08-16T10:29:48.360Z"
   },
   {
    "duration": 87,
    "start_time": "2022-08-16T10:29:48.500Z"
   },
   {
    "duration": 12,
    "start_time": "2022-08-16T10:29:48.588Z"
   },
   {
    "duration": 25,
    "start_time": "2022-08-16T10:29:48.601Z"
   },
   {
    "duration": 355,
    "start_time": "2022-08-16T10:29:48.628Z"
   },
   {
    "duration": 103,
    "start_time": "2022-08-16T10:29:48.984Z"
   },
   {
    "duration": 162,
    "start_time": "2022-08-16T10:29:49.088Z"
   },
   {
    "duration": 103,
    "start_time": "2022-08-16T10:29:49.254Z"
   },
   {
    "duration": 10,
    "start_time": "2022-08-16T10:29:49.359Z"
   },
   {
    "duration": 178,
    "start_time": "2022-08-16T10:29:49.371Z"
   },
   {
    "duration": 8,
    "start_time": "2022-08-16T10:29:49.551Z"
   },
   {
    "duration": 7,
    "start_time": "2022-08-16T10:29:49.560Z"
   },
   {
    "duration": 115,
    "start_time": "2022-08-16T10:29:49.569Z"
   },
   {
    "duration": 29,
    "start_time": "2022-08-16T10:29:49.685Z"
   },
   {
    "duration": 26,
    "start_time": "2022-08-16T10:29:49.716Z"
   },
   {
    "duration": 50,
    "start_time": "2022-08-16T10:29:49.743Z"
   },
   {
    "duration": 2682,
    "start_time": "2022-08-16T10:29:49.794Z"
   },
   {
    "duration": 94,
    "start_time": "2022-08-16T10:29:52.478Z"
   },
   {
    "duration": 98,
    "start_time": "2022-08-16T10:29:52.574Z"
   },
   {
    "duration": 16,
    "start_time": "2022-08-16T10:29:52.674Z"
   },
   {
    "duration": 17,
    "start_time": "2022-08-16T10:29:52.692Z"
   },
   {
    "duration": 16,
    "start_time": "2022-08-16T10:29:52.712Z"
   },
   {
    "duration": 92,
    "start_time": "2022-08-16T10:29:52.729Z"
   },
   {
    "duration": 11,
    "start_time": "2022-08-16T10:29:52.823Z"
   },
   {
    "duration": 232,
    "start_time": "2022-08-16T10:29:52.836Z"
   },
   {
    "duration": 238,
    "start_time": "2022-08-16T10:29:53.070Z"
   },
   {
    "duration": 9,
    "start_time": "2022-08-16T10:29:53.309Z"
   },
   {
    "duration": 17,
    "start_time": "2022-08-16T10:29:53.319Z"
   },
   {
    "duration": 70,
    "start_time": "2022-08-16T10:29:53.338Z"
   },
   {
    "duration": 20,
    "start_time": "2022-08-16T10:29:53.410Z"
   },
   {
    "duration": 13,
    "start_time": "2022-08-16T10:29:53.432Z"
   },
   {
    "duration": 37,
    "start_time": "2022-08-16T10:29:53.447Z"
   },
   {
    "duration": 1783,
    "start_time": "2022-08-16T10:29:53.486Z"
   },
   {
    "duration": 255,
    "start_time": "2022-08-16T10:29:55.270Z"
   },
   {
    "duration": 10,
    "start_time": "2022-08-16T10:29:55.530Z"
   },
   {
    "duration": 11,
    "start_time": "2022-08-16T10:29:55.541Z"
   },
   {
    "duration": 94,
    "start_time": "2022-08-16T10:29:55.554Z"
   },
   {
    "duration": 14,
    "start_time": "2022-08-16T10:29:55.649Z"
   },
   {
    "duration": 15,
    "start_time": "2022-08-16T10:29:55.664Z"
   },
   {
    "duration": 4,
    "start_time": "2022-08-16T10:29:55.681Z"
   },
   {
    "duration": 10,
    "start_time": "2022-08-16T10:29:55.687Z"
   },
   {
    "duration": 6,
    "start_time": "2022-08-16T10:29:55.699Z"
   },
   {
    "duration": 18,
    "start_time": "2022-08-16T10:29:55.706Z"
   },
   {
    "duration": 14,
    "start_time": "2022-08-16T10:29:55.726Z"
   },
   {
    "duration": 6,
    "start_time": "2022-08-16T10:29:55.742Z"
   },
   {
    "duration": 18,
    "start_time": "2022-08-16T10:29:55.749Z"
   },
   {
    "duration": 17,
    "start_time": "2022-08-16T10:29:55.769Z"
   },
   {
    "duration": 4,
    "start_time": "2022-08-16T10:29:55.788Z"
   },
   {
    "duration": 24,
    "start_time": "2022-08-16T10:29:55.793Z"
   },
   {
    "duration": 17,
    "start_time": "2022-08-16T10:29:55.819Z"
   },
   {
    "duration": 15,
    "start_time": "2022-08-16T10:29:55.838Z"
   },
   {
    "duration": 19,
    "start_time": "2022-08-16T10:29:55.855Z"
   },
   {
    "duration": 5,
    "start_time": "2022-08-16T10:29:55.876Z"
   },
   {
    "duration": 33,
    "start_time": "2022-08-16T10:29:55.882Z"
   },
   {
    "duration": 81,
    "start_time": "2022-08-16T10:29:55.920Z"
   },
   {
    "duration": 12,
    "start_time": "2022-08-16T10:29:56.005Z"
   },
   {
    "duration": 43,
    "start_time": "2022-08-16T10:29:56.020Z"
   },
   {
    "duration": 12,
    "start_time": "2022-08-16T10:29:56.068Z"
   },
   {
    "duration": 16,
    "start_time": "2022-08-16T10:29:56.082Z"
   },
   {
    "duration": 11,
    "start_time": "2022-08-16T10:29:56.100Z"
   },
   {
    "duration": 37,
    "start_time": "2022-08-16T10:29:56.112Z"
   },
   {
    "duration": 7,
    "start_time": "2022-08-16T10:29:56.151Z"
   },
   {
    "duration": 19,
    "start_time": "2022-08-16T10:29:56.160Z"
   },
   {
    "duration": 32,
    "start_time": "2022-08-16T10:29:56.181Z"
   },
   {
    "duration": 46,
    "start_time": "2022-08-16T10:29:56.219Z"
   },
   {
    "duration": 13,
    "start_time": "2022-08-16T10:29:56.267Z"
   },
   {
    "duration": 13,
    "start_time": "2022-08-16T10:29:56.282Z"
   },
   {
    "duration": 88,
    "start_time": "2022-08-16T10:29:56.297Z"
   },
   {
    "duration": 5,
    "start_time": "2022-08-16T10:29:56.387Z"
   },
   {
    "duration": 105,
    "start_time": "2022-08-16T10:29:56.393Z"
   },
   {
    "duration": 8,
    "start_time": "2022-08-16T10:29:56.499Z"
   },
   {
    "duration": 37,
    "start_time": "2022-08-16T10:29:56.509Z"
   },
   {
    "duration": 10,
    "start_time": "2022-08-16T10:29:56.548Z"
   },
   {
    "duration": 7,
    "start_time": "2022-08-16T10:29:56.560Z"
   },
   {
    "duration": 16,
    "start_time": "2022-08-16T10:29:56.569Z"
   },
   {
    "duration": 7,
    "start_time": "2022-08-16T10:29:56.587Z"
   },
   {
    "duration": 22,
    "start_time": "2022-08-16T10:29:56.596Z"
   },
   {
    "duration": 26,
    "start_time": "2022-08-16T10:29:56.620Z"
   },
   {
    "duration": 5,
    "start_time": "2022-08-16T10:29:56.647Z"
   },
   {
    "duration": 5,
    "start_time": "2022-08-16T10:29:56.654Z"
   },
   {
    "duration": 9,
    "start_time": "2022-08-16T10:29:56.661Z"
   },
   {
    "duration": 106,
    "start_time": "2022-08-16T10:29:56.671Z"
   },
   {
    "duration": 4,
    "start_time": "2022-08-16T10:29:56.779Z"
   },
   {
    "duration": 8,
    "start_time": "2022-08-16T10:29:56.784Z"
   },
   {
    "duration": 103,
    "start_time": "2022-08-16T10:29:56.793Z"
   },
   {
    "duration": 4,
    "start_time": "2022-08-16T10:29:56.905Z"
   },
   {
    "duration": 27,
    "start_time": "2022-08-16T10:29:56.910Z"
   },
   {
    "duration": 8,
    "start_time": "2022-08-16T10:29:56.939Z"
   },
   {
    "duration": 7,
    "start_time": "2022-08-16T10:29:56.948Z"
   },
   {
    "duration": 112,
    "start_time": "2022-08-16T10:29:56.956Z"
   },
   {
    "duration": 3,
    "start_time": "2022-08-16T10:29:57.070Z"
   },
   {
    "duration": 81,
    "start_time": "2022-08-16T10:29:57.075Z"
   },
   {
    "duration": 2,
    "start_time": "2022-08-16T10:29:57.158Z"
   },
   {
    "duration": 7,
    "start_time": "2022-08-16T10:29:57.161Z"
   },
   {
    "duration": 7,
    "start_time": "2022-08-16T10:29:57.169Z"
   },
   {
    "duration": 6,
    "start_time": "2022-08-16T10:29:57.178Z"
   },
   {
    "duration": 8,
    "start_time": "2022-08-16T10:29:57.185Z"
   },
   {
    "duration": 15,
    "start_time": "2022-08-16T10:29:57.194Z"
   },
   {
    "duration": 19,
    "start_time": "2022-08-16T10:29:57.211Z"
   },
   {
    "duration": 6,
    "start_time": "2022-08-16T10:29:57.232Z"
   },
   {
    "duration": 5,
    "start_time": "2022-08-16T10:29:57.240Z"
   },
   {
    "duration": 18,
    "start_time": "2022-08-16T10:29:57.246Z"
   },
   {
    "duration": 10,
    "start_time": "2022-08-16T10:29:57.265Z"
   },
   {
    "duration": 3,
    "start_time": "2022-08-16T10:29:57.277Z"
   },
   {
    "duration": 23,
    "start_time": "2022-08-16T10:29:57.282Z"
   },
   {
    "duration": 18,
    "start_time": "2022-08-16T10:29:57.307Z"
   },
   {
    "duration": 14,
    "start_time": "2022-08-16T10:29:57.327Z"
   },
   {
    "duration": 3,
    "start_time": "2022-08-16T10:29:57.343Z"
   },
   {
    "duration": 8062,
    "start_time": "2022-08-16T10:29:57.347Z"
   },
   {
    "duration": 3,
    "start_time": "2022-08-16T10:30:05.410Z"
   },
   {
    "duration": 27,
    "start_time": "2022-08-16T10:30:05.414Z"
   },
   {
    "duration": 159,
    "start_time": "2022-08-16T10:30:05.442Z"
   },
   {
    "duration": 0,
    "start_time": "2022-08-16T10:30:05.603Z"
   },
   {
    "duration": 0,
    "start_time": "2022-08-16T10:30:05.604Z"
   },
   {
    "duration": 0,
    "start_time": "2022-08-16T10:30:05.605Z"
   },
   {
    "duration": 0,
    "start_time": "2022-08-16T10:30:05.607Z"
   },
   {
    "duration": 0,
    "start_time": "2022-08-16T10:30:05.609Z"
   },
   {
    "duration": 0,
    "start_time": "2022-08-16T10:30:05.610Z"
   },
   {
    "duration": 0,
    "start_time": "2022-08-16T10:30:05.611Z"
   },
   {
    "duration": 0,
    "start_time": "2022-08-16T10:30:05.613Z"
   },
   {
    "duration": 0,
    "start_time": "2022-08-16T10:30:05.614Z"
   },
   {
    "duration": 0,
    "start_time": "2022-08-16T10:30:05.616Z"
   },
   {
    "duration": 0,
    "start_time": "2022-08-16T10:30:05.618Z"
   },
   {
    "duration": 0,
    "start_time": "2022-08-16T10:30:05.619Z"
   },
   {
    "duration": 0,
    "start_time": "2022-08-16T10:30:05.620Z"
   },
   {
    "duration": 0,
    "start_time": "2022-08-16T10:30:05.621Z"
   },
   {
    "duration": 0,
    "start_time": "2022-08-16T10:30:05.622Z"
   },
   {
    "duration": 0,
    "start_time": "2022-08-16T10:30:05.624Z"
   },
   {
    "duration": 0,
    "start_time": "2022-08-16T10:30:05.625Z"
   },
   {
    "duration": 14,
    "start_time": "2022-08-16T10:31:28.329Z"
   },
   {
    "duration": 3,
    "start_time": "2022-08-16T10:33:11.130Z"
   },
   {
    "duration": 2,
    "start_time": "2022-08-16T10:33:11.937Z"
   }
  ],
  "kernelspec": {
   "display_name": "Python 3 (ipykernel)",
   "language": "python",
   "name": "python3"
  },
  "language_info": {
   "codemirror_mode": {
    "name": "ipython",
    "version": 3
   },
   "file_extension": ".py",
   "mimetype": "text/x-python",
   "name": "python",
   "nbconvert_exporter": "python",
   "pygments_lexer": "ipython3",
   "version": "3.9.5"
  },
  "toc": {
   "base_numbering": 1,
   "nav_menu": {},
   "number_sections": true,
   "sideBar": true,
   "skip_h1_title": true,
   "title_cell": "Table of Contents",
   "title_sidebar": "Contents",
   "toc_cell": false,
   "toc_position": {},
   "toc_section_display": true,
   "toc_window_display": false
  }
 },
 "nbformat": 4,
 "nbformat_minor": 5
}
